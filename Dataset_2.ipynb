{
  "nbformat": 4,
  "nbformat_minor": 0,
  "metadata": {
    "accelerator": "TPU",
    "colab": {
      "name": "Dataset_2.ipynb",
      "provenance": [],
      "collapsed_sections": [],
      "machine_shape": "hm",
      "include_colab_link": true
    },
    "kernelspec": {
      "display_name": "Python 3",
      "name": "python3"
    }
  },
  "cells": [
    {
      "cell_type": "markdown",
      "metadata": {
        "id": "view-in-github",
        "colab_type": "text"
      },
      "source": [
        "<a href=\"https://colab.research.google.com/github/Bhageerath123/Machine-Learning-Models-for-Detecting-Malicious-Traffic-in-IoT-Devices-using-IoT-23-Dataset/blob/main/Dataset_2.ipynb\" target=\"_parent\"><img src=\"https://colab.research.google.com/assets/colab-badge.svg\" alt=\"Open In Colab\"/></a>"
      ]
    },
    {
      "cell_type": "code",
      "metadata": {
        "id": "hkfwcsc-Zkd-"
      },
      "source": [
        "!pip install -U -q PyDrive\n",
        "from pydrive.auth import GoogleAuth\n",
        "from pydrive.drive import GoogleDrive\n",
        "from google.colab import auth\n",
        "from oauth2client.client import GoogleCredentials\n"
      ],
      "execution_count": null,
      "outputs": []
    },
    {
      "cell_type": "code",
      "metadata": {
        "id": "7KfhqZAyZuDL"
      },
      "source": [
        "auth.authenticate_user()\n",
        "gauth = GoogleAuth()\n",
        "gauth.credentials = GoogleCredentials.get_application_default()\n",
        "drive = GoogleDrive(gauth)"
      ],
      "execution_count": null,
      "outputs": []
    },
    {
      "cell_type": "code",
      "metadata": {
        "colab": {
          "base_uri": "https://localhost:8080/"
        },
        "id": "WcJiPq32ZvHs",
        "outputId": "8bc8479a-d2c0-453b-d222-e794a1f73067"
      },
      "source": [
        "file_list = drive.ListFile({'q': \"'root' in parents and trashed=false\"}).GetList()\n",
        "for file1 in file_list:\n",
        "  print('title: %s, id: %s' % (file1['title'], file1['id']))"
      ],
      "execution_count": null,
      "outputs": [
        {
          "output_type": "stream",
          "text": [
            "WARNING:googleapiclient.discovery_cache:file_cache is unavailable when using oauth2client >= 4.0.0 or google-auth\n",
            "Traceback (most recent call last):\n",
            "  File \"/usr/local/lib/python3.7/dist-packages/googleapiclient/discovery_cache/__init__.py\", line 36, in autodetect\n",
            "    from google.appengine.api import memcache\n",
            "ModuleNotFoundError: No module named 'google.appengine'\n",
            "\n",
            "During handling of the above exception, another exception occurred:\n",
            "\n",
            "Traceback (most recent call last):\n",
            "  File \"/usr/local/lib/python3.7/dist-packages/googleapiclient/discovery_cache/file_cache.py\", line 33, in <module>\n",
            "    from oauth2client.contrib.locked_file import LockedFile\n",
            "ModuleNotFoundError: No module named 'oauth2client.contrib.locked_file'\n",
            "\n",
            "During handling of the above exception, another exception occurred:\n",
            "\n",
            "Traceback (most recent call last):\n",
            "  File \"/usr/local/lib/python3.7/dist-packages/googleapiclient/discovery_cache/file_cache.py\", line 37, in <module>\n",
            "    from oauth2client.locked_file import LockedFile\n",
            "ModuleNotFoundError: No module named 'oauth2client.locked_file'\n",
            "\n",
            "During handling of the above exception, another exception occurred:\n",
            "\n",
            "Traceback (most recent call last):\n",
            "  File \"/usr/local/lib/python3.7/dist-packages/googleapiclient/discovery_cache/__init__.py\", line 42, in autodetect\n",
            "    from . import file_cache\n",
            "  File \"/usr/local/lib/python3.7/dist-packages/googleapiclient/discovery_cache/file_cache.py\", line 41, in <module>\n",
            "    \"file_cache is unavailable when using oauth2client >= 4.0.0 or google-auth\"\n",
            "ImportError: file_cache is unavailable when using oauth2client >= 4.0.0 or google-auth\n"
          ],
          "name": "stderr"
        },
        {
          "output_type": "stream",
          "text": [
            "title: preprocessed final_2.csv, id: 1LE5qqd3Jv9aArH83gIIQOzQqrRtkiEsH\n",
            "title: preprocessed final_1.csv, id: 1LdY_SCqKLJI3O9qY36tNzktBiLY7ZiQd\n",
            "title: Dtaset 4Labels, id: 1UsYulnKaEz96fbTA9pAhErwybAHpsm7q\n",
            "title: FINAL DATASET 4.csv, id: 1fRs2RE2LKJ7nW0-4Z95T626wibAlebL3\n",
            "title: Sample2.csv, id: 15nJR4HagHSkOvLS86Z-I6G2FVwSBsN-x\n",
            "title: Sample2, id: 1sgUoRPSs1NZT2BwufU2zwca8kXKE8oz6F_0d8zj7fHw\n",
            "title: preprocessed final.csv, id: 1xOROenk2PKd50HpEaxNcoHIVgT1YzXiv\n",
            "title: Final Dataset 0 1_1, id: 1-AZmpDkwNCzEXgYBMAhmoaDFEkynhtbf\n",
            "title: Final Dataset_1_1.csv, id: 1NskVqX2h4KcdhjSRJNeCG5fbpMHOrTCV\n",
            "title: Final Dataset 0 1_2, id: 1w_V8insIM0L_Y1sfUlgz5tBRsLHC_vz3\n",
            "title: Final Dataset 0 1, id: 1qOXERY14g_QYB8k-g6bQgqrBI8_bqqsZ\n",
            "title: Final Dataset, id: 133-6o2oO_nQyjv8z1f0KGNvDU55r_-G1\n",
            "title: dataset4.csv, id: 18ZHKl1-5V9Abz923O5Zk1KptEL0tRxgb\n",
            "title: dataset1.csv, id: 18s59CqeQw0r5fjKbpAHCOcqWeKYhRzXB\n",
            "title: kdd_train.csv, id: 1EpMHv7uUKmYYJRMUwwBaWs_2bXegDxla\n",
            "title: Final, id: 1B9jeMN_Tyr_og62Jq-GtSn8Jbl7jPAB2\n",
            "title: Book4.xlsx, id: 1z5-yxu8qxZRxZjVmysCZHCv_Y_2O40hY\n",
            "title: sample, id: 1YtIlh4O4MxiIr6yB7XcWM4ldE2ZCpoX_\n",
            "title: iot 60.csv, id: 1oWEXscuQo2ZAldLXW6YkoRqhhwtd-kX0\n",
            "title: IOT52.csv, id: 1RmWCEx5dtFABFWuh6M2xKWUk-_bML6XW\n",
            "title: IOT 36.csv, id: 1EABfJF89UfEsCRF7GLcfLGt-BfOWQ_1D\n",
            "title: Iot35.csv, id: 10RZpEngerZXCCu4ZbkMJ_Vb4Iuy7BwZK\n",
            "title: iot49-2.csv, id: 1O13vZ1RPH13eKRNmx3_DAiEpyx-q1_WK\n",
            "title: iot 49.csv, id: 1lByceGG97nhRqDpksiKN-63EPyy6Yhce\n",
            "title: iot 48-12.csv, id: 1MYD2RZ9hmMc08-UnjtaMXUaAtyQ3rvka\n",
            "title: IOT42.csv, id: 1AFQuUVq7-EbH_GtE1imzXk7XvQll3Jkg\n",
            "title: iot 44.csv, id: 10xgSwQZonsEXaFMd95P8BK0j39Wz8hsO\n",
            "title: kdd_test.csv, id: 1pb4rBEmHCkCzau2KD7WjkTruKaJ_K11h\n",
            "title: Machine Learning with TensorFlow by Nishant Shukla with Kenneth Fricklas (z-lib.org) (1).pdf, id: 1KXiH4CLfMU1FEpZkG-5tTw4QlL9uVBys\n",
            "title: RM2- GroupY, id: 12tpEpE797GhHOVqVMAwzsIpYL7gEOWV0\n",
            "title: Data_science_interview_questions__1606930498.pdf, id: 1cmg5Umak2g6sb-bNRSELPuzP_cb5kxOT\n",
            "title: train.csv, id: 1uK2r5icqKzy_MIOK5eRBdhQkyRLt8nvl\n",
            "title: test.csv, id: 1fyviCL6OjDIHRPxUny2lOJ-B1vkbbcJZ\n",
            "title: Portmap.csv, id: 1sLMGfCv34STo2LBJxmKOKP_EwnKFyr6x\n",
            "title: Portmap.csv, id: 1fw4pMZyCCfNFCZDjFDlpLySIH2hUZDV1\n",
            "title: APA-DDoS-Dataset.csv, id: 17NsrYBRvzvZvLtBBWgZh3VK3qDurOk8e\n",
            "title: Colab Notebooks, id: 1IsPQ9ivZIaFfGY_P9x8J2vXCCL-YNMLY\n",
            "title: Meet - kzz-rzom-ocy - Google Chrome 2020-05-25 15-36-35.mp4, id: 1trA2nzduJvk5kXI9LHoEi0Dj7ri54uDD\n",
            "title: Firewall Lab Session (2020-03-20 at 10:18 GMT-7), id: 1zgnlvRk5-NF4SmOrtva6uX3Ssk1FfQC4\n",
            "title: Reviews.csv, id: 1w58K7Af_I5oDNIyoYjWvlbQihJ2iXnY4\n",
            "title: Getting started, id: 0B_pCcMKM2SwTc3RhcnRlcl9maWxlX2Rhc2hlclYw\n"
          ],
          "name": "stdout"
        }
      ]
    },
    {
      "cell_type": "code",
      "metadata": {
        "id": "LmTGALTIabas"
      },
      "source": [
        "import pandas as pd\n",
        "from sklearn.model_selection import train_test_split\n",
        "import tensorflow as tf\n",
        "import numpy as np\n",
        "\n",
        "\n"
      ],
      "execution_count": null,
      "outputs": []
    },
    {
      "cell_type": "code",
      "metadata": {
        "id": "YWKVmsQ_m9Ud"
      },
      "source": [
        "downloadedTrain = drive.CreateFile({'id': '1UsYulnKaEz96fbTA9pAhErwybAHpsm7q'})\n",
        "downloadedTrain.GetContentFile('Dataset.csv')"
      ],
      "execution_count": null,
      "outputs": []
    },
    {
      "cell_type": "code",
      "metadata": {
        "id": "N_a4qwhLOheP"
      },
      "source": [
        "data3=pd.read_csv('Dataset.csv')"
      ],
      "execution_count": null,
      "outputs": []
    },
    {
      "cell_type": "code",
      "metadata": {
        "colab": {
          "base_uri": "https://localhost:8080/",
          "height": 224
        },
        "id": "706SFNZclaai",
        "outputId": "bbae997e-b4bc-4d80-a4b7-a024547aebec"
      },
      "source": [
        "data3.head()"
      ],
      "execution_count": null,
      "outputs": [
        {
          "output_type": "execute_result",
          "data": {
            "text/html": [
              "<div>\n",
              "<style scoped>\n",
              "    .dataframe tbody tr th:only-of-type {\n",
              "        vertical-align: middle;\n",
              "    }\n",
              "\n",
              "    .dataframe tbody tr th {\n",
              "        vertical-align: top;\n",
              "    }\n",
              "\n",
              "    .dataframe thead th {\n",
              "        text-align: right;\n",
              "    }\n",
              "</style>\n",
              "<table border=\"1\" class=\"dataframe\">\n",
              "  <thead>\n",
              "    <tr style=\"text-align: right;\">\n",
              "      <th></th>\n",
              "      <th>ts</th>\n",
              "      <th>uid</th>\n",
              "      <th>idorighost</th>\n",
              "      <th>idorigport</th>\n",
              "      <th>idresphost</th>\n",
              "      <th>idrespport</th>\n",
              "      <th>proto</th>\n",
              "      <th>service</th>\n",
              "      <th>duration</th>\n",
              "      <th>origbytes</th>\n",
              "      <th>respbytes</th>\n",
              "      <th>connstate</th>\n",
              "      <th>localorig</th>\n",
              "      <th>localresp</th>\n",
              "      <th>missedbytes</th>\n",
              "      <th>history</th>\n",
              "      <th>origpkts</th>\n",
              "      <th>origipbytes</th>\n",
              "      <th>resppkts</th>\n",
              "      <th>respipbytes</th>\n",
              "      <th>Label</th>\n",
              "    </tr>\n",
              "  </thead>\n",
              "  <tbody>\n",
              "    <tr>\n",
              "      <th>0</th>\n",
              "      <td>1.536277e+09</td>\n",
              "      <td>CTsnIbYC9dM50ADli</td>\n",
              "      <td>192.168.100.111</td>\n",
              "      <td>17832</td>\n",
              "      <td>156.40.0.110</td>\n",
              "      <td>37215</td>\n",
              "      <td>tcp</td>\n",
              "      <td>-</td>\n",
              "      <td>2.00E-06</td>\n",
              "      <td>0</td>\n",
              "      <td>0</td>\n",
              "      <td>S0</td>\n",
              "      <td>-</td>\n",
              "      <td>-</td>\n",
              "      <td>0</td>\n",
              "      <td>S</td>\n",
              "      <td>2</td>\n",
              "      <td>80</td>\n",
              "      <td>0</td>\n",
              "      <td>0</td>\n",
              "      <td>9</td>\n",
              "    </tr>\n",
              "    <tr>\n",
              "      <th>1</th>\n",
              "      <td>1.532569e+09</td>\n",
              "      <td>CXaf3P377YyQfReoX2</td>\n",
              "      <td>192.168.100.111</td>\n",
              "      <td>16271</td>\n",
              "      <td>62.249.196.245</td>\n",
              "      <td>81</td>\n",
              "      <td>tcp</td>\n",
              "      <td>-</td>\n",
              "      <td>-</td>\n",
              "      <td>-</td>\n",
              "      <td>-</td>\n",
              "      <td>S0</td>\n",
              "      <td>-</td>\n",
              "      <td>-</td>\n",
              "      <td>0</td>\n",
              "      <td>S</td>\n",
              "      <td>1</td>\n",
              "      <td>40</td>\n",
              "      <td>0</td>\n",
              "      <td>0</td>\n",
              "      <td>3</td>\n",
              "    </tr>\n",
              "    <tr>\n",
              "      <th>2</th>\n",
              "      <td>1.536277e+09</td>\n",
              "      <td>CqNgkn3DGvmp3fOreb</td>\n",
              "      <td>192.168.100.111</td>\n",
              "      <td>17576</td>\n",
              "      <td>19.205.47.190</td>\n",
              "      <td>8081</td>\n",
              "      <td>tcp</td>\n",
              "      <td>-</td>\n",
              "      <td>2.00E-06</td>\n",
              "      <td>0</td>\n",
              "      <td>0</td>\n",
              "      <td>S0</td>\n",
              "      <td>-</td>\n",
              "      <td>-</td>\n",
              "      <td>0</td>\n",
              "      <td>S</td>\n",
              "      <td>2</td>\n",
              "      <td>80</td>\n",
              "      <td>0</td>\n",
              "      <td>0</td>\n",
              "      <td>3</td>\n",
              "    </tr>\n",
              "    <tr>\n",
              "      <th>3</th>\n",
              "      <td>1.547148e+09</td>\n",
              "      <td>CYw9xh2GJwQTaDnYGg</td>\n",
              "      <td>192.168.1.198</td>\n",
              "      <td>25542</td>\n",
              "      <td>195.97.119.88</td>\n",
              "      <td>23</td>\n",
              "      <td>tcp</td>\n",
              "      <td>-</td>\n",
              "      <td>-</td>\n",
              "      <td>-</td>\n",
              "      <td>-</td>\n",
              "      <td>S0</td>\n",
              "      <td>-</td>\n",
              "      <td>-</td>\n",
              "      <td>0</td>\n",
              "      <td>S</td>\n",
              "      <td>1</td>\n",
              "      <td>40</td>\n",
              "      <td>0</td>\n",
              "      <td>0</td>\n",
              "      <td>1</td>\n",
              "    </tr>\n",
              "    <tr>\n",
              "      <th>4</th>\n",
              "      <td>1.545473e+09</td>\n",
              "      <td>CDOohf4Cc8FXPhPsYj</td>\n",
              "      <td>192.168.1.196</td>\n",
              "      <td>25615</td>\n",
              "      <td>54.39.87.104</td>\n",
              "      <td>992</td>\n",
              "      <td>tcp</td>\n",
              "      <td>-</td>\n",
              "      <td>-</td>\n",
              "      <td>-</td>\n",
              "      <td>-</td>\n",
              "      <td>RSTOS0</td>\n",
              "      <td>-</td>\n",
              "      <td>-</td>\n",
              "      <td>0</td>\n",
              "      <td>I</td>\n",
              "      <td>1</td>\n",
              "      <td>40</td>\n",
              "      <td>0</td>\n",
              "      <td>0</td>\n",
              "      <td>6</td>\n",
              "    </tr>\n",
              "  </tbody>\n",
              "</table>\n",
              "</div>"
            ],
            "text/plain": [
              "             ts                 uid  ... respipbytes  Label\n",
              "0  1.536277e+09   CTsnIbYC9dM50ADli  ...           0      9\n",
              "1  1.532569e+09  CXaf3P377YyQfReoX2  ...           0      3\n",
              "2  1.536277e+09  CqNgkn3DGvmp3fOreb  ...           0      3\n",
              "3  1.547148e+09  CYw9xh2GJwQTaDnYGg  ...           0      1\n",
              "4  1.545473e+09  CDOohf4Cc8FXPhPsYj  ...           0      6\n",
              "\n",
              "[5 rows x 21 columns]"
            ]
          },
          "metadata": {
            "tags": []
          },
          "execution_count": 7
        }
      ]
    },
    {
      "cell_type": "code",
      "metadata": {
        "colab": {
          "base_uri": "https://localhost:8080/"
        },
        "id": "A5wcRJV61iAl",
        "outputId": "6b1e1a00-a94d-4db1-afa8-d065a511ec65"
      },
      "source": [
        "data3.dtypes"
      ],
      "execution_count": null,
      "outputs": [
        {
          "output_type": "execute_result",
          "data": {
            "text/plain": [
              "ts             float64\n",
              "uid             object\n",
              "idorighost      object\n",
              "idorigport       int64\n",
              "idresphost      object\n",
              "idrespport       int64\n",
              "proto           object\n",
              "service         object\n",
              "duration        object\n",
              "origbytes       object\n",
              "respbytes       object\n",
              "connstate       object\n",
              "localorig       object\n",
              "localresp       object\n",
              "missedbytes      int64\n",
              "history         object\n",
              "origpkts         int64\n",
              "origipbytes      int64\n",
              "resppkts         int64\n",
              "respipbytes      int64\n",
              "Label            int64\n",
              "dtype: object"
            ]
          },
          "metadata": {
            "tags": []
          },
          "execution_count": 9
        }
      ]
    },
    {
      "cell_type": "code",
      "metadata": {
        "id": "h1HByfi82tDm"
      },
      "source": [
        "#data3.to_csv('data3')"
      ],
      "execution_count": null,
      "outputs": []
    },
    {
      "cell_type": "code",
      "metadata": {
        "id": "hyUttq--A8bJ"
      },
      "source": [
        "#data3=pd.read_csv('Final.csv', sep='\\t')\n",
        "#names=[\"ts\",\t\"uid\",\t\"id.orig_h\",\t\"id.orig_p\",\t\"id.resp_h\",\t\"id.resp_p\",\t\"proto\",\t\t\"service\", \t\"duration\",\t\"orig_bytes\",\t\"resp_bytes\",\t\"conn_state\",\t\"local_orig\",\t\"local_resp\",\t\"missed_bytes\",\t\"history\", \"orig_pkts\",\t\"orig_ip_bytes\",\t\"resp_pkts\",\t\"resp_ip_bytes\", \"label\",\"detailed-label\"])\n"
      ],
      "execution_count": null,
      "outputs": []
    },
    {
      "cell_type": "code",
      "metadata": {
        "id": "tiRVoPjzsETC"
      },
      "source": [
        "data3=data3.drop(['localorig','localresp'], axis=1)"
      ],
      "execution_count": null,
      "outputs": []
    },
    {
      "cell_type": "code",
      "metadata": {
        "id": "nECuo_FoipQz"
      },
      "source": [
        "data3=data3.drop('uid', axis=1)"
      ],
      "execution_count": null,
      "outputs": []
    },
    {
      "cell_type": "code",
      "metadata": {
        "id": "abnpBj3PNavF"
      },
      "source": [
        "from sklearn.preprocessing import LabelEncoder"
      ],
      "execution_count": null,
      "outputs": []
    },
    {
      "cell_type": "code",
      "metadata": {
        "id": "IpndtBd-NmUE"
      },
      "source": [
        "encoder = LabelEncoder()\n",
        "data3['proto'] = data3['proto'].str.replace('-', ' ')\n",
        "data3['proto'] = data3['proto'].astype(str)\n",
        "data3['proto'] = encoder.fit_transform(data3['proto'])\n",
        "data3['service'] = data3['service'].str.replace('-', ' ')\n",
        "data3['service'] = data3['service'].astype(str)\n",
        "data3['service'] = encoder.fit_transform(data3['service'])"
      ],
      "execution_count": null,
      "outputs": []
    },
    {
      "cell_type": "code",
      "metadata": {
        "id": "3-8bCfFLOZ08"
      },
      "source": [
        "encoder = LabelEncoder()\n",
        "data3['connstate'] = data3['connstate'].str.replace('-', ' ')\n",
        "data3['connstate'] = data3['connstate'].astype(str)\n",
        "data3['connstate'] = encoder.fit_transform(data3['connstate'])"
      ],
      "execution_count": null,
      "outputs": []
    },
    {
      "cell_type": "code",
      "metadata": {
        "id": "UJuyLuAeOtvI"
      },
      "source": [
        "encoder = LabelEncoder()\n",
        "data3['history'] = data3['history'].str.replace('-', ' ')\n",
        "data3['history'] = data3['history'].astype(str)\n",
        "data3['history'] = encoder.fit_transform(data3['history'])"
      ],
      "execution_count": null,
      "outputs": []
    },
    {
      "cell_type": "code",
      "metadata": {
        "id": "RMDQOa3YNumC"
      },
      "source": [
        "data3['duration'] = data3['duration'].str.replace('S0', ' ')"
      ],
      "execution_count": null,
      "outputs": []
    },
    {
      "cell_type": "code",
      "metadata": {
        "id": "BC6Ggx9GfbeJ"
      },
      "source": [
        "data3['duration'] = data3['duration'].str.replace('-', ' ')"
      ],
      "execution_count": null,
      "outputs": []
    },
    {
      "cell_type": "code",
      "metadata": {
        "id": "mGDMFfRgP2FM"
      },
      "source": [
        "data3['duration'] = pd.to_numeric(data3['duration'], errors='coerce')"
      ],
      "execution_count": null,
      "outputs": []
    },
    {
      "cell_type": "code",
      "metadata": {
        "id": "HyRUitpMNh8F"
      },
      "source": [
        "#data3['duration'] = data3['duration'].astype(str).astype(float)"
      ],
      "execution_count": null,
      "outputs": []
    },
    {
      "cell_type": "code",
      "metadata": {
        "id": "ZDAUo2DhJFK_"
      },
      "source": [
        "data3['origbytes'] = data3['origbytes'].str.replace('-', ' ')"
      ],
      "execution_count": null,
      "outputs": []
    },
    {
      "cell_type": "code",
      "metadata": {
        "id": "bbx5mbFCQMVT"
      },
      "source": [
        "data3['origbytes'] = pd.to_numeric(data3['origbytes'], errors='coerce')"
      ],
      "execution_count": null,
      "outputs": []
    },
    {
      "cell_type": "code",
      "metadata": {
        "id": "qapfWJtjL5ws"
      },
      "source": [
        "data3['respbytes'] = data3['respbytes'].str.replace('-', ' ')"
      ],
      "execution_count": null,
      "outputs": []
    },
    {
      "cell_type": "code",
      "metadata": {
        "id": "_J8x9-4KQahW"
      },
      "source": [
        "data3['respbytes'] = pd.to_numeric(data3['respbytes'], errors='coerce')"
      ],
      "execution_count": null,
      "outputs": []
    },
    {
      "cell_type": "code",
      "metadata": {
        "id": "omo5jFE5SPgj"
      },
      "source": [
        "data3['idorighost'] = data3['idorighost'].str.replace('-', ' ')"
      ],
      "execution_count": null,
      "outputs": []
    },
    {
      "cell_type": "code",
      "metadata": {
        "id": "ZJmenl0FSYI5"
      },
      "source": [
        "data3['idresphost'] = data3['idresphost'].str.replace('-', ' ')"
      ],
      "execution_count": null,
      "outputs": []
    },
    {
      "cell_type": "code",
      "metadata": {
        "id": "D7AGeK1FT9Me"
      },
      "source": [
        "encoder = LabelEncoder()\n",
        "data3['idorighost'] = data3['idorighost'].astype(str)\n",
        "data3['idorighost'] = encoder.fit_transform(data3['idorighost'])"
      ],
      "execution_count": null,
      "outputs": []
    },
    {
      "cell_type": "code",
      "metadata": {
        "id": "wB0g2a-4Urm0"
      },
      "source": [
        "encoder = LabelEncoder()\n",
        "data3['idresphost'] = data3['idresphost'].astype(str)\n",
        "data3['idresphost'] = encoder.fit_transform(data3['idresphost'])"
      ],
      "execution_count": null,
      "outputs": []
    },
    {
      "cell_type": "code",
      "metadata": {
        "colab": {
          "base_uri": "https://localhost:8080/"
        },
        "id": "53w_1MyhLe9i",
        "outputId": "3ff5ee1d-05f0-46e6-c36c-c2beb400b1b8"
      },
      "source": [
        "data3.dtypes"
      ],
      "execution_count": null,
      "outputs": [
        {
          "output_type": "execute_result",
          "data": {
            "text/plain": [
              "ts             float64\n",
              "idorighost       int64\n",
              "idorigport       int64\n",
              "idresphost       int64\n",
              "idrespport       int64\n",
              "proto            int64\n",
              "service          int64\n",
              "duration       float64\n",
              "origbytes      float64\n",
              "respbytes      float64\n",
              "connstate        int64\n",
              "missedbytes      int64\n",
              "history          int64\n",
              "origpkts         int64\n",
              "origipbytes      int64\n",
              "resppkts         int64\n",
              "respipbytes      int64\n",
              "Label            int64\n",
              "dtype: object"
            ]
          },
          "metadata": {
            "tags": []
          },
          "execution_count": 25
        }
      ]
    },
    {
      "cell_type": "markdown",
      "metadata": {
        "id": "kK2nT6xEYOtN"
      },
      "source": [
        "Instead of converting each feature to int/float datatype seperately, we can use the below coade using for loop.\n",
        "cat_features means categorical Features"
      ]
    },
    {
      "cell_type": "code",
      "metadata": {
        "id": "xaYWjVf8CN0X"
      },
      "source": [
        "#cat_features=[x for x in data3.columns if data3[x].dtype==\"object\"]\n",
        "\n",
        "#le=LabelEncoder()\n",
        "\n",
        "#for col in cat_features:\n",
        "    #if col in data3.columns:\n",
        "       # i = data3.columns.get_loc(col)\n",
        "       # data3.iloc[:,i] = data3.apply(lambda i:le.fit_transform(i.astype(str)), axis=0, result_type='expand')"
      ],
      "execution_count": null,
      "outputs": []
    },
    {
      "cell_type": "code",
      "metadata": {
        "colab": {
          "base_uri": "https://localhost:8080/"
        },
        "id": "PRCUfyPr1np5",
        "outputId": "8929028d-163e-4781-b14c-153f363ec6cd"
      },
      "source": [
        "np.any(np.isnan(data3))"
      ],
      "execution_count": null,
      "outputs": [
        {
          "output_type": "execute_result",
          "data": {
            "text/plain": [
              "True"
            ]
          },
          "metadata": {
            "tags": []
          },
          "execution_count": 30
        }
      ]
    },
    {
      "cell_type": "code",
      "metadata": {
        "colab": {
          "base_uri": "https://localhost:8080/"
        },
        "id": "EngxFeF_3p3L",
        "outputId": "20087c18-884c-452d-eae9-e3747885c03d"
      },
      "source": [
        "data3.isna().sum()"
      ],
      "execution_count": null,
      "outputs": [
        {
          "output_type": "execute_result",
          "data": {
            "text/plain": [
              "ts                   0\n",
              "idorighost           0\n",
              "idorigport           0\n",
              "idresphost           0\n",
              "idrespport           0\n",
              "proto                0\n",
              "service              0\n",
              "duration       3368934\n",
              "origbytes      2699139\n",
              "respbytes      2699139\n",
              "connstate            0\n",
              "missedbytes          0\n",
              "history              0\n",
              "origpkts             0\n",
              "origipbytes          0\n",
              "resppkts             0\n",
              "respipbytes          0\n",
              "Label                0\n",
              "dtype: int64"
            ]
          },
          "metadata": {
            "tags": []
          },
          "execution_count": 31
        }
      ]
    },
    {
      "cell_type": "code",
      "metadata": {
        "colab": {
          "base_uri": "https://localhost:8080/",
          "height": 224
        },
        "id": "2IM3luPRHrFU",
        "outputId": "1caed260-b929-4a2f-d6e5-899904a05455"
      },
      "source": [
        "data3.head()"
      ],
      "execution_count": null,
      "outputs": [
        {
          "output_type": "execute_result",
          "data": {
            "text/html": [
              "<div>\n",
              "<style scoped>\n",
              "    .dataframe tbody tr th:only-of-type {\n",
              "        vertical-align: middle;\n",
              "    }\n",
              "\n",
              "    .dataframe tbody tr th {\n",
              "        vertical-align: top;\n",
              "    }\n",
              "\n",
              "    .dataframe thead th {\n",
              "        text-align: right;\n",
              "    }\n",
              "</style>\n",
              "<table border=\"1\" class=\"dataframe\">\n",
              "  <thead>\n",
              "    <tr style=\"text-align: right;\">\n",
              "      <th></th>\n",
              "      <th>ts</th>\n",
              "      <th>idorighost</th>\n",
              "      <th>idorigport</th>\n",
              "      <th>idresphost</th>\n",
              "      <th>idrespport</th>\n",
              "      <th>proto</th>\n",
              "      <th>service</th>\n",
              "      <th>duration</th>\n",
              "      <th>origbytes</th>\n",
              "      <th>respbytes</th>\n",
              "      <th>connstate</th>\n",
              "      <th>missedbytes</th>\n",
              "      <th>history</th>\n",
              "      <th>origpkts</th>\n",
              "      <th>origipbytes</th>\n",
              "      <th>resppkts</th>\n",
              "      <th>respipbytes</th>\n",
              "      <th>Label</th>\n",
              "    </tr>\n",
              "  </thead>\n",
              "  <tbody>\n",
              "    <tr>\n",
              "      <th>0</th>\n",
              "      <td>1.536277e+09</td>\n",
              "      <td>24</td>\n",
              "      <td>17832</td>\n",
              "      <td>802834</td>\n",
              "      <td>37215</td>\n",
              "      <td>1</td>\n",
              "      <td>0</td>\n",
              "      <td>NaN</td>\n",
              "      <td>0.0</td>\n",
              "      <td>0.0</td>\n",
              "      <td>6</td>\n",
              "      <td>0</td>\n",
              "      <td>8</td>\n",
              "      <td>2</td>\n",
              "      <td>80</td>\n",
              "      <td>0</td>\n",
              "      <td>0</td>\n",
              "      <td>9</td>\n",
              "    </tr>\n",
              "    <tr>\n",
              "      <th>1</th>\n",
              "      <td>1.532569e+09</td>\n",
              "      <td>24</td>\n",
              "      <td>16271</td>\n",
              "      <td>2557175</td>\n",
              "      <td>81</td>\n",
              "      <td>1</td>\n",
              "      <td>0</td>\n",
              "      <td>NaN</td>\n",
              "      <td>NaN</td>\n",
              "      <td>NaN</td>\n",
              "      <td>6</td>\n",
              "      <td>0</td>\n",
              "      <td>8</td>\n",
              "      <td>1</td>\n",
              "      <td>40</td>\n",
              "      <td>0</td>\n",
              "      <td>0</td>\n",
              "      <td>3</td>\n",
              "    </tr>\n",
              "    <tr>\n",
              "      <th>2</th>\n",
              "      <td>1.536277e+09</td>\n",
              "      <td>24</td>\n",
              "      <td>17576</td>\n",
              "      <td>1229657</td>\n",
              "      <td>8081</td>\n",
              "      <td>1</td>\n",
              "      <td>0</td>\n",
              "      <td>NaN</td>\n",
              "      <td>0.0</td>\n",
              "      <td>0.0</td>\n",
              "      <td>6</td>\n",
              "      <td>0</td>\n",
              "      <td>8</td>\n",
              "      <td>2</td>\n",
              "      <td>80</td>\n",
              "      <td>0</td>\n",
              "      <td>0</td>\n",
              "      <td>3</td>\n",
              "    </tr>\n",
              "    <tr>\n",
              "      <th>3</th>\n",
              "      <td>1.547148e+09</td>\n",
              "      <td>20</td>\n",
              "      <td>25542</td>\n",
              "      <td>1297296</td>\n",
              "      <td>23</td>\n",
              "      <td>1</td>\n",
              "      <td>0</td>\n",
              "      <td>NaN</td>\n",
              "      <td>NaN</td>\n",
              "      <td>NaN</td>\n",
              "      <td>6</td>\n",
              "      <td>0</td>\n",
              "      <td>8</td>\n",
              "      <td>1</td>\n",
              "      <td>40</td>\n",
              "      <td>0</td>\n",
              "      <td>0</td>\n",
              "      <td>1</td>\n",
              "    </tr>\n",
              "    <tr>\n",
              "      <th>4</th>\n",
              "      <td>1.545473e+09</td>\n",
              "      <td>18</td>\n",
              "      <td>25615</td>\n",
              "      <td>2494793</td>\n",
              "      <td>992</td>\n",
              "      <td>1</td>\n",
              "      <td>0</td>\n",
              "      <td>NaN</td>\n",
              "      <td>NaN</td>\n",
              "      <td>NaN</td>\n",
              "      <td>3</td>\n",
              "      <td>0</td>\n",
              "      <td>7</td>\n",
              "      <td>1</td>\n",
              "      <td>40</td>\n",
              "      <td>0</td>\n",
              "      <td>0</td>\n",
              "      <td>6</td>\n",
              "    </tr>\n",
              "  </tbody>\n",
              "</table>\n",
              "</div>"
            ],
            "text/plain": [
              "             ts  idorighost  idorigport  ...  resppkts  respipbytes  Label\n",
              "0  1.536277e+09          24       17832  ...         0            0      9\n",
              "1  1.532569e+09          24       16271  ...         0            0      3\n",
              "2  1.536277e+09          24       17576  ...         0            0      3\n",
              "3  1.547148e+09          20       25542  ...         0            0      1\n",
              "4  1.545473e+09          18       25615  ...         0            0      6\n",
              "\n",
              "[5 rows x 18 columns]"
            ]
          },
          "metadata": {
            "tags": []
          },
          "execution_count": 29
        }
      ]
    },
    {
      "cell_type": "code",
      "metadata": {
        "id": "LJPUFMhMHwF7"
      },
      "source": [
        "data3[['duration','origbytes','respbytes']] = data3[['duration','origbytes','respbytes']].fillna(value=data3[['duration','origbytes','respbytes']].mean())"
      ],
      "execution_count": null,
      "outputs": []
    },
    {
      "cell_type": "code",
      "metadata": {
        "colab": {
          "base_uri": "https://localhost:8080/",
          "height": 224
        },
        "id": "8B04-_bfIHjI",
        "outputId": "f6b84fac-f031-432f-fff2-b6c438e5b4c3"
      },
      "source": [
        "data3.head()"
      ],
      "execution_count": null,
      "outputs": [
        {
          "output_type": "execute_result",
          "data": {
            "text/html": [
              "<div>\n",
              "<style scoped>\n",
              "    .dataframe tbody tr th:only-of-type {\n",
              "        vertical-align: middle;\n",
              "    }\n",
              "\n",
              "    .dataframe tbody tr th {\n",
              "        vertical-align: top;\n",
              "    }\n",
              "\n",
              "    .dataframe thead th {\n",
              "        text-align: right;\n",
              "    }\n",
              "</style>\n",
              "<table border=\"1\" class=\"dataframe\">\n",
              "  <thead>\n",
              "    <tr style=\"text-align: right;\">\n",
              "      <th></th>\n",
              "      <th>ts</th>\n",
              "      <th>idorighost</th>\n",
              "      <th>idorigport</th>\n",
              "      <th>idresphost</th>\n",
              "      <th>idrespport</th>\n",
              "      <th>proto</th>\n",
              "      <th>service</th>\n",
              "      <th>duration</th>\n",
              "      <th>origbytes</th>\n",
              "      <th>respbytes</th>\n",
              "      <th>connstate</th>\n",
              "      <th>missedbytes</th>\n",
              "      <th>history</th>\n",
              "      <th>origpkts</th>\n",
              "      <th>origipbytes</th>\n",
              "      <th>resppkts</th>\n",
              "      <th>respipbytes</th>\n",
              "      <th>Label</th>\n",
              "    </tr>\n",
              "  </thead>\n",
              "  <tbody>\n",
              "    <tr>\n",
              "      <th>0</th>\n",
              "      <td>1.536277e+09</td>\n",
              "      <td>24</td>\n",
              "      <td>17832</td>\n",
              "      <td>802834</td>\n",
              "      <td>37215</td>\n",
              "      <td>1</td>\n",
              "      <td>0</td>\n",
              "      <td>7.200253</td>\n",
              "      <td>0.000000e+00</td>\n",
              "      <td>0.000000</td>\n",
              "      <td>6</td>\n",
              "      <td>0</td>\n",
              "      <td>8</td>\n",
              "      <td>2</td>\n",
              "      <td>80</td>\n",
              "      <td>0</td>\n",
              "      <td>0</td>\n",
              "      <td>9</td>\n",
              "    </tr>\n",
              "    <tr>\n",
              "      <th>1</th>\n",
              "      <td>1.532569e+09</td>\n",
              "      <td>24</td>\n",
              "      <td>16271</td>\n",
              "      <td>2557175</td>\n",
              "      <td>81</td>\n",
              "      <td>1</td>\n",
              "      <td>0</td>\n",
              "      <td>7.200253</td>\n",
              "      <td>4.336022e+08</td>\n",
              "      <td>2.050967</td>\n",
              "      <td>6</td>\n",
              "      <td>0</td>\n",
              "      <td>8</td>\n",
              "      <td>1</td>\n",
              "      <td>40</td>\n",
              "      <td>0</td>\n",
              "      <td>0</td>\n",
              "      <td>3</td>\n",
              "    </tr>\n",
              "    <tr>\n",
              "      <th>2</th>\n",
              "      <td>1.536277e+09</td>\n",
              "      <td>24</td>\n",
              "      <td>17576</td>\n",
              "      <td>1229657</td>\n",
              "      <td>8081</td>\n",
              "      <td>1</td>\n",
              "      <td>0</td>\n",
              "      <td>7.200253</td>\n",
              "      <td>0.000000e+00</td>\n",
              "      <td>0.000000</td>\n",
              "      <td>6</td>\n",
              "      <td>0</td>\n",
              "      <td>8</td>\n",
              "      <td>2</td>\n",
              "      <td>80</td>\n",
              "      <td>0</td>\n",
              "      <td>0</td>\n",
              "      <td>3</td>\n",
              "    </tr>\n",
              "    <tr>\n",
              "      <th>3</th>\n",
              "      <td>1.547148e+09</td>\n",
              "      <td>20</td>\n",
              "      <td>25542</td>\n",
              "      <td>1297296</td>\n",
              "      <td>23</td>\n",
              "      <td>1</td>\n",
              "      <td>0</td>\n",
              "      <td>7.200253</td>\n",
              "      <td>4.336022e+08</td>\n",
              "      <td>2.050967</td>\n",
              "      <td>6</td>\n",
              "      <td>0</td>\n",
              "      <td>8</td>\n",
              "      <td>1</td>\n",
              "      <td>40</td>\n",
              "      <td>0</td>\n",
              "      <td>0</td>\n",
              "      <td>1</td>\n",
              "    </tr>\n",
              "    <tr>\n",
              "      <th>4</th>\n",
              "      <td>1.545473e+09</td>\n",
              "      <td>18</td>\n",
              "      <td>25615</td>\n",
              "      <td>2494793</td>\n",
              "      <td>992</td>\n",
              "      <td>1</td>\n",
              "      <td>0</td>\n",
              "      <td>7.200253</td>\n",
              "      <td>4.336022e+08</td>\n",
              "      <td>2.050967</td>\n",
              "      <td>3</td>\n",
              "      <td>0</td>\n",
              "      <td>7</td>\n",
              "      <td>1</td>\n",
              "      <td>40</td>\n",
              "      <td>0</td>\n",
              "      <td>0</td>\n",
              "      <td>6</td>\n",
              "    </tr>\n",
              "  </tbody>\n",
              "</table>\n",
              "</div>"
            ],
            "text/plain": [
              "             ts  idorighost  idorigport  ...  resppkts  respipbytes  Label\n",
              "0  1.536277e+09          24       17832  ...         0            0      9\n",
              "1  1.532569e+09          24       16271  ...         0            0      3\n",
              "2  1.536277e+09          24       17576  ...         0            0      3\n",
              "3  1.547148e+09          20       25542  ...         0            0      1\n",
              "4  1.545473e+09          18       25615  ...         0            0      6\n",
              "\n",
              "[5 rows x 18 columns]"
            ]
          },
          "metadata": {
            "tags": []
          },
          "execution_count": 27
        }
      ]
    },
    {
      "cell_type": "code",
      "metadata": {
        "colab": {
          "base_uri": "https://localhost:8080/"
        },
        "id": "4Smq9YZ_l3sa",
        "outputId": "a2d9fea8-97bc-4e21-cd60-d08fa7a41821"
      },
      "source": [
        "data3.isna().sum()"
      ],
      "execution_count": null,
      "outputs": [
        {
          "output_type": "execute_result",
          "data": {
            "text/plain": [
              "ts             0\n",
              "idorighost     0\n",
              "idorigport     0\n",
              "idresphost     0\n",
              "idrespport     0\n",
              "proto          0\n",
              "service        0\n",
              "duration       0\n",
              "origbytes      0\n",
              "respbytes      0\n",
              "connstate      0\n",
              "missedbytes    0\n",
              "history        0\n",
              "origpkts       0\n",
              "origipbytes    0\n",
              "resppkts       0\n",
              "respipbytes    0\n",
              "Label          0\n",
              "dtype: int64"
            ]
          },
          "metadata": {
            "tags": []
          },
          "execution_count": 29
        }
      ]
    },
    {
      "cell_type": "code",
      "metadata": {
        "colab": {
          "base_uri": "https://localhost:8080/"
        },
        "id": "ucxMaZtzdvUo",
        "outputId": "7e9a7ac7-a152-432d-9c19-7f5150df1e0d"
      },
      "source": [
        "data3.nunique()"
      ],
      "execution_count": null,
      "outputs": [
        {
          "output_type": "execute_result",
          "data": {
            "text/plain": [
              "ts              483002\n",
              "idorighost          40\n",
              "idorigport       65536\n",
              "idresphost     2960759\n",
              "idrespport          25\n",
              "proto                3\n",
              "service              5\n",
              "duration        395857\n",
              "origbytes        15851\n",
              "respbytes          248\n",
              "connstate           13\n",
              "missedbytes          4\n",
              "history             71\n",
              "origpkts           235\n",
              "origipbytes        749\n",
              "resppkts            63\n",
              "respipbytes        436\n",
              "Label                4\n",
              "dtype: int64"
            ]
          },
          "metadata": {
            "tags": []
          },
          "execution_count": 75
        }
      ]
    },
    {
      "cell_type": "code",
      "metadata": {
        "id": "FxKnXW0-3qrt"
      },
      "source": [
        "y=pd.get_dummies(data3['Label'])\n",
        "#y=data3['Label']"
      ],
      "execution_count": null,
      "outputs": []
    },
    {
      "cell_type": "code",
      "metadata": {
        "id": "uznjSU774Hre"
      },
      "source": [
        "x=data3.drop(['Label'],axis=1)"
      ],
      "execution_count": null,
      "outputs": []
    },
    {
      "cell_type": "code",
      "metadata": {
        "id": "2LenVIJs4Siw"
      },
      "source": [
        "x_train,x_test,y_train,y_test=train_test_split(x,y,test_size=0.3,\n",
        "                                               random_state=2)"
      ],
      "execution_count": null,
      "outputs": []
    },
    {
      "cell_type": "code",
      "metadata": {
        "colab": {
          "base_uri": "https://localhost:8080/",
          "height": 419
        },
        "id": "gO3eGhMQ4YRC",
        "outputId": "f29d2fa4-9fbd-455e-ea71-4435e5565292"
      },
      "source": [
        "y_train"
      ],
      "execution_count": null,
      "outputs": [
        {
          "output_type": "execute_result",
          "data": {
            "text/html": [
              "<div>\n",
              "<style scoped>\n",
              "    .dataframe tbody tr th:only-of-type {\n",
              "        vertical-align: middle;\n",
              "    }\n",
              "\n",
              "    .dataframe tbody tr th {\n",
              "        vertical-align: top;\n",
              "    }\n",
              "\n",
              "    .dataframe thead th {\n",
              "        text-align: right;\n",
              "    }\n",
              "</style>\n",
              "<table border=\"1\" class=\"dataframe\">\n",
              "  <thead>\n",
              "    <tr style=\"text-align: right;\">\n",
              "      <th></th>\n",
              "      <th>1</th>\n",
              "      <th>3</th>\n",
              "      <th>6</th>\n",
              "      <th>9</th>\n",
              "    </tr>\n",
              "  </thead>\n",
              "  <tbody>\n",
              "    <tr>\n",
              "      <th>1237325</th>\n",
              "      <td>0</td>\n",
              "      <td>0</td>\n",
              "      <td>1</td>\n",
              "      <td>0</td>\n",
              "    </tr>\n",
              "    <tr>\n",
              "      <th>200708</th>\n",
              "      <td>0</td>\n",
              "      <td>1</td>\n",
              "      <td>0</td>\n",
              "      <td>0</td>\n",
              "    </tr>\n",
              "    <tr>\n",
              "      <th>2548732</th>\n",
              "      <td>0</td>\n",
              "      <td>1</td>\n",
              "      <td>0</td>\n",
              "      <td>0</td>\n",
              "    </tr>\n",
              "    <tr>\n",
              "      <th>3857057</th>\n",
              "      <td>1</td>\n",
              "      <td>0</td>\n",
              "      <td>0</td>\n",
              "      <td>0</td>\n",
              "    </tr>\n",
              "    <tr>\n",
              "      <th>1264230</th>\n",
              "      <td>0</td>\n",
              "      <td>1</td>\n",
              "      <td>0</td>\n",
              "      <td>0</td>\n",
              "    </tr>\n",
              "    <tr>\n",
              "      <th>...</th>\n",
              "      <td>...</td>\n",
              "      <td>...</td>\n",
              "      <td>...</td>\n",
              "      <td>...</td>\n",
              "    </tr>\n",
              "    <tr>\n",
              "      <th>3583510</th>\n",
              "      <td>1</td>\n",
              "      <td>0</td>\n",
              "      <td>0</td>\n",
              "      <td>0</td>\n",
              "    </tr>\n",
              "    <tr>\n",
              "      <th>3765832</th>\n",
              "      <td>0</td>\n",
              "      <td>1</td>\n",
              "      <td>0</td>\n",
              "      <td>0</td>\n",
              "    </tr>\n",
              "    <tr>\n",
              "      <th>2300397</th>\n",
              "      <td>1</td>\n",
              "      <td>0</td>\n",
              "      <td>0</td>\n",
              "      <td>0</td>\n",
              "    </tr>\n",
              "    <tr>\n",
              "      <th>2198031</th>\n",
              "      <td>1</td>\n",
              "      <td>0</td>\n",
              "      <td>0</td>\n",
              "      <td>0</td>\n",
              "    </tr>\n",
              "    <tr>\n",
              "      <th>1924264</th>\n",
              "      <td>0</td>\n",
              "      <td>1</td>\n",
              "      <td>0</td>\n",
              "      <td>0</td>\n",
              "    </tr>\n",
              "  </tbody>\n",
              "</table>\n",
              "<p>2799734 rows × 4 columns</p>\n",
              "</div>"
            ],
            "text/plain": [
              "         1  3  6  9\n",
              "1237325  0  0  1  0\n",
              "200708   0  1  0  0\n",
              "2548732  0  1  0  0\n",
              "3857057  1  0  0  0\n",
              "1264230  0  1  0  0\n",
              "...     .. .. .. ..\n",
              "3583510  1  0  0  0\n",
              "3765832  0  1  0  0\n",
              "2300397  1  0  0  0\n",
              "2198031  1  0  0  0\n",
              "1924264  0  1  0  0\n",
              "\n",
              "[2799734 rows x 4 columns]"
            ]
          },
          "metadata": {
            "tags": []
          },
          "execution_count": 47
        }
      ]
    },
    {
      "cell_type": "code",
      "metadata": {
        "id": "lphDeWKf4or1"
      },
      "source": [
        "import pandas as pd\n",
        "from sklearn.model_selection import train_test_split\n",
        "import tensorflow as tf\n",
        "import numpy as np\n",
        "from sklearn.metrics import roc_auc_score\n",
        "from sklearn.preprocessing import StandardScaler\n",
        "import warnings\n",
        "warnings.filterwarnings('ignore')\n",
        "from sklearn.metrics import roc_auc_score\n",
        "import sys\n",
        "from sklearn.preprocessing import StandardScaler, LabelEncoder"
      ],
      "execution_count": null,
      "outputs": []
    },
    {
      "cell_type": "code",
      "metadata": {
        "id": "o-mr0CiiIkBF"
      },
      "source": [
        "st=StandardScaler()\n",
        "st.fit(x_train)\n",
        "x_train=pd.DataFrame(st.transform(x_train))\n",
        "x_test=pd.DataFrame(st.transform(x_test))"
      ],
      "execution_count": null,
      "outputs": []
    },
    {
      "cell_type": "code",
      "metadata": {
        "colab": {
          "base_uri": "https://localhost:8080/"
        },
        "id": "76uL1L1G4xny",
        "outputId": "6d4fa57f-7b15-4eba-e5e9-a8b1915cb12b"
      },
      "source": [
        "  x_train.shape\n",
        "x_test.shape"
      ],
      "execution_count": null,
      "outputs": [
        {
          "output_type": "execute_result",
          "data": {
            "text/plain": [
              "(1199886, 17)"
            ]
          },
          "metadata": {
            "tags": []
          },
          "execution_count": 210
        }
      ]
    },
    {
      "cell_type": "markdown",
      "metadata": {
        "id": "sqcyxxPd48_W"
      },
      "source": [
        "Logistc Regression as classifier using tensfor flow"
      ]
    },
    {
      "cell_type": "code",
      "metadata": {
        "id": "f68mh2kd40St"
      },
      "source": [
        "weights = tf.Variable(tf.random.normal(shape=(17, 4), dtype=tf.float64))\n",
        "biases  = tf.Variable(tf.random.normal(shape=(4,), dtype=tf.float64))"
      ],
      "execution_count": null,
      "outputs": []
    },
    {
      "cell_type": "code",
      "metadata": {
        "id": "Se-MRIRg5D8V"
      },
      "source": [
        "def logistic_regression(x):\n",
        "    lr = tf.add(tf.matmul(x, weights), biases)\n",
        "    return lr\n",
        "\n",
        "\n",
        "def cross_entropy(y_true, y_pred):\n",
        "    loss = tf.nn.softmax_cross_entropy_with_logits(labels=y_true, logits=y_pred)\n",
        "    return tf.reduce_mean(loss)\n",
        "\n",
        "def accuracy(y_true, y_pred):\n",
        "    y_true = tf.cast(tf.argmax(y_true, axis=1), dtype=tf.int32)\n",
        "    preds = tf.cast(tf.argmax(y_pred, axis=1), dtype=tf.int32)\n",
        "    preds = tf.equal(y_true, preds)\n",
        "    return tf.reduce_mean(tf.cast(preds, dtype=tf.float32))\n",
        "\n",
        "def roc_auc(y_true,x):\n",
        "    y_true = tf.cast(tf.argmax(y_true, axis=1), dtype=tf.int32).numpy()\n",
        "    y_pred=tf.nn.softmax(logistic_regression(x))[:,1]\n",
        "    return(roc_auc_score(y_true,y_pred))\n",
        "\n",
        "def grad(x, y):\n",
        "    with tf.GradientTape() as tape:\n",
        "        y_pred = logistic_regression(x)\n",
        "        loss_val = cross_entropy(y, y_pred)\n",
        "    return tape.gradient(loss_val, [weights, biases])"
      ],
      "execution_count": null,
      "outputs": []
    },
    {
      "cell_type": "code",
      "metadata": {
        "id": "N68MZdOt5aVd"
      },
      "source": [
        "epochs=2000"
      ],
      "execution_count": null,
      "outputs": []
    },
    {
      "cell_type": "code",
      "metadata": {
        "id": "F8RDafcO5Jvn"
      },
      "source": [
        "learning_rate=0.1\n",
        "for epoch in range(epochs):\n",
        "    rand_ind=np.random.choice(range(x_train.shape[0]),100)\n",
        "    outputs=y_train.iloc[rand_ind,:].values\n",
        "    inputs=x_train.iloc[rand_ind,:].values\n",
        "    \n",
        "    dw,db=grad(inputs,tf.cast(outputs,'float32'))\n",
        "    \n",
        "    weights.assign_sub(learning_rate*dw)\n",
        "    biases.assign_sub(learning_rate*db)\n",
        "    \n",
        "    if epoch%200==0:\n",
        "        print(accuracy(y_test.values,logistic_regression(x_test.values)).numpy())"
      ],
      "execution_count": null,
      "outputs": []
    },
    {
      "cell_type": "code",
      "metadata": {
        "id": "52ZaDLLiBPRh"
      },
      "source": [
        ""
      ],
      "execution_count": null,
      "outputs": []
    },
    {
      "cell_type": "markdown",
      "metadata": {
        "id": "uhZh1T8RHkvK"
      },
      "source": [
        "Logistic regression as classfier with hidden layers using tensor flow"
      ]
    },
    {
      "cell_type": "code",
      "metadata": {
        "id": "uGzjWG_JlsLT"
      },
      "source": [
        "weights_h = tf.Variable(tf.random.truncated_normal(shape=(17, 8), dtype=tf.float64))\n",
        "biases_h  = tf.Variable(tf.random.truncated_normal(shape=(8,), dtype=tf.float64))\n",
        "\n",
        "weights_o = tf.Variable(tf.random.truncated_normal(shape=(8, 4), dtype=tf.float64))\n",
        "biases_o  = tf.Variable(tf.random.truncated_normal(shape=(4,), dtype=tf.float64))"
      ],
      "execution_count": null,
      "outputs": []
    },
    {
      "cell_type": "code",
      "metadata": {
        "id": "DZkifoSllvkG"
      },
      "source": [
        "def logistic_regression(x):\n",
        "    h_o = tf.add(tf.matmul(x, weights_h), biases_h)\n",
        "    h_o=tf.nn.relu(h_o)\n",
        "    lr=tf.add(tf.matmul(h_o, weights_o), biases_o)\n",
        "    return lr\n",
        "\n",
        "\n",
        "def cross_entropy(y_true, y_pred):\n",
        "\n",
        "    loss = tf.nn.softmax_cross_entropy_with_logits(labels=y_true, logits=y_pred)\n",
        "    return tf.reduce_mean(loss)\n",
        "\n",
        "\n",
        "def accuracy(y_true, y_pred):\n",
        "    y_true = tf.cast(tf.argmax(y_true, axis=1), dtype=tf.int32)\n",
        "    preds = tf.cast(tf.argmax(y_pred, axis=1), dtype=tf.int32)\n",
        "    preds = tf.equal(y_true, preds)\n",
        "    return tf.reduce_mean(tf.cast(preds, dtype=tf.float32))\n",
        "\n",
        "def roc_auc(y_true,x):\n",
        "    y_true = tf.cast(tf.argmax(y_true, axis=1), dtype=tf.int32).numpy()\n",
        "    y_pred=tf.nn.softmax(logistic_regression(x))[:,1]\n",
        "    return(roc_auc_score(y_true,y_pred))\n",
        "\n",
        "def grad(x, y):\n",
        "    with tf.GradientTape() as tape:\n",
        "        y_pred = logistic_regression(x)\n",
        "        loss_val = cross_entropy(y, y_pred)\n",
        "    return tape.gradient(loss_val, [weights_h, biases_h,weights_o, biases_o])"
      ],
      "execution_count": null,
      "outputs": []
    },
    {
      "cell_type": "code",
      "metadata": {
        "id": "Psc3VI8olzaE"
      },
      "source": [
        "epochs=2000"
      ],
      "execution_count": null,
      "outputs": []
    },
    {
      "cell_type": "code",
      "metadata": {
        "colab": {
          "base_uri": "https://localhost:8080/"
        },
        "id": "bs2DYaWcl3Uf",
        "outputId": "738e68c7-31bb-4e13-d531-73bad7aa566a"
      },
      "source": [
        "learning_rate=0.1\n",
        "for epoch in range(epochs):\n",
        "    rand_ind=np.random.choice(range(x_train.shape[0]),100)\n",
        "    outputs=y_train.iloc[rand_ind,:].values\n",
        "    inputs=x_train.iloc[rand_ind,:].values\n",
        "    dw_h,db_h,dw_o,db_o=grad(inputs,tf.cast(outputs,'float32'))\n",
        "    \n",
        "    weights_h.assign_sub(learning_rate*dw_h)\n",
        "    biases_h.assign_sub(learning_rate*db_h)\n",
        "    weights_o.assign_sub(learning_rate*dw_o)\n",
        "    biases_o.assign_sub(learning_rate*db_o)\n",
        "    \n",
        "    if epoch%200==0:\n",
        "        print(accuracy(y_test.values,logistic_regression(x_test.values)).numpy())\n",
        "    \n",
        "    "
      ],
      "execution_count": null,
      "outputs": [
        {
          "output_type": "stream",
          "text": [
            "0.4780596\n",
            "0.91398436\n",
            "0.9743684\n",
            "0.9759869\n",
            "0.9829984\n",
            "0.9849161\n",
            "0.9850227\n",
            "0.98620117\n",
            "0.9886522\n",
            "0.9887114\n"
          ],
          "name": "stdout"
        }
      ]
    },
    {
      "cell_type": "code",
      "metadata": {
        "colab": {
          "base_uri": "https://localhost:8080/"
        },
        "id": "q1FfHOhWBziT",
        "outputId": "28b7cdef-080e-4ed9-c7ce-ec7afdc43de1"
      },
      "source": [
        " print(accuracy(y_test.values,logistic_regression(x_test.values)).numpy())"
      ],
      "execution_count": null,
      "outputs": [
        {
          "output_type": "stream",
          "text": [
            "0.98863393\n"
          ],
          "name": "stdout"
        }
      ]
    },
    {
      "cell_type": "code",
      "metadata": {
        "id": "HtAXKzrpBDcT"
      },
      "source": [
        "from sklearn.metrics import confusion_matrix\n",
        "from sklearn.metrics import precision_score, recall_score\n",
        "from sklearn.metrics import f1_score"
      ],
      "execution_count": null,
      "outputs": []
    },
    {
      "cell_type": "code",
      "metadata": {
        "id": "6_iRRfE7EalH"
      },
      "source": [
        "y_pred=np.argmax(logistic_regression(x_test), axis=1)"
      ],
      "execution_count": null,
      "outputs": []
    },
    {
      "cell_type": "code",
      "metadata": {
        "colab": {
          "base_uri": "https://localhost:8080/"
        },
        "id": "5WCUwVckGfI_",
        "outputId": "025bacd6-b127-4831-9440-73ecd662032f"
      },
      "source": [
        "y_pred"
      ],
      "execution_count": null,
      "outputs": [
        {
          "output_type": "execute_result",
          "data": {
            "text/plain": [
              "array([2, 3, 1, ..., 1, 1, 0])"
            ]
          },
          "metadata": {
            "tags": []
          },
          "execution_count": 243
        }
      ]
    },
    {
      "cell_type": "code",
      "metadata": {
        "colab": {
          "base_uri": "https://localhost:8080/"
        },
        "id": "aD03QRULFvOa",
        "outputId": "47000505-2982-4cd9-e8bc-08fb313a4996"
      },
      "source": [
        "y_test=np.argmax(y_test.values, axis=1)\n",
        "y_test[1]"
      ],
      "execution_count": null,
      "outputs": [
        {
          "output_type": "execute_result",
          "data": {
            "text/plain": [
              "3"
            ]
          },
          "metadata": {
            "tags": []
          },
          "execution_count": 239
        }
      ]
    },
    {
      "cell_type": "code",
      "metadata": {
        "colab": {
          "base_uri": "https://localhost:8080/"
        },
        "id": "ivPpcJDkGlE5",
        "outputId": "88c57377-e933-4964-9a5e-a176886ba2ed"
      },
      "source": [
        "y_test"
      ],
      "execution_count": null,
      "outputs": [
        {
          "output_type": "execute_result",
          "data": {
            "text/plain": [
              "array([2, 3, 1, ..., 1, 1, 0])"
            ]
          },
          "metadata": {
            "tags": []
          },
          "execution_count": 244
        }
      ]
    },
    {
      "cell_type": "code",
      "metadata": {
        "colab": {
          "base_uri": "https://localhost:8080/"
        },
        "id": "FaA7ipKnBlTi",
        "outputId": "58b0a5a6-752c-455f-f6d7-e7687a744ddf"
      },
      "source": [
        "print('Precision: {:.5f}'.format(precision_score(y_test,y_pred,average=\"macro\")))\n",
        "print('Recall: {:.5f}'.format(recall_score(y_test,y_pred,average=\"macro\")))\n",
        "print('F1-score: {:.5f}\\n'.format(f1_score(y_test,y_pred,average=\"macro\")))"
      ],
      "execution_count": null,
      "outputs": [
        {
          "output_type": "stream",
          "text": [
            "Precision: 0.98905\n",
            "Recall: 0.98865\n",
            "F1-score: 0.98862\n",
            "\n"
          ],
          "name": "stdout"
        }
      ]
    },
    {
      "cell_type": "code",
      "metadata": {
        "colab": {
          "base_uri": "https://localhost:8080/"
        },
        "id": "Ru0fcV3sHDMK",
        "outputId": "50d79e20-18b1-4c3d-e0ed-7c6beec026ba"
      },
      "source": [
        "confusion_matrix(y_test, y_pred)"
      ],
      "execution_count": null,
      "outputs": [
        {
          "output_type": "execute_result",
          "data": {
            "text/plain": [
              "array([[298228,      7,      3,      8],\n",
              "       [   634, 286806,      3,  12852],\n",
              "       [     0,     54, 301657,      0],\n",
              "       [     0,     77,      0, 299557]])"
            ]
          },
          "metadata": {
            "tags": []
          },
          "execution_count": 247
        }
      ]
    },
    {
      "cell_type": "code",
      "metadata": {
        "colab": {
          "base_uri": "https://localhost:8080/",
          "height": 339
        },
        "id": "yswLoK2zHOyz",
        "outputId": "411ef3c2-1b78-4574-b97b-fee5bdf7b012"
      },
      "source": [
        "cnf_matrix = metrics.confusion_matrix(y_test,y_pred)\n",
        "class_names=[1,3,6,9]\n",
        "fig, ax = plt.subplots()\n",
        "tick_marks = np.arange(len(class_names))\n",
        "plt.xticks(tick_marks, class_names)\n",
        "plt.yticks(tick_marks, class_names)\n",
        "sns.heatmap(pd.DataFrame(cnf_matrix), annot=True, cmap=\"coolwarm\" ,fmt='g')\n",
        "ax.xaxis.set_label_position(\"top\")\n",
        "plt.tight_layout()\n",
        "plt.title('Confusion matrix', y=1.1)\n",
        "plt.ylabel('Actual label')\n",
        "plt.xlabel('Predicted label')"
      ],
      "execution_count": null,
      "outputs": [
        {
          "output_type": "execute_result",
          "data": {
            "text/plain": [
              "Text(0.5, 257.44, 'Predicted label')"
            ]
          },
          "metadata": {
            "tags": []
          },
          "execution_count": 249
        },
        {
          "output_type": "display_data",
          "data": {
            "image/png": "[encoded data removed]",
            "text/plain": [
              "<Figure size 432x288 with 2 Axes>"
            ]
          },
          "metadata": {
            "tags": [],
            "needs_background": "light"
          }
        }
      ]
    },
    {
      "cell_type": "code",
      "metadata": {
        "id": "mmDOCp-zIOwc"
      },
      "source": [
        "import numpy as np\n",
        "import matplotlib.pyplot as plt\n",
        "from itertools import cycle\n",
        "\n",
        "from sklearn import svm, datasets\n",
        "from sklearn.metrics import roc_curve, auc\n",
        "from sklearn.model_selection import train_test_split\n",
        "from sklearn.preprocessing import label_binarize\n",
        "from sklearn.multiclass import OneVsRestClassifier\n",
        "from scipy import interp\n",
        "from sklearn.metrics import roc_auc_score"
      ],
      "execution_count": null,
      "outputs": []
    },
    {
      "cell_type": "code",
      "metadata": {
        "id": "fR4s48tnI0Y1"
      },
      "source": [
        "n_classes = y.shape[1]"
      ],
      "execution_count": null,
      "outputs": []
    },
    {
      "cell_type": "code",
      "metadata": {
        "colab": {
          "base_uri": "https://localhost:8080/"
        },
        "id": "qgLjuxM6I4gc",
        "outputId": "7da071b2-4e78-4ab6-e4f4-f3b905061f20"
      },
      "source": [
        "n_classes"
      ],
      "execution_count": null,
      "outputs": [
        {
          "output_type": "execute_result",
          "data": {
            "text/plain": [
              "4"
            ]
          },
          "metadata": {
            "tags": []
          },
          "execution_count": 253
        }
      ]
    },
    {
      "cell_type": "code",
      "metadata": {
        "id": "OKitroRHL_r0"
      },
      "source": [
        "y_test = label_binarize(y_test, classes=[0, 1, 2, 3])"
      ],
      "execution_count": null,
      "outputs": []
    },
    {
      "cell_type": "code",
      "metadata": {
        "id": "NVX42BSGMFI4"
      },
      "source": [
        "y_pred= label_binarize(y_pred, classes=[0, 1, 2, 3])"
      ],
      "execution_count": null,
      "outputs": []
    },
    {
      "cell_type": "code",
      "metadata": {
        "colab": {
          "base_uri": "https://localhost:8080/",
          "height": 295
        },
        "id": "BIqUJfT1PSi-",
        "outputId": "603334df-9a10-4fae-df99-cce59a8fca91"
      },
      "source": [
        "fpr = dict()\n",
        "tpr = dict()\n",
        "\n",
        "for i in range(n_classes):\n",
        "    fpr[i], tpr[i], _ = roc_curve(y_test[:, i],\n",
        "                                  y_pred[:, i])\n",
        "    plt.plot(fpr[i], tpr[i], lw=2, label='class {}'.format(i))\n",
        "\n",
        "plt.xlabel(\"false positive rate\")\n",
        "plt.ylabel(\"true positive rate\")\n",
        "plt.legend(loc=\"best\")\n",
        "plt.title(\"ROC curve\")\n",
        "plt.show()"
      ],
      "execution_count": null,
      "outputs": [
        {
          "output_type": "display_data",
          "data": {
            "image/png": "[encoded data removed]",
            "text/plain": [
              "<Figure size 432x288 with 1 Axes>"
            ]
          },
          "metadata": {
            "tags": [],
            "needs_background": "light"
          }
        }
      ]
    },
    {
      "cell_type": "code",
      "metadata": {
        "id": "F4SZIdZaLJMI"
      },
      "source": [
        "fpr = dict()\n",
        "tpr = dict()\n",
        "roc_auc = dict()\n",
        "for i in range(n_classes):\n",
        "    fpr[i], tpr[i], _ = roc_curve(y_test[:, i],\n",
        "                                  y_pred[:, i])\n",
        "    roc_auc[i] = auc(fpr[i], tpr[i])\n",
        "\n",
        "# Compute micro-average ROC curve and ROC area\n",
        "fpr[\"micro\"], tpr[\"micro\"], _ = roc_curve(y_test.ravel(), y_pred.ravel())\n",
        "roc_auc[\"micro\"] = auc(fpr[\"micro\"], tpr[\"micro\"])"
      ],
      "execution_count": null,
      "outputs": []
    },
    {
      "cell_type": "code",
      "metadata": {
        "colab": {
          "base_uri": "https://localhost:8080/",
          "height": 404
        },
        "id": "2F_wfbTqLRdz",
        "outputId": "77a14908-09f7-4ce6-9f3e-c8ff67619b0b"
      },
      "source": [
        "all_fpr = np.unique(np.concatenate([fpr[i] for i in range(n_classes)]))\n",
        "\n",
        "# Then interpolate all ROC curves at this points\n",
        "mean_tpr = np.zeros_like(all_fpr)\n",
        "for i in range(n_classes):\n",
        "    mean_tpr += interp(all_fpr, fpr[i], tpr[i])\n",
        "\n",
        "# Finally average it and compute AUC\n",
        "mean_tpr /= n_classes\n",
        "\n",
        "fpr[\"macro\"] = all_fpr\n",
        "tpr[\"macro\"] = mean_tpr\n",
        "roc_auc[\"macro\"] = auc(fpr[\"macro\"], tpr[\"macro\"])\n",
        "\n",
        "# Plot all ROC curves\n",
        "\n",
        "plt.figure(figsize=(6,6))\n",
        "plt.plot(fpr[\"micro\"], tpr[\"micro\"],\n",
        "         label='micro-average ROC curve (area = {0:0.2f})'\n",
        "               ''.format(roc_auc[\"micro\"]),\n",
        "         color='pink', linestyle=':', linewidth=4)\n",
        "\n",
        "plt.plot(fpr[\"macro\"], tpr[\"macro\"],\n",
        "         label='macro-average ROC curve (area = {0:0.2f})'\n",
        "               ''.format(roc_auc[\"macro\"]),\n",
        "         color='green', linestyle=':', linewidth=4)\n",
        "\n",
        "colors = cycle(['green', 'darkorange', 'red','blue'])\n",
        "for i, color in zip(range(n_classes), colors):\n",
        "    plt.plot(fpr[i], tpr[i], color=color, lw=2,\n",
        "             label='ROC curve of class {0} (area = {1:0.2f})'\n",
        "             ''.format(i, roc_auc[i]))\n",
        "\n",
        "plt.plot([0, 1], [0, 1], 'k--', lw=2)\n",
        "plt.xlim([0.0, 1.0])\n",
        "plt.ylim([0.0, 1.05])\n",
        "plt.xlabel('False Positive Rate')\n",
        "plt.ylabel('True Positive Rate')\n",
        "plt.title('Receiver operating characteristic for multi-class Using Random Forest')\n",
        "plt.legend(bbox_to_anchor=(1,1), loc=\"upper left\")\n",
        "\n",
        "plt.show()"
      ],
      "execution_count": null,
      "outputs": [
        {
          "output_type": "display_data",
          "data": {
            "image/png": "[encoded data removed]",
            "text/plain": [
              "<Figure size 432x432 with 1 Axes>"
            ]
          },
          "metadata": {
            "tags": [],
            "needs_background": "light"
          }
        }
      ]
    },
    {
      "cell_type": "code",
      "metadata": {
        "colab": {
          "base_uri": "https://localhost:8080/"
        },
        "id": "YzDD97qCQ2OF",
        "outputId": "e8222d76-3334-4d47-8664-e87c6e4cef4a"
      },
      "source": [
        "macro_roc_auc_ovo = roc_auc_score(y_test, y_pred, multi_class=\"ovo\",average=\"macro\")\n",
        "weighted_roc_auc_ovo = roc_auc_score(y_test, y_pred, multi_class=\"ovo\",\n",
        "                                     average=\"weighted\")\n",
        "macro_roc_auc_ovr = roc_auc_score(y_test, y_pred, multi_class=\"ovr\",\n",
        "                                  average=\"macro\")\n",
        "weighted_roc_auc_ovr = roc_auc_score(y_test, y_pred, multi_class=\"ovr\",\n",
        "                                     average=\"weighted\")\n",
        "print(\"One-vs-One ROC AUC scores:\\n{:.6f} (macro),\\n{:.6f} \"\n",
        "      \"(weighted by prevalence)\"\n",
        "      .format(macro_roc_auc_ovo, weighted_roc_auc_ovo))\n",
        "print(\"One-vs-Rest ROC AUC scores:\\n{:.6f} (macro),\\n{:.6f} \"\n",
        "      \"(weighted by prevalence)\"\n",
        "      .format(macro_roc_auc_ovr, weighted_roc_auc_ovr))"
      ],
      "execution_count": null,
      "outputs": [
        {
          "output_type": "stream",
          "text": [
            "One-vs-One ROC AUC scores:\n",
            "0.992430 (macro),\n",
            "0.992426 (weighted by prevalence)\n",
            "One-vs-Rest ROC AUC scores:\n",
            "0.992430 (macro),\n",
            "0.992426 (weighted by prevalence)\n"
          ],
          "name": "stdout"
        }
      ]
    },
    {
      "cell_type": "code",
      "metadata": {
        "id": "OYW_7DW-RSk7"
      },
      "source": [
        "from sklearn.metrics import precision_recall_curve"
      ],
      "execution_count": null,
      "outputs": []
    },
    {
      "cell_type": "code",
      "metadata": {
        "colab": {
          "base_uri": "https://localhost:8080/",
          "height": 295
        },
        "id": "9sgks5xiRETW",
        "outputId": "23115635-6bba-41c4-a927-54a371f8fb92"
      },
      "source": [
        "precision = dict()\n",
        "recall = dict()\n",
        "for i in range(n_classes):\n",
        "    precision[i], recall[i], _ = precision_recall_curve(y_test[:, i],\n",
        "                                                        y_pred[:, i])\n",
        "    plt.plot(recall[i], precision[i], lw=2, label='class {}'.format(i))\n",
        "    \n",
        "plt.xlabel(\"recall\")\n",
        "plt.ylabel(\"precision\")\n",
        "plt.legend(loc=\"best\")\n",
        "plt.title(\"precision vs. recall curve\")\n",
        "plt.show()"
      ],
      "execution_count": null,
      "outputs": [
        {
          "output_type": "display_data",
          "data": {
            "image/png": "[encoded data removed]",
            "text/plain": [
              "<Figure size 432x288 with 1 Axes>"
            ]
          },
          "metadata": {
            "tags": [],
            "needs_background": "light"
          }
        }
      ]
    },
    {
      "cell_type": "markdown",
      "metadata": {
        "id": "I3zYVYXrvtEW"
      },
      "source": [
        "# **Decision Tree, Random Forest and XGBoost Classifier**"
      ]
    },
    {
      "cell_type": "code",
      "metadata": {
        "id": "D7uUfmTMKUbC"
      },
      "source": [
        "X=data3.drop(['Label'],axis=1)"
      ],
      "execution_count": null,
      "outputs": []
    },
    {
      "cell_type": "code",
      "metadata": {
        "id": "nU3-tYHLKYh7"
      },
      "source": [
        "Y=data3['Label']"
      ],
      "execution_count": null,
      "outputs": []
    },
    {
      "cell_type": "code",
      "metadata": {
        "colab": {
          "base_uri": "https://localhost:8080/"
        },
        "id": "NGqr8oSQaHLO",
        "outputId": "d6493ce8-28cd-4bb1-f524-8c33afe0f8e8"
      },
      "source": [
        "Y"
      ],
      "execution_count": null,
      "outputs": [
        {
          "output_type": "execute_result",
          "data": {
            "text/plain": [
              "0          9\n",
              "1          3\n",
              "2          3\n",
              "3          1\n",
              "4          6\n",
              "          ..\n",
              "3999615    3\n",
              "3999616    6\n",
              "3999617    9\n",
              "3999618    6\n",
              "3999619    6\n",
              "Name: Label, Length: 3999620, dtype: int64"
            ]
          },
          "metadata": {
            "tags": []
          },
          "execution_count": 74
        }
      ]
    },
    {
      "cell_type": "code",
      "metadata": {
        "colab": {
          "base_uri": "https://localhost:8080/"
        },
        "id": "_9r8xbYNvhLa",
        "outputId": "45f98366-3d79-4b78-d49e-bc822ab67d8d"
      },
      "source": [
        "Y"
      ],
      "execution_count": null,
      "outputs": [
        {
          "output_type": "execute_result",
          "data": {
            "text/plain": [
              "array([[0, 0, 0, 1],\n",
              "       [0, 1, 0, 0],\n",
              "       [0, 1, 0, 0],\n",
              "       ...,\n",
              "       [0, 0, 0, 1],\n",
              "       [0, 0, 1, 0],\n",
              "       [0, 0, 1, 0]])"
            ]
          },
          "metadata": {
            "tags": []
          },
          "execution_count": 71
        }
      ]
    },
    {
      "cell_type": "code",
      "metadata": {
        "id": "4cyZzRnGKb5n"
      },
      "source": [
        "X_train, X_test, Y_train, Y_test = train_test_split(X, Y, test_size=0.3,random_state =42)"
      ],
      "execution_count": null,
      "outputs": []
    },
    {
      "cell_type": "markdown",
      "metadata": {
        "id": "aqNmAYS9Hwml"
      },
      "source": [
        "Decision Tree Classifier using scikit-learn"
      ]
    },
    {
      "cell_type": "code",
      "metadata": {
        "id": "uSbawx-sKe4G"
      },
      "source": [
        "from sklearn.tree import DecisionTreeClassifier"
      ],
      "execution_count": null,
      "outputs": []
    },
    {
      "cell_type": "code",
      "metadata": {
        "id": "Y282x2bVKh-L"
      },
      "source": [
        "dtree = DecisionTreeClassifier()"
      ],
      "execution_count": null,
      "outputs": []
    },
    {
      "cell_type": "code",
      "metadata": {
        "id": "BYZDisjVIDCU"
      },
      "source": [
        "from sklearn.metrics import accuracy_score"
      ],
      "execution_count": null,
      "outputs": []
    },
    {
      "cell_type": "code",
      "metadata": {
        "id": "GhWPWXzhKmbb"
      },
      "source": [
        "dtree.fit(X_train,Y_train)\n",
        "Y_predsDT = dtree.predict(X_test)\n"
      ],
      "execution_count": null,
      "outputs": []
    },
    {
      "cell_type": "code",
      "metadata": {
        "id": "v61HED5Cs9_Q"
      },
      "source": [
        "from sklearn.preprocessing import label_binarize"
      ],
      "execution_count": null,
      "outputs": []
    },
    {
      "cell_type": "code",
      "metadata": {
        "colab": {
          "base_uri": "https://localhost:8080/"
        },
        "id": "2Q7MApHwsSnQ",
        "outputId": "1786ce44-1cc0-42a1-be40-4bfc886730b9"
      },
      "source": [
        "accuracy_score(Y_test,Y_predsDT)"
      ],
      "execution_count": null,
      "outputs": [
        {
          "output_type": "execute_result",
          "data": {
            "text/plain": [
              "0.9999958329374624"
            ]
          },
          "metadata": {
            "tags": []
          },
          "execution_count": 81
        }
      ]
    },
    {
      "cell_type": "code",
      "metadata": {
        "id": "1vBS3Kk0tXY8"
      },
      "source": [
        "import numpy as np\n",
        "import matplotlib.pyplot as plt\n",
        "from itertools import cycle\n",
        "\n",
        "from sklearn import svm, datasets\n",
        "from sklearn.metrics import roc_curve, auc\n",
        "from sklearn.model_selection import train_test_split\n",
        "from sklearn.preprocessing import label_binarize\n",
        "from sklearn.multiclass import OneVsRestClassifier\n",
        "from scipy import interp\n",
        "from sklearn.metrics import roc_auc_score"
      ],
      "execution_count": null,
      "outputs": []
    },
    {
      "cell_type": "code",
      "metadata": {
        "id": "KwPnLH1jK73b"
      },
      "source": [
        "from sklearn.metrics import confusion_matrix\n",
        "from sklearn.metrics import precision_score, recall_score\n",
        "from sklearn.metrics import f1_score"
      ],
      "execution_count": null,
      "outputs": []
    },
    {
      "cell_type": "code",
      "metadata": {
        "colab": {
          "base_uri": "https://localhost:8080/"
        },
        "id": "Mf8T7cjeKytD",
        "outputId": "d940c9c6-6110-4c29-c40d-f98752c51532"
      },
      "source": [
        "print('Precision: {:.5f}'.format(precision_score(Y_test, Y_predsDT, average='macro')))\n",
        "print('Recall: {:.5f}'.format(recall_score(Y_test, Y_predsDT, average='macro')))\n",
        "print('F1-score: {:.5f}\\n'.format(f1_score(Y_test, Y_predsDT, average='macro')))"
      ],
      "execution_count": null,
      "outputs": [
        {
          "output_type": "stream",
          "text": [
            "Precision: 1.00000\n",
            "Recall: 1.00000\n",
            "F1-score: 1.00000\n",
            "\n"
          ],
          "name": "stdout"
        }
      ]
    },
    {
      "cell_type": "code",
      "metadata": {
        "id": "WxJFvedcyE_j"
      },
      "source": [
        "from sklearn import metrics"
      ],
      "execution_count": null,
      "outputs": []
    },
    {
      "cell_type": "code",
      "metadata": {
        "id": "3vAHMgh4yVgu"
      },
      "source": [
        "import seaborn as sns"
      ],
      "execution_count": null,
      "outputs": []
    },
    {
      "cell_type": "code",
      "metadata": {
        "colab": {
          "base_uri": "https://localhost:8080/",
          "height": 339
        },
        "id": "7ZDUt-0Mx6sK",
        "outputId": "1cf4b8e3-23e1-4f52-c408-4a6e625478f4"
      },
      "source": [
        "cnf_matrix = metrics.confusion_matrix(Y_test, Y_predsDT)\n",
        "class_names=[1,3,6,9]\n",
        "fig, ax = plt.subplots()\n",
        "tick_marks = np.arange(len(class_names))\n",
        "plt.xticks(tick_marks, class_names)\n",
        "plt.yticks(tick_marks, class_names)\n",
        "sns.heatmap(pd.DataFrame(cnf_matrix), annot=True, cmap=\"coolwarm\" ,fmt='g')\n",
        "ax.xaxis.set_label_position(\"top\")\n",
        "plt.tight_layout()\n",
        "plt.title('Confusion matrix', y=1.1)\n",
        "plt.ylabel('Actual label')\n",
        "plt.xlabel('Predicted label')"
      ],
      "execution_count": null,
      "outputs": [
        {
          "output_type": "execute_result",
          "data": {
            "text/plain": [
              "Text(0.5, 257.44, 'Predicted label')"
            ]
          },
          "metadata": {
            "tags": []
          },
          "execution_count": 90
        },
        {
          "output_type": "display_data",
          "data": {
            "image/png": "[encoded data removed]",
            "text/plain": [
              "<Figure size 432x288 with 2 Axes>"
            ]
          },
          "metadata": {
            "tags": [],
            "needs_background": "light"
          }
        }
      ]
    },
    {
      "cell_type": "code",
      "metadata": {
        "colab": {
          "base_uri": "https://localhost:8080/"
        },
        "id": "LclhpAHqbdk5",
        "outputId": "a0d46f96-3b88-4c1b-e0e9-6c8e43503683"
      },
      "source": [
        "confusion_matrix(Y_test, Y_predsDT)"
      ],
      "execution_count": null,
      "outputs": [
        {
          "output_type": "execute_result",
          "data": {
            "text/plain": [
              "array([[299515,      0,      0,      0],\n",
              "       [     0, 300080,      4,      0],\n",
              "       [     0,      1, 301102,      0],\n",
              "       [     0,      0,      0, 299184]])"
            ]
          },
          "metadata": {
            "tags": []
          },
          "execution_count": 91
        }
      ]
    },
    {
      "cell_type": "markdown",
      "metadata": {
        "id": "4m_WJyfvbeEJ"
      },
      "source": [
        "ROC_AUC curve for Multiclass"
      ]
    },
    {
      "cell_type": "code",
      "metadata": {
        "id": "Ia3g9C8KZytL"
      },
      "source": [
        "import numpy as np\n",
        "import matplotlib.pyplot as plt\n",
        "from itertools import cycle\n",
        "\n",
        "from sklearn import svm, datasets\n",
        "from sklearn.metrics import roc_curve, auc\n",
        "from sklearn.model_selection import train_test_split\n",
        "from sklearn.preprocessing import label_binarize\n",
        "from sklearn.multiclass import OneVsRestClassifier\n",
        "from scipy import interp\n",
        "from sklearn.metrics import roc_auc_score"
      ],
      "execution_count": null,
      "outputs": []
    },
    {
      "cell_type": "code",
      "metadata": {
        "id": "kvacMy4caEuN"
      },
      "source": [
        "Y = label_binarize(Y, classes=[1,3,6,9])\n",
        "n_classes = Y.shape[1]"
      ],
      "execution_count": null,
      "outputs": []
    },
    {
      "cell_type": "code",
      "metadata": {
        "id": "A74I0GuEaPta"
      },
      "source": [
        "X_train, X_test, Y_train, Y_test = train_test_split(X, Y, test_size=0.3,random_state =42)"
      ],
      "execution_count": null,
      "outputs": []
    },
    {
      "cell_type": "code",
      "metadata": {
        "id": "fg9loLO4aW2X"
      },
      "source": [
        "dtree.fit(X_train,Y_train)\n",
        "Y_predsDT = dtree.predict(X_test)"
      ],
      "execution_count": null,
      "outputs": []
    },
    {
      "cell_type": "code",
      "metadata": {
        "colab": {
          "base_uri": "https://localhost:8080/",
          "height": 295
        },
        "id": "NB5llMDPacCq",
        "outputId": "a07b371a-5c84-46cf-debf-64cf718ccf70"
      },
      "source": [
        "fpr = dict()\n",
        "tpr = dict()\n",
        "\n",
        "for i in range(n_classes):\n",
        "    fpr[i], tpr[i], _ = roc_curve(Y_test[:, i],\n",
        "                                  Y_predsDT[:, i])\n",
        "    plt.plot(fpr[i], tpr[i], lw=2, label='class {}'.format(i))\n",
        "\n",
        "plt.xlabel(\"false positive rate\")\n",
        "plt.ylabel(\"true positive rate\")\n",
        "plt.legend(loc=\"best\")\n",
        "plt.title(\"ROC curve\")\n",
        "plt.show()"
      ],
      "execution_count": null,
      "outputs": [
        {
          "output_type": "display_data",
          "data": {
            "image/png": "[encoded data removed]",
            "text/plain": [
              "<Figure size 432x288 with 1 Axes>"
            ]
          },
          "metadata": {
            "tags": [],
            "needs_background": "light"
          }
        }
      ]
    },
    {
      "cell_type": "code",
      "metadata": {
        "id": "mlK7_BIiQIZ6"
      },
      "source": [
        "YpredsDT_prob = dtree.predict_proba(X_test)"
      ],
      "execution_count": null,
      "outputs": []
    },
    {
      "cell_type": "markdown",
      "metadata": {
        "id": "LS579KOScGFO"
      },
      "source": [
        "Another Method for ROC_AUC curve for Multiclass"
      ]
    },
    {
      "cell_type": "code",
      "metadata": {
        "id": "RrlMaZinapdo"
      },
      "source": [
        "fpr = dict()\n",
        "tpr = dict()\n",
        "roc_auc = dict()\n",
        "for i in range(n_classes):\n",
        "    fpr[i], tpr[i], _ = roc_curve(Y_test[:, i], Y_predsDT[:, i])\n",
        "    roc_auc[i] = auc(fpr[i], tpr[i])\n",
        "\n",
        "# Compute micro-average ROC curve and ROC area\n",
        "fpr[\"micro\"], tpr[\"micro\"], _ = roc_curve(Y_test.ravel(), Y_predsDT.ravel())\n",
        "roc_auc[\"micro\"] = auc(fpr[\"micro\"], tpr[\"micro\"])"
      ],
      "execution_count": null,
      "outputs": []
    },
    {
      "cell_type": "code",
      "metadata": {
        "colab": {
          "base_uri": "https://localhost:8080/",
          "height": 458
        },
        "id": "3TTz_WL4awx3",
        "outputId": "05bbf0ab-7b99-4504-fabe-1d92b971ac65"
      },
      "source": [
        "all_fpr = np.unique(np.concatenate([fpr[i] for i in range(n_classes)]))\n",
        "\n",
        "# Then interpolate all ROC curves at this points\n",
        "mean_tpr = np.zeros_like(all_fpr)\n",
        "for i in range(n_classes):\n",
        "    mean_tpr += interp(all_fpr, fpr[i], tpr[i])\n",
        "\n",
        "# Finally average it and compute AUC\n",
        "mean_tpr /= n_classes\n",
        "\n",
        "fpr[\"macro\"] = all_fpr\n",
        "tpr[\"macro\"] = mean_tpr\n",
        "roc_auc[\"macro\"] = auc(fpr[\"macro\"], tpr[\"macro\"])\n",
        "\n",
        "# Plot all ROC curves\n",
        "\n",
        "plt.figure(figsize=(6,6))\n",
        "plt.plot(fpr[\"micro\"], tpr[\"micro\"],\n",
        "         label='micro-average ROC curve (area = {0:0.2f})'\n",
        "               ''.format(roc_auc[\"micro\"]),\n",
        "         color='pink', linestyle=':', linewidth=4)\n",
        "\n",
        "plt.plot(fpr[\"macro\"], tpr[\"macro\"],\n",
        "         label='macro-average ROC curve (area = {0:0.2f})'\n",
        "               ''.format(roc_auc[\"macro\"]),\n",
        "         color='green', linestyle=':', linewidth=4)\n",
        "\n",
        "colors = cycle(['aqua', 'darkorange', 'red','blue'])\n",
        "for i, color in zip(range(n_classes), colors):\n",
        "    plt.plot(fpr[i], tpr[i], color=color, lw=2,\n",
        "             label='ROC curve of class {0} (area = {1:0.2f})'\n",
        "             ''.format(i, roc_auc[i]))\n",
        "\n",
        "plt.plot([0, 1], [0, 1], 'k--', lw=2)\n",
        "plt.xlim([0.0, 1.0])\n",
        "plt.ylim([0.0, 1.05])\n",
        "plt.xlabel('False Positive Rate')\n",
        "plt.ylabel('True Positive Rate')\n",
        "plt.title('Receiver operating characteristic for multi-class Using Random Forest')\n",
        "plt.legend(bbox_to_anchor=(1,1), loc=\"upper left\")\n",
        "\n",
        "plt.show()"
      ],
      "execution_count": null,
      "outputs": [
        {
          "output_type": "stream",
          "text": [
            "/usr/local/lib/python3.7/dist-packages/ipykernel_launcher.py:6: DeprecationWarning: scipy.interp is deprecated and will be removed in SciPy 2.0.0, use numpy.interp instead\n",
            "  \n"
          ],
          "name": "stderr"
        },
        {
          "output_type": "display_data",
          "data": {
            "image/png": "[encoded data removed]",
            "text/plain": [
              "<Figure size 432x432 with 1 Axes>"
            ]
          },
          "metadata": {
            "tags": [],
            "needs_background": "light"
          }
        }
      ]
    },
    {
      "cell_type": "markdown",
      "metadata": {
        "id": "IptjtpUzZ5aW"
      },
      "source": [
        "AUC score for Multi-Class"
      ]
    },
    {
      "cell_type": "code",
      "metadata": {
        "id": "3TaWCRRH8dSQ"
      },
      "source": [
        "YpredsDT_prob = dtree.predict_proba(X_test)"
      ],
      "execution_count": null,
      "outputs": []
    },
    {
      "cell_type": "code",
      "metadata": {
        "colab": {
          "base_uri": "https://localhost:8080/"
        },
        "id": "e5wqO8Xfy5DI",
        "outputId": "c7c1d91d-d1c0-4619-d8b8-6f78eabbe5d1"
      },
      "source": [
        "macro_roc_auc_ovo = roc_auc_score(Y_test, YpredsDT_prob, multi_class=\"ovo\",average=\"macro\")\n",
        "weighted_roc_auc_ovo = roc_auc_score(Y_test,YpredsDT_prob, multi_class=\"ovo\",\n",
        "                                     average=\"weighted\")\n",
        "macro_roc_auc_ovr = roc_auc_score(Y_test, YpredsDT_prob, multi_class=\"ovr\",\n",
        "                                  average=\"macro\")\n",
        "weighted_roc_auc_ovr = roc_auc_score(Y_test,YpredsDT_prob, multi_class=\"ovr\",\n",
        "                                     average=\"weighted\")\n",
        "print(\"One-vs-One ROC AUC scores:\\n{:.6f} (macro),\\n{:.6f} \"\n",
        "      \"(weighted by prevalence)\"\n",
        "      .format(macro_roc_auc_ovo, weighted_roc_auc_ovo))\n",
        "print(\"One-vs-Rest ROC AUC scores:\\n{:.6f} (macro),\\n{:.6f} \"\n",
        "      \"(weighted by prevalence)\"\n",
        "      .format(macro_roc_auc_ovr, weighted_roc_auc_ovr))"
      ],
      "execution_count": null,
      "outputs": [
        {
          "output_type": "stream",
          "text": [
            "One-vs-One ROC AUC scores:\n",
            "0.999997 (macro),\n",
            "0.999997 (weighted by prevalence)\n",
            "One-vs-Rest ROC AUC scores:\n",
            "0.999997 (macro),\n",
            "0.999997 (weighted by prevalence)\n"
          ],
          "name": "stdout"
        }
      ]
    },
    {
      "cell_type": "markdown",
      "metadata": {
        "id": "e_vOFnYYbUbS"
      },
      "source": [
        "Precision-Recall curve for Multiclass"
      ]
    },
    {
      "cell_type": "code",
      "metadata": {
        "id": "cbe4I80obEzE"
      },
      "source": [
        "from sklearn.metrics import precision_recall_curve"
      ],
      "execution_count": null,
      "outputs": []
    },
    {
      "cell_type": "code",
      "metadata": {
        "colab": {
          "base_uri": "https://localhost:8080/",
          "height": 295
        },
        "id": "1Ta31g3cbMt3",
        "outputId": "17c9a3d0-1b05-4433-d571-45e1f21a6b5b"
      },
      "source": [
        "precision = dict()\n",
        "recall = dict()\n",
        "for i in range(n_classes):\n",
        "    precision[i], recall[i], _ = precision_recall_curve(Y_test[:, i],\n",
        "                                                        Y_predsDT[:, i])\n",
        "    plt.plot(recall[i], precision[i], lw=2, label='class {}'.format(i))\n",
        "    \n",
        "plt.xlabel(\"recall\")\n",
        "plt.ylabel(\"precision\")\n",
        "plt.legend(loc=\"best\")\n",
        "plt.title(\"precision vs. recall curve\")\n",
        "plt.show()"
      ],
      "execution_count": null,
      "outputs": [
        {
          "output_type": "display_data",
          "data": {
            "image/png": "[encoded data removed]",
            "text/plain": [
              "<Figure size 432x288 with 1 Axes>"
            ]
          },
          "metadata": {
            "tags": [],
            "needs_background": "light"
          }
        }
      ]
    },
    {
      "cell_type": "markdown",
      "metadata": {
        "id": "LSNuD1Jb9ncU"
      },
      "source": [
        "RandomForest Classifier using Scikit-Learn"
      ]
    },
    {
      "cell_type": "code",
      "metadata": {
        "id": "jTmf2LiybiIH"
      },
      "source": [
        "from sklearn.ensemble import RandomForestClassifier"
      ],
      "execution_count": null,
      "outputs": []
    },
    {
      "cell_type": "code",
      "metadata": {
        "id": "KAM_qESNblCX"
      },
      "source": [
        "rf = RandomForestClassifier()"
      ],
      "execution_count": null,
      "outputs": []
    },
    {
      "cell_type": "code",
      "metadata": {
        "colab": {
          "base_uri": "https://localhost:8080/"
        },
        "id": "lcb4pMEtbnez",
        "outputId": "4b47e4d0-e592-4cb2-9b5c-2de0df1ca721"
      },
      "source": [
        "rf.fit(X_train,Y_train)\n",
        "Y_predsRF = rf.predict(X_test)\n",
        "\n",
        "print('With Random Forest accuracy is: ',rf.score(X_test,Y_test))"
      ],
      "execution_count": null,
      "outputs": [
        {
          "output_type": "stream",
          "text": [
            "With Random Forest accuracy is:  0.9999958329374624\n"
          ],
          "name": "stdout"
        }
      ]
    },
    {
      "cell_type": "code",
      "metadata": {
        "colab": {
          "base_uri": "https://localhost:8080/"
        },
        "id": "HrWN1kinbqQe",
        "outputId": "e39caa60-da44-4e6f-fafb-08156d644123"
      },
      "source": [
        "print('Precision: {:.5f}'.format(precision_score(Y_test, Y_predsRF, average='macro')))\n",
        "print('Recall: {:.5f}'.format(recall_score(Y_test, Y_predsRF, average='macro')))\n",
        "print('F1-score: {:.5f}\\n'.format(f1_score(Y_test, Y_predsRF, average='macro')))"
      ],
      "execution_count": null,
      "outputs": [
        {
          "output_type": "stream",
          "text": [
            "Precision: 1.00000\n",
            "Recall: 1.00000\n",
            "F1-score: 1.00000\n",
            "\n"
          ],
          "name": "stdout"
        }
      ]
    },
    {
      "cell_type": "code",
      "metadata": {
        "colab": {
          "base_uri": "https://localhost:8080/"
        },
        "id": "Lu-SLmrrbtIl",
        "outputId": "3684f61d-4e21-4236-85c6-82a1a4ce9447"
      },
      "source": [
        "confusion_matrix(Y_test, Y_predsRF)"
      ],
      "execution_count": null,
      "outputs": [
        {
          "output_type": "execute_result",
          "data": {
            "text/plain": [
              "array([[299515,      0,      0,      0],\n",
              "       [     0, 300084,      0,      0],\n",
              "       [     0,      0, 301103,      0],\n",
              "       [     1,      4,      0, 299179]])"
            ]
          },
          "metadata": {
            "tags": []
          },
          "execution_count": 104
        }
      ]
    },
    {
      "cell_type": "code",
      "metadata": {
        "colab": {
          "base_uri": "https://localhost:8080/",
          "height": 339
        },
        "id": "wMooJvPC-QEv",
        "outputId": "ad252760-4573-40da-9d5f-987ad659906b"
      },
      "source": [
        "cnf_matrix = metrics.confusion_matrix(Y_test, Y_predsDT)\n",
        "class_names=[1,3,6,9]\n",
        "fig, ax = plt.subplots()\n",
        "tick_marks = np.arange(len(class_names))\n",
        "plt.xticks(tick_marks, class_names)\n",
        "plt.yticks(tick_marks, class_names)\n",
        "sns.heatmap(pd.DataFrame(cnf_matrix), annot=True, cmap=\"coolwarm\" ,fmt='g')\n",
        "ax.xaxis.set_label_position(\"top\")\n",
        "plt.tight_layout()\n",
        "plt.title('Confusion matrix', y=1.1)\n",
        "plt.ylabel('Actual label')\n",
        "plt.xlabel('Predicted label')"
      ],
      "execution_count": null,
      "outputs": [
        {
          "output_type": "execute_result",
          "data": {
            "text/plain": [
              "Text(0.5, 257.44, 'Predicted label')"
            ]
          },
          "metadata": {
            "tags": []
          },
          "execution_count": 105
        },
        {
          "output_type": "display_data",
          "data": {
            "image/png": "[encoded data removed]",
            "text/plain": [
              "<Figure size 432x288 with 2 Axes>"
            ]
          },
          "metadata": {
            "tags": [],
            "needs_background": "light"
          }
        }
      ]
    },
    {
      "cell_type": "markdown",
      "metadata": {
        "id": "W5n-YvEeAP42"
      },
      "source": [
        "TO PLOT ROC_CURVE and CALCULATE AUC_SCORE for MULTICLASS FOLLOW THE BELOW CODE"
      ]
    },
    {
      "cell_type": "code",
      "metadata": {
        "id": "mgVBis4OApDJ"
      },
      "source": [
        "import numpy as np\n",
        "import matplotlib.pyplot as plt\n",
        "from itertools import cycle\n",
        "\n",
        "from sklearn import svm, datasets\n",
        "from sklearn.metrics import roc_curve, auc\n",
        "from sklearn.model_selection import train_test_split\n",
        "from sklearn.preprocessing import label_binarize\n",
        "from sklearn.multiclass import OneVsRestClassifier\n",
        "from scipy import interp\n",
        "from sklearn.metrics import roc_auc_score"
      ],
      "execution_count": null,
      "outputs": []
    },
    {
      "cell_type": "code",
      "metadata": {
        "id": "HElnY_GwAH61"
      },
      "source": [
        "Y = label_binarize(Y, classes=[1,3,6,9])\n",
        "n_classes = Y.shape[1]"
      ],
      "execution_count": null,
      "outputs": []
    },
    {
      "cell_type": "code",
      "metadata": {
        "id": "GVdBXpI1A4vV"
      },
      "source": [
        "X_train, X_test, Y_train, Y_test = train_test_split(X, Y, test_size=0.3,random_state =42)"
      ],
      "execution_count": null,
      "outputs": []
    },
    {
      "cell_type": "code",
      "metadata": {
        "id": "fzgYq4UBBK3A"
      },
      "source": [
        "rf.fit(X_train,Y_train)\n",
        "Y_predsRF = rf.predict(X_test)"
      ],
      "execution_count": null,
      "outputs": []
    },
    {
      "cell_type": "code",
      "metadata": {
        "colab": {
          "base_uri": "https://localhost:8080/",
          "height": 295
        },
        "id": "ZC0JMvmGCUO_",
        "outputId": "b49aa49a-3ae3-4ffb-e927-83e295ce6883"
      },
      "source": [
        "fpr = dict()\n",
        "tpr = dict()\n",
        "\n",
        "for i in range(n_classes):\n",
        "    fpr[i], tpr[i], _ = roc_curve(Y_test[:, i],\n",
        "                                  Y_predsRF[:, i])\n",
        "    plt.plot(fpr[i], tpr[i], lw=2, label='class {}'.format(i))\n",
        "\n",
        "plt.xlabel(\"false positive rate\")\n",
        "plt.ylabel(\"true positive rate\")\n",
        "plt.legend(loc=\"best\")\n",
        "plt.title(\"ROC curve\")\n",
        "plt.show()"
      ],
      "execution_count": null,
      "outputs": [
        {
          "output_type": "display_data",
          "data": {
            "image/png": "[encoded data removed]",
            "text/plain": [
              "<Figure size 432x288 with 1 Axes>"
            ]
          },
          "metadata": {
            "tags": [],
            "needs_background": "light"
          }
        }
      ]
    },
    {
      "cell_type": "markdown",
      "metadata": {
        "id": "A5qSL7azZld3"
      },
      "source": [
        "Another Method for RoC_Curve"
      ]
    },
    {
      "cell_type": "code",
      "metadata": {
        "id": "ohxhLtpnBVtM"
      },
      "source": [
        "fpr = dict()\n",
        "tpr = dict()\n",
        "roc_auc = dict()\n",
        "for i in range(n_classes):\n",
        "    fpr[i], tpr[i], _ = roc_curve(Y_test[:, i], Y_predsRF[:, i])\n",
        "    roc_auc[i] = auc(fpr[i], tpr[i])\n",
        "\n",
        "# Compute micro-average ROC curve and ROC area\n",
        "fpr[\"micro\"], tpr[\"micro\"], _ = roc_curve(Y_test.ravel(), Y_predsRF.ravel())\n",
        "roc_auc[\"micro\"] = auc(fpr[\"micro\"], tpr[\"micro\"])"
      ],
      "execution_count": null,
      "outputs": []
    },
    {
      "cell_type": "code",
      "metadata": {
        "colab": {
          "base_uri": "https://localhost:8080/",
          "height": 458
        },
        "id": "Y6jehdymBfUE",
        "outputId": "f54a2c34-96f1-4329-e752-4dc453f3d6a0"
      },
      "source": [
        "all_fpr = np.unique(np.concatenate([fpr[i] for i in range(n_classes)]))\n",
        "\n",
        "# Then interpolate all ROC curves at this points\n",
        "mean_tpr = np.zeros_like(all_fpr)\n",
        "for i in range(n_classes):\n",
        "    mean_tpr += interp(all_fpr, fpr[i], tpr[i])\n",
        "\n",
        "# Finally average it and compute AUC\n",
        "mean_tpr /= n_classes\n",
        "\n",
        "fpr[\"macro\"] = all_fpr\n",
        "tpr[\"macro\"] = mean_tpr\n",
        "roc_auc[\"macro\"] = auc(fpr[\"macro\"], tpr[\"macro\"])\n",
        "\n",
        "# Plot all ROC curves\n",
        "\n",
        "plt.figure(figsize=(6,6))\n",
        "plt.plot(fpr[\"micro\"], tpr[\"micro\"],\n",
        "         label='micro-average ROC curve (area = {0:0.2f})'\n",
        "               ''.format(roc_auc[\"micro\"]),\n",
        "         color='pink', linestyle=':', linewidth=4)\n",
        "\n",
        "plt.plot(fpr[\"macro\"], tpr[\"macro\"],\n",
        "         label='macro-average ROC curve (area = {0:0.2f})'\n",
        "               ''.format(roc_auc[\"macro\"]),\n",
        "         color='green', linestyle=':', linewidth=4)\n",
        "\n",
        "colors = cycle(['aqua', 'darkorange', 'red','blue'])\n",
        "for i, color in zip(range(n_classes), colors):\n",
        "    plt.plot(fpr[i], tpr[i], color=color, lw=2,\n",
        "             label='ROC curve of class {0} (area = {1:0.2f})'\n",
        "             ''.format(i, roc_auc[i]))\n",
        "\n",
        "plt.plot([0, 1], [0, 1], 'k--', lw=2)\n",
        "plt.xlim([0.0, 1.0])\n",
        "plt.ylim([0.0, 1.05])\n",
        "plt.xlabel('False Positive Rate')\n",
        "plt.ylabel('True Positive Rate')\n",
        "plt.title('Receiver operating characteristic for multi-class Using Random Forest')\n",
        "plt.legend(bbox_to_anchor=(1,1), loc=\"upper left\")\n",
        "\n",
        "plt.show()"
      ],
      "execution_count": null,
      "outputs": [
        {
          "output_type": "stream",
          "text": [
            "/usr/local/lib/python3.7/dist-packages/ipykernel_launcher.py:6: DeprecationWarning: scipy.interp is deprecated and will be removed in SciPy 2.0.0, use numpy.interp instead\n",
            "  \n"
          ],
          "name": "stderr"
        },
        {
          "output_type": "display_data",
          "data": {
            "image/png": "[encoded data removed]",
            "text/plain": [
              "<Figure size 432x432 with 1 Axes>"
            ]
          },
          "metadata": {
            "tags": [],
            "needs_background": "light"
          }
        }
      ]
    },
    {
      "cell_type": "markdown",
      "metadata": {
        "id": "9n9_8vnka1zN"
      },
      "source": [
        "AUC Score for Multiclass"
      ]
    },
    {
      "cell_type": "code",
      "metadata": {
        "id": "mDb1f5ixB5hU"
      },
      "source": [
        "YpredsRF_prob = rf.predict_proba(X_test)"
      ],
      "execution_count": null,
      "outputs": []
    },
    {
      "cell_type": "code",
      "metadata": {
        "colab": {
          "base_uri": "https://localhost:8080/"
        },
        "id": "65kjR69UCAdE",
        "outputId": "153a328e-24ec-4fae-a1c8-beda7202bdff"
      },
      "source": [
        "macro_roc_auc_ovo = roc_auc_score(Y_test, YpredsDT_prob, multi_class=\"ovo\",average=\"macro\")\n",
        "weighted_roc_auc_ovo = roc_auc_score(Y_test,YpredsDT_prob, multi_class=\"ovo\",\n",
        "                                     average=\"weighted\")\n",
        "macro_roc_auc_ovr = roc_auc_score(Y_test, YpredsDT_prob, multi_class=\"ovr\",\n",
        "                                  average=\"macro\")\n",
        "weighted_roc_auc_ovr = roc_auc_score(Y_test,YpredsDT_prob, multi_class=\"ovr\",\n",
        "                                     average=\"weighted\")\n",
        "print(\"One-vs-One ROC AUC scores:\\n{:.6f} (macro),\\n{:.6f} \"\n",
        "      \"(weighted by prevalence)\"\n",
        "      .format(macro_roc_auc_ovo, weighted_roc_auc_ovo))\n",
        "print(\"One-vs-Rest ROC AUC scores:\\n{:.6f} (macro),\\n{:.6f} \"\n",
        "      \"(weighted by prevalence)\"\n",
        "      .format(macro_roc_auc_ovr, weighted_roc_auc_ovr))"
      ],
      "execution_count": null,
      "outputs": [
        {
          "output_type": "stream",
          "text": [
            "One-vs-One ROC AUC scores:\n",
            "0.999997 (macro),\n",
            "0.999997 (weighted by prevalence)\n",
            "One-vs-Rest ROC AUC scores:\n",
            "0.999997 (macro),\n",
            "0.999997 (weighted by prevalence)\n"
          ],
          "name": "stdout"
        }
      ]
    },
    {
      "cell_type": "markdown",
      "metadata": {
        "id": "AMg42XLLa64T"
      },
      "source": [
        "Precision-Recall curve"
      ]
    },
    {
      "cell_type": "code",
      "metadata": {
        "id": "ZkqYeZ5-F3Hs"
      },
      "source": [
        "from sklearn.metrics import precision_recall_curve"
      ],
      "execution_count": null,
      "outputs": []
    },
    {
      "cell_type": "code",
      "metadata": {
        "colab": {
          "base_uri": "https://localhost:8080/",
          "height": 295
        },
        "id": "PQrRic-zF16C",
        "outputId": "d0e08bbb-27af-401b-bae6-bb1649134e5a"
      },
      "source": [
        "precision = dict()\n",
        "recall = dict()\n",
        "for i in range(n_classes):\n",
        "    precision[i], recall[i], _ = precision_recall_curve(Y_test[:, i],\n",
        "                                                        Y_predsRF[:, i])\n",
        "    plt.plot(recall[i], precision[i], lw=2, label='class {}'.format(i))\n",
        "    \n",
        "plt.xlabel(\"recall\")\n",
        "plt.ylabel(\"precision\")\n",
        "plt.legend(loc=\"best\")\n",
        "plt.title(\"precision vs. recall curve\")\n",
        "plt.show()"
      ],
      "execution_count": null,
      "outputs": [
        {
          "output_type": "display_data",
          "data": {
            "image/png": "[encoded data removed]",
            "text/plain": [
              "<Figure size 432x288 with 1 Axes>"
            ]
          },
          "metadata": {
            "tags": [],
            "needs_background": "light"
          }
        }
      ]
    },
    {
      "cell_type": "markdown",
      "metadata": {
        "id": "dUEsTlf2IBAj"
      },
      "source": [
        "XGBoost Classifier Using Scikit-Learn"
      ]
    },
    {
      "cell_type": "code",
      "metadata": {
        "colab": {
          "base_uri": "https://localhost:8080/"
        },
        "id": "7fFHZCObibmS",
        "outputId": "2b0c94b8-fbd1-4092-aa81-fc3ee804e705"
      },
      "source": [
        "from xgboost import XGBClassifier\n",
        "xgb=XGBClassifier(random_state=1,learning_rate=0.01)\n",
        "xgb.fit(X_train, Y_train)\n"
      ],
      "execution_count": null,
      "outputs": [
        {
          "output_type": "execute_result",
          "data": {
            "text/plain": [
              "XGBClassifier(base_score=0.5, booster='gbtree', colsample_bylevel=1,\n",
              "              colsample_bynode=1, colsample_bytree=1, gamma=0,\n",
              "              learning_rate=0.01, max_delta_step=0, max_depth=3,\n",
              "              min_child_weight=1, missing=None, n_estimators=100, n_jobs=1,\n",
              "              nthread=None, objective='multi:softprob', random_state=1,\n",
              "              reg_alpha=0, reg_lambda=1, scale_pos_weight=1, seed=None,\n",
              "              silent=None, subsample=1, verbosity=1)"
            ]
          },
          "metadata": {
            "tags": []
          },
          "execution_count": 136
        }
      ]
    },
    {
      "cell_type": "code",
      "metadata": {
        "id": "DE6xBypWnhm_"
      },
      "source": [
        "Y_predsXGB=xgb.predict(X_test)"
      ],
      "execution_count": null,
      "outputs": []
    },
    {
      "cell_type": "code",
      "metadata": {
        "colab": {
          "base_uri": "https://localhost:8080/"
        },
        "id": "K77l3K6GhSeK",
        "outputId": "818a0f12-0069-492e-c526-e775a4d43b97"
      },
      "source": [
        "accuracy_score(Y_test,Y_predsXGB)"
      ],
      "execution_count": null,
      "outputs": [
        {
          "output_type": "execute_result",
          "data": {
            "text/plain": [
              "0.9999608296121465"
            ]
          },
          "metadata": {
            "tags": []
          },
          "execution_count": 138
        }
      ]
    },
    {
      "cell_type": "code",
      "metadata": {
        "colab": {
          "base_uri": "https://localhost:8080/"
        },
        "id": "BacfLhaznrbc",
        "outputId": "22dd030c-e4a8-4fe6-8b59-ae714b1167b4"
      },
      "source": [
        "print('Precision: {:.5f}'.format(precision_score(Y_test, Y_predsXGB, average='macro')))\n",
        "print('Recall: {:.5f}'.format(recall_score(Y_test, Y_predsXGB, average='macro')))\n",
        "print('F1-score: {:.5f}\\n'.format(f1_score(Y_test, Y_predsXGB, average='macro')))"
      ],
      "execution_count": null,
      "outputs": [
        {
          "output_type": "stream",
          "text": [
            "Precision: 0.99996\n",
            "Recall: 0.99996\n",
            "F1-score: 0.99996\n",
            "\n"
          ],
          "name": "stdout"
        }
      ]
    },
    {
      "cell_type": "code",
      "metadata": {
        "colab": {
          "base_uri": "https://localhost:8080/"
        },
        "id": "LxBMyPCtn69e",
        "outputId": "77a1ed12-d5c0-4839-fae3-10d0b0173ae7"
      },
      "source": [
        "confusion_matrix(Y_test, Y_predsXGB)\n"
      ],
      "execution_count": null,
      "outputs": [
        {
          "output_type": "execute_result",
          "data": {
            "text/plain": [
              "array([[299508,      0,      7,      0],\n",
              "       [     0, 300084,      0,      0],\n",
              "       [     0,     40, 301063,      0],\n",
              "       [     0,      0,      0, 299184]])"
            ]
          },
          "metadata": {
            "tags": []
          },
          "execution_count": 140
        }
      ]
    },
    {
      "cell_type": "code",
      "metadata": {
        "colab": {
          "base_uri": "https://localhost:8080/",
          "height": 339
        },
        "id": "J3Glt6Z-eZyU",
        "outputId": "66cac0e1-cb2a-4910-d558-000da5d3a507"
      },
      "source": [
        "cnf_matrix = metrics.confusion_matrix(Y_test, Y_predsXGB)\n",
        "class_names=[1,3,6,9]\n",
        "fig, ax = plt.subplots()\n",
        "tick_marks = np.arange(len(class_names))\n",
        "plt.xticks(tick_marks, class_names)\n",
        "plt.yticks(tick_marks, class_names)\n",
        "sns.heatmap(pd.DataFrame(cnf_matrix), annot=True, cmap=\"coolwarm\" ,fmt='g')\n",
        "ax.xaxis.set_label_position(\"top\")\n",
        "plt.tight_layout()\n",
        "plt.title('Confusion matrix', y=1.1)\n",
        "plt.ylabel('Actual label')\n",
        "plt.xlabel('Predicted label')"
      ],
      "execution_count": null,
      "outputs": [
        {
          "output_type": "execute_result",
          "data": {
            "text/plain": [
              "Text(0.5, 257.44, 'Predicted label')"
            ]
          },
          "metadata": {
            "tags": []
          },
          "execution_count": 141
        },
        {
          "output_type": "display_data",
          "data": {
            "image/png": "[encoded data removed]",
            "text/plain": [
              "<Figure size 432x288 with 2 Axes>"
            ]
          },
          "metadata": {
            "tags": [],
            "needs_background": "light"
          }
        }
      ]
    },
    {
      "cell_type": "markdown",
      "metadata": {
        "id": "cXp7bH-Wcv-v"
      },
      "source": [
        "ROC_AUC curve for Multi-Class"
      ]
    },
    {
      "cell_type": "code",
      "metadata": {
        "id": "qLAo1qe6c9c_"
      },
      "source": [
        "import numpy as np\n",
        "import matplotlib.pyplot as plt\n",
        "from itertools import cycle\n",
        "\n",
        "from sklearn import svm, datasets\n",
        "from sklearn.metrics import roc_curve, auc\n",
        "from sklearn.model_selection import train_test_split\n",
        "from sklearn.preprocessing import label_binarize\n",
        "from sklearn.multiclass import OneVsRestClassifier\n",
        "from scipy import interp\n",
        "from sklearn.metrics import roc_auc_score\n",
        "from sklearn.preprocessing import MultiLabelBinarizer"
      ],
      "execution_count": null,
      "outputs": []
    },
    {
      "cell_type": "code",
      "metadata": {
        "id": "efFnfvOUnszW"
      },
      "source": [
        "mlb = MultiLabelBinarizer()\n",
        "Y = mlb.fit_transform(Y)"
      ],
      "execution_count": null,
      "outputs": []
    },
    {
      "cell_type": "code",
      "metadata": {
        "colab": {
          "base_uri": "https://localhost:8080/"
        },
        "id": "vS68qXSIoMuH",
        "outputId": "a2582a3b-9f41-4d09-cd5a-b02500554505"
      },
      "source": [
        ""
      ],
      "execution_count": null,
      "outputs": [
        {
          "output_type": "execute_result",
          "data": {
            "text/plain": [
              "array([[1, 1],\n",
              "       [1, 1],\n",
              "       [1, 1],\n",
              "       ...,\n",
              "       [1, 1],\n",
              "       [1, 1],\n",
              "       [1, 1]])"
            ]
          },
          "metadata": {
            "tags": []
          },
          "execution_count": 155
        }
      ]
    },
    {
      "cell_type": "code",
      "metadata": {
        "id": "wGoyQ4KRclRD"
      },
      "source": [
        "Y = label_binarize(Y, classes=[1,3,6,9])\n",
        "n_classes = Y.shape[1]"
      ],
      "execution_count": null,
      "outputs": []
    },
    {
      "cell_type": "code",
      "metadata": {
        "id": "Jbd6U-l5dRom"
      },
      "source": [
        "X_train, X_test, Y_train, Y_test = train_test_split(X, Y, test_size=0.3,random_state =42)"
      ],
      "execution_count": null,
      "outputs": []
    },
    {
      "cell_type": "code",
      "metadata": {
        "id": "9PocwPs0oBW-"
      },
      "source": [
        "xgb=OneVsRestClassifier(XGBClassifier())"
      ],
      "execution_count": null,
      "outputs": []
    },
    {
      "cell_type": "code",
      "metadata": {
        "id": "nm2jAV4ldbMC"
      },
      "source": [
        "xgb.fit(X_train,Y_train)\n",
        "Y_predsXGB = xgb.predict(X_test)"
      ],
      "execution_count": null,
      "outputs": []
    },
    {
      "cell_type": "code",
      "metadata": {
        "colab": {
          "base_uri": "https://localhost:8080/",
          "height": 295
        },
        "id": "oHToDPjWdiIo",
        "outputId": "28190c8a-6f5d-47a2-e455-98360e42cb36"
      },
      "source": [
        "fpr = dict()\n",
        "tpr = dict()\n",
        "\n",
        "for i in range(n_classes):\n",
        "    fpr[i], tpr[i], _ = roc_curve(Y_test[:, i],\n",
        "                                  Y_predsXGB[:, i])\n",
        "    plt.plot(fpr[i], tpr[i], lw=2, label='class {}'.format(i))\n",
        "\n",
        "plt.xlabel(\"false positive rate\")\n",
        "plt.ylabel(\"true positive rate\")\n",
        "plt.legend(loc=\"best\")\n",
        "plt.title(\"Multi-classROC curve: XGB classifier\")\n",
        "plt.show()"
      ],
      "execution_count": null,
      "outputs": [
        {
          "output_type": "display_data",
          "data": {
            "image/png": "[encoded data removed]",
            "text/plain": [
              "<Figure size 432x288 with 1 Axes>"
            ]
          },
          "metadata": {
            "tags": [],
            "needs_background": "light"
          }
        }
      ]
    },
    {
      "cell_type": "code",
      "metadata": {
        "id": "_wFITrdHdo-k"
      },
      "source": [
        "fpr = dict()\n",
        "tpr = dict()\n",
        "roc_auc = dict()\n",
        "for i in range(n_classes):\n",
        "    fpr[i], tpr[i], _ = roc_curve(Y_test[:, i], Y_predsXGB[:, i])\n",
        "    roc_auc[i] = auc(fpr[i], tpr[i])\n",
        "\n",
        "# Compute micro-average ROC curve and ROC area\n",
        "fpr[\"micro\"], tpr[\"micro\"], _ = roc_curve(Y_test.ravel(), Y_predsXGB.ravel())\n",
        "roc_auc[\"micro\"] = auc(fpr[\"micro\"], tpr[\"micro\"])"
      ],
      "execution_count": null,
      "outputs": []
    },
    {
      "cell_type": "code",
      "metadata": {
        "colab": {
          "base_uri": "https://localhost:8080/",
          "height": 458
        },
        "id": "_wFaohkodwML",
        "outputId": "3406a298-4226-4bf2-8cca-b653dbaa18e5"
      },
      "source": [
        "all_fpr = np.unique(np.concatenate([fpr[i] for i in range(n_classes)]))\n",
        "\n",
        "# Then interpolate all ROC curves at this points\n",
        "mean_tpr = np.zeros_like(all_fpr)\n",
        "for i in range(n_classes):\n",
        "    mean_tpr += interp(all_fpr, fpr[i], tpr[i])\n",
        "\n",
        "# Finally average it and compute AUC\n",
        "mean_tpr /= n_classes\n",
        "\n",
        "fpr[\"macro\"] = all_fpr\n",
        "tpr[\"macro\"] = mean_tpr\n",
        "roc_auc[\"macro\"] = auc(fpr[\"macro\"], tpr[\"macro\"])\n",
        "\n",
        "# Plot all ROC curves\n",
        "\n",
        "plt.figure(figsize=(6,6))\n",
        "plt.plot(fpr[\"micro\"], tpr[\"micro\"],\n",
        "         label='micro-average ROC curve (area = {0:0.2f})'\n",
        "               ''.format(roc_auc[\"micro\"]),\n",
        "         color='pink', linestyle=':', linewidth=4)\n",
        "\n",
        "plt.plot(fpr[\"macro\"], tpr[\"macro\"],\n",
        "         label='macro-average ROC curve (area = {0:0.2f})'\n",
        "               ''.format(roc_auc[\"macro\"]),\n",
        "         color='green', linestyle=':', linewidth=4)\n",
        "\n",
        "colors = cycle(['aqua', 'darkorange', 'red','blue'])\n",
        "for i, color in zip(range(n_classes), colors):\n",
        "    plt.plot(fpr[i], tpr[i], color=color, lw=2,\n",
        "             label='ROC curve of class {0} (area = {1:0.2f})'\n",
        "             ''.format(i, roc_auc[i]))\n",
        "\n",
        "plt.plot([0, 1], [0, 1], 'k--', lw=2)\n",
        "plt.xlim([0.0, 1.0])\n",
        "plt.ylim([0.0, 1.05])\n",
        "plt.xlabel('False Positive Rate')\n",
        "plt.ylabel('True Positive Rate')\n",
        "plt.title('Receiver operating characteristic for multi-class Using Random Forest')\n",
        "plt.legend(bbox_to_anchor=(1,1), loc=\"upper left\")\n",
        "\n",
        "plt.show()"
      ],
      "execution_count": null,
      "outputs": [
        {
          "output_type": "stream",
          "text": [
            "/usr/local/lib/python3.7/dist-packages/ipykernel_launcher.py:6: DeprecationWarning: scipy.interp is deprecated and will be removed in SciPy 2.0.0, use numpy.interp instead\n",
            "  \n"
          ],
          "name": "stderr"
        },
        {
          "output_type": "display_data",
          "data": {
            "image/png": "[encoded data removed]",
            "text/plain": [
              "<Figure size 432x432 with 1 Axes>"
            ]
          },
          "metadata": {
            "tags": [],
            "needs_background": "light"
          }
        }
      ]
    },
    {
      "cell_type": "code",
      "metadata": {
        "id": "Axsp7glFd4YD"
      },
      "source": [
        "YpredsXGB_prob = xgb.predict_proba(X_test)"
      ],
      "execution_count": null,
      "outputs": []
    },
    {
      "cell_type": "code",
      "metadata": {
        "colab": {
          "base_uri": "https://localhost:8080/"
        },
        "id": "DuCm_rhPd-Ai",
        "outputId": "d55483f3-bee7-43aa-fdd1-3204e2515b74"
      },
      "source": [
        "macro_roc_auc_ovo = roc_auc_score(Y_test, YpredsXGB_prob, multi_class=\"ovo\",average=\"macro\")\n",
        "weighted_roc_auc_ovo = roc_auc_score(Y_test,YpredsXGB_prob, multi_class=\"ovo\",\n",
        "                                     average=\"weighted\")\n",
        "macro_roc_auc_ovr = roc_auc_score(Y_test, YpredsXGB_prob, multi_class=\"ovr\",\n",
        "                                  average=\"macro\")\n",
        "weighted_roc_auc_ovr = roc_auc_score(Y_test,YpredsXGB_prob, multi_class=\"ovr\",\n",
        "                                     average=\"weighted\")\n",
        "print(\"One-vs-One ROC AUC scores:\\n{:.6f} (macro),\\n{:.6f} \"\n",
        "      \"(weighted by prevalence)\"\n",
        "      .format(macro_roc_auc_ovo, weighted_roc_auc_ovo))\n",
        "print(\"One-vs-Rest ROC AUC scores:\\n{:.6f} (macro),\\n{:.6f} \"\n",
        "      \"(weighted by prevalence)\"\n",
        "      .format(macro_roc_auc_ovr, weighted_roc_auc_ovr))"
      ],
      "execution_count": null,
      "outputs": [
        {
          "output_type": "stream",
          "text": [
            "One-vs-One ROC AUC scores:\n",
            "1.000000 (macro),\n",
            "1.000000 (weighted by prevalence)\n",
            "One-vs-Rest ROC AUC scores:\n",
            "1.000000 (macro),\n",
            "1.000000 (weighted by prevalence)\n"
          ],
          "name": "stdout"
        }
      ]
    },
    {
      "cell_type": "code",
      "metadata": {
        "id": "JQE-29mseMOP"
      },
      "source": [
        "from sklearn.metrics import precision_recall_curve"
      ],
      "execution_count": null,
      "outputs": []
    },
    {
      "cell_type": "code",
      "metadata": {
        "colab": {
          "base_uri": "https://localhost:8080/",
          "height": 295
        },
        "id": "ABw0xeHzeIh7",
        "outputId": "08f5aecb-9279-48bb-d291-b3aeef0c3eb4"
      },
      "source": [
        "precision = dict()\n",
        "recall = dict()\n",
        "for i in range(n_classes):\n",
        "    precision[i], recall[i], _ = precision_recall_curve(Y_test[:, i],\n",
        "                                                        Y_predsXGB[:, i])\n",
        "    plt.plot(recall[i], precision[i], lw=2, label='class {}'.format(i))\n",
        "    \n",
        "plt.xlabel(\"recall\")\n",
        "plt.ylabel(\"precision\")\n",
        "plt.legend(loc=\"best\")\n",
        "plt.title(\"precision vs. recall curve\")\n",
        "plt.show()"
      ],
      "execution_count": null,
      "outputs": [
        {
          "output_type": "display_data",
          "data": {
            "image/png": "[encoded data removed]",
            "text/plain": [
              "<Figure size 432x288 with 1 Axes>"
            ]
          },
          "metadata": {
            "tags": [],
            "needs_background": "light"
          }
        }
      ]
    },
    {
      "cell_type": "markdown",
      "metadata": {
        "id": "2uI8mScnsKQf"
      },
      "source": [
        "Multi-Class Classification Using ANN"
      ]
    },
    {
      "cell_type": "code",
      "metadata": {
        "id": "GTDFKo8rrlh0"
      },
      "source": [
        "import keras\n",
        "from keras.models import Sequential\n",
        "from keras.layers import Dense\n",
        "from keras.optimizers import Adam\n",
        "import pydot\n",
        "import graphviz\n",
        "from IPython.display import SVG\n",
        "from keras.utils.vis_utils import model_to_dot\n",
        "from keras.utils import plot_model\n",
        "import seaborn as sns\n",
        "import pandas as pd\n",
        "import numpy as np"
      ],
      "execution_count": null,
      "outputs": []
    },
    {
      "cell_type": "code",
      "metadata": {
        "id": "EHrCW1Fstr54"
      },
      "source": [
        "X = data3.drop('Label',axis=1)"
      ],
      "execution_count": null,
      "outputs": []
    },
    {
      "cell_type": "code",
      "metadata": {
        "id": "XJVj3NvDtv0T"
      },
      "source": [
        "y=data3['Label']"
      ],
      "execution_count": null,
      "outputs": []
    },
    {
      "cell_type": "code",
      "metadata": {
        "id": "RVr4f5VJtvgL"
      },
      "source": [
        "from sklearn.preprocessing import LabelEncoder\n",
        "encoder =  LabelEncoder()\n",
        "y1 = encoder.fit_transform(y)\n",
        "Y = pd.get_dummies(y1).values"
      ],
      "execution_count": null,
      "outputs": []
    },
    {
      "cell_type": "code",
      "metadata": {
        "id": "xNZoQ3_Ct74c"
      },
      "source": [
        "from sklearn.model_selection import train_test_split\n",
        "X_train,X_test, y_train,y_test = train_test_split(X,Y,test_size=0.3,random_state=42)"
      ],
      "execution_count": null,
      "outputs": []
    },
    {
      "cell_type": "code",
      "metadata": {
        "colab": {
          "base_uri": "https://localhost:8080/"
        },
        "id": "LQlRS3E2uD48",
        "outputId": "6cb020cc-c52f-478d-8fcc-33cc370a9382"
      },
      "source": [
        "Y"
      ],
      "execution_count": null,
      "outputs": [
        {
          "output_type": "execute_result",
          "data": {
            "text/plain": [
              "array([[0, 0, 0, 1],\n",
              "       [0, 1, 0, 0],\n",
              "       [0, 1, 0, 0],\n",
              "       ...,\n",
              "       [0, 0, 0, 1],\n",
              "       [0, 0, 1, 0],\n",
              "       [0, 0, 1, 0]], dtype=uint8)"
            ]
          },
          "metadata": {
            "tags": []
          },
          "execution_count": 177
        }
      ]
    },
    {
      "cell_type": "code",
      "metadata": {
        "colab": {
          "base_uri": "https://localhost:8080/"
        },
        "id": "8kyHu8nZuHlE",
        "outputId": "cc54b4e4-e84a-42a8-a5cd-d98cacfe1d03"
      },
      "source": [
        "X.shape"
      ],
      "execution_count": null,
      "outputs": [
        {
          "output_type": "execute_result",
          "data": {
            "text/plain": [
              "(3999620, 17)"
            ]
          },
          "metadata": {
            "tags": []
          },
          "execution_count": 36
        }
      ]
    },
    {
      "cell_type": "code",
      "metadata": {
        "id": "qNpCf3guuOeI"
      },
      "source": [
        "model = Sequential()\n",
        "\n",
        "model.add(Dense(17,input_shape=(17,), activation='relu'))\n",
        "#hidden Layer\n",
        "model.add(Dense(8,input_shape=(8,), activation='relu'))\n",
        "\n",
        "model.add(Dense(4, activation='softmax'))\n"
      ],
      "execution_count": null,
      "outputs": []
    },
    {
      "cell_type": "code",
      "metadata": {
        "id": "S27JxpUTuV6e"
      },
      "source": [
        "model.compile(optimizer=\"Adam\", loss='categorical_crossentropy', metrics=['accuracy'])"
      ],
      "execution_count": null,
      "outputs": []
    },
    {
      "cell_type": "code",
      "metadata": {
        "id": "JhGrVDpMwPV9"
      },
      "source": [
        "from sklearn.preprocessing import StandardScaler"
      ],
      "execution_count": null,
      "outputs": []
    },
    {
      "cell_type": "code",
      "metadata": {
        "id": "l0L9VgeOuZEl"
      },
      "source": [
        "st=StandardScaler()"
      ],
      "execution_count": null,
      "outputs": []
    },
    {
      "cell_type": "code",
      "metadata": {
        "colab": {
          "base_uri": "https://localhost:8080/"
        },
        "id": "crs1KB0sujFh",
        "outputId": "7f0487e1-5f5a-4019-b7e2-b063f39fbbb8"
      },
      "source": [
        "st.fit(X_train)"
      ],
      "execution_count": null,
      "outputs": [
        {
          "output_type": "execute_result",
          "data": {
            "text/plain": [
              "StandardScaler(copy=True, with_mean=True, with_std=True)"
            ]
          },
          "metadata": {
            "tags": []
          },
          "execution_count": 183
        }
      ]
    },
    {
      "cell_type": "code",
      "metadata": {
        "id": "5oKIo9NhumaG"
      },
      "source": [
        "X_train=pd.DataFrame(st.transform(X_train))\n",
        "X_test=pd.DataFrame(st.transform(X_test))"
      ],
      "execution_count": null,
      "outputs": []
    },
    {
      "cell_type": "code",
      "metadata": {
        "colab": {
          "base_uri": "https://localhost:8080/"
        },
        "id": "0F_DJBlQuqtR",
        "outputId": "7a9891ee-7f5c-4bb6-d400-40c4211b3374"
      },
      "source": [
        "model.fit(X_train, y_train, batch_size=100, epochs=5)"
      ],
      "execution_count": null,
      "outputs": [
        {
          "output_type": "stream",
          "text": [
            "Epoch 1/5\n",
            "27998/27998 [==============================] - 231s 8ms/step - loss: 0.1179 - accuracy: 0.9697\n",
            "Epoch 2/5\n",
            "27998/27998 [==============================] - 233s 8ms/step - loss: 0.0067 - accuracy: 0.9999\n",
            "Epoch 3/5\n",
            "27998/27998 [==============================] - 232s 8ms/step - loss: 0.0088 - accuracy: 0.9999\n",
            "Epoch 4/5\n",
            "27998/27998 [==============================] - 232s 8ms/step - loss: 0.0062 - accuracy: 0.9999\n",
            "Epoch 5/5\n",
            "27998/27998 [==============================] - 233s 8ms/step - loss: 0.0023 - accuracy: 0.9999\n"
          ],
          "name": "stdout"
        },
        {
          "output_type": "execute_result",
          "data": {
            "text/plain": [
              "<tensorflow.python.keras.callbacks.History at 0x7f18e1ac0990>"
            ]
          },
          "metadata": {
            "tags": []
          },
          "execution_count": 185
        }
      ]
    },
    {
      "cell_type": "code",
      "metadata": {
        "id": "4Qlb-OuoyqQX"
      },
      "source": [
        "y_pred = model.predict(X_test)\n",
        "y_test_class = np.argmax(y_test,axis=1)\n",
        "y_pred_class = np.argmax(y_pred,axis=1)"
      ],
      "execution_count": null,
      "outputs": []
    },
    {
      "cell_type": "code",
      "metadata": {
        "colab": {
          "base_uri": "https://localhost:8080/"
        },
        "id": "bZ7bHvtjyslt",
        "outputId": "fee0cc47-9d06-42d0-d830-9c2b31e1f426"
      },
      "source": [
        "from sklearn.metrics import classification_report,confusion_matrix\n",
        "print(classification_report(y_test_class,y_pred_class))\n",
        "print(confusion_matrix(y_test_class,y_pred_class))\n"
      ],
      "execution_count": null,
      "outputs": [
        {
          "output_type": "stream",
          "text": [
            "              precision    recall  f1-score   support\n",
            "\n",
            "           0       1.00      1.00      1.00    299515\n",
            "           1       1.00      1.00      1.00    300084\n",
            "           2       1.00      1.00      1.00    301103\n",
            "           3       1.00      1.00      1.00    299184\n",
            "\n",
            "    accuracy                           1.00   1199886\n",
            "   macro avg       1.00      1.00      1.00   1199886\n",
            "weighted avg       1.00      1.00      1.00   1199886\n",
            "\n",
            "[[299506      3      0      6]\n",
            " [     0 300082      2      0]\n",
            " [     0     43 301058      2]\n",
            " [     0      0      0 299184]]\n"
          ],
          "name": "stdout"
        }
      ]
    },
    {
      "cell_type": "code",
      "metadata": {
        "colab": {
          "base_uri": "https://localhost:8080/",
          "height": 339
        },
        "id": "3yVjksA42dIN",
        "outputId": "a083f0e0-4032-4b83-b47c-6a6541102531"
      },
      "source": [
        "cnf_matrix = metrics.confusion_matrix(y_test_class, y_pred_class)\n",
        "class_names=[1,3,6,9]\n",
        "fig, ax = plt.subplots()\n",
        "tick_marks = np.arange(len(class_names))\n",
        "plt.xticks(tick_marks, class_names)\n",
        "plt.yticks(tick_marks, class_names)\n",
        "sns.heatmap(pd.DataFrame(cnf_matrix), annot=True, cmap=\"coolwarm\" ,fmt='g')\n",
        "ax.xaxis.set_label_position(\"top\")\n",
        "plt.tight_layout()\n",
        "plt.title('Confusion matrix', y=1.1)\n",
        "plt.ylabel('Actual label')\n",
        "plt.xlabel('Predicted label')"
      ],
      "execution_count": null,
      "outputs": [
        {
          "output_type": "execute_result",
          "data": {
            "text/plain": [
              "Text(0.5, 257.44, 'Predicted label')"
            ]
          },
          "metadata": {
            "tags": []
          },
          "execution_count": 189
        },
        {
          "output_type": "display_data",
          "data": {
            "image/png": "[encoded data removed]",
            "text/plain": [
              "<Figure size 432x288 with 2 Axes>"
            ]
          },
          "metadata": {
            "tags": [],
            "needs_background": "light"
          }
        }
      ]
    },
    {
      "cell_type": "code",
      "metadata": {
        "id": "dQTt1I_-2sWT"
      },
      "source": [
        "import numpy as np\n",
        "import matplotlib.pyplot as plt\n",
        "from itertools import cycle\n",
        "\n",
        "from sklearn import svm, datasets\n",
        "from sklearn.metrics import roc_curve, auc\n",
        "from sklearn.model_selection import train_test_split\n",
        "from sklearn.preprocessing import label_binarize\n",
        "from sklearn.multiclass import OneVsRestClassifier\n",
        "from scipy import interp\n",
        "from sklearn.metrics import roc_auc_score\n",
        "from sklearn.preprocessing import MultiLabelBinarizer"
      ],
      "execution_count": null,
      "outputs": []
    },
    {
      "cell_type": "code",
      "metadata": {
        "colab": {
          "base_uri": "https://localhost:8080/",
          "height": 295
        },
        "id": "wLmzn1mU25wQ",
        "outputId": "b8ec6e5f-3eae-48a4-d1e3-6268aec0b542"
      },
      "source": [
        "fpr = dict()\n",
        "tpr = dict()\n",
        "\n",
        "for i in range(n_classes):\n",
        "    fpr[i], tpr[i], _ = roc_curve(y_test[:, i],\n",
        "                                  y_pred[:, i])\n",
        "    plt.plot(fpr[i], tpr[i], lw=2, label='class {}'.format(i))\n",
        "\n",
        "plt.xlabel(\"false positive rate\")\n",
        "plt.ylabel(\"true positive rate\")\n",
        "plt.legend(loc=\"best\")\n",
        "plt.title(\"Multi-classROC curve: ANN\")\n",
        "plt.show()"
      ],
      "execution_count": null,
      "outputs": [
        {
          "output_type": "display_data",
          "data": {
            "image/png": "[encoded data removed]",
            "text/plain": [
              "<Figure size 432x288 with 1 Axes>"
            ]
          },
          "metadata": {
            "tags": [],
            "needs_background": "light"
          }
        }
      ]
    },
    {
      "cell_type": "code",
      "metadata": {
        "id": "3d2iZy4q3mN0"
      },
      "source": [
        "fpr = dict()\n",
        "tpr = dict()\n",
        "roc_auc = dict()\n",
        "for i in range(n_classes):\n",
        "    fpr[i], tpr[i], _ = roc_curve(y_test[:, i], y_pred[:, i])\n",
        "    roc_auc[i] = auc(fpr[i], tpr[i])\n",
        "\n",
        "# Compute micro-average ROC curve and ROC area\n",
        "fpr[\"micro\"], tpr[\"micro\"], _ = roc_curve(y_test.ravel(), y_pred.ravel())\n",
        "roc_auc[\"micro\"] = auc(fpr[\"micro\"], tpr[\"micro\"])"
      ],
      "execution_count": null,
      "outputs": []
    },
    {
      "cell_type": "code",
      "metadata": {
        "colab": {
          "base_uri": "https://localhost:8080/",
          "height": 458
        },
        "id": "m0r5Dxbd33cH",
        "outputId": "3d9e01b8-8474-4768-8f4c-8ba35df89218"
      },
      "source": [
        "all_fpr = np.unique(np.concatenate([fpr[i] for i in range(n_classes)]))\n",
        "\n",
        "# Then interpolate all ROC curves at this points\n",
        "mean_tpr = np.zeros_like(all_fpr)\n",
        "for i in range(n_classes):\n",
        "    mean_tpr += interp(all_fpr, fpr[i], tpr[i])\n",
        "\n",
        "# Finally average it and compute AUC\n",
        "mean_tpr /= n_classes\n",
        "\n",
        "fpr[\"macro\"] = all_fpr\n",
        "tpr[\"macro\"] = mean_tpr\n",
        "roc_auc[\"macro\"] = auc(fpr[\"macro\"], tpr[\"macro\"])\n",
        "\n",
        "# Plot all ROC curves\n",
        "\n",
        "plt.figure(figsize=(6,6))\n",
        "plt.plot(fpr[\"micro\"], tpr[\"micro\"],\n",
        "         label='micro-average ROC curve (area = {0:0.2f})'\n",
        "               ''.format(roc_auc[\"micro\"]),\n",
        "         color='pink', linestyle=':', linewidth=4)\n",
        "\n",
        "plt.plot(fpr[\"macro\"], tpr[\"macro\"],\n",
        "         label='macro-average ROC curve (area = {0:0.2f})'\n",
        "               ''.format(roc_auc[\"macro\"]),\n",
        "         color='green', linestyle=':', linewidth=4)\n",
        "\n",
        "colors = cycle(['aqua', 'darkorange', 'red','blue'])\n",
        "for i, color in zip(range(n_classes), colors):\n",
        "    plt.plot(fpr[i], tpr[i], color=color, lw=2,\n",
        "             label='ROC curve of class {0} (area = {1:0.2f})'\n",
        "             ''.format(i, roc_auc[i]))\n",
        "\n",
        "plt.plot([0, 1], [0, 1], 'k--', lw=2)\n",
        "plt.xlim([0.0, 1.0])\n",
        "plt.ylim([0.0, 1.05])\n",
        "plt.xlabel('False Positive Rate')\n",
        "plt.ylabel('True Positive Rate')\n",
        "plt.title('Receiver operating characteristic for multi-class Using ANN')\n",
        "plt.legend(bbox_to_anchor=(1,1), loc=\"upper left\")\n",
        "\n",
        "plt.show()"
      ],
      "execution_count": null,
      "outputs": [
        {
          "output_type": "stream",
          "text": [
            "/usr/local/lib/python3.7/dist-packages/ipykernel_launcher.py:6: DeprecationWarning: scipy.interp is deprecated and will be removed in SciPy 2.0.0, use numpy.interp instead\n",
            "  \n"
          ],
          "name": "stderr"
        },
        {
          "output_type": "display_data",
          "data": {
            "image/png": "[encoded data removed]",
            "text/plain": [
              "<Figure size 432x432 with 1 Axes>"
            ]
          },
          "metadata": {
            "tags": [],
            "needs_background": "light"
          }
        }
      ]
    },
    {
      "cell_type": "code",
      "metadata": {
        "id": "G0UmtTJ24mTv"
      },
      "source": [
        "y_preds_prob = model.predict_proba(X_test)"
      ],
      "execution_count": null,
      "outputs": []
    },
    {
      "cell_type": "code",
      "metadata": {
        "colab": {
          "base_uri": "https://localhost:8080/"
        },
        "id": "vYMke2XZ43hY",
        "outputId": "f874b779-53d3-4396-dc92-9ab08f86b989"
      },
      "source": [
        "macro_roc_auc_ovo = roc_auc_score(y_test, y_preds_prob, multi_class=\"ovo\",average=\"macro\")\n",
        "weighted_roc_auc_ovo = roc_auc_score(y_test,y_preds_prob, multi_class=\"ovo\",\n",
        "                                     average=\"weighted\")\n",
        "macro_roc_auc_ovr = roc_auc_score(y_test, y_preds_prob, multi_class=\"ovr\",\n",
        "                                  average=\"macro\")\n",
        "weighted_roc_auc_ovr = roc_auc_score(y_test,y_preds_prob, multi_class=\"ovr\",\n",
        "                                     average=\"weighted\")\n",
        "print(\"One-vs-One ROC AUC scores:\\n{:.6f} (macro),\\n{:.6f} \"\n",
        "      \"(weighted by prevalence)\"\n",
        "      .format(macro_roc_auc_ovo, weighted_roc_auc_ovo))\n",
        "print(\"One-vs-Rest ROC AUC scores:\\n{:.6f} (macro),\\n{:.6f} \"\n",
        "      \"(weighted by prevalence)\"\n",
        "      .format(macro_roc_auc_ovr, weighted_roc_auc_ovr))"
      ],
      "execution_count": null,
      "outputs": [
        {
          "output_type": "stream",
          "text": [
            "One-vs-One ROC AUC scores:\n",
            "0.999993 (macro),\n",
            "0.999993 (weighted by prevalence)\n",
            "One-vs-Rest ROC AUC scores:\n",
            "0.999993 (macro),\n",
            "0.999993 (weighted by prevalence)\n"
          ],
          "name": "stdout"
        }
      ]
    },
    {
      "cell_type": "code",
      "metadata": {
        "id": "JwjN3j1W5YMK"
      },
      "source": [
        "from sklearn.metrics import precision_recall_curve"
      ],
      "execution_count": null,
      "outputs": []
    },
    {
      "cell_type": "code",
      "metadata": {
        "colab": {
          "base_uri": "https://localhost:8080/",
          "height": 295
        },
        "id": "DdjrEFds5W0D",
        "outputId": "de4f4965-1f4d-456b-dbc5-61b7d893c020"
      },
      "source": [
        "precision = dict()\n",
        "recall = dict()\n",
        "for i in range(n_classes):\n",
        "    precision[i], recall[i], _ = precision_recall_curve(y_test[:, i],\n",
        "                                                        y_pred[:, i])\n",
        "    plt.plot(recall[i], precision[i], lw=2, label='class {}'.format(i))\n",
        "    \n",
        "plt.xlabel(\"recall\")\n",
        "plt.ylabel(\"precision\")\n",
        "plt.legend(loc=\"best\")\n",
        "plt.title(\"precision vs. recall curve\")\n",
        "plt.show()"
      ],
      "execution_count": null,
      "outputs": [
        {
          "output_type": "display_data",
          "data": {
            "image/png": "[encoded data removed]",
            "text/plain": [
              "<Figure size 432x288 with 1 Axes>"
            ]
          },
          "metadata": {
            "tags": [],
            "needs_background": "light"
          }
        }
      ]
    }
  ]
}