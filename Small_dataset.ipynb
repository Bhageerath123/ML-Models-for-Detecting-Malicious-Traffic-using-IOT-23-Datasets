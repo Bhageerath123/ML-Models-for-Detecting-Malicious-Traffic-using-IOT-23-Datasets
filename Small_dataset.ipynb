{
  "nbformat": 4,
  "nbformat_minor": 0,
  "metadata": {
    "accelerator": "TPU",
    "colab": {
      "name": "Small dataset.ipynb",
      "provenance": [],
      "collapsed_sections": [],
      "machine_shape": "hm",
      "include_colab_link": true
    },
    "kernelspec": {
      "display_name": "Python 3",
      "name": "python3"
    }
  },
  "cells": [
    {
      "cell_type": "markdown",
      "metadata": {
        "id": "view-in-github",
        "colab_type": "text"
      },
      "source": [
        "<a href=\"https://colab.research.google.com/github/Bhageerath123/ML-Models-for-Detecting-Malicious-Traffic-using-IOT-23-Datasets/blob/main/Small_dataset.ipynb\" target=\"_parent\"><img src=\"https://colab.research.google.com/assets/colab-badge.svg\" alt=\"Open In Colab\"/></a>"
      ]
    },
    {
      "cell_type": "code",
      "metadata": {
        "id": "hkfwcsc-Zkd-"
      },
      "source": [
        "!pip install -U -q PyDrive\n",
        "from pydrive.auth import GoogleAuth\n",
        "from pydrive.drive import GoogleDrive\n",
        "from google.colab import auth\n",
        "from oauth2client.client import GoogleCredentials\n"
      ],
      "execution_count": null,
      "outputs": []
    },
    {
      "cell_type": "code",
      "metadata": {
        "id": "7KfhqZAyZuDL"
      },
      "source": [
        "auth.authenticate_user()\n",
        "gauth = GoogleAuth()\n",
        "gauth.credentials = GoogleCredentials.get_application_default()\n",
        "drive = GoogleDrive(gauth)"
      ],
      "execution_count": null,
      "outputs": []
    },
    {
      "cell_type": "code",
      "metadata": {
        "colab": {
          "base_uri": "https://localhost:8080/"
        },
        "id": "WcJiPq32ZvHs",
        "outputId": "c86a0f12-5d9c-4681-bd7f-8cb7ad65b2ed"
      },
      "source": [
        "file_list = drive.ListFile({'q': \"'root' in parents and trashed=false\"}).GetList()\n",
        "for file1 in file_list:\n",
        "  print('title: %s, id: %s' % (file1['title'], file1['id']))"
      ],
      "execution_count": null,
      "outputs": [
        {
          "output_type": "stream",
          "text": [
            "WARNING:googleapiclient.discovery_cache:file_cache is unavailable when using oauth2client >= 4.0.0 or google-auth\n",
            "Traceback (most recent call last):\n",
            "  File \"/usr/local/lib/python3.7/dist-packages/googleapiclient/discovery_cache/file_cache.py\", line 33, in <module>\n",
            "    from oauth2client.contrib.locked_file import LockedFile\n",
            "ModuleNotFoundError: No module named 'oauth2client.contrib.locked_file'\n",
            "\n",
            "During handling of the above exception, another exception occurred:\n",
            "\n",
            "Traceback (most recent call last):\n",
            "  File \"/usr/local/lib/python3.7/dist-packages/googleapiclient/discovery_cache/file_cache.py\", line 37, in <module>\n",
            "    from oauth2client.locked_file import LockedFile\n",
            "ModuleNotFoundError: No module named 'oauth2client.locked_file'\n",
            "\n",
            "During handling of the above exception, another exception occurred:\n",
            "\n",
            "Traceback (most recent call last):\n",
            "  File \"/usr/local/lib/python3.7/dist-packages/googleapiclient/discovery_cache/__init__.py\", line 44, in autodetect\n",
            "    from . import file_cache\n",
            "  File \"/usr/local/lib/python3.7/dist-packages/googleapiclient/discovery_cache/file_cache.py\", line 41, in <module>\n",
            "    \"file_cache is unavailable when using oauth2client >= 4.0.0 or google-auth\"\n",
            "ImportError: file_cache is unavailable when using oauth2client >= 4.0.0 or google-auth\n"
          ],
          "name": "stderr"
        },
        {
          "output_type": "stream",
          "text": [
            "title: preprocessed final_2.csv, id: 1LE5qqd3Jv9aArH83gIIQOzQqrRtkiEsH\n",
            "title: preprocessed final_1.csv, id: 1LdY_SCqKLJI3O9qY36tNzktBiLY7ZiQd\n",
            "title: Dtaset 4Labels, id: 1UsYulnKaEz96fbTA9pAhErwybAHpsm7q\n",
            "title: FINAL DATASET 4.csv, id: 1fRs2RE2LKJ7nW0-4Z95T626wibAlebL3\n",
            "title: Sample2.csv, id: 15nJR4HagHSkOvLS86Z-I6G2FVwSBsN-x\n",
            "title: Sample2, id: 1sgUoRPSs1NZT2BwufU2zwca8kXKE8oz6F_0d8zj7fHw\n",
            "title: preprocessed final.csv, id: 1xOROenk2PKd50HpEaxNcoHIVgT1YzXiv\n",
            "title: Final Dataset 0 1_1, id: 1-AZmpDkwNCzEXgYBMAhmoaDFEkynhtbf\n",
            "title: Final Dataset_1_1.csv, id: 1NskVqX2h4KcdhjSRJNeCG5fbpMHOrTCV\n",
            "title: Final Dataset 0 1_2, id: 1w_V8insIM0L_Y1sfUlgz5tBRsLHC_vz3\n",
            "title: Final Dataset 0 1, id: 1qOXERY14g_QYB8k-g6bQgqrBI8_bqqsZ\n",
            "title: Final Dataset, id: 133-6o2oO_nQyjv8z1f0KGNvDU55r_-G1\n",
            "title: dataset4.csv, id: 18ZHKl1-5V9Abz923O5Zk1KptEL0tRxgb\n",
            "title: dataset1.csv, id: 18s59CqeQw0r5fjKbpAHCOcqWeKYhRzXB\n",
            "title: kdd_train.csv, id: 1EpMHv7uUKmYYJRMUwwBaWs_2bXegDxla\n",
            "title: Final, id: 1B9jeMN_Tyr_og62Jq-GtSn8Jbl7jPAB2\n",
            "title: Book4.xlsx, id: 1z5-yxu8qxZRxZjVmysCZHCv_Y_2O40hY\n",
            "title: sample, id: 1YtIlh4O4MxiIr6yB7XcWM4ldE2ZCpoX_\n",
            "title: iot 60.csv, id: 1oWEXscuQo2ZAldLXW6YkoRqhhwtd-kX0\n",
            "title: IOT52.csv, id: 1RmWCEx5dtFABFWuh6M2xKWUk-_bML6XW\n",
            "title: IOT 36.csv, id: 1EABfJF89UfEsCRF7GLcfLGt-BfOWQ_1D\n",
            "title: Iot35.csv, id: 10RZpEngerZXCCu4ZbkMJ_Vb4Iuy7BwZK\n",
            "title: iot49-2.csv, id: 1O13vZ1RPH13eKRNmx3_DAiEpyx-q1_WK\n",
            "title: iot 49.csv, id: 1lByceGG97nhRqDpksiKN-63EPyy6Yhce\n",
            "title: iot 48-12.csv, id: 1MYD2RZ9hmMc08-UnjtaMXUaAtyQ3rvka\n",
            "title: IOT42.csv, id: 1AFQuUVq7-EbH_GtE1imzXk7XvQll3Jkg\n",
            "title: iot 44.csv, id: 10xgSwQZonsEXaFMd95P8BK0j39Wz8hsO\n",
            "title: kdd_test.csv, id: 1pb4rBEmHCkCzau2KD7WjkTruKaJ_K11h\n",
            "title: Machine Learning with TensorFlow by Nishant Shukla with Kenneth Fricklas (z-lib.org) (1).pdf, id: 1KXiH4CLfMU1FEpZkG-5tTw4QlL9uVBys\n",
            "title: RM2- GroupY, id: 12tpEpE797GhHOVqVMAwzsIpYL7gEOWV0\n",
            "title: Data_science_interview_questions__1606930498.pdf, id: 1cmg5Umak2g6sb-bNRSELPuzP_cb5kxOT\n",
            "title: train.csv, id: 1uK2r5icqKzy_MIOK5eRBdhQkyRLt8nvl\n",
            "title: test.csv, id: 1fyviCL6OjDIHRPxUny2lOJ-B1vkbbcJZ\n",
            "title: Portmap.csv, id: 1sLMGfCv34STo2LBJxmKOKP_EwnKFyr6x\n",
            "title: Portmap.csv, id: 1fw4pMZyCCfNFCZDjFDlpLySIH2hUZDV1\n",
            "title: APA-DDoS-Dataset.csv, id: 17NsrYBRvzvZvLtBBWgZh3VK3qDurOk8e\n",
            "title: Colab Notebooks, id: 1IsPQ9ivZIaFfGY_P9x8J2vXCCL-YNMLY\n",
            "title: Meet - kzz-rzom-ocy - Google Chrome 2020-05-25 15-36-35.mp4, id: 1trA2nzduJvk5kXI9LHoEi0Dj7ri54uDD\n",
            "title: Firewall Lab Session (2020-03-20 at 10:18 GMT-7), id: 1zgnlvRk5-NF4SmOrtva6uX3Ssk1FfQC4\n",
            "title: Reviews.csv, id: 1w58K7Af_I5oDNIyoYjWvlbQihJ2iXnY4\n",
            "title: Getting started, id: 0B_pCcMKM2SwTc3RhcnRlcl9maWxlX2Rhc2hlclYw\n"
          ],
          "name": "stdout"
        }
      ]
    },
    {
      "cell_type": "code",
      "metadata": {
        "id": "LmTGALTIabas"
      },
      "source": [
        "import pandas as pd\n",
        "from sklearn.model_selection import train_test_split\n",
        "import tensorflow as tf\n",
        "import numpy as np\n",
        "\n",
        "\n"
      ],
      "execution_count": null,
      "outputs": []
    },
    {
      "cell_type": "code",
      "metadata": {
        "id": "slDnbk3sFm53"
      },
      "source": [
        "import pandas as pd\r\n",
        "from sklearn.model_selection import train_test_split\r\n",
        "import tensorflow as tf\r\n",
        "import numpy as np\r\n",
        "from sklearn.metrics import roc_auc_score\r\n",
        "from sklearn.preprocessing import StandardScaler\r\n",
        "import warnings\r\n",
        "warnings.filterwarnings('ignore')\r\n",
        "from sklearn.metrics import roc_auc_score\r\n",
        "import sys\r\n",
        "from sklearn.preprocessing import StandardScaler, LabelEncoder\r\n",
        "import matplotlib.pyplot as plt"
      ],
      "execution_count": null,
      "outputs": []
    },
    {
      "cell_type": "code",
      "metadata": {
        "id": "YWKVmsQ_m9Ud"
      },
      "source": [
        "downloadedTrain = drive.CreateFile({'id': '1fRs2RE2LKJ7nW0-4Z95T626wibAlebL3'})\r\n",
        "downloadedTrain.GetContentFile('dataset.csv')"
      ],
      "execution_count": null,
      "outputs": []
    },
    {
      "cell_type": "code",
      "metadata": {
        "id": "N_a4qwhLOheP"
      },
      "source": [
        "data3=pd.read_csv('dataset.csv')"
      ],
      "execution_count": null,
      "outputs": []
    },
    {
      "cell_type": "code",
      "metadata": {
        "colab": {
          "base_uri": "https://localhost:8080/",
          "height": 217
        },
        "id": "GIiq9x3Jg_47",
        "outputId": "63e80d54-8a28-43ef-8a4c-2f6da78cca9f"
      },
      "source": [
        "data3.head()"
      ],
      "execution_count": null,
      "outputs": [
        {
          "output_type": "execute_result",
          "data": {
            "text/html": [
              "<div>\n",
              "<style scoped>\n",
              "    .dataframe tbody tr th:only-of-type {\n",
              "        vertical-align: middle;\n",
              "    }\n",
              "\n",
              "    .dataframe tbody tr th {\n",
              "        vertical-align: top;\n",
              "    }\n",
              "\n",
              "    .dataframe thead th {\n",
              "        text-align: right;\n",
              "    }\n",
              "</style>\n",
              "<table border=\"1\" class=\"dataframe\">\n",
              "  <thead>\n",
              "    <tr style=\"text-align: right;\">\n",
              "      <th></th>\n",
              "      <th>ts</th>\n",
              "      <th>uid</th>\n",
              "      <th>idorighost</th>\n",
              "      <th>idorigport</th>\n",
              "      <th>idresphost</th>\n",
              "      <th>idrespport</th>\n",
              "      <th>proto</th>\n",
              "      <th>service</th>\n",
              "      <th>duration</th>\n",
              "      <th>origbytes</th>\n",
              "      <th>respbytes</th>\n",
              "      <th>connstate</th>\n",
              "      <th>localorig</th>\n",
              "      <th>localresp</th>\n",
              "      <th>missedbytes</th>\n",
              "      <th>history</th>\n",
              "      <th>origpkts</th>\n",
              "      <th>origipbytes</th>\n",
              "      <th>resppkts</th>\n",
              "      <th>respipbytes</th>\n",
              "      <th>Label</th>\n",
              "    </tr>\n",
              "  </thead>\n",
              "  <tbody>\n",
              "    <tr>\n",
              "      <th>0</th>\n",
              "      <td>1551394679</td>\n",
              "      <td>CbTtiaSZOONZ0heB</td>\n",
              "      <td>192.168.1.193</td>\n",
              "      <td>51390</td>\n",
              "      <td>134.209.72.171</td>\n",
              "      <td>4554</td>\n",
              "      <td>tcp</td>\n",
              "      <td>-</td>\n",
              "      <td>0.226369</td>\n",
              "      <td>11.0</td>\n",
              "      <td>11.0</td>\n",
              "      <td>SF</td>\n",
              "      <td>-</td>\n",
              "      <td>-</td>\n",
              "      <td>0</td>\n",
              "      <td>ShADdfrFr</td>\n",
              "      <td>10</td>\n",
              "      <td>558</td>\n",
              "      <td>10</td>\n",
              "      <td>510</td>\n",
              "      <td>2</td>\n",
              "    </tr>\n",
              "    <tr>\n",
              "      <th>1</th>\n",
              "      <td>1551377745</td>\n",
              "      <td>CGSBMd4KoxEIXeZsF1</td>\n",
              "      <td>192.168.1.200</td>\n",
              "      <td>54194</td>\n",
              "      <td>167.99.182.238</td>\n",
              "      <td>80</td>\n",
              "      <td>tcp</td>\n",
              "      <td>http</td>\n",
              "      <td>1.069631</td>\n",
              "      <td>149.0</td>\n",
              "      <td>88857.0</td>\n",
              "      <td>SF</td>\n",
              "      <td>-</td>\n",
              "      <td>-</td>\n",
              "      <td>0</td>\n",
              "      <td>ShADadttfF</td>\n",
              "      <td>130</td>\n",
              "      <td>7242</td>\n",
              "      <td>129</td>\n",
              "      <td>184438</td>\n",
              "      <td>12</td>\n",
              "    </tr>\n",
              "    <tr>\n",
              "      <th>2</th>\n",
              "      <td>1547144649</td>\n",
              "      <td>CTFA642dkB7jUtRFo3</td>\n",
              "      <td>192.168.1.198</td>\n",
              "      <td>36942</td>\n",
              "      <td>142.11.219.83</td>\n",
              "      <td>80</td>\n",
              "      <td>tcp</td>\n",
              "      <td>http</td>\n",
              "      <td>2.976298</td>\n",
              "      <td>158.0</td>\n",
              "      <td>80326.0</td>\n",
              "      <td>SF</td>\n",
              "      <td>-</td>\n",
              "      <td>-</td>\n",
              "      <td>0</td>\n",
              "      <td>ShADadttfF</td>\n",
              "      <td>60</td>\n",
              "      <td>3658</td>\n",
              "      <td>58</td>\n",
              "      <td>83350</td>\n",
              "      <td>1</td>\n",
              "    </tr>\n",
              "    <tr>\n",
              "      <th>3</th>\n",
              "      <td>1547147324</td>\n",
              "      <td>CBovrE3TwBG3940rlb</td>\n",
              "      <td>192.168.1.198</td>\n",
              "      <td>50980</td>\n",
              "      <td>142.11.219.83</td>\n",
              "      <td>45</td>\n",
              "      <td>tcp</td>\n",
              "      <td>-</td>\n",
              "      <td>NaN</td>\n",
              "      <td>NaN</td>\n",
              "      <td>NaN</td>\n",
              "      <td>S0</td>\n",
              "      <td>-</td>\n",
              "      <td>-</td>\n",
              "      <td>0</td>\n",
              "      <td>S</td>\n",
              "      <td>1</td>\n",
              "      <td>60</td>\n",
              "      <td>0</td>\n",
              "      <td>0</td>\n",
              "      <td>2</td>\n",
              "    </tr>\n",
              "    <tr>\n",
              "      <th>4</th>\n",
              "      <td>1551407734</td>\n",
              "      <td>CLGWVE1m6Z8WpGzzQ7</td>\n",
              "      <td>192.168.1.200</td>\n",
              "      <td>55272</td>\n",
              "      <td>167.99.182.238</td>\n",
              "      <td>23</td>\n",
              "      <td>tcp</td>\n",
              "      <td>-</td>\n",
              "      <td>3.122481</td>\n",
              "      <td>0.0</td>\n",
              "      <td>0.0</td>\n",
              "      <td>S0</td>\n",
              "      <td>-</td>\n",
              "      <td>-</td>\n",
              "      <td>0</td>\n",
              "      <td>S</td>\n",
              "      <td>6</td>\n",
              "      <td>360</td>\n",
              "      <td>0</td>\n",
              "      <td>0</td>\n",
              "      <td>11</td>\n",
              "    </tr>\n",
              "  </tbody>\n",
              "</table>\n",
              "</div>"
            ],
            "text/plain": [
              "           ts                 uid     idorighost  ...  resppkts respipbytes  Label\n",
              "0  1551394679    CbTtiaSZOONZ0heB  192.168.1.193  ...        10         510      2\n",
              "1  1551377745  CGSBMd4KoxEIXeZsF1  192.168.1.200  ...       129      184438     12\n",
              "2  1547144649  CTFA642dkB7jUtRFo3  192.168.1.198  ...        58       83350      1\n",
              "3  1547147324  CBovrE3TwBG3940rlb  192.168.1.198  ...         0           0      2\n",
              "4  1551407734  CLGWVE1m6Z8WpGzzQ7  192.168.1.200  ...         0           0     11\n",
              "\n",
              "[5 rows x 21 columns]"
            ]
          },
          "metadata": {
            "tags": []
          },
          "execution_count": 9
        }
      ]
    },
    {
      "cell_type": "code",
      "metadata": {
        "id": "h1HByfi82tDm"
      },
      "source": [
        "#data3.to_csv('data3')"
      ],
      "execution_count": null,
      "outputs": []
    },
    {
      "cell_type": "code",
      "metadata": {
        "id": "hyUttq--A8bJ"
      },
      "source": [
        "#data3=pd.read_csv('sample.csv', sep='\\t')\r\n",
        "#names=[\"ts\",\t\"uid\",\t\"id.orig_h\",\t\"id.orig_p\",\t\"id.resp_h\",\t\"id.resp_p\",\t\"proto\",\t\t\"service\", \t\"duration\",\t\"orig_bytes\",\t\"resp_bytes\",\t\"conn_state\",\t\"local_orig\",\t\"local_resp\",\t\"missed_bytes\",\t\"history\", \"orig_pkts\",\t\"orig_ip_bytes\",\t\"resp_pkts\",\t\"resp_ip_bytes\", \"label\",\"detailed-label\"])\r\n"
      ],
      "execution_count": null,
      "outputs": []
    },
    {
      "cell_type": "code",
      "metadata": {
        "colab": {
          "base_uri": "https://localhost:8080/"
        },
        "id": "lVox5s7ncB3A",
        "outputId": "eebf4316-ab09-47f5-f650-3e461b131d54"
      },
      "source": [
        "data3.dtypes"
      ],
      "execution_count": null,
      "outputs": [
        {
          "output_type": "execute_result",
          "data": {
            "text/plain": [
              "ts               int64\n",
              "uid             object\n",
              "idorighost      object\n",
              "idorigport       int64\n",
              "idresphost      object\n",
              "idrespport       int64\n",
              "proto           object\n",
              "service         object\n",
              "duration       float64\n",
              "origbytes      float64\n",
              "respbytes      float64\n",
              "connstate       object\n",
              "localorig       object\n",
              "localresp       object\n",
              "missedbytes      int64\n",
              "history         object\n",
              "origpkts         int64\n",
              "origipbytes      int64\n",
              "resppkts         int64\n",
              "respipbytes      int64\n",
              "Label            int64\n",
              "dtype: object"
            ]
          },
          "metadata": {
            "tags": []
          },
          "execution_count": 8
        }
      ]
    },
    {
      "cell_type": "code",
      "metadata": {
        "id": "tiRVoPjzsETC"
      },
      "source": [
        "data3=data3.drop(['localorig','localresp','uid'], axis=1)"
      ],
      "execution_count": null,
      "outputs": []
    },
    {
      "cell_type": "code",
      "metadata": {
        "colab": {
          "base_uri": "https://localhost:8080/",
          "height": 667
        },
        "id": "np8CNgEg3rW7",
        "outputId": "2083df66-094d-4b0d-9503-375456eb90d5"
      },
      "source": [
        "data3.head(20)"
      ],
      "execution_count": null,
      "outputs": [
        {
          "output_type": "execute_result",
          "data": {
            "text/html": [
              "<div>\n",
              "<style scoped>\n",
              "    .dataframe tbody tr th:only-of-type {\n",
              "        vertical-align: middle;\n",
              "    }\n",
              "\n",
              "    .dataframe tbody tr th {\n",
              "        vertical-align: top;\n",
              "    }\n",
              "\n",
              "    .dataframe thead th {\n",
              "        text-align: right;\n",
              "    }\n",
              "</style>\n",
              "<table border=\"1\" class=\"dataframe\">\n",
              "  <thead>\n",
              "    <tr style=\"text-align: right;\">\n",
              "      <th></th>\n",
              "      <th>ts</th>\n",
              "      <th>idorighost</th>\n",
              "      <th>idorigport</th>\n",
              "      <th>idresphost</th>\n",
              "      <th>idrespport</th>\n",
              "      <th>proto</th>\n",
              "      <th>service</th>\n",
              "      <th>duration</th>\n",
              "      <th>origbytes</th>\n",
              "      <th>respbytes</th>\n",
              "      <th>connstate</th>\n",
              "      <th>missedbytes</th>\n",
              "      <th>history</th>\n",
              "      <th>origpkts</th>\n",
              "      <th>origipbytes</th>\n",
              "      <th>resppkts</th>\n",
              "      <th>respipbytes</th>\n",
              "      <th>Label</th>\n",
              "    </tr>\n",
              "  </thead>\n",
              "  <tbody>\n",
              "    <tr>\n",
              "      <th>0</th>\n",
              "      <td>1551394679</td>\n",
              "      <td>192.168.1.193</td>\n",
              "      <td>51390</td>\n",
              "      <td>134.209.72.171</td>\n",
              "      <td>4554</td>\n",
              "      <td>tcp</td>\n",
              "      <td>-</td>\n",
              "      <td>0.226369</td>\n",
              "      <td>11.0</td>\n",
              "      <td>11.0</td>\n",
              "      <td>SF</td>\n",
              "      <td>0</td>\n",
              "      <td>ShADdfrFr</td>\n",
              "      <td>10</td>\n",
              "      <td>558</td>\n",
              "      <td>10</td>\n",
              "      <td>510</td>\n",
              "      <td>2</td>\n",
              "    </tr>\n",
              "    <tr>\n",
              "      <th>1</th>\n",
              "      <td>1551377745</td>\n",
              "      <td>192.168.1.200</td>\n",
              "      <td>54194</td>\n",
              "      <td>167.99.182.238</td>\n",
              "      <td>80</td>\n",
              "      <td>tcp</td>\n",
              "      <td>http</td>\n",
              "      <td>1.069631</td>\n",
              "      <td>149.0</td>\n",
              "      <td>88857.0</td>\n",
              "      <td>SF</td>\n",
              "      <td>0</td>\n",
              "      <td>ShADadttfF</td>\n",
              "      <td>130</td>\n",
              "      <td>7242</td>\n",
              "      <td>129</td>\n",
              "      <td>184438</td>\n",
              "      <td>12</td>\n",
              "    </tr>\n",
              "    <tr>\n",
              "      <th>2</th>\n",
              "      <td>1547144649</td>\n",
              "      <td>192.168.1.198</td>\n",
              "      <td>36942</td>\n",
              "      <td>142.11.219.83</td>\n",
              "      <td>80</td>\n",
              "      <td>tcp</td>\n",
              "      <td>http</td>\n",
              "      <td>2.976298</td>\n",
              "      <td>158.0</td>\n",
              "      <td>80326.0</td>\n",
              "      <td>SF</td>\n",
              "      <td>0</td>\n",
              "      <td>ShADadttfF</td>\n",
              "      <td>60</td>\n",
              "      <td>3658</td>\n",
              "      <td>58</td>\n",
              "      <td>83350</td>\n",
              "      <td>1</td>\n",
              "    </tr>\n",
              "    <tr>\n",
              "      <th>3</th>\n",
              "      <td>1547147324</td>\n",
              "      <td>192.168.1.198</td>\n",
              "      <td>50980</td>\n",
              "      <td>142.11.219.83</td>\n",
              "      <td>45</td>\n",
              "      <td>tcp</td>\n",
              "      <td>-</td>\n",
              "      <td>NaN</td>\n",
              "      <td>NaN</td>\n",
              "      <td>NaN</td>\n",
              "      <td>S0</td>\n",
              "      <td>0</td>\n",
              "      <td>S</td>\n",
              "      <td>1</td>\n",
              "      <td>60</td>\n",
              "      <td>0</td>\n",
              "      <td>0</td>\n",
              "      <td>2</td>\n",
              "    </tr>\n",
              "    <tr>\n",
              "      <th>4</th>\n",
              "      <td>1551407734</td>\n",
              "      <td>192.168.1.200</td>\n",
              "      <td>55272</td>\n",
              "      <td>167.99.182.238</td>\n",
              "      <td>23</td>\n",
              "      <td>tcp</td>\n",
              "      <td>-</td>\n",
              "      <td>3.122481</td>\n",
              "      <td>0.0</td>\n",
              "      <td>0.0</td>\n",
              "      <td>S0</td>\n",
              "      <td>0</td>\n",
              "      <td>S</td>\n",
              "      <td>6</td>\n",
              "      <td>360</td>\n",
              "      <td>0</td>\n",
              "      <td>0</td>\n",
              "      <td>11</td>\n",
              "    </tr>\n",
              "    <tr>\n",
              "      <th>5</th>\n",
              "      <td>1538520772</td>\n",
              "      <td>192.168.100.103</td>\n",
              "      <td>38096</td>\n",
              "      <td>66.85.157.90</td>\n",
              "      <td>443</td>\n",
              "      <td>tcp</td>\n",
              "      <td>-</td>\n",
              "      <td>3.145482</td>\n",
              "      <td>0.0</td>\n",
              "      <td>0.0</td>\n",
              "      <td>S0</td>\n",
              "      <td>0</td>\n",
              "      <td>S</td>\n",
              "      <td>3</td>\n",
              "      <td>180</td>\n",
              "      <td>0</td>\n",
              "      <td>0</td>\n",
              "      <td>10</td>\n",
              "    </tr>\n",
              "    <tr>\n",
              "      <th>6</th>\n",
              "      <td>1551377742</td>\n",
              "      <td>192.168.1.200</td>\n",
              "      <td>52732</td>\n",
              "      <td>167.99.182.238</td>\n",
              "      <td>80</td>\n",
              "      <td>tcp</td>\n",
              "      <td>http</td>\n",
              "      <td>1.938142</td>\n",
              "      <td>149.0</td>\n",
              "      <td>117700.0</td>\n",
              "      <td>SF</td>\n",
              "      <td>0</td>\n",
              "      <td>ShADadttfF</td>\n",
              "      <td>170</td>\n",
              "      <td>11602</td>\n",
              "      <td>170</td>\n",
              "      <td>244256</td>\n",
              "      <td>12</td>\n",
              "    </tr>\n",
              "    <tr>\n",
              "      <th>7</th>\n",
              "      <td>1551387866</td>\n",
              "      <td>192.168.1.193</td>\n",
              "      <td>50650</td>\n",
              "      <td>134.209.72.171</td>\n",
              "      <td>4554</td>\n",
              "      <td>tcp</td>\n",
              "      <td>-</td>\n",
              "      <td>0.000005</td>\n",
              "      <td>0.0</td>\n",
              "      <td>0.0</td>\n",
              "      <td>S0</td>\n",
              "      <td>0</td>\n",
              "      <td>S</td>\n",
              "      <td>2</td>\n",
              "      <td>120</td>\n",
              "      <td>0</td>\n",
              "      <td>0</td>\n",
              "      <td>2</td>\n",
              "    </tr>\n",
              "    <tr>\n",
              "      <th>8</th>\n",
              "      <td>1552099002</td>\n",
              "      <td>192.168.1.197</td>\n",
              "      <td>123</td>\n",
              "      <td>46.28.109.26</td>\n",
              "      <td>123</td>\n",
              "      <td>udp</td>\n",
              "      <td>-</td>\n",
              "      <td>0.000006</td>\n",
              "      <td>96.0</td>\n",
              "      <td>0.0</td>\n",
              "      <td>S0</td>\n",
              "      <td>0</td>\n",
              "      <td>D</td>\n",
              "      <td>2</td>\n",
              "      <td>152</td>\n",
              "      <td>0</td>\n",
              "      <td>0</td>\n",
              "      <td>0</td>\n",
              "    </tr>\n",
              "    <tr>\n",
              "      <th>9</th>\n",
              "      <td>1547148188</td>\n",
              "      <td>192.168.1.198</td>\n",
              "      <td>52044</td>\n",
              "      <td>142.11.219.83</td>\n",
              "      <td>45</td>\n",
              "      <td>tcp</td>\n",
              "      <td>-</td>\n",
              "      <td>3.109232</td>\n",
              "      <td>0.0</td>\n",
              "      <td>0.0</td>\n",
              "      <td>S0</td>\n",
              "      <td>0</td>\n",
              "      <td>S</td>\n",
              "      <td>3</td>\n",
              "      <td>180</td>\n",
              "      <td>0</td>\n",
              "      <td>0</td>\n",
              "      <td>2</td>\n",
              "    </tr>\n",
              "    <tr>\n",
              "      <th>10</th>\n",
              "      <td>1526802380</td>\n",
              "      <td>192.168.2.5</td>\n",
              "      <td>51055</td>\n",
              "      <td>144.217.110.36</td>\n",
              "      <td>22</td>\n",
              "      <td>tcp</td>\n",
              "      <td>ssh</td>\n",
              "      <td>3.768560</td>\n",
              "      <td>589.0</td>\n",
              "      <td>2241.0</td>\n",
              "      <td>SF</td>\n",
              "      <td>0</td>\n",
              "      <td>ShAdDaFf</td>\n",
              "      <td>13</td>\n",
              "      <td>1273</td>\n",
              "      <td>15</td>\n",
              "      <td>3029</td>\n",
              "      <td>7</td>\n",
              "    </tr>\n",
              "    <tr>\n",
              "      <th>11</th>\n",
              "      <td>1552047924</td>\n",
              "      <td>192.168.1.197</td>\n",
              "      <td>38028</td>\n",
              "      <td>185.244.25.108</td>\n",
              "      <td>4441</td>\n",
              "      <td>tcp</td>\n",
              "      <td>-</td>\n",
              "      <td>0.329079</td>\n",
              "      <td>11.0</td>\n",
              "      <td>61.0</td>\n",
              "      <td>RSTO</td>\n",
              "      <td>0</td>\n",
              "      <td>ShADaTdtR</td>\n",
              "      <td>18</td>\n",
              "      <td>1006</td>\n",
              "      <td>12</td>\n",
              "      <td>786</td>\n",
              "      <td>4</td>\n",
              "    </tr>\n",
              "    <tr>\n",
              "      <th>12</th>\n",
              "      <td>1552047924</td>\n",
              "      <td>192.168.1.197</td>\n",
              "      <td>38030</td>\n",
              "      <td>185.244.25.108</td>\n",
              "      <td>4441</td>\n",
              "      <td>tcp</td>\n",
              "      <td>-</td>\n",
              "      <td>52953.245430</td>\n",
              "      <td>1775.0</td>\n",
              "      <td>1836.0</td>\n",
              "      <td>S1</td>\n",
              "      <td>0</td>\n",
              "      <td>ShADad</td>\n",
              "      <td>3622</td>\n",
              "      <td>192350</td>\n",
              "      <td>1806</td>\n",
              "      <td>97656</td>\n",
              "      <td>4</td>\n",
              "    </tr>\n",
              "    <tr>\n",
              "      <th>13</th>\n",
              "      <td>1545481106</td>\n",
              "      <td>192.168.1.198</td>\n",
              "      <td>41448</td>\n",
              "      <td>185.130.215.13</td>\n",
              "      <td>57722</td>\n",
              "      <td>tcp</td>\n",
              "      <td>-</td>\n",
              "      <td>3.119455</td>\n",
              "      <td>0.0</td>\n",
              "      <td>0.0</td>\n",
              "      <td>S0</td>\n",
              "      <td>0</td>\n",
              "      <td>S</td>\n",
              "      <td>3</td>\n",
              "      <td>180</td>\n",
              "      <td>0</td>\n",
              "      <td>0</td>\n",
              "      <td>8</td>\n",
              "    </tr>\n",
              "    <tr>\n",
              "      <th>14</th>\n",
              "      <td>1545468345</td>\n",
              "      <td>192.168.1.198</td>\n",
              "      <td>39122</td>\n",
              "      <td>185.130.215.13</td>\n",
              "      <td>57722</td>\n",
              "      <td>tcp</td>\n",
              "      <td>-</td>\n",
              "      <td>3.113481</td>\n",
              "      <td>0.0</td>\n",
              "      <td>0.0</td>\n",
              "      <td>S0</td>\n",
              "      <td>0</td>\n",
              "      <td>S</td>\n",
              "      <td>3</td>\n",
              "      <td>180</td>\n",
              "      <td>0</td>\n",
              "      <td>0</td>\n",
              "      <td>8</td>\n",
              "    </tr>\n",
              "    <tr>\n",
              "      <th>15</th>\n",
              "      <td>1551377742</td>\n",
              "      <td>192.168.1.200</td>\n",
              "      <td>52732</td>\n",
              "      <td>167.99.182.238</td>\n",
              "      <td>80</td>\n",
              "      <td>tcp</td>\n",
              "      <td>http</td>\n",
              "      <td>1.938142</td>\n",
              "      <td>149.0</td>\n",
              "      <td>117700.0</td>\n",
              "      <td>SF</td>\n",
              "      <td>0</td>\n",
              "      <td>ShADadttfF</td>\n",
              "      <td>170</td>\n",
              "      <td>11602</td>\n",
              "      <td>170</td>\n",
              "      <td>244256</td>\n",
              "      <td>12</td>\n",
              "    </tr>\n",
              "    <tr>\n",
              "      <th>16</th>\n",
              "      <td>1569018382</td>\n",
              "      <td>162.248.88.215</td>\n",
              "      <td>62336</td>\n",
              "      <td>192.168.1.195</td>\n",
              "      <td>992</td>\n",
              "      <td>tcp</td>\n",
              "      <td>-</td>\n",
              "      <td>NaN</td>\n",
              "      <td>NaN</td>\n",
              "      <td>NaN</td>\n",
              "      <td>OTH</td>\n",
              "      <td>0</td>\n",
              "      <td>^c</td>\n",
              "      <td>0</td>\n",
              "      <td>0</td>\n",
              "      <td>0</td>\n",
              "      <td>0</td>\n",
              "      <td>0</td>\n",
              "    </tr>\n",
              "    <tr>\n",
              "      <th>17</th>\n",
              "      <td>1547148264</td>\n",
              "      <td>192.168.1.198</td>\n",
              "      <td>52190</td>\n",
              "      <td>142.11.219.83</td>\n",
              "      <td>45</td>\n",
              "      <td>tcp</td>\n",
              "      <td>-</td>\n",
              "      <td>3.099743</td>\n",
              "      <td>0.0</td>\n",
              "      <td>0.0</td>\n",
              "      <td>S0</td>\n",
              "      <td>0</td>\n",
              "      <td>S</td>\n",
              "      <td>3</td>\n",
              "      <td>180</td>\n",
              "      <td>0</td>\n",
              "      <td>0</td>\n",
              "      <td>2</td>\n",
              "    </tr>\n",
              "    <tr>\n",
              "      <th>18</th>\n",
              "      <td>1551407741</td>\n",
              "      <td>192.168.1.200</td>\n",
              "      <td>55272</td>\n",
              "      <td>167.99.182.238</td>\n",
              "      <td>23</td>\n",
              "      <td>tcp</td>\n",
              "      <td>-</td>\n",
              "      <td>0.000002</td>\n",
              "      <td>0.0</td>\n",
              "      <td>0.0</td>\n",
              "      <td>S0</td>\n",
              "      <td>0</td>\n",
              "      <td>S</td>\n",
              "      <td>2</td>\n",
              "      <td>120</td>\n",
              "      <td>0</td>\n",
              "      <td>0</td>\n",
              "      <td>11</td>\n",
              "    </tr>\n",
              "    <tr>\n",
              "      <th>19</th>\n",
              "      <td>1551383477</td>\n",
              "      <td>192.168.1.193</td>\n",
              "      <td>51382</td>\n",
              "      <td>134.209.72.171</td>\n",
              "      <td>80</td>\n",
              "      <td>tcp</td>\n",
              "      <td>http</td>\n",
              "      <td>4.675323</td>\n",
              "      <td>150.0</td>\n",
              "      <td>165036.0</td>\n",
              "      <td>SF</td>\n",
              "      <td>0</td>\n",
              "      <td>ShADadttfF</td>\n",
              "      <td>192</td>\n",
              "      <td>10476</td>\n",
              "      <td>234</td>\n",
              "      <td>342256</td>\n",
              "      <td>5</td>\n",
              "    </tr>\n",
              "  </tbody>\n",
              "</table>\n",
              "</div>"
            ],
            "text/plain": [
              "            ts       idorighost  idorigport  ... resppkts  respipbytes Label\n",
              "0   1551394679    192.168.1.193       51390  ...       10          510     2\n",
              "1   1551377745    192.168.1.200       54194  ...      129       184438    12\n",
              "2   1547144649    192.168.1.198       36942  ...       58        83350     1\n",
              "3   1547147324    192.168.1.198       50980  ...        0            0     2\n",
              "4   1551407734    192.168.1.200       55272  ...        0            0    11\n",
              "5   1538520772  192.168.100.103       38096  ...        0            0    10\n",
              "6   1551377742    192.168.1.200       52732  ...      170       244256    12\n",
              "7   1551387866    192.168.1.193       50650  ...        0            0     2\n",
              "8   1552099002    192.168.1.197         123  ...        0            0     0\n",
              "9   1547148188    192.168.1.198       52044  ...        0            0     2\n",
              "10  1526802380      192.168.2.5       51055  ...       15         3029     7\n",
              "11  1552047924    192.168.1.197       38028  ...       12          786     4\n",
              "12  1552047924    192.168.1.197       38030  ...     1806        97656     4\n",
              "13  1545481106    192.168.1.198       41448  ...        0            0     8\n",
              "14  1545468345    192.168.1.198       39122  ...        0            0     8\n",
              "15  1551377742    192.168.1.200       52732  ...      170       244256    12\n",
              "16  1569018382   162.248.88.215       62336  ...        0            0     0\n",
              "17  1547148264    192.168.1.198       52190  ...        0            0     2\n",
              "18  1551407741    192.168.1.200       55272  ...        0            0    11\n",
              "19  1551383477    192.168.1.193       51382  ...      234       342256     5\n",
              "\n",
              "[20 rows x 18 columns]"
            ]
          },
          "metadata": {
            "tags": []
          },
          "execution_count": 12
        }
      ]
    },
    {
      "cell_type": "code",
      "metadata": {
        "colab": {
          "base_uri": "https://localhost:8080/"
        },
        "id": "CcmpH_0uhZU0",
        "outputId": "d92c1491-85a7-4496-8a90-7c1d693f2198"
      },
      "source": [
        "data3.dtypes"
      ],
      "execution_count": null,
      "outputs": [
        {
          "output_type": "execute_result",
          "data": {
            "text/plain": [
              "ts               int64\n",
              "idorighost      object\n",
              "idorigport       int64\n",
              "idresphost      object\n",
              "idrespport       int64\n",
              "proto           object\n",
              "service         object\n",
              "duration       float64\n",
              "origbytes      float64\n",
              "respbytes      float64\n",
              "connstate       object\n",
              "missedbytes      int64\n",
              "history         object\n",
              "origpkts         int64\n",
              "origipbytes      int64\n",
              "resppkts         int64\n",
              "respipbytes      int64\n",
              "Label            int64\n",
              "dtype: object"
            ]
          },
          "metadata": {
            "tags": []
          },
          "execution_count": 13
        }
      ]
    },
    {
      "cell_type": "code",
      "metadata": {
        "id": "abnpBj3PNavF"
      },
      "source": [
        "from sklearn.preprocessing import LabelEncoder"
      ],
      "execution_count": null,
      "outputs": []
    },
    {
      "cell_type": "code",
      "metadata": {
        "id": "KfcDErzsdr2p"
      },
      "source": [
        "from sklearn.preprocessing import OneHotEncoder"
      ],
      "execution_count": null,
      "outputs": []
    },
    {
      "cell_type": "code",
      "metadata": {
        "id": "Ol7O_lMMdx3A"
      },
      "source": [
        "#encoder=OneHotEncoder()"
      ],
      "execution_count": null,
      "outputs": []
    },
    {
      "cell_type": "code",
      "metadata": {
        "id": "712BbQ4MhpLx"
      },
      "source": [
        "data3['service'] = data3['service'].str.replace('-', ' ')"
      ],
      "execution_count": null,
      "outputs": []
    },
    {
      "cell_type": "code",
      "metadata": {
        "id": "V2QZySVhhxEz"
      },
      "source": [
        "data3['proto'] = data3['proto'].str.replace('-', ' ')"
      ],
      "execution_count": null,
      "outputs": []
    },
    {
      "cell_type": "code",
      "metadata": {
        "id": "9nteSTRfg2fp"
      },
      "source": [
        "encoder = LabelEncoder()\r\n",
        "data3['proto'] = data3['proto'].str.replace('-', ' ')\r\n",
        "data3['proto'] = data3['proto'].astype(str)\r\n",
        "data3['proto'] = encoder.fit_transform(data3['proto'])\r\n",
        "data3['service'] = data3['service'].str.replace('-', ' ')\r\n",
        "data3['service'] = data3['service'].astype(str)\r\n",
        "data3['service'] = encoder.fit_transform(data3['service'])\r\n",
        "data3['uid'] = data3['uid'].astype(str)\r\n",
        "data3['uid'] = encoder.fit_transform(data3['uid'])\r\n",
        "data3['localorig'] = data3['localorig'].astype(str)\r\n",
        "data3['localorig'] = encoder.fit_transform(data3['localorig'])\r\n",
        "data3['localresp'] = data3['localresp'].astype(str)\r\n",
        "data3['localresp'] = encoder.fit_transform(data3['localresp'])"
      ],
      "execution_count": null,
      "outputs": []
    },
    {
      "cell_type": "code",
      "metadata": {
        "id": "QmME1q0wg61C"
      },
      "source": [
        "encoder = LabelEncoder()\r\n",
        "data3['connstate'] = data3['connstate'].str.replace('-', ' ')\r\n",
        "data3['connstate'] = data3['connstate'].astype(str)\r\n",
        "data3['connstate'] = encoder.fit_transform(data3['connstate'])"
      ],
      "execution_count": null,
      "outputs": []
    },
    {
      "cell_type": "code",
      "metadata": {
        "id": "BjCpLUwtg-r0"
      },
      "source": [
        "encoder = LabelEncoder()\r\n",
        "data3['history'] = data3['history'].str.replace('-', ' ')\r\n",
        "data3['history'] = data3['history'].astype(str)\r\n",
        "data3['history'] = encoder.fit_transform(data3['history'])"
      ],
      "execution_count": null,
      "outputs": []
    },
    {
      "cell_type": "code",
      "metadata": {
        "id": "EZbex0-EhCwR"
      },
      "source": [
        "encoder = LabelEncoder()\r\n",
        "data3['idorighost'] = data3['idorighost'].astype(str)\r\n",
        "data3['idorighost'] = encoder.fit_transform(data3['idorighost'])"
      ],
      "execution_count": null,
      "outputs": []
    },
    {
      "cell_type": "code",
      "metadata": {
        "id": "B_67ov1YhHg2"
      },
      "source": [
        "encoder = LabelEncoder()\r\n",
        "data3['idresphost'] = data3['idresphost'].astype(str)\r\n",
        "data3['idresphost'] = encoder.fit_transform(data3['idresphost'])"
      ],
      "execution_count": null,
      "outputs": []
    },
    {
      "cell_type": "code",
      "metadata": {
        "colab": {
          "base_uri": "https://localhost:8080/"
        },
        "id": "2TeO2Z_Eh12_",
        "outputId": "6a33da67-4e41-4ca2-8ceb-d3c74a8e9070"
      },
      "source": [
        "data3.dtypes"
      ],
      "execution_count": null,
      "outputs": [
        {
          "output_type": "execute_result",
          "data": {
            "text/plain": [
              "ts               int64\n",
              "uid              int64\n",
              "idorighost       int64\n",
              "idorigport       int64\n",
              "idresphost       int64\n",
              "idrespport       int64\n",
              "proto            int64\n",
              "service          int64\n",
              "duration       float64\n",
              "origbytes      float64\n",
              "respbytes      float64\n",
              "connstate        int64\n",
              "localorig        int64\n",
              "localresp        int64\n",
              "missedbytes      int64\n",
              "history          int64\n",
              "origpkts         int64\n",
              "origipbytes      int64\n",
              "resppkts         int64\n",
              "respipbytes      int64\n",
              "Label            int64\n",
              "dtype: object"
            ]
          },
          "metadata": {
            "tags": []
          },
          "execution_count": 19
        }
      ]
    },
    {
      "cell_type": "code",
      "metadata": {
        "colab": {
          "base_uri": "https://localhost:8080/",
          "height": 667
        },
        "id": "30czMF-KVgqO",
        "outputId": "474b16e2-8fa3-4313-ccc6-9eca24c69b6b"
      },
      "source": [
        "data3.head(20)"
      ],
      "execution_count": null,
      "outputs": [
        {
          "output_type": "execute_result",
          "data": {
            "text/html": [
              "<div>\n",
              "<style scoped>\n",
              "    .dataframe tbody tr th:only-of-type {\n",
              "        vertical-align: middle;\n",
              "    }\n",
              "\n",
              "    .dataframe tbody tr th {\n",
              "        vertical-align: top;\n",
              "    }\n",
              "\n",
              "    .dataframe thead th {\n",
              "        text-align: right;\n",
              "    }\n",
              "</style>\n",
              "<table border=\"1\" class=\"dataframe\">\n",
              "  <thead>\n",
              "    <tr style=\"text-align: right;\">\n",
              "      <th></th>\n",
              "      <th>ts</th>\n",
              "      <th>idorighost</th>\n",
              "      <th>idorigport</th>\n",
              "      <th>idresphost</th>\n",
              "      <th>idrespport</th>\n",
              "      <th>proto</th>\n",
              "      <th>service</th>\n",
              "      <th>duration</th>\n",
              "      <th>origbytes</th>\n",
              "      <th>respbytes</th>\n",
              "      <th>connstate</th>\n",
              "      <th>missedbytes</th>\n",
              "      <th>history</th>\n",
              "      <th>origpkts</th>\n",
              "      <th>origipbytes</th>\n",
              "      <th>resppkts</th>\n",
              "      <th>respipbytes</th>\n",
              "      <th>Label</th>\n",
              "    </tr>\n",
              "  </thead>\n",
              "  <tbody>\n",
              "    <tr>\n",
              "      <th>0</th>\n",
              "      <td>1551394679</td>\n",
              "      <td>794</td>\n",
              "      <td>51390</td>\n",
              "      <td>771</td>\n",
              "      <td>4554</td>\n",
              "      <td>1</td>\n",
              "      <td>0</td>\n",
              "      <td>0.226369</td>\n",
              "      <td>11.0</td>\n",
              "      <td>11.0</td>\n",
              "      <td>8</td>\n",
              "      <td>0</td>\n",
              "      <td>88</td>\n",
              "      <td>10</td>\n",
              "      <td>558</td>\n",
              "      <td>10</td>\n",
              "      <td>510</td>\n",
              "      <td>2</td>\n",
              "    </tr>\n",
              "    <tr>\n",
              "      <th>1</th>\n",
              "      <td>1551377745</td>\n",
              "      <td>801</td>\n",
              "      <td>54194</td>\n",
              "      <td>1266</td>\n",
              "      <td>80</td>\n",
              "      <td>1</td>\n",
              "      <td>3</td>\n",
              "      <td>1.069631</td>\n",
              "      <td>149.0</td>\n",
              "      <td>88857.0</td>\n",
              "      <td>8</td>\n",
              "      <td>0</td>\n",
              "      <td>65</td>\n",
              "      <td>130</td>\n",
              "      <td>7242</td>\n",
              "      <td>129</td>\n",
              "      <td>184438</td>\n",
              "      <td>12</td>\n",
              "    </tr>\n",
              "    <tr>\n",
              "      <th>2</th>\n",
              "      <td>1547144649</td>\n",
              "      <td>799</td>\n",
              "      <td>36942</td>\n",
              "      <td>881</td>\n",
              "      <td>80</td>\n",
              "      <td>1</td>\n",
              "      <td>3</td>\n",
              "      <td>2.976298</td>\n",
              "      <td>158.0</td>\n",
              "      <td>80326.0</td>\n",
              "      <td>8</td>\n",
              "      <td>0</td>\n",
              "      <td>65</td>\n",
              "      <td>60</td>\n",
              "      <td>3658</td>\n",
              "      <td>58</td>\n",
              "      <td>83350</td>\n",
              "      <td>1</td>\n",
              "    </tr>\n",
              "    <tr>\n",
              "      <th>3</th>\n",
              "      <td>1547147324</td>\n",
              "      <td>799</td>\n",
              "      <td>50980</td>\n",
              "      <td>881</td>\n",
              "      <td>45</td>\n",
              "      <td>1</td>\n",
              "      <td>0</td>\n",
              "      <td>NaN</td>\n",
              "      <td>NaN</td>\n",
              "      <td>NaN</td>\n",
              "      <td>5</td>\n",
              "      <td>0</td>\n",
              "      <td>13</td>\n",
              "      <td>1</td>\n",
              "      <td>60</td>\n",
              "      <td>0</td>\n",
              "      <td>0</td>\n",
              "      <td>2</td>\n",
              "    </tr>\n",
              "    <tr>\n",
              "      <th>4</th>\n",
              "      <td>1551407734</td>\n",
              "      <td>801</td>\n",
              "      <td>55272</td>\n",
              "      <td>1266</td>\n",
              "      <td>23</td>\n",
              "      <td>1</td>\n",
              "      <td>0</td>\n",
              "      <td>3.122481</td>\n",
              "      <td>0.0</td>\n",
              "      <td>0.0</td>\n",
              "      <td>5</td>\n",
              "      <td>0</td>\n",
              "      <td>13</td>\n",
              "      <td>6</td>\n",
              "      <td>360</td>\n",
              "      <td>0</td>\n",
              "      <td>0</td>\n",
              "      <td>11</td>\n",
              "    </tr>\n",
              "    <tr>\n",
              "      <th>5</th>\n",
              "      <td>1538520772</td>\n",
              "      <td>802</td>\n",
              "      <td>38096</td>\n",
              "      <td>4807</td>\n",
              "      <td>443</td>\n",
              "      <td>1</td>\n",
              "      <td>0</td>\n",
              "      <td>3.145482</td>\n",
              "      <td>0.0</td>\n",
              "      <td>0.0</td>\n",
              "      <td>5</td>\n",
              "      <td>0</td>\n",
              "      <td>13</td>\n",
              "      <td>3</td>\n",
              "      <td>180</td>\n",
              "      <td>0</td>\n",
              "      <td>0</td>\n",
              "      <td>10</td>\n",
              "    </tr>\n",
              "    <tr>\n",
              "      <th>6</th>\n",
              "      <td>1551377742</td>\n",
              "      <td>801</td>\n",
              "      <td>52732</td>\n",
              "      <td>1266</td>\n",
              "      <td>80</td>\n",
              "      <td>1</td>\n",
              "      <td>3</td>\n",
              "      <td>1.938142</td>\n",
              "      <td>149.0</td>\n",
              "      <td>117700.0</td>\n",
              "      <td>8</td>\n",
              "      <td>0</td>\n",
              "      <td>65</td>\n",
              "      <td>170</td>\n",
              "      <td>11602</td>\n",
              "      <td>170</td>\n",
              "      <td>244256</td>\n",
              "      <td>12</td>\n",
              "    </tr>\n",
              "    <tr>\n",
              "      <th>7</th>\n",
              "      <td>1551387866</td>\n",
              "      <td>794</td>\n",
              "      <td>50650</td>\n",
              "      <td>771</td>\n",
              "      <td>4554</td>\n",
              "      <td>1</td>\n",
              "      <td>0</td>\n",
              "      <td>0.000005</td>\n",
              "      <td>0.0</td>\n",
              "      <td>0.0</td>\n",
              "      <td>5</td>\n",
              "      <td>0</td>\n",
              "      <td>13</td>\n",
              "      <td>2</td>\n",
              "      <td>120</td>\n",
              "      <td>0</td>\n",
              "      <td>0</td>\n",
              "      <td>2</td>\n",
              "    </tr>\n",
              "    <tr>\n",
              "      <th>8</th>\n",
              "      <td>1552099002</td>\n",
              "      <td>798</td>\n",
              "      <td>123</td>\n",
              "      <td>4506</td>\n",
              "      <td>123</td>\n",
              "      <td>2</td>\n",
              "      <td>0</td>\n",
              "      <td>0.000006</td>\n",
              "      <td>96.0</td>\n",
              "      <td>0.0</td>\n",
              "      <td>5</td>\n",
              "      <td>0</td>\n",
              "      <td>0</td>\n",
              "      <td>2</td>\n",
              "      <td>152</td>\n",
              "      <td>0</td>\n",
              "      <td>0</td>\n",
              "      <td>0</td>\n",
              "    </tr>\n",
              "    <tr>\n",
              "      <th>9</th>\n",
              "      <td>1547148188</td>\n",
              "      <td>799</td>\n",
              "      <td>52044</td>\n",
              "      <td>881</td>\n",
              "      <td>45</td>\n",
              "      <td>1</td>\n",
              "      <td>0</td>\n",
              "      <td>3.109232</td>\n",
              "      <td>0.0</td>\n",
              "      <td>0.0</td>\n",
              "      <td>5</td>\n",
              "      <td>0</td>\n",
              "      <td>13</td>\n",
              "      <td>3</td>\n",
              "      <td>180</td>\n",
              "      <td>0</td>\n",
              "      <td>0</td>\n",
              "      <td>2</td>\n",
              "    </tr>\n",
              "    <tr>\n",
              "      <th>10</th>\n",
              "      <td>1526802380</td>\n",
              "      <td>806</td>\n",
              "      <td>51055</td>\n",
              "      <td>910</td>\n",
              "      <td>22</td>\n",
              "      <td>1</td>\n",
              "      <td>5</td>\n",
              "      <td>3.768560</td>\n",
              "      <td>589.0</td>\n",
              "      <td>2241.0</td>\n",
              "      <td>8</td>\n",
              "      <td>0</td>\n",
              "      <td>117</td>\n",
              "      <td>13</td>\n",
              "      <td>1273</td>\n",
              "      <td>15</td>\n",
              "      <td>3029</td>\n",
              "      <td>7</td>\n",
              "    </tr>\n",
              "    <tr>\n",
              "      <th>11</th>\n",
              "      <td>1552047924</td>\n",
              "      <td>798</td>\n",
              "      <td>38028</td>\n",
              "      <td>1803</td>\n",
              "      <td>4441</td>\n",
              "      <td>1</td>\n",
              "      <td>0</td>\n",
              "      <td>0.329079</td>\n",
              "      <td>11.0</td>\n",
              "      <td>61.0</td>\n",
              "      <td>2</td>\n",
              "      <td>0</td>\n",
              "      <td>35</td>\n",
              "      <td>18</td>\n",
              "      <td>1006</td>\n",
              "      <td>12</td>\n",
              "      <td>786</td>\n",
              "      <td>4</td>\n",
              "    </tr>\n",
              "    <tr>\n",
              "      <th>12</th>\n",
              "      <td>1552047924</td>\n",
              "      <td>798</td>\n",
              "      <td>38030</td>\n",
              "      <td>1803</td>\n",
              "      <td>4441</td>\n",
              "      <td>1</td>\n",
              "      <td>0</td>\n",
              "      <td>52953.245430</td>\n",
              "      <td>1775.0</td>\n",
              "      <td>1836.0</td>\n",
              "      <td>6</td>\n",
              "      <td>0</td>\n",
              "      <td>37</td>\n",
              "      <td>3622</td>\n",
              "      <td>192350</td>\n",
              "      <td>1806</td>\n",
              "      <td>97656</td>\n",
              "      <td>4</td>\n",
              "    </tr>\n",
              "    <tr>\n",
              "      <th>13</th>\n",
              "      <td>1545481106</td>\n",
              "      <td>799</td>\n",
              "      <td>41448</td>\n",
              "      <td>1775</td>\n",
              "      <td>57722</td>\n",
              "      <td>1</td>\n",
              "      <td>0</td>\n",
              "      <td>3.119455</td>\n",
              "      <td>0.0</td>\n",
              "      <td>0.0</td>\n",
              "      <td>5</td>\n",
              "      <td>0</td>\n",
              "      <td>13</td>\n",
              "      <td>3</td>\n",
              "      <td>180</td>\n",
              "      <td>0</td>\n",
              "      <td>0</td>\n",
              "      <td>8</td>\n",
              "    </tr>\n",
              "    <tr>\n",
              "      <th>14</th>\n",
              "      <td>1545468345</td>\n",
              "      <td>799</td>\n",
              "      <td>39122</td>\n",
              "      <td>1775</td>\n",
              "      <td>57722</td>\n",
              "      <td>1</td>\n",
              "      <td>0</td>\n",
              "      <td>3.113481</td>\n",
              "      <td>0.0</td>\n",
              "      <td>0.0</td>\n",
              "      <td>5</td>\n",
              "      <td>0</td>\n",
              "      <td>13</td>\n",
              "      <td>3</td>\n",
              "      <td>180</td>\n",
              "      <td>0</td>\n",
              "      <td>0</td>\n",
              "      <td>8</td>\n",
              "    </tr>\n",
              "    <tr>\n",
              "      <th>15</th>\n",
              "      <td>1551377742</td>\n",
              "      <td>801</td>\n",
              "      <td>52732</td>\n",
              "      <td>1266</td>\n",
              "      <td>80</td>\n",
              "      <td>1</td>\n",
              "      <td>3</td>\n",
              "      <td>1.938142</td>\n",
              "      <td>149.0</td>\n",
              "      <td>117700.0</td>\n",
              "      <td>8</td>\n",
              "      <td>0</td>\n",
              "      <td>65</td>\n",
              "      <td>170</td>\n",
              "      <td>11602</td>\n",
              "      <td>170</td>\n",
              "      <td>244256</td>\n",
              "      <td>12</td>\n",
              "    </tr>\n",
              "    <tr>\n",
              "      <th>16</th>\n",
              "      <td>1569018382</td>\n",
              "      <td>489</td>\n",
              "      <td>62336</td>\n",
              "      <td>2037</td>\n",
              "      <td>992</td>\n",
              "      <td>1</td>\n",
              "      <td>0</td>\n",
              "      <td>NaN</td>\n",
              "      <td>NaN</td>\n",
              "      <td>NaN</td>\n",
              "      <td>0</td>\n",
              "      <td>0</td>\n",
              "      <td>165</td>\n",
              "      <td>0</td>\n",
              "      <td>0</td>\n",
              "      <td>0</td>\n",
              "      <td>0</td>\n",
              "      <td>0</td>\n",
              "    </tr>\n",
              "    <tr>\n",
              "      <th>17</th>\n",
              "      <td>1547148264</td>\n",
              "      <td>799</td>\n",
              "      <td>52190</td>\n",
              "      <td>881</td>\n",
              "      <td>45</td>\n",
              "      <td>1</td>\n",
              "      <td>0</td>\n",
              "      <td>3.099743</td>\n",
              "      <td>0.0</td>\n",
              "      <td>0.0</td>\n",
              "      <td>5</td>\n",
              "      <td>0</td>\n",
              "      <td>13</td>\n",
              "      <td>3</td>\n",
              "      <td>180</td>\n",
              "      <td>0</td>\n",
              "      <td>0</td>\n",
              "      <td>2</td>\n",
              "    </tr>\n",
              "    <tr>\n",
              "      <th>18</th>\n",
              "      <td>1551407741</td>\n",
              "      <td>801</td>\n",
              "      <td>55272</td>\n",
              "      <td>1266</td>\n",
              "      <td>23</td>\n",
              "      <td>1</td>\n",
              "      <td>0</td>\n",
              "      <td>0.000002</td>\n",
              "      <td>0.0</td>\n",
              "      <td>0.0</td>\n",
              "      <td>5</td>\n",
              "      <td>0</td>\n",
              "      <td>13</td>\n",
              "      <td>2</td>\n",
              "      <td>120</td>\n",
              "      <td>0</td>\n",
              "      <td>0</td>\n",
              "      <td>11</td>\n",
              "    </tr>\n",
              "    <tr>\n",
              "      <th>19</th>\n",
              "      <td>1551383477</td>\n",
              "      <td>794</td>\n",
              "      <td>51382</td>\n",
              "      <td>771</td>\n",
              "      <td>80</td>\n",
              "      <td>1</td>\n",
              "      <td>3</td>\n",
              "      <td>4.675323</td>\n",
              "      <td>150.0</td>\n",
              "      <td>165036.0</td>\n",
              "      <td>8</td>\n",
              "      <td>0</td>\n",
              "      <td>65</td>\n",
              "      <td>192</td>\n",
              "      <td>10476</td>\n",
              "      <td>234</td>\n",
              "      <td>342256</td>\n",
              "      <td>5</td>\n",
              "    </tr>\n",
              "  </tbody>\n",
              "</table>\n",
              "</div>"
            ],
            "text/plain": [
              "            ts  idorighost  idorigport  ...  resppkts  respipbytes  Label\n",
              "0   1551394679         794       51390  ...        10          510      2\n",
              "1   1551377745         801       54194  ...       129       184438     12\n",
              "2   1547144649         799       36942  ...        58        83350      1\n",
              "3   1547147324         799       50980  ...         0            0      2\n",
              "4   1551407734         801       55272  ...         0            0     11\n",
              "5   1538520772         802       38096  ...         0            0     10\n",
              "6   1551377742         801       52732  ...       170       244256     12\n",
              "7   1551387866         794       50650  ...         0            0      2\n",
              "8   1552099002         798         123  ...         0            0      0\n",
              "9   1547148188         799       52044  ...         0            0      2\n",
              "10  1526802380         806       51055  ...        15         3029      7\n",
              "11  1552047924         798       38028  ...        12          786      4\n",
              "12  1552047924         798       38030  ...      1806        97656      4\n",
              "13  1545481106         799       41448  ...         0            0      8\n",
              "14  1545468345         799       39122  ...         0            0      8\n",
              "15  1551377742         801       52732  ...       170       244256     12\n",
              "16  1569018382         489       62336  ...         0            0      0\n",
              "17  1547148264         799       52190  ...         0            0      2\n",
              "18  1551407741         801       55272  ...         0            0     11\n",
              "19  1551383477         794       51382  ...       234       342256      5\n",
              "\n",
              "[20 rows x 18 columns]"
            ]
          },
          "metadata": {
            "tags": []
          },
          "execution_count": 18
        }
      ]
    },
    {
      "cell_type": "code",
      "metadata": {
        "id": "HuSAEhMmcLM6"
      },
      "source": [
        "#data3['Label'] = data3['Label'].astype(float)\r\n"
      ],
      "execution_count": null,
      "outputs": []
    },
    {
      "cell_type": "markdown",
      "metadata": {
        "id": "kK2nT6xEYOtN"
      },
      "source": [
        "Instead of converting each feature to int/float datatype seperately, we can use the below coade using for loop.\r\n",
        "cat_features means categorical Features"
      ]
    },
    {
      "cell_type": "code",
      "metadata": {
        "id": "xaYWjVf8CN0X"
      },
      "source": [
        "#cat_features=[x for x in data3.columns if data3[x].dtype==\"object\"]\r\n",
        "\r\n",
        "#le=LabelEncoder()\r\n",
        "\r\n",
        "#for col in cat_features:\r\n",
        "    #if col in data3.columns:\r\n",
        "       # i = data3.columns.get_loc(col)\r\n",
        "       # data3.iloc[:,i] = data3.apply(lambda i:le.fit_transform(i.astype(str)), axis=0, result_type='expand')"
      ],
      "execution_count": null,
      "outputs": []
    },
    {
      "cell_type": "code",
      "metadata": {
        "colab": {
          "base_uri": "https://localhost:8080/"
        },
        "id": "iNNOgI-msGVi",
        "outputId": "823b10e4-1286-488a-dd70-d2f8abefbf6c"
      },
      "source": [
        "data3.nunique()"
      ],
      "execution_count": null,
      "outputs": [
        {
          "output_type": "execute_result",
          "data": {
            "text/plain": [
              "ts             31646\n",
              "uid            36877\n",
              "idorighost      3082\n",
              "idorigport     13322\n",
              "idresphost      5160\n",
              "idrespport       103\n",
              "proto              3\n",
              "service            6\n",
              "duration       19479\n",
              "origbytes        167\n",
              "respbytes        419\n",
              "connstate         11\n",
              "localorig          1\n",
              "localresp          1\n",
              "missedbytes       30\n",
              "history          168\n",
              "origpkts         137\n",
              "origipbytes      678\n",
              "resppkts         119\n",
              "respipbytes      936\n",
              "Label             10\n",
              "dtype: int64"
            ]
          },
          "metadata": {
            "tags": []
          },
          "execution_count": 22
        }
      ]
    },
    {
      "cell_type": "code",
      "metadata": {
        "colab": {
          "base_uri": "https://localhost:8080/"
        },
        "id": "PRCUfyPr1np5",
        "outputId": "69dd2844-b401-4afd-a6f0-680adca3b4ca"
      },
      "source": [
        "np.any(np.isnan(data3))"
      ],
      "execution_count": null,
      "outputs": [
        {
          "output_type": "execute_result",
          "data": {
            "text/plain": [
              "True"
            ]
          },
          "metadata": {
            "tags": []
          },
          "execution_count": 25
        }
      ]
    },
    {
      "cell_type": "code",
      "metadata": {
        "colab": {
          "base_uri": "https://localhost:8080/"
        },
        "id": "eLjZ7pxdi_sI",
        "outputId": "577ea90f-3f8a-4b87-fdba-476159238237"
      },
      "source": [
        "data3.isnull().sum()"
      ],
      "execution_count": null,
      "outputs": [
        {
          "output_type": "execute_result",
          "data": {
            "text/plain": [
              "ts                 0\n",
              "idorighost         0\n",
              "idorigport         0\n",
              "idresphost         0\n",
              "idrespport         0\n",
              "proto              0\n",
              "service            0\n",
              "duration       12186\n",
              "origbytes      12186\n",
              "respbytes      12186\n",
              "connstate          0\n",
              "missedbytes        0\n",
              "history            0\n",
              "origpkts           0\n",
              "origipbytes        0\n",
              "resppkts           0\n",
              "respipbytes        0\n",
              "Label              0\n",
              "dtype: int64"
            ]
          },
          "metadata": {
            "tags": []
          },
          "execution_count": 19
        }
      ]
    },
    {
      "cell_type": "code",
      "metadata": {
        "id": "TT7Qo-CNiKJe"
      },
      "source": [
        "data3[['duration','origbytes','respbytes']] = data3[['duration','origbytes','respbytes']].fillna(value=data3[['duration','origbytes','respbytes']].mean())"
      ],
      "execution_count": null,
      "outputs": []
    },
    {
      "cell_type": "code",
      "metadata": {
        "id": "OsLZQbWIiq0q"
      },
      "source": [
        "import pandas as pd\r\n",
        "from sklearn.model_selection import train_test_split\r\n",
        "import tensorflow as tf\r\n",
        "import numpy as np\r\n",
        "from sklearn.metrics import roc_auc_score\r\n",
        "from sklearn.preprocessing import StandardScaler\r\n",
        "import warnings\r\n",
        "warnings.filterwarnings('ignore')\r\n",
        "from sklearn.metrics import roc_auc_score\r\n",
        "import sys\r\n",
        "import seaborn as sns"
      ],
      "execution_count": null,
      "outputs": []
    },
    {
      "cell_type": "code",
      "metadata": {
        "colab": {
          "base_uri": "https://localhost:8080/"
        },
        "id": "tV6twK95ZWBi",
        "outputId": "d8d5ccf2-e5aa-4b58-a507-61f82072e94b"
      },
      "source": [
        "np.any(np.isnan(data3))"
      ],
      "execution_count": null,
      "outputs": [
        {
          "output_type": "execute_result",
          "data": {
            "text/plain": [
              "False"
            ]
          },
          "metadata": {
            "tags": []
          },
          "execution_count": 27
        }
      ]
    },
    {
      "cell_type": "code",
      "metadata": {
        "colab": {
          "base_uri": "https://localhost:8080/"
        },
        "id": "EngxFeF_3p3L",
        "outputId": "7943ea42-6321-4bb9-bf94-2825d0baf860"
      },
      "source": [
        "data3.isna().sum()"
      ],
      "execution_count": null,
      "outputs": [
        {
          "output_type": "execute_result",
          "data": {
            "text/plain": [
              "ts             0\n",
              "idorighost     0\n",
              "idorigport     0\n",
              "idresphost     0\n",
              "idrespport     0\n",
              "proto          0\n",
              "service        0\n",
              "duration       0\n",
              "origbytes      0\n",
              "respbytes      0\n",
              "connstate      0\n",
              "missedbytes    0\n",
              "history        0\n",
              "origpkts       0\n",
              "origipbytes    0\n",
              "resppkts       0\n",
              "respipbytes    0\n",
              "Label          0\n",
              "dtype: int64"
            ]
          },
          "metadata": {
            "tags": []
          },
          "execution_count": 233
        }
      ]
    },
    {
      "cell_type": "code",
      "metadata": {
        "id": "FxKnXW0-3qrt"
      },
      "source": [
        "y1=data3['Label']\r\n",
        "#y=data['Label']"
      ],
      "execution_count": null,
      "outputs": []
    },
    {
      "cell_type": "code",
      "metadata": {
        "colab": {
          "base_uri": "https://localhost:8080/"
        },
        "id": "dGqNw8TMsD_C",
        "outputId": "b4e17e90-d2a9-423f-84dc-2d5792f7b5d9"
      },
      "source": [
        "y1"
      ],
      "execution_count": null,
      "outputs": [
        {
          "output_type": "execute_result",
          "data": {
            "text/plain": [
              "0         2\n",
              "1        12\n",
              "2         1\n",
              "3         2\n",
              "4        11\n",
              "         ..\n",
              "90872    11\n",
              "90873     5\n",
              "90874     2\n",
              "90875     7\n",
              "90876     1\n",
              "Name: Label, Length: 90877, dtype: int64"
            ]
          },
          "metadata": {
            "tags": []
          },
          "execution_count": 57
        }
      ]
    },
    {
      "cell_type": "code",
      "metadata": {
        "id": "2AbnBBkLr7Ff"
      },
      "source": [
        "y1=encoder.fit_transform(y1)"
      ],
      "execution_count": null,
      "outputs": []
    },
    {
      "cell_type": "code",
      "metadata": {
        "colab": {
          "base_uri": "https://localhost:8080/"
        },
        "id": "r4CTCe_PsMQq",
        "outputId": "47f56594-e472-403b-f067-c908d0a60e3e"
      },
      "source": [
        "y1"
      ],
      "execution_count": null,
      "outputs": [
        {
          "output_type": "execute_result",
          "data": {
            "text/plain": [
              "array([2, 9, 1, ..., 2, 5, 1])"
            ]
          },
          "metadata": {
            "tags": []
          },
          "execution_count": 59
        }
      ]
    },
    {
      "cell_type": "code",
      "metadata": {
        "id": "3psAczm5sQhs"
      },
      "source": [
        "y=pd.get_dummies(y1)"
      ],
      "execution_count": null,
      "outputs": []
    },
    {
      "cell_type": "code",
      "metadata": {
        "colab": {
          "base_uri": "https://localhost:8080/",
          "height": 406
        },
        "id": "nHHFShU4sZYZ",
        "outputId": "be1e4c75-c6f6-421f-e1d8-0a99802536d1"
      },
      "source": [
        "y"
      ],
      "execution_count": null,
      "outputs": [
        {
          "output_type": "execute_result",
          "data": {
            "text/html": [
              "<div>\n",
              "<style scoped>\n",
              "    .dataframe tbody tr th:only-of-type {\n",
              "        vertical-align: middle;\n",
              "    }\n",
              "\n",
              "    .dataframe tbody tr th {\n",
              "        vertical-align: top;\n",
              "    }\n",
              "\n",
              "    .dataframe thead th {\n",
              "        text-align: right;\n",
              "    }\n",
              "</style>\n",
              "<table border=\"1\" class=\"dataframe\">\n",
              "  <thead>\n",
              "    <tr style=\"text-align: right;\">\n",
              "      <th></th>\n",
              "      <th>0</th>\n",
              "      <th>1</th>\n",
              "      <th>2</th>\n",
              "      <th>3</th>\n",
              "      <th>4</th>\n",
              "      <th>5</th>\n",
              "      <th>6</th>\n",
              "      <th>7</th>\n",
              "      <th>8</th>\n",
              "      <th>9</th>\n",
              "    </tr>\n",
              "  </thead>\n",
              "  <tbody>\n",
              "    <tr>\n",
              "      <th>0</th>\n",
              "      <td>0</td>\n",
              "      <td>0</td>\n",
              "      <td>1</td>\n",
              "      <td>0</td>\n",
              "      <td>0</td>\n",
              "      <td>0</td>\n",
              "      <td>0</td>\n",
              "      <td>0</td>\n",
              "      <td>0</td>\n",
              "      <td>0</td>\n",
              "    </tr>\n",
              "    <tr>\n",
              "      <th>1</th>\n",
              "      <td>0</td>\n",
              "      <td>0</td>\n",
              "      <td>0</td>\n",
              "      <td>0</td>\n",
              "      <td>0</td>\n",
              "      <td>0</td>\n",
              "      <td>0</td>\n",
              "      <td>0</td>\n",
              "      <td>0</td>\n",
              "      <td>1</td>\n",
              "    </tr>\n",
              "    <tr>\n",
              "      <th>2</th>\n",
              "      <td>0</td>\n",
              "      <td>1</td>\n",
              "      <td>0</td>\n",
              "      <td>0</td>\n",
              "      <td>0</td>\n",
              "      <td>0</td>\n",
              "      <td>0</td>\n",
              "      <td>0</td>\n",
              "      <td>0</td>\n",
              "      <td>0</td>\n",
              "    </tr>\n",
              "    <tr>\n",
              "      <th>3</th>\n",
              "      <td>0</td>\n",
              "      <td>0</td>\n",
              "      <td>1</td>\n",
              "      <td>0</td>\n",
              "      <td>0</td>\n",
              "      <td>0</td>\n",
              "      <td>0</td>\n",
              "      <td>0</td>\n",
              "      <td>0</td>\n",
              "      <td>0</td>\n",
              "    </tr>\n",
              "    <tr>\n",
              "      <th>4</th>\n",
              "      <td>0</td>\n",
              "      <td>0</td>\n",
              "      <td>0</td>\n",
              "      <td>0</td>\n",
              "      <td>0</td>\n",
              "      <td>0</td>\n",
              "      <td>0</td>\n",
              "      <td>0</td>\n",
              "      <td>1</td>\n",
              "      <td>0</td>\n",
              "    </tr>\n",
              "    <tr>\n",
              "      <th>...</th>\n",
              "      <td>...</td>\n",
              "      <td>...</td>\n",
              "      <td>...</td>\n",
              "      <td>...</td>\n",
              "      <td>...</td>\n",
              "      <td>...</td>\n",
              "      <td>...</td>\n",
              "      <td>...</td>\n",
              "      <td>...</td>\n",
              "      <td>...</td>\n",
              "    </tr>\n",
              "    <tr>\n",
              "      <th>90872</th>\n",
              "      <td>0</td>\n",
              "      <td>0</td>\n",
              "      <td>0</td>\n",
              "      <td>0</td>\n",
              "      <td>0</td>\n",
              "      <td>0</td>\n",
              "      <td>0</td>\n",
              "      <td>0</td>\n",
              "      <td>1</td>\n",
              "      <td>0</td>\n",
              "    </tr>\n",
              "    <tr>\n",
              "      <th>90873</th>\n",
              "      <td>0</td>\n",
              "      <td>0</td>\n",
              "      <td>0</td>\n",
              "      <td>0</td>\n",
              "      <td>1</td>\n",
              "      <td>0</td>\n",
              "      <td>0</td>\n",
              "      <td>0</td>\n",
              "      <td>0</td>\n",
              "      <td>0</td>\n",
              "    </tr>\n",
              "    <tr>\n",
              "      <th>90874</th>\n",
              "      <td>0</td>\n",
              "      <td>0</td>\n",
              "      <td>1</td>\n",
              "      <td>0</td>\n",
              "      <td>0</td>\n",
              "      <td>0</td>\n",
              "      <td>0</td>\n",
              "      <td>0</td>\n",
              "      <td>0</td>\n",
              "      <td>0</td>\n",
              "    </tr>\n",
              "    <tr>\n",
              "      <th>90875</th>\n",
              "      <td>0</td>\n",
              "      <td>0</td>\n",
              "      <td>0</td>\n",
              "      <td>0</td>\n",
              "      <td>0</td>\n",
              "      <td>1</td>\n",
              "      <td>0</td>\n",
              "      <td>0</td>\n",
              "      <td>0</td>\n",
              "      <td>0</td>\n",
              "    </tr>\n",
              "    <tr>\n",
              "      <th>90876</th>\n",
              "      <td>0</td>\n",
              "      <td>1</td>\n",
              "      <td>0</td>\n",
              "      <td>0</td>\n",
              "      <td>0</td>\n",
              "      <td>0</td>\n",
              "      <td>0</td>\n",
              "      <td>0</td>\n",
              "      <td>0</td>\n",
              "      <td>0</td>\n",
              "    </tr>\n",
              "  </tbody>\n",
              "</table>\n",
              "<p>90877 rows × 10 columns</p>\n",
              "</div>"
            ],
            "text/plain": [
              "       0  1  2  3  4  5  6  7  8  9\n",
              "0      0  0  1  0  0  0  0  0  0  0\n",
              "1      0  0  0  0  0  0  0  0  0  1\n",
              "2      0  1  0  0  0  0  0  0  0  0\n",
              "3      0  0  1  0  0  0  0  0  0  0\n",
              "4      0  0  0  0  0  0  0  0  1  0\n",
              "...   .. .. .. .. .. .. .. .. .. ..\n",
              "90872  0  0  0  0  0  0  0  0  1  0\n",
              "90873  0  0  0  0  1  0  0  0  0  0\n",
              "90874  0  0  1  0  0  0  0  0  0  0\n",
              "90875  0  0  0  0  0  1  0  0  0  0\n",
              "90876  0  1  0  0  0  0  0  0  0  0\n",
              "\n",
              "[90877 rows x 10 columns]"
            ]
          },
          "metadata": {
            "tags": []
          },
          "execution_count": 61
        }
      ]
    },
    {
      "cell_type": "code",
      "metadata": {
        "id": "uznjSU774Hre"
      },
      "source": [
        "x=data3.drop(['Label'],axis=1)"
      ],
      "execution_count": null,
      "outputs": []
    },
    {
      "cell_type": "code",
      "metadata": {
        "id": "2LenVIJs4Siw"
      },
      "source": [
        "x_train,x_test,y_train,y_test=train_test_split(x,y,test_size=0.35,random_state=2)\r\n",
        "                                            "
      ],
      "execution_count": null,
      "outputs": []
    },
    {
      "cell_type": "code",
      "metadata": {
        "colab": {
          "base_uri": "https://localhost:8080/"
        },
        "id": "6A18gsOkv3Bc",
        "outputId": "692028cb-cd41-4f69-8e57-8e04320f79b8"
      },
      "source": [
        "data3.nunique()"
      ],
      "execution_count": null,
      "outputs": [
        {
          "output_type": "execute_result",
          "data": {
            "text/plain": [
              "ts             31646\n",
              "idorighost      3082\n",
              "idorigport     13322\n",
              "idresphost      5160\n",
              "idrespport       103\n",
              "proto              3\n",
              "service            6\n",
              "duration       19480\n",
              "origbytes        168\n",
              "respbytes        420\n",
              "connstate         11\n",
              "missedbytes       30\n",
              "history          168\n",
              "origpkts         137\n",
              "origipbytes      678\n",
              "resppkts         119\n",
              "respipbytes      936\n",
              "Label             10\n",
              "dtype: int64"
            ]
          },
          "metadata": {
            "tags": []
          },
          "execution_count": 51
        }
      ]
    },
    {
      "cell_type": "code",
      "metadata": {
        "colab": {
          "base_uri": "https://localhost:8080/"
        },
        "id": "kKptwpApu9Jz",
        "outputId": "c45cdeff-98c3-433b-ebf7-2e88b709d20c"
      },
      "source": [
        "y.nunique()"
      ],
      "execution_count": null,
      "outputs": [
        {
          "output_type": "execute_result",
          "data": {
            "text/plain": [
              "0     2\n",
              "1     2\n",
              "2     2\n",
              "4     2\n",
              "5     2\n",
              "7     2\n",
              "8     2\n",
              "10    2\n",
              "11    2\n",
              "12    2\n",
              "dtype: int64"
            ]
          },
          "metadata": {
            "tags": []
          },
          "execution_count": 192
        }
      ]
    },
    {
      "cell_type": "code",
      "metadata": {
        "colab": {
          "base_uri": "https://localhost:8080/"
        },
        "id": "gO3eGhMQ4YRC",
        "outputId": "d81b5d7a-ce2e-4259-9c7d-a1da4179b472"
      },
      "source": [
        "y_train.shape"
      ],
      "execution_count": null,
      "outputs": [
        {
          "output_type": "execute_result",
          "data": {
            "text/plain": [
              "(68157, 10)"
            ]
          },
          "metadata": {
            "tags": []
          },
          "execution_count": 193
        }
      ]
    },
    {
      "cell_type": "code",
      "metadata": {
        "colab": {
          "base_uri": "https://localhost:8080/"
        },
        "id": "qs3CVuEes9bc",
        "outputId": "292a6c2e-7c00-494c-a42b-e5d4d1964eb7"
      },
      "source": [
        "y_test.shape\r\n"
      ],
      "execution_count": null,
      "outputs": [
        {
          "output_type": "execute_result",
          "data": {
            "text/plain": [
              "(22720, 10)"
            ]
          },
          "metadata": {
            "tags": []
          },
          "execution_count": 194
        }
      ]
    },
    {
      "cell_type": "code",
      "metadata": {
        "id": "lphDeWKf4or1"
      },
      "source": [
        "import pandas as pd\r\n",
        "from sklearn.model_selection import train_test_split\r\n",
        "import tensorflow as tf\r\n",
        "import numpy as np\r\n",
        "from sklearn.metrics import roc_auc_score\r\n",
        "from sklearn.preprocessing import StandardScaler\r\n",
        "import warnings\r\n",
        "warnings.filterwarnings('ignore')\r\n",
        "from sklearn.metrics import roc_auc_score\r\n",
        "import sys\r\n",
        "from sklearn.preprocessing import StandardScaler, LabelEncoder"
      ],
      "execution_count": null,
      "outputs": []
    },
    {
      "cell_type": "code",
      "metadata": {
        "id": "Ur92sh9P4aR_"
      },
      "source": [
        "st=StandardScaler()"
      ],
      "execution_count": null,
      "outputs": []
    },
    {
      "cell_type": "code",
      "metadata": {
        "colab": {
          "base_uri": "https://localhost:8080/"
        },
        "id": "DpayMImB4iUa",
        "outputId": "a5f2b163-d3a5-410b-f295-87eab4080aa2"
      },
      "source": [
        "st.fit(x_train)"
      ],
      "execution_count": null,
      "outputs": [
        {
          "output_type": "execute_result",
          "data": {
            "text/plain": [
              "StandardScaler(copy=True, with_mean=True, with_std=True)"
            ]
          },
          "metadata": {
            "tags": []
          },
          "execution_count": 27
        }
      ]
    },
    {
      "cell_type": "code",
      "metadata": {
        "id": "dxZdIaOB4vWZ"
      },
      "source": [
        "x_train=pd.DataFrame(st.transform(x_train))\r\n",
        "x_test=pd.DataFrame(st.transform(x_test))"
      ],
      "execution_count": null,
      "outputs": []
    },
    {
      "cell_type": "code",
      "metadata": {
        "colab": {
          "base_uri": "https://localhost:8080/"
        },
        "id": "76uL1L1G4xny",
        "outputId": "b8395695-d8b5-4ae0-8966-f7590937c082"
      },
      "source": [
        "  x_train.shape"
      ],
      "execution_count": null,
      "outputs": [
        {
          "output_type": "execute_result",
          "data": {
            "text/plain": [
              "(54526, 17)"
            ]
          },
          "metadata": {
            "tags": []
          },
          "execution_count": 43
        }
      ]
    },
    {
      "cell_type": "markdown",
      "metadata": {
        "id": "sqcyxxPd48_W"
      },
      "source": [
        "Logistc Regression Model"
      ]
    },
    {
      "cell_type": "code",
      "metadata": {
        "id": "f68mh2kd40St"
      },
      "source": [
        "weights = tf.Variable(tf.random.normal(shape=(17, 10), dtype=tf.float64))\r\n",
        "biases  = tf.Variable(tf.random.normal(shape=(10,), dtype=tf.float64))"
      ],
      "execution_count": null,
      "outputs": []
    },
    {
      "cell_type": "code",
      "metadata": {
        "id": "ytLQwymQKSVB"
      },
      "source": [
        "from sklearn.preprocessing import LabelBinarizer"
      ],
      "execution_count": null,
      "outputs": []
    },
    {
      "cell_type": "code",
      "metadata": {
        "id": "Se-MRIRg5D8V"
      },
      "source": [
        "def logistic_regression(x):\r\n",
        "    lr = tf.add(tf.matmul(x, weights), biases)\r\n",
        "    return lr\r\n",
        "\r\n",
        "\r\n",
        "def cross_entropy(y_true, y_pred):\r\n",
        "    loss = tf.nn.softmax_cross_entropy_with_logits(labels=y_true, logits=y_pred)\r\n",
        "    return tf.reduce_mean(loss)\r\n",
        "\r\n",
        "def accuracy(y_true, y_pred):\r\n",
        "    y_true = tf.cast(tf.argmax(y_true,axis=1), dtype=tf.int32)\r\n",
        "    preds = tf.cast(tf.argmax(y_pred, axis=1), dtype=tf.int32)\r\n",
        "    preds = tf.equal(y_true, preds)\r\n",
        "    return tf.reduce_mean(tf.cast(preds, dtype=tf.float32))\r\n",
        "\r\n",
        "def roc_auc(y_true,x):\r\n",
        "    y_true = tf.cast(tf.argmax(y_true, axis=1), dtype=tf.int32).numpy()\r\n",
        "    y_pred=tf.nn.softmax(logistic_regression(x))[:,1]\r\n",
        "    #lb = LabelBinarizer()\r\n",
        "    #lb.fit(y_test)\r\n",
        "    #y_true = lb.transform(y_true)\r\n",
        "    #y_pred = lb.transform(y_pred)\r\n",
        "    return(roc_auc_score(y_true,y_pred))\r\n",
        "\r\n",
        "def grad(x, y):\r\n",
        "    with tf.GradientTape() as tape:\r\n",
        "        y_pred = logistic_regression(x)\r\n",
        "        loss_val = cross_entropy(y, y_pred)\r\n",
        "    return tape.gradient(loss_val, [weights, biases])"
      ],
      "execution_count": null,
      "outputs": []
    },
    {
      "cell_type": "code",
      "metadata": {
        "id": "N68MZdOt5aVd"
      },
      "source": [
        "epochs=1000"
      ],
      "execution_count": null,
      "outputs": []
    },
    {
      "cell_type": "code",
      "metadata": {
        "colab": {
          "base_uri": "https://localhost:8080/"
        },
        "id": "F8RDafcO5Jvn",
        "outputId": "f4c759b0-57fb-497e-a723-a38eabd0b548"
      },
      "source": [
        "learning_rate=0.1\r\n",
        "for epoch in range(epochs):\r\n",
        "    rand_ind=np.random.choice(range(x_train.shape[0]),100)\r\n",
        "    outputs=y_train.iloc[rand_ind,:].values\r\n",
        "    inputs=x_train.iloc[rand_ind,:].values\r\n",
        "    \r\n",
        "    dw,db=grad(inputs,tf.cast(outputs,'float32'))\r\n",
        "    \r\n",
        "    weights.assign_sub(learning_rate*dw)\r\n",
        "    biases.assign_sub(learning_rate*db)\r\n",
        "    \r\n",
        "    if epoch%100==0:\r\n",
        "      print(accuracy(y_test.values,logistic_regression(x_test.values)).numpy())\r\n",
        "      #print(accuracy(y_test.values,logistic_regression(x_test.values)).numpy())"
      ],
      "execution_count": null,
      "outputs": [
        {
          "output_type": "stream",
          "text": [
            "0.23609889\n",
            "0.6278609\n",
            "0.8239437\n",
            "0.8612456\n",
            "0.89770395\n",
            "0.91879404\n",
            "0.91347563\n",
            "0.9076071\n",
            "0.92165494\n",
            "0.9154563\n"
          ],
          "name": "stdout"
        }
      ]
    },
    {
      "cell_type": "code",
      "metadata": {
        "id": "_9emcZu5KxOg"
      },
      "source": [
        "weights_h = tf.Variable(tf.random.truncated_normal(shape=(17, 12), dtype=tf.float64))\r\n",
        "biases_h  = tf.Variable(tf.random.truncated_normal(shape=(12,), dtype=tf.float64))\r\n",
        "\r\n",
        "weights_o = tf.Variable(tf.random.truncated_normal(shape=(12, 10), dtype=tf.float64))\r\n",
        "biases_o  = tf.Variable(tf.random.truncated_normal(shape=(10,), dtype=tf.float64))"
      ],
      "execution_count": null,
      "outputs": []
    },
    {
      "cell_type": "code",
      "metadata": {
        "id": "k4-7YdNPi3wu"
      },
      "source": [
        "def logistic_regression(x):\r\n",
        "    h_o = tf.add(tf.matmul(x, weights_h), biases_h)\r\n",
        "    h_o=tf.nn.relu(h_o)\r\n",
        "    lr=tf.add(tf.matmul(h_o, weights_o), biases_o)\r\n",
        "    return lr\r\n",
        "\r\n",
        "\r\n",
        "def cross_entropy(y_true, y_pred):\r\n",
        "    \r\n",
        "\r\n",
        "    loss =tf.nn.softmax_cross_entropy_with_logits(labels=y_true, logits=y_pred)\r\n",
        "    return tf.reduce_mean(loss)\r\n",
        "\r\n",
        "\r\n",
        "def accuracy(y_true, y_pred):\r\n",
        "    y_true = tf.cast(tf.argmax(y_true, axis=1), dtype=tf.int32)\r\n",
        "    preds = tf.cast(tf.argmax(y_pred, axis=1), dtype=tf.int32)\r\n",
        "    preds = tf.equal(y_true, preds)\r\n",
        "    return tf.reduce_mean(tf.cast(preds, dtype=tf.float32))\r\n",
        "\r\n",
        "def roc_auc(y_true,x):\r\n",
        "    y_true = tf.cast(tf.argmax(y_true, axis=1), dtype=tf.int32).numpy()\r\n",
        "    y_pred=tf.nn.softmax(logistic_regression(x))[:,1]\r\n",
        "    return(roc_auc_score(y_true,y_pred))\r\n",
        "\r\n",
        "def grad(x, y):\r\n",
        "    with tf.GradientTape() as tape:\r\n",
        "        y_pred = logistic_regression(x)\r\n",
        "        loss_val = cross_entropy(y, y_pred)\r\n",
        "    return tape.gradient(loss_val, [weights_h, biases_h,weights_o, biases_o])"
      ],
      "execution_count": null,
      "outputs": []
    },
    {
      "cell_type": "code",
      "metadata": {
        "id": "CCNY1lU5i9NU"
      },
      "source": [
        "epochs=2000"
      ],
      "execution_count": null,
      "outputs": []
    },
    {
      "cell_type": "code",
      "metadata": {
        "colab": {
          "base_uri": "https://localhost:8080/"
        },
        "id": "6NuCtwA3jAjk",
        "outputId": "b988815e-2ecb-4b0f-c03a-a05d7821a752"
      },
      "source": [
        "learning_rate=0.1\r\n",
        "for epoch in range(epochs):\r\n",
        "    rand_ind=np.random.choice(range(x_train.shape[0]),100)\r\n",
        "    outputs=y_train.iloc[rand_ind,:].values\r\n",
        "    inputs=x_train.iloc[rand_ind,:].values\r\n",
        "    dw_h,db_h,dw_o,db_o=grad(inputs,tf.cast(outputs,'float32'))\r\n",
        "    \r\n",
        "    weights_h.assign_sub(learning_rate*dw_h)\r\n",
        "    biases_h.assign_sub(learning_rate*db_h)\r\n",
        "    weights_o.assign_sub(learning_rate*dw_o)\r\n",
        "    biases_o.assign_sub(learning_rate*db_o)\r\n",
        "    \r\n",
        "    if epoch%200==0:\r\n",
        "        print(accuracy(y_test.values,logistic_regression(x_test.values)).numpy())\r\n",
        "    \r\n",
        "    "
      ],
      "execution_count": null,
      "outputs": [
        {
          "output_type": "stream",
          "text": [
            "0.0545163\n",
            "0.9196089\n",
            "0.9500739\n",
            "0.95419246\n",
            "0.95837396\n",
            "0.9578395\n",
            "0.9629327\n",
            "0.9699752\n",
            "0.9733707\n",
            "0.9746282\n"
          ],
          "name": "stdout"
        }
      ]
    },
    {
      "cell_type": "code",
      "metadata": {
        "colab": {
          "base_uri": "https://localhost:8080/"
        },
        "id": "ZhcwjgFzbNQz",
        "outputId": "8f05185c-f0ff-4fbf-acb1-875681be70c2"
      },
      "source": [
        " print(accuracy(y_test.values,logistic_regression(x_test.values)).numpy())"
      ],
      "execution_count": null,
      "outputs": [
        {
          "output_type": "stream",
          "text": [
            "0.9750998\n"
          ],
          "name": "stdout"
        }
      ]
    },
    {
      "cell_type": "code",
      "metadata": {
        "id": "ZHqOmKzEt9zw"
      },
      "source": [
        "from sklearn.metrics import confusion_matrix\r\n",
        "from sklearn.metrics import precision_score, recall_score\r\n",
        "from sklearn.metrics import f1_score"
      ],
      "execution_count": null,
      "outputs": []
    },
    {
      "cell_type": "code",
      "metadata": {
        "id": "XcPcSxf_uDhT"
      },
      "source": [
        "y_pred=np.argmax(logistic_regression(x_test), axis=1)"
      ],
      "execution_count": null,
      "outputs": []
    },
    {
      "cell_type": "code",
      "metadata": {
        "colab": {
          "base_uri": "https://localhost:8080/"
        },
        "id": "wJcLuVqCurwo",
        "outputId": "8972dd1c-6def-4d15-a24e-bb9936edb0d8"
      },
      "source": [
        "y_test=np.argmax(y_test.values, axis=1)\r\n",
        "y_test[1]"
      ],
      "execution_count": null,
      "outputs": [
        {
          "output_type": "execute_result",
          "data": {
            "text/plain": [
              "6"
            ]
          },
          "metadata": {
            "tags": []
          },
          "execution_count": 38
        }
      ]
    },
    {
      "cell_type": "code",
      "metadata": {
        "colab": {
          "base_uri": "https://localhost:8080/"
        },
        "id": "hE9F-56kbo_f",
        "outputId": "d5980e8c-196a-401e-8942-09b2b85cd830"
      },
      "source": [
        "y_test"
      ],
      "execution_count": null,
      "outputs": [
        {
          "output_type": "execute_result",
          "data": {
            "text/plain": [
              "array([4, 6, 4, ..., 8, 5, 8])"
            ]
          },
          "metadata": {
            "tags": []
          },
          "execution_count": 39
        }
      ]
    },
    {
      "cell_type": "code",
      "metadata": {
        "colab": {
          "base_uri": "https://localhost:8080/"
        },
        "id": "DKqteZB1ew9b",
        "outputId": "07244a4d-c5e2-4aa3-a0c9-d57213da609a"
      },
      "source": [
        "print('Precision: {:.5f}'.format(precision_score(y_test,y_pred,average=\"macro\")))\r\n",
        "print('Recall: {:.5f}'.format(recall_score(y_test,y_pred,average=\"macro\")))\r\n",
        "print('F1-score: {:.5f}\\n'.format(f1_score(y_test,y_pred,average=\"macro\")))"
      ],
      "execution_count": null,
      "outputs": [
        {
          "output_type": "stream",
          "text": [
            "Precision: 0.97639\n",
            "Recall: 0.97424\n",
            "F1-score: 0.97446\n",
            "\n"
          ],
          "name": "stdout"
        }
      ]
    },
    {
      "cell_type": "code",
      "metadata": {
        "colab": {
          "base_uri": "https://localhost:8080/"
        },
        "id": "blFjvlMge4rp",
        "outputId": "e2aab811-0957-462c-e4d7-8e484ce889cf"
      },
      "source": [
        "confusion_matrix(y_test, y_pred)"
      ],
      "execution_count": null,
      "outputs": [
        {
          "output_type": "execute_result",
          "data": {
            "text/plain": [
              "array([[3068,    1,    2,    1,    0,    1,    3,    0,    3,    0],\n",
              "       [   0, 2845,    0,    0,   64,    0,    0,    0,    0,  203],\n",
              "       [   1,    0, 2588,    0,    0,   51,    0,   96,  277,    0],\n",
              "       [   0,    0,    0, 3248,    0,    0,    0,    0,    0,    0],\n",
              "       [   0,    0,    0,    0, 3145,    0,    0,    0,    0,    0],\n",
              "       [  17,    6,   57,    0,    1, 3182,    0,    4,    4,    0],\n",
              "       [   0,    0,    0,    0,    0,    0, 3167,    0,    0,    0],\n",
              "       [   0,    0,    0,    0,    0,    0,    0, 3239,    0,    0],\n",
              "       [   0,    0,    0,    0,    0,    0,    0,    0, 3386,    0],\n",
              "       [   0,    0,    0,    0,    0,    0,    0,    0,    0, 3147]])"
            ]
          },
          "metadata": {
            "tags": []
          },
          "execution_count": 41
        }
      ]
    },
    {
      "cell_type": "code",
      "metadata": {
        "id": "EHlVHevffG2z"
      },
      "source": [
        "from sklearn import metrics"
      ],
      "execution_count": null,
      "outputs": []
    },
    {
      "cell_type": "code",
      "metadata": {
        "colab": {
          "base_uri": "https://localhost:8080/"
        },
        "id": "qn3AGq3je81g",
        "outputId": "7f65241f-e502-4c7c-851c-1b2d34924e47"
      },
      "source": [
        "cnf_matrix = metrics.confusion_matrix(y_test,y_pred)\r\n",
        "class_names=[0,1,2,4,5,7,8,10,11,12]\r\n",
        "fig, ax = plt.subplots()\r\n",
        "tick_marks = np.arange(len(class_names))\r\n",
        "plt.xticks(tick_marks, class_names)\r\n",
        "plt.yticks(tick_marks, class_names)\r\n",
        "sns.heatmap(pd.DataFrame(cnf_matrix), annot=True, cmap=\"coolwarm\" ,fmt='g')\r\n",
        "ax.xaxis.set_label_position(\"top\")\r\n",
        "plt.tight_layout()\r\n",
        "plt.title('Confusion matrix', y=1.1)\r\n",
        "plt.ylabel('Actual label')\r\n",
        "plt.xlabel('Predicted label')"
      ],
      "execution_count": null,
      "outputs": [
        {
          "output_type": "execute_result",
          "data": {
            "text/plain": [
              "Text(0.5, 257.44, 'Predicted label')"
            ]
          },
          "metadata": {
            "tags": []
          },
          "execution_count": 214
        },
        {
          "output_type": "display_data",
          "data": {
            "image/png": "[encoded data removed]",
            "text/plain": [
              "<Figure size 432x288 with 2 Axes>"
            ]
          },
          "metadata": {
            "tags": []
          }
        }
      ]
    },
    {
      "cell_type": "code",
      "metadata": {
        "id": "QGe0yoLs3QYk"
      },
      "source": [
        "import numpy as np\r\n",
        "import matplotlib.pyplot as plt\r\n",
        "from itertools import cycle\r\n",
        "\r\n",
        "from sklearn import svm, datasets\r\n",
        "from sklearn.metrics import roc_curve, auc\r\n",
        "from sklearn.model_selection import train_test_split\r\n",
        "from sklearn.preprocessing import label_binarize\r\n",
        "from sklearn.multiclass import OneVsRestClassifier\r\n",
        "from scipy import interp\r\n",
        "from sklearn.metrics import roc_auc_score"
      ],
      "execution_count": null,
      "outputs": []
    },
    {
      "cell_type": "code",
      "metadata": {
        "id": "T_IRehqOfzVo"
      },
      "source": [
        "n_classes = y.shape[1]"
      ],
      "execution_count": null,
      "outputs": []
    },
    {
      "cell_type": "code",
      "metadata": {
        "colab": {
          "base_uri": "https://localhost:8080/"
        },
        "id": "z8Y-gaE-f3NM",
        "outputId": "7a0eeb25-8e0a-43fc-c7fc-76cdeef0593d"
      },
      "source": [
        "n_classes"
      ],
      "execution_count": null,
      "outputs": [
        {
          "output_type": "execute_result",
          "data": {
            "text/plain": [
              "10"
            ]
          },
          "metadata": {
            "tags": []
          },
          "execution_count": 43
        }
      ]
    },
    {
      "cell_type": "code",
      "metadata": {
        "id": "X4LeIbCCf8cm"
      },
      "source": [
        "y_test = label_binarize(y_test, classes =[0,1,2,3,4,5,6,7,8,9])"
      ],
      "execution_count": null,
      "outputs": []
    },
    {
      "cell_type": "code",
      "metadata": {
        "id": "CyvMN4xLg0ev"
      },
      "source": [
        "y_pred = label_binarize(y_pred, classes=[0,1,2,3,4,5,6,7,8,9])"
      ],
      "execution_count": null,
      "outputs": []
    },
    {
      "cell_type": "code",
      "metadata": {
        "id": "HWa0Ad4z5vu0"
      },
      "source": [
        ""
      ],
      "execution_count": null,
      "outputs": []
    },
    {
      "cell_type": "code",
      "metadata": {
        "colab": {
          "base_uri": "https://localhost:8080/",
          "height": 295
        },
        "id": "nifzIhh0ecYJ",
        "outputId": "a32bf776-274a-445c-c2e0-a2b1bbca9d4b"
      },
      "source": [
        "fpr = dict()\r\n",
        "tpr = dict()\r\n",
        "\r\n",
        "for i in range(n_classes):\r\n",
        "    fpr[i], tpr[i], _ = roc_curve(y_test[:, i],\r\n",
        "                                  y_pred[:, i])\r\n",
        "    plt.plot(fpr[i], tpr[i], lw=2, label='class {}'.format(i))\r\n",
        "\r\n",
        "plt.xlabel(\"false positive rate\")\r\n",
        "plt.ylabel(\"true positive rate\")\r\n",
        "plt.legend(loc=\"best\")\r\n",
        "plt.title(\"ROC curve\")\r\n",
        "plt.show()"
      ],
      "execution_count": null,
      "outputs": [
        {
          "output_type": "display_data",
          "data": {
            "image/png": "[encoded data removed]",
            "text/plain": [
              "<Figure size 432x288 with 1 Axes>"
            ]
          },
          "metadata": {
            "tags": [],
            "needs_background": "light"
          }
        }
      ]
    },
    {
      "cell_type": "code",
      "metadata": {
        "colab": {
          "base_uri": "https://localhost:8080/"
        },
        "id": "-D_wp-HCfKBH",
        "outputId": "d2d6dfc7-a8cd-4172-bf6f-4769c9778b05"
      },
      "source": [
        "y_test[:, i]"
      ],
      "execution_count": null,
      "outputs": [
        {
          "output_type": "execute_result",
          "data": {
            "text/plain": [
              "array([0, 0, 0, ..., 0, 0, 0])"
            ]
          },
          "metadata": {
            "tags": []
          },
          "execution_count": 224
        }
      ]
    },
    {
      "cell_type": "code",
      "metadata": {
        "colab": {
          "base_uri": "https://localhost:8080/"
        },
        "id": "rqT1hZE3fN48",
        "outputId": "9e24fee8-6680-4dc6-a736-1bd73c816f0f"
      },
      "source": [
        "y_pred[:, i]"
      ],
      "execution_count": null,
      "outputs": [
        {
          "output_type": "execute_result",
          "data": {
            "text/plain": [
              "array([0, 0, 0, ..., 0, 0, 0])"
            ]
          },
          "metadata": {
            "tags": []
          },
          "execution_count": 225
        }
      ]
    },
    {
      "cell_type": "code",
      "metadata": {
        "id": "v3drPESvhGZx"
      },
      "source": [
        "fpr = dict()\r\n",
        "tpr = dict()\r\n",
        "roc_auc = dict()\r\n",
        "for i in range(n_classes):\r\n",
        "    fpr[i], tpr[i], _ = roc_curve(y_test[:, i],\r\n",
        "                                  y_pred[:, i])\r\n",
        "    roc_auc[i] = auc(fpr[i], tpr[i])\r\n",
        "\r\n",
        "# Compute micro-average ROC curve and ROC area\r\n",
        "fpr[\"micro\"], tpr[\"micro\"], _ = roc_curve(y_test.ravel(), y_pred.ravel())\r\n",
        "roc_auc[\"micro\"] = auc(fpr[\"micro\"], tpr[\"micro\"])"
      ],
      "execution_count": null,
      "outputs": []
    },
    {
      "cell_type": "code",
      "metadata": {
        "colab": {
          "base_uri": "https://localhost:8080/",
          "height": 404
        },
        "id": "bHAvHOcihnkq",
        "outputId": "13d6f3a2-df6e-4717-c82d-eda22f4362c3"
      },
      "source": [
        "all_fpr = np.unique(np.concatenate([fpr[i] for i in range(n_classes)]))\r\n",
        "\r\n",
        "# Then interpolate all ROC curves at this points\r\n",
        "mean_tpr = np.zeros_like(all_fpr)\r\n",
        "for i in range(n_classes):\r\n",
        "    mean_tpr += interp(all_fpr, fpr[i], tpr[i])\r\n",
        "\r\n",
        "# Finally average it and compute AUC\r\n",
        "mean_tpr /= n_classes\r\n",
        "\r\n",
        "fpr[\"macro\"] = all_fpr\r\n",
        "tpr[\"macro\"] = mean_tpr\r\n",
        "roc_auc[\"macro\"] = auc(fpr[\"macro\"], tpr[\"macro\"])\r\n",
        "\r\n",
        "# Plot all ROC curves\r\n",
        "\r\n",
        "plt.figure(figsize=(6,6))\r\n",
        "plt.plot(fpr[\"micro\"], tpr[\"micro\"],\r\n",
        "         label='micro-average ROC curve (area = {0:0.2f})'\r\n",
        "               ''.format(roc_auc[\"micro\"]),\r\n",
        "         color='pink', linestyle=':', linewidth=4)\r\n",
        "\r\n",
        "plt.plot(fpr[\"macro\"], tpr[\"macro\"],\r\n",
        "         label='macro-average ROC curve (area = {0:0.2f})'\r\n",
        "               ''.format(roc_auc[\"macro\"]),\r\n",
        "         color='green', linestyle=':', linewidth=4)\r\n",
        "\r\n",
        "colors = cycle(['green', 'darkorange', 'red','blue'])\r\n",
        "for i, color in zip(range(n_classes), colors):\r\n",
        "    plt.plot(fpr[i], tpr[i], color=color, lw=2,\r\n",
        "             label='ROC curve of class {0} (area = {1:0.2f})'\r\n",
        "             ''.format(i, roc_auc[i]))\r\n",
        "\r\n",
        "plt.plot([0, 1], [0, 1], 'k--', lw=2)\r\n",
        "plt.xlim([0.0, 1.0])\r\n",
        "plt.ylim([0.0, 1.05])\r\n",
        "plt.xlabel('False Positive Rate')\r\n",
        "plt.ylabel('True Positive Rate')\r\n",
        "plt.title('Receiver operating characteristic for multi-class')\r\n",
        "plt.legend(bbox_to_anchor=(1,1), loc=\"upper left\")\r\n",
        "\r\n",
        "plt.show()"
      ],
      "execution_count": null,
      "outputs": [
        {
          "output_type": "display_data",
          "data": {
            "image/png": "[encoded data removed]",
            "text/plain": [
              "<Figure size 432x432 with 1 Axes>"
            ]
          },
          "metadata": {
            "tags": [],
            "needs_background": "light"
          }
        }
      ]
    },
    {
      "cell_type": "code",
      "metadata": {
        "id": "353-UOPCgJlL"
      },
      "source": [
        ""
      ],
      "execution_count": null,
      "outputs": []
    },
    {
      "cell_type": "code",
      "metadata": {
        "id": "OYW_7DW-RSk7"
      },
      "source": [
        "from sklearn.metrics import precision_recall_curve"
      ],
      "execution_count": null,
      "outputs": []
    },
    {
      "cell_type": "code",
      "metadata": {
        "colab": {
          "base_uri": "https://localhost:8080/",
          "height": 301
        },
        "id": "9sgks5xiRETW",
        "outputId": "3202bde1-3cc8-40d1-e3ab-93cc623805c0"
      },
      "source": [
        "precision = dict()\r\n",
        "recall = dict()\r\n",
        "for i in range(n_classes):\r\n",
        "    precision[i], recall[i], _ = precision_recall_curve(y_test[:, i],\r\n",
        "                                                        y_pred[:, i])\r\n",
        "    plt.plot(recall[i], precision[i], lw=2, label='class {}'.format(i))\r\n",
        "    \r\n",
        "plt.xlabel(\"recall\")\r\n",
        "plt.ylabel(\"precision\")\r\n",
        "plt.legend(loc=\"best\")\r\n",
        "plt.title(\"precision vs. recall curve\")\r\n",
        "plt.show()"
      ],
      "execution_count": null,
      "outputs": [
        {
          "output_type": "display_data",
          "data": {
            "image/png": "[encoded data removed]",
            "text/plain": [
              "<Figure size 432x288 with 1 Axes>"
            ]
          },
          "metadata": {
            "tags": []
          }
        }
      ]
    },
    {
      "cell_type": "markdown",
      "metadata": {
        "id": "j7wzzPzgjLb7"
      },
      "source": [
        "# **Decision-Tree Classifier**"
      ]
    },
    {
      "cell_type": "code",
      "metadata": {
        "id": "5wflkmjj1rHF"
      },
      "source": [
        "from sklearn.tree import DecisionTreeClassifier"
      ],
      "execution_count": null,
      "outputs": []
    },
    {
      "cell_type": "code",
      "metadata": {
        "id": "k5y6VXkw-LB8"
      },
      "source": [
        "Y=data3['Label']"
      ],
      "execution_count": null,
      "outputs": []
    },
    {
      "cell_type": "code",
      "metadata": {
        "id": "16cUOnyi3dwo"
      },
      "source": [
        "X=data3.drop(['Label'],axis=1)"
      ],
      "execution_count": null,
      "outputs": []
    },
    {
      "cell_type": "code",
      "metadata": {
        "id": "95qJfXf_3lij"
      },
      "source": [
        "X_train, X_test, Y_train, Y_test = train_test_split(X, Y, test_size=0.3,random_state = 2)"
      ],
      "execution_count": null,
      "outputs": []
    },
    {
      "cell_type": "code",
      "metadata": {
        "id": "ic6k4KjK5LeW"
      },
      "source": [
        "dtree = DecisionTreeClassifier()"
      ],
      "execution_count": null,
      "outputs": []
    },
    {
      "cell_type": "code",
      "metadata": {
        "colab": {
          "base_uri": "https://localhost:8080/"
        },
        "id": "fPE864TsjPyS",
        "outputId": "d24f5c59-91e2-4c36-e977-9791cbedad76"
      },
      "source": [
        "%%time\r\n",
        "from sklearn.metrics import accuracy_score\r\n"
      ],
      "execution_count": null,
      "outputs": [
        {
          "output_type": "stream",
          "text": [
            "CPU times: user 25 µs, sys: 0 ns, total: 25 µs\n",
            "Wall time: 42.4 µs\n"
          ],
          "name": "stdout"
        }
      ]
    },
    {
      "cell_type": "code",
      "metadata": {
        "id": "LRvfxRTF7RQU"
      },
      "source": [
        "st=StandardScaler()"
      ],
      "execution_count": null,
      "outputs": []
    },
    {
      "cell_type": "code",
      "metadata": {
        "colab": {
          "base_uri": "https://localhost:8080/"
        },
        "id": "F7ciDeum7Vg0",
        "outputId": "994ddeb1-bd0c-48ec-fc73-f2d752808b31"
      },
      "source": [
        "st.fit(X_train)"
      ],
      "execution_count": null,
      "outputs": [
        {
          "output_type": "execute_result",
          "data": {
            "text/plain": [
              "StandardScaler(copy=True, with_mean=True, with_std=True)"
            ]
          },
          "metadata": {
            "tags": []
          },
          "execution_count": 74
        }
      ]
    },
    {
      "cell_type": "code",
      "metadata": {
        "id": "Sx9nUmVV7bGF"
      },
      "source": [
        "X_train=pd.DataFrame(st.transform(X_train))\r\n",
        "X_test=pd.DataFrame(st.transform(X_test))"
      ],
      "execution_count": null,
      "outputs": []
    },
    {
      "cell_type": "code",
      "metadata": {
        "colab": {
          "base_uri": "https://localhost:8080/"
        },
        "id": "cUWAdyAi5RwC",
        "outputId": "9302aa52-161a-4c71-b2d5-1538dfddb408"
      },
      "source": [
        "dtree.fit(X_train,Y_train)\r\n",
        "Y_predsDT = dtree.predict(X_test)\r\n",
        "\r\n",
        "\r\n",
        "accuracy_score(Y_test, Y_predsDT)\r\n"
      ],
      "execution_count": null,
      "outputs": [
        {
          "output_type": "execute_result",
          "data": {
            "text/plain": [
              "0.9998166079812206"
            ]
          },
          "metadata": {
            "tags": []
          },
          "execution_count": 76
        }
      ]
    },
    {
      "cell_type": "code",
      "metadata": {
        "id": "y2n7WFFIusyM"
      },
      "source": [
        "YpredsDT_prob = dtree.predict_proba(X_test)"
      ],
      "execution_count": null,
      "outputs": []
    },
    {
      "cell_type": "code",
      "metadata": {
        "id": "YkACa1bv7mcV"
      },
      "source": [
        "from sklearn.preprocessing import LabelBinarizer"
      ],
      "execution_count": null,
      "outputs": []
    },
    {
      "cell_type": "code",
      "metadata": {
        "id": "ErajGKAGtMCd"
      },
      "source": [
        "def multiclass_roc_auc_score(Y_test, Y_predsDT, average=\"macro\"):\r\n",
        "    lb = LabelBinarizer()\r\n",
        "    lb.fit(Y_test)\r\n",
        "    Y_test = lb.transform(Y_test)\r\n",
        "    Y_predsDT = lb.transform(Y_predsDT)\r\n",
        "    return roc_auc_score(Y_test, Y_predsDT, average=average)\r\n"
      ],
      "execution_count": null,
      "outputs": []
    },
    {
      "cell_type": "code",
      "metadata": {
        "colab": {
          "base_uri": "https://localhost:8080/"
        },
        "id": "M3Uapn4Bte0Y",
        "outputId": "78c41e1e-0eb3-4a81-b6a8-644632e284b7"
      },
      "source": [
        "multiclass_roc_auc_score(Y_test, Y_predsDT)"
      ],
      "execution_count": null,
      "outputs": [
        {
          "output_type": "execute_result",
          "data": {
            "text/plain": [
              "0.9999015135938942"
            ]
          },
          "metadata": {
            "tags": []
          },
          "execution_count": 106
        }
      ]
    },
    {
      "cell_type": "code",
      "metadata": {
        "colab": {
          "base_uri": "https://localhost:8080/"
        },
        "id": "8KJTCNpCNK6c",
        "outputId": "99e76776-f74b-415c-f6de-ac31d01d4888"
      },
      "source": [
        "print('Precision: {:.5f}'.format(precision_score(Y_test, Y_predsDT, average='macro')))\r\n",
        "print('Recall: {:.5f}'.format(recall_score(Y_test, Y_predsDT, average='macro')))\r\n",
        "print('F1-score: {:.5f}\\n'.format(f1_score(Y_test, Y_predsDT, average='macro')))"
      ],
      "execution_count": null,
      "outputs": [
        {
          "output_type": "stream",
          "text": [
            "Precision: 0.99981\n",
            "Recall: 0.99981\n",
            "F1-score: 0.99981\n",
            "\n"
          ],
          "name": "stdout"
        }
      ]
    },
    {
      "cell_type": "code",
      "metadata": {
        "colab": {
          "base_uri": "https://localhost:8080/"
        },
        "id": "7Ao0tMN9OCop",
        "outputId": "230bccac-a649-4be8-c03f-ce8962474828"
      },
      "source": [
        "confusion_matrix(Y_test, Y_predsDT)"
      ],
      "execution_count": null,
      "outputs": [
        {
          "output_type": "execute_result",
          "data": {
            "text/plain": [
              "array([[2609,    0,    0,    0,    0,    0,    0,    0,    0,    0],\n",
              "       [   0, 2680,    0,    0,    0,    0,    0,    0,    0,    0],\n",
              "       [   2,    1, 2612,    0,    0,    0,    0,    0,    0,    0],\n",
              "       [   0,    0,    0, 2780,    0,    0,    0,    0,    0,    0],\n",
              "       [   0,    0,    0,    0, 2712,    0,    0,    0,    0,    0],\n",
              "       [   0,    0,    0,    0,    1, 2768,    0,    0,    1,    0],\n",
              "       [   0,    0,    0,    0,    0,    0, 2731,    0,    0,    0],\n",
              "       [   0,    0,    0,    0,    0,    0,    0, 2762,    0,    0],\n",
              "       [   0,    0,    0,    0,    0,    0,    0,    0, 2919,    0],\n",
              "       [   0,    0,    0,    0,    0,    0,    0,    0,    0, 2686]])"
            ]
          },
          "metadata": {
            "tags": []
          },
          "execution_count": 78
        }
      ]
    },
    {
      "cell_type": "code",
      "metadata": {
        "colab": {
          "base_uri": "https://localhost:8080/",
          "height": 342
        },
        "id": "kJUeYOZI8F9z",
        "outputId": "adbd0b33-9932-401c-dead-668589c9bf8d"
      },
      "source": [
        "cnf_matrix = metrics.confusion_matrix(Y_test, Y_predsDT)\r\n",
        "class_names=[0,1,2,4,5,7,8,10,11,12]\r\n",
        "fig, ax = plt.subplots()\r\n",
        "tick_marks = np.arange(len(class_names))\r\n",
        "plt.xticks(tick_marks, class_names)\r\n",
        "plt.yticks(tick_marks, class_names)\r\n",
        "sns.heatmap(pd.DataFrame(cnf_matrix), annot=True, cmap=\"coolwarm\" ,fmt='g')\r\n",
        "ax.xaxis.set_label_position(\"top\")\r\n",
        "plt.tight_layout()\r\n",
        "plt.title('Confusion matrix', y=1.1)\r\n",
        "plt.ylabel('Actual label')\r\n",
        "plt.xlabel('Predicted label')"
      ],
      "execution_count": null,
      "outputs": [
        {
          "output_type": "execute_result",
          "data": {
            "text/plain": [
              "Text(0.5, 257.44, 'Predicted label')"
            ]
          },
          "metadata": {
            "tags": []
          },
          "execution_count": 79
        },
        {
          "output_type": "display_data",
          "data": {
            "image/png": "[encoded data removed]",
            "text/plain": [
              "<Figure size 432x288 with 2 Axes>"
            ]
          },
          "metadata": {
            "tags": [],
            "needs_background": "light"
          }
        }
      ]
    },
    {
      "cell_type": "code",
      "metadata": {
        "id": "zFMlw4rL8Vzh"
      },
      "source": [
        "Y_test = label_binarize(Y_test, classes=[0,1,2,4,5,7,8,10,11,12])\r\n"
      ],
      "execution_count": null,
      "outputs": []
    },
    {
      "cell_type": "code",
      "metadata": {
        "id": "Rp6isVph8ipF"
      },
      "source": [
        "Y_predsDT = label_binarize(Y_predsDT, classes=[0,1,2,4,5,7,8,10,11,12])\r\n"
      ],
      "execution_count": null,
      "outputs": []
    },
    {
      "cell_type": "code",
      "metadata": {
        "colab": {
          "base_uri": "https://localhost:8080/"
        },
        "id": "io37TIWE-tU-",
        "outputId": "2ed83434-ecbf-465b-8231-177652d48d73"
      },
      "source": [
        "Y_test"
      ],
      "execution_count": null,
      "outputs": [
        {
          "output_type": "execute_result",
          "data": {
            "text/plain": [
              "array([[0, 0, 0, ..., 0, 0, 0],\n",
              "       [0, 0, 0, ..., 0, 0, 0],\n",
              "       [0, 0, 0, ..., 0, 0, 0],\n",
              "       ...,\n",
              "       [0, 0, 0, ..., 0, 0, 0],\n",
              "       [1, 0, 0, ..., 0, 0, 0],\n",
              "       [0, 0, 0, ..., 0, 0, 0]], dtype=int64)"
            ]
          },
          "metadata": {
            "tags": []
          },
          "execution_count": 90
        }
      ]
    },
    {
      "cell_type": "code",
      "metadata": {
        "id": "fWLcOqei8tR3"
      },
      "source": [
        "n_classes=10"
      ],
      "execution_count": null,
      "outputs": []
    },
    {
      "cell_type": "code",
      "metadata": {
        "id": "mI3N8W5J70e9"
      },
      "source": [
        "fpr = dict()\r\n",
        "tpr = dict()\r\n",
        "roc_auc = dict()\r\n",
        "for i in range(n_classes):\r\n",
        "    fpr[i], tpr[i], _ = roc_curve(Y_test[:, i], Y_predsDT[:, i])\r\n",
        "    roc_auc[i] = auc(fpr[i], tpr[i])\r\n",
        "\r\n",
        "# Compute micro-average ROC curve and ROC area\r\n",
        "fpr[\"micro\"], tpr[\"micro\"], _ = roc_curve(Y_test.ravel(), Y_predsDT.ravel())\r\n",
        "roc_auc[\"micro\"] = auc(fpr[\"micro\"], tpr[\"micro\"])"
      ],
      "execution_count": null,
      "outputs": []
    },
    {
      "cell_type": "code",
      "metadata": {
        "colab": {
          "base_uri": "https://localhost:8080/",
          "height": 404
        },
        "id": "mpsIJOb185zF",
        "outputId": "34d463ed-9776-4bcf-a18c-072081b06367"
      },
      "source": [
        "all_fpr = np.unique(np.concatenate([fpr[i] for i in range(n_classes)]))\r\n",
        "\r\n",
        "# Then interpolate all ROC curves at this points\r\n",
        "mean_tpr = np.zeros_like(all_fpr)\r\n",
        "for i in range(n_classes):\r\n",
        "    mean_tpr += interp(all_fpr, fpr[i], tpr[i])\r\n",
        "\r\n",
        "# Finally average it and compute AUC\r\n",
        "mean_tpr /= n_classes\r\n",
        "\r\n",
        "fpr[\"macro\"] = all_fpr\r\n",
        "tpr[\"macro\"] = mean_tpr\r\n",
        "roc_auc[\"macro\"] = auc(fpr[\"macro\"], tpr[\"macro\"])\r\n",
        "\r\n",
        "# Plot all ROC curves\r\n",
        "\r\n",
        "plt.figure(figsize=(6,6))\r\n",
        "plt.plot(fpr[\"micro\"], tpr[\"micro\"],\r\n",
        "         label='micro-average ROC curve (area = {0:0.2f})'\r\n",
        "               ''.format(roc_auc[\"micro\"]),\r\n",
        "         color='pink', linestyle=':', linewidth=4)\r\n",
        "\r\n",
        "plt.plot(fpr[\"macro\"], tpr[\"macro\"],\r\n",
        "         label='macro-average ROC curve (area = {0:0.2f})'\r\n",
        "               ''.format(roc_auc[\"macro\"]),\r\n",
        "         color='green', linestyle=':', linewidth=4)\r\n",
        "\r\n",
        "colors = cycle(['aqua', 'darkorange', 'red','blue'])\r\n",
        "for i, color in zip(range(n_classes), colors):\r\n",
        "    plt.plot(fpr[i], tpr[i], color=color, lw=2,\r\n",
        "             label='ROC curve of class {0} (area = {1:0.2f})'\r\n",
        "             ''.format(i, roc_auc[i]))\r\n",
        "\r\n",
        "plt.plot([0, 1], [0, 1], 'k--', lw=2)\r\n",
        "plt.xlim([0.0, 1.0])\r\n",
        "plt.ylim([0.0, 1.05])\r\n",
        "plt.xlabel('False Positive Rate')\r\n",
        "plt.ylabel('True Positive Rate')\r\n",
        "plt.title('Receiver operating characteristic ')\r\n",
        "plt.legend(bbox_to_anchor=(1,1), loc=\"upper left\")\r\n",
        "\r\n",
        "plt.show()"
      ],
      "execution_count": null,
      "outputs": [
        {
          "output_type": "display_data",
          "data": {
            "image/png": "[encoded data removed]",
            "text/plain": [
              "<Figure size 432x432 with 1 Axes>"
            ]
          },
          "metadata": {
            "tags": [],
            "needs_background": "light"
          }
        }
      ]
    },
    {
      "cell_type": "code",
      "metadata": {
        "id": "2uNsq4EF-5u8"
      },
      "source": [
        "from sklearn.metrics import precision_recall_curve"
      ],
      "execution_count": null,
      "outputs": []
    },
    {
      "cell_type": "code",
      "metadata": {
        "colab": {
          "base_uri": "https://localhost:8080/",
          "height": 294
        },
        "id": "mxnOE4E-FuD1",
        "outputId": "ba2af399-55c4-4373-d240-5e1bb26623d5"
      },
      "source": [
        "precision = dict()\r\n",
        "recall = dict()\r\n",
        "colors = cycle(['blue', 'darkorange', 'green','yellow'])\r\n",
        "for i, color in zip(range(n_classes), colors):\r\n",
        "    precision[i], recall[i], _ = precision_recall_curve(Y_test[:, i],\r\n",
        "                                                        Y_predsDT[:, i])\r\n",
        "    plt.plot(recall[i], precision[i], lw=2, label='class {}'.format(i))\r\n",
        "    \r\n",
        "plt.xlabel(\"recall\")\r\n",
        "plt.ylabel(\"precision\")\r\n",
        "plt.legend(loc=\"best\")\r\n",
        "plt.title(\"precision vs. recall curve\")\r\n",
        "plt.show()"
      ],
      "execution_count": null,
      "outputs": [
        {
          "output_type": "display_data",
          "data": {
            "image/png": "[encoded data removed]",
            "text/plain": [
              "<Figure size 432x288 with 1 Axes>"
            ]
          },
          "metadata": {
            "tags": [],
            "needs_background": "light"
          }
        }
      ]
    },
    {
      "cell_type": "markdown",
      "metadata": {
        "id": "q2Dsy1wfAMlp"
      },
      "source": [
        "# **Random Forest Classifier**"
      ]
    },
    {
      "cell_type": "code",
      "metadata": {
        "id": "TuDBJioRCCl6"
      },
      "source": [
        "Y=data3['Label']"
      ],
      "execution_count": null,
      "outputs": []
    },
    {
      "cell_type": "code",
      "metadata": {
        "id": "aJMYd0_eCCl7"
      },
      "source": [
        "X=data3.drop(['Label'],axis=1)"
      ],
      "execution_count": null,
      "outputs": []
    },
    {
      "cell_type": "code",
      "metadata": {
        "id": "Z145ln8_CCl7"
      },
      "source": [
        "X_train, X_test, Y_train, Y_test = train_test_split(X, Y, test_size=0.3,random_state = 2)"
      ],
      "execution_count": null,
      "outputs": []
    },
    {
      "cell_type": "code",
      "metadata": {
        "id": "m8ahmc5ECCl8"
      },
      "source": [
        "st=StandardScaler()"
      ],
      "execution_count": null,
      "outputs": []
    },
    {
      "cell_type": "code",
      "metadata": {
        "colab": {
          "base_uri": "https://localhost:8080/"
        },
        "id": "uL7VKx1MCCl9",
        "outputId": "e313ae5e-cb2b-4935-a623-21bbb8b3451e"
      },
      "source": [
        "st.fit(X_train)"
      ],
      "execution_count": null,
      "outputs": [
        {
          "output_type": "execute_result",
          "data": {
            "text/plain": [
              "StandardScaler(copy=True, with_mean=True, with_std=True)"
            ]
          },
          "metadata": {
            "tags": []
          },
          "execution_count": 108
        }
      ]
    },
    {
      "cell_type": "code",
      "metadata": {
        "id": "8zfy60nqCCl_"
      },
      "source": [
        "X_train=pd.DataFrame(st.transform(X_train))\r\n",
        "X_test=pd.DataFrame(st.transform(X_test))"
      ],
      "execution_count": null,
      "outputs": []
    },
    {
      "cell_type": "code",
      "metadata": {
        "id": "7OBksGyB4xvi"
      },
      "source": [
        "from sklearn.ensemble import RandomForestClassifier"
      ],
      "execution_count": null,
      "outputs": []
    },
    {
      "cell_type": "code",
      "metadata": {
        "id": "cKgKTK-p43gl"
      },
      "source": [
        "rf = RandomForestClassifier()"
      ],
      "execution_count": null,
      "outputs": []
    },
    {
      "cell_type": "code",
      "metadata": {
        "id": "aqqNnFBp4-Az"
      },
      "source": [
        "rf.fit(X_train,Y_train)\r\n",
        "Y_predsRF = rf.predict(X_test)"
      ],
      "execution_count": null,
      "outputs": []
    },
    {
      "cell_type": "code",
      "metadata": {
        "colab": {
          "base_uri": "https://localhost:8080/"
        },
        "id": "9KZ1AcfDAYPc",
        "outputId": "7fc886e4-5679-4384-ec36-f29921acd432"
      },
      "source": [
        "accuracy_score(Y_test,Y_predsRF)"
      ],
      "execution_count": null,
      "outputs": [
        {
          "output_type": "execute_result",
          "data": {
            "text/plain": [
              "0.9998899647887324"
            ]
          },
          "metadata": {
            "tags": []
          },
          "execution_count": 112
        }
      ]
    },
    {
      "cell_type": "code",
      "metadata": {
        "colab": {
          "base_uri": "https://localhost:8080/"
        },
        "id": "ZKNZl0pmM-HC",
        "outputId": "ac2ff510-78d3-4dc1-8644-892356e151ec"
      },
      "source": [
        "print('Precision: {:.5f}'.format(precision_score(Y_test, Y_predsRF, average='macro')))\r\n",
        "print('Recall: {:.5f}'.format(recall_score(Y_test, Y_predsRF, average='macro')))\r\n",
        "print('F1-score: {:.5f}\\n'.format(f1_score(Y_test, Y_predsRF, average='macro')))"
      ],
      "execution_count": null,
      "outputs": [
        {
          "output_type": "stream",
          "text": [
            "Precision: 0.99989\n",
            "Recall: 0.99989\n",
            "F1-score: 0.99989\n",
            "\n"
          ],
          "name": "stdout"
        }
      ]
    },
    {
      "cell_type": "code",
      "metadata": {
        "colab": {
          "base_uri": "https://localhost:8080/"
        },
        "id": "mmayG5hfN6eq",
        "outputId": "16616ba2-cf90-4b36-ed58-993044e783f0"
      },
      "source": [
        "confusion_matrix(Y_test, Y_predsRF)"
      ],
      "execution_count": null,
      "outputs": [
        {
          "output_type": "execute_result",
          "data": {
            "text/plain": [
              "array([[2607,    0,    2,    0,    0,    0,    0,    0,    0,    0],\n",
              "       [   0, 2680,    0,    0,    0,    0,    0,    0,    0,    0],\n",
              "       [   0,    0, 2615,    0,    0,    0,    0,    0,    0,    0],\n",
              "       [   0,    0,    0, 2780,    0,    0,    0,    0,    0,    0],\n",
              "       [   0,    0,    0,    0, 2712,    0,    0,    0,    0,    0],\n",
              "       [   0,    0,    0,    0,    1, 2769,    0,    0,    0,    0],\n",
              "       [   0,    0,    0,    0,    0,    0, 2731,    0,    0,    0],\n",
              "       [   0,    0,    0,    0,    0,    0,    0, 2762,    0,    0],\n",
              "       [   0,    0,    0,    0,    0,    0,    0,    0, 2919,    0],\n",
              "       [   0,    0,    0,    0,    0,    0,    0,    0,    0, 2686]])"
            ]
          },
          "metadata": {
            "tags": []
          },
          "execution_count": 114
        }
      ]
    },
    {
      "cell_type": "code",
      "metadata": {
        "colab": {
          "base_uri": "https://localhost:8080/",
          "height": 342
        },
        "id": "OjVuQrUx8JXK",
        "outputId": "4899d2e6-474a-4a30-d70c-b0f9ae96bae9"
      },
      "source": [
        "cnf_matrix = metrics.confusion_matrix(Y_test, Y_predsRF)\r\n",
        "class_names=[0,1,2,4,5,7,8,10,11,12]\r\n",
        "fig, ax = plt.subplots()\r\n",
        "tick_marks = np.arange(len(class_names))\r\n",
        "plt.xticks(tick_marks, class_names)\r\n",
        "plt.yticks(tick_marks, class_names)\r\n",
        "sns.heatmap(pd.DataFrame(cnf_matrix), annot=True, cmap=\"coolwarm\" ,fmt='g')\r\n",
        "ax.xaxis.set_label_position(\"top\")\r\n",
        "plt.tight_layout()\r\n",
        "plt.title('Confusion matrix', y=1.1)\r\n",
        "plt.ylabel('Actual label')\r\n",
        "plt.xlabel('Predicted label')"
      ],
      "execution_count": null,
      "outputs": [
        {
          "output_type": "execute_result",
          "data": {
            "text/plain": [
              "Text(0.5, 257.44, 'Predicted label')"
            ]
          },
          "metadata": {
            "tags": []
          },
          "execution_count": 115
        },
        {
          "output_type": "display_data",
          "data": {
            "image/png": "[encoded data removed]",
            "text/plain": [
              "<Figure size 432x288 with 2 Axes>"
            ]
          },
          "metadata": {
            "tags": [],
            "needs_background": "light"
          }
        }
      ]
    },
    {
      "cell_type": "code",
      "metadata": {
        "id": "zoz9puF3EFlp"
      },
      "source": [
        ""
      ],
      "execution_count": null,
      "outputs": []
    },
    {
      "cell_type": "code",
      "metadata": {
        "id": "kLtUZGlbEGZl"
      },
      "source": [
        "Y_test = label_binarize(Y_test, classes=[0,1,2,4,5,7,8,10,11,12])\r\n"
      ],
      "execution_count": null,
      "outputs": []
    },
    {
      "cell_type": "code",
      "metadata": {
        "id": "NeDtroQWEGZm"
      },
      "source": [
        "Y_predsRF = label_binarize(Y_predsDT, classes=[0,1,2,4,5,7,8,10,11,12])\r\n"
      ],
      "execution_count": null,
      "outputs": []
    },
    {
      "cell_type": "code",
      "metadata": {
        "id": "3VetFEieEGZn"
      },
      "source": [
        "fpr = dict()\r\n",
        "tpr = dict()\r\n",
        "roc_auc = dict()\r\n",
        "for i in range(n_classes):\r\n",
        "    fpr[i], tpr[i], _ = roc_curve(Y_test[:, i], Y_predsRF[:, i])\r\n",
        "    roc_auc[i] = auc(fpr[i], tpr[i])\r\n",
        "\r\n",
        "# Compute micro-average ROC curve and ROC area\r\n",
        "fpr[\"micro\"], tpr[\"micro\"], _ = roc_curve(Y_test.ravel(), Y_predsRF.ravel())\r\n",
        "roc_auc[\"micro\"] = auc(fpr[\"micro\"], tpr[\"micro\"])"
      ],
      "execution_count": null,
      "outputs": []
    },
    {
      "cell_type": "code",
      "metadata": {
        "colab": {
          "base_uri": "https://localhost:8080/",
          "height": 410
        },
        "id": "dYP1cROqEGZn",
        "outputId": "8dea4eb7-cdba-4023-fa3b-83b0a225e054"
      },
      "source": [
        "all_fpr = np.unique(np.concatenate([fpr[i] for i in range(n_classes)]))\r\n",
        "\r\n",
        "# Then interpolate all ROC curves at this points\r\n",
        "mean_tpr = np.zeros_like(all_fpr)\r\n",
        "for i in range(n_classes):\r\n",
        "    mean_tpr += interp(all_fpr, fpr[i], tpr[i])\r\n",
        "\r\n",
        "# Finally average it and compute AUC\r\n",
        "mean_tpr /= n_classes\r\n",
        "\r\n",
        "fpr[\"macro\"] = all_fpr\r\n",
        "tpr[\"macro\"] = mean_tpr\r\n",
        "roc_auc[\"macro\"] = auc(fpr[\"macro\"], tpr[\"macro\"])\r\n",
        "\r\n",
        "# Plot all ROC curves\r\n",
        "\r\n",
        "plt.figure(figsize=(6,6))\r\n",
        "plt.plot(fpr[\"micro\"], tpr[\"micro\"],\r\n",
        "         label='micro-average ROC curve (area = {0:0.2f})'\r\n",
        "               ''.format(roc_auc[\"micro\"]),\r\n",
        "         color='pink', linestyle=':', linewidth=4)\r\n",
        "\r\n",
        "plt.plot(fpr[\"macro\"], tpr[\"macro\"],\r\n",
        "         label='macro-average ROC curve (area = {0:0.2f})'\r\n",
        "               ''.format(roc_auc[\"macro\"]),\r\n",
        "         color='green', linestyle=':', linewidth=4)\r\n",
        "\r\n",
        "colors = cycle(['aqua', 'blue', 'green','yellow'])\r\n",
        "for i, color in zip(range(n_classes), colors):\r\n",
        "    plt.plot(fpr[i], tpr[i], color=color, lw=2,\r\n",
        "             label='ROC curve of class {0} (area = {1:0.2f})'\r\n",
        "             ''.format(i, roc_auc[i]))\r\n",
        "\r\n",
        "plt.plot([0, 1], [0, 1], 'k--', lw=2)\r\n",
        "plt.xlim([0.0, 1.0])\r\n",
        "plt.ylim([0.0, 1.05])\r\n",
        "plt.xlabel('False Positive Rate')\r\n",
        "plt.ylabel('True Positive Rate')\r\n",
        "plt.title('Receiver operating characteristic for multi-class Using Random Forest')\r\n",
        "plt.legend(bbox_to_anchor=(1,1), loc=\"upper left\")\r\n",
        "\r\n",
        "plt.show()"
      ],
      "execution_count": null,
      "outputs": [
        {
          "output_type": "display_data",
          "data": {
            "image/png": "[encoded data removed]",
            "text/plain": [
              "<Figure size 432x432 with 1 Axes>"
            ]
          },
          "metadata": {
            "tags": []
          }
        }
      ]
    },
    {
      "cell_type": "code",
      "metadata": {
        "id": "rosQfkW7EGZp"
      },
      "source": [
        "from sklearn.metrics import precision_recall_curve"
      ],
      "execution_count": null,
      "outputs": []
    },
    {
      "cell_type": "code",
      "metadata": {
        "colab": {
          "base_uri": "https://localhost:8080/",
          "height": 294
        },
        "id": "KHFeS7SbEGZq",
        "outputId": "61abac55-b669-44a2-fbc6-1f7aa014a49a"
      },
      "source": [
        "precision = dict()\r\n",
        "recall = dict()\r\n",
        "for i in range(n_classes):\r\n",
        "    precision[i], recall[i], _ = precision_recall_curve(Y_test[:, i],\r\n",
        "                                                        Y_predsRF[:, i])\r\n",
        "    plt.plot(recall[i], precision[i], lw=2, label='class {}'.format(i))\r\n",
        "    \r\n",
        "plt.xlabel(\"recall\")\r\n",
        "plt.ylabel(\"precision\")\r\n",
        "plt.legend(loc=\"best\")\r\n",
        "plt.title(\"precision vs. recall curve\")\r\n",
        "plt.show()"
      ],
      "execution_count": null,
      "outputs": [
        {
          "output_type": "display_data",
          "data": {
            "image/png": "[encoded data removed]",
            "text/plain": [
              "<Figure size 432x288 with 1 Axes>"
            ]
          },
          "metadata": {
            "tags": [],
            "needs_background": "light"
          }
        }
      ]
    },
    {
      "cell_type": "markdown",
      "metadata": {
        "id": "EOHffisBCUXx"
      },
      "source": [
        "# **XGBoost Classifier**"
      ]
    },
    {
      "cell_type": "code",
      "metadata": {
        "id": "qAFDoblhCR6S"
      },
      "source": [
        "Y=data3['Label']"
      ],
      "execution_count": null,
      "outputs": []
    },
    {
      "cell_type": "code",
      "metadata": {
        "id": "_P0PihCECR6U"
      },
      "source": [
        "X=data3.drop(['Label'],axis=1)"
      ],
      "execution_count": null,
      "outputs": []
    },
    {
      "cell_type": "code",
      "metadata": {
        "id": "xqUjyhueCR6U"
      },
      "source": [
        "X_train, X_test, Y_train, Y_test = train_test_split(X, Y, test_size=0.3,random_state = 2)"
      ],
      "execution_count": null,
      "outputs": []
    },
    {
      "cell_type": "code",
      "metadata": {
        "id": "4L8oL9GQCR6V"
      },
      "source": [
        "st=StandardScaler()"
      ],
      "execution_count": null,
      "outputs": []
    },
    {
      "cell_type": "code",
      "metadata": {
        "colab": {
          "base_uri": "https://localhost:8080/"
        },
        "id": "CRLypzNuCR6V",
        "outputId": "1a0df5a5-8a03-4141-df5e-f856392c82e8"
      },
      "source": [
        "st.fit(X_train)"
      ],
      "execution_count": null,
      "outputs": [
        {
          "output_type": "execute_result",
          "data": {
            "text/plain": [
              "StandardScaler(copy=True, with_mean=True, with_std=True)"
            ]
          },
          "metadata": {
            "tags": []
          },
          "execution_count": 134
        }
      ]
    },
    {
      "cell_type": "code",
      "metadata": {
        "id": "4z41FuJjCR6W"
      },
      "source": [
        "X_train=pd.DataFrame(st.transform(X_train))\r\n",
        "X_test=pd.DataFrame(st.transform(X_test))"
      ],
      "execution_count": null,
      "outputs": []
    },
    {
      "cell_type": "code",
      "metadata": {
        "colab": {
          "base_uri": "https://localhost:8080/"
        },
        "id": "b3E36V5o9b-Q",
        "outputId": "403e47e3-9720-43fe-8dbf-877bbaaf57b0"
      },
      "source": [
        "from xgboost import XGBClassifier\r\n",
        "xgb=XGBClassifier(random_state=1,learning_rate=0.01)\r\n",
        "xgb.fit(X_train, Y_train)\r\n",
        "print('With XGB  accuracy is: ',xgb.score(X_test,Y_test))"
      ],
      "execution_count": null,
      "outputs": [
        {
          "output_type": "stream",
          "text": [
            "With XGB  accuracy is:  0.9995231807511737\n"
          ],
          "name": "stdout"
        }
      ]
    },
    {
      "cell_type": "code",
      "metadata": {
        "id": "GYdMudXuEqDe"
      },
      "source": [
        "Y_predsXGB=xgb.predict(X_test)"
      ],
      "execution_count": null,
      "outputs": []
    },
    {
      "cell_type": "code",
      "metadata": {
        "colab": {
          "base_uri": "https://localhost:8080/"
        },
        "id": "QPlD9hlVJXLh",
        "outputId": "f500dfe2-5873-4c90-bc7b-a3c6ce440850"
      },
      "source": [
        "accuracy_score(Y_test,Y_predsXGB)"
      ],
      "execution_count": null,
      "outputs": [
        {
          "output_type": "execute_result",
          "data": {
            "text/plain": [
              "0.9995231807511737"
            ]
          },
          "metadata": {
            "tags": []
          },
          "execution_count": 138
        }
      ]
    },
    {
      "cell_type": "code",
      "metadata": {
        "id": "6maDfxP-Fvkd"
      },
      "source": [
        "from sklearn.metrics import confusion_matrix\r\n",
        "from sklearn.metrics import precision_score, recall_score\r\n",
        "from sklearn.metrics import f1_score"
      ],
      "execution_count": null,
      "outputs": []
    },
    {
      "cell_type": "code",
      "metadata": {
        "colab": {
          "base_uri": "https://localhost:8080/"
        },
        "id": "iLVlGMv1E32e",
        "outputId": "a01bf861-060a-4940-b363-1b36816e3537"
      },
      "source": [
        "confusion_matrix(Y_test, Y_predsXGB)\r\n",
        "\r\n"
      ],
      "execution_count": null,
      "outputs": [
        {
          "output_type": "execute_result",
          "data": {
            "text/plain": [
              "array([[2604,    0,    2,    0,    0,    2,    1,    0,    0,    0],\n",
              "       [   0, 2680,    0,    0,    0,    0,    0,    0,    0,    0],\n",
              "       [   0,    0, 2611,    0,    0,    4,    0,    0,    0,    0],\n",
              "       [   0,    0,    0, 2780,    0,    0,    0,    0,    0,    0],\n",
              "       [   0,    0,    0,    0, 2712,    0,    0,    0,    0,    0],\n",
              "       [   0,    0,    1,    0,    1, 2766,    0,    1,    1,    0],\n",
              "       [   0,    0,    0,    0,    0,    0, 2731,    0,    0,    0],\n",
              "       [   0,    0,    0,    0,    0,    0,    0, 2762,    0,    0],\n",
              "       [   0,    0,    0,    0,    0,    0,    0,    0, 2919,    0],\n",
              "       [   0,    0,    0,    0,    0,    0,    0,    0,    0, 2686]])"
            ]
          },
          "metadata": {
            "tags": []
          },
          "execution_count": 140
        }
      ]
    },
    {
      "cell_type": "code",
      "metadata": {
        "colab": {
          "base_uri": "https://localhost:8080/"
        },
        "id": "OQ8VBu9pMsgl",
        "outputId": "c8e7ba81-7b1c-4b4c-d2d6-3ffe33bb52af"
      },
      "source": [
        "print('Precision: {:.5f}'.format(precision_score(Y_test, Y_predsXGB, average='macro')))\r\n",
        "print('Recall: {:.5f}'.format(recall_score(Y_test, Y_predsXGB, average='macro')))\r\n",
        "print('F1-score: {:.5f}\\n'.format(f1_score(Y_test, Y_predsXGB, average='macro')))"
      ],
      "execution_count": null,
      "outputs": [
        {
          "output_type": "stream",
          "text": [
            "Precision: 0.99952\n",
            "Recall: 0.99951\n",
            "F1-score: 0.99952\n",
            "\n"
          ],
          "name": "stdout"
        }
      ]
    },
    {
      "cell_type": "code",
      "metadata": {
        "id": "tYM6qhWtQbfX"
      },
      "source": [
        "import sklearn.metrics\r\n",
        "from sklearn.metrics import roc_auc_score\r\n",
        "from sklearn import metrics\r\n",
        "import matplotlib.pyplot as plt\r\n",
        "import seaborn as sns\r\n",
        "sns.set(style='whitegrid')"
      ],
      "execution_count": null,
      "outputs": []
    },
    {
      "cell_type": "code",
      "metadata": {
        "id": "aet2Kv_QPlVG",
        "colab": {
          "base_uri": "https://localhost:8080/",
          "height": 341
        },
        "outputId": "d5bc09a0-c114-4276-9fbd-a657e5ac6496"
      },
      "source": [
        "cnf_matrix = metrics.confusion_matrix(Y_test, Y_predsXGB)\r\n",
        "class_names=[0,1,2,4,5,7,8,10,11,12]\r\n",
        "fig, ax = plt.subplots()\r\n",
        "tick_marks = np.arange(len(class_names))\r\n",
        "plt.xticks(tick_marks, class_names)\r\n",
        "plt.yticks(tick_marks, class_names)\r\n",
        "sns.heatmap(pd.DataFrame(cnf_matrix), annot=True, cmap=\"coolwarm\" ,fmt='g')\r\n",
        "ax.xaxis.set_label_position(\"top\")\r\n",
        "plt.tight_layout()\r\n",
        "plt.title('Confusion matrix', y=1.1)\r\n",
        "plt.ylabel('Actual label')\r\n",
        "plt.xlabel('Predicted label')"
      ],
      "execution_count": null,
      "outputs": [
        {
          "output_type": "execute_result",
          "data": {
            "text/plain": [
              "Text(0.5, 257.44, 'Predicted label')"
            ]
          },
          "metadata": {
            "tags": []
          },
          "execution_count": 144
        },
        {
          "output_type": "display_data",
          "data": {
            "image/png": "[encoded data removed]",
            "text/plain": [
              "<Figure size 432x288 with 2 Axes>"
            ]
          },
          "metadata": {
            "tags": []
          }
        }
      ]
    },
    {
      "cell_type": "code",
      "metadata": {
        "id": "fL0vfkcdefy8"
      },
      "source": [
        "import pandas as pd\r\n",
        "from sklearn.model_selection import train_test_split\r\n",
        "import tensorflow as tf\r\n",
        "import numpy as np\r\n",
        "from sklearn.metrics import roc_auc_score\r\n",
        "from sklearn.preprocessing import StandardScaler\r\n",
        "import warnings\r\n",
        "warnings.filterwarnings('ignore')\r\n",
        "from sklearn.metrics import roc_auc_score\r\n",
        "import sys\r\n",
        "from sklearn.preprocessing import StandardScaler, LabelEncoder"
      ],
      "execution_count": null,
      "outputs": []
    },
    {
      "cell_type": "code",
      "metadata": {
        "id": "fKzKkridTF2C"
      },
      "source": [
        "Y_test = label_binarize(Y_test, classes=[0,1,2,4,5,7,8,10,11,12])\r\n"
      ],
      "execution_count": null,
      "outputs": []
    },
    {
      "cell_type": "code",
      "metadata": {
        "id": "Omv3CZmwTF2I"
      },
      "source": [
        "Y_predsXGB = label_binarize(Y_predsXGB, classes=[0,1,2,4,5,7,8,10,11,12])\r\n"
      ],
      "execution_count": null,
      "outputs": []
    },
    {
      "cell_type": "code",
      "metadata": {
        "id": "LcOmuMIwTF2J"
      },
      "source": [
        "fpr = dict()\r\n",
        "tpr = dict()\r\n",
        "roc_auc = dict()\r\n",
        "for i in range(n_classes):\r\n",
        "    fpr[i], tpr[i], _ = roc_curve(Y_test[:, i], Y_predsXGB[:, i])\r\n",
        "    roc_auc[i] = auc(fpr[i], tpr[i])\r\n",
        "\r\n",
        "# Compute micro-average ROC curve and ROC area\r\n",
        "fpr[\"micro\"], tpr[\"micro\"], _ = roc_curve(Y_test.ravel(), Y_predsXGB.ravel())\r\n",
        "roc_auc[\"micro\"] = auc(fpr[\"micro\"], tpr[\"micro\"])"
      ],
      "execution_count": null,
      "outputs": []
    },
    {
      "cell_type": "code",
      "metadata": {
        "colab": {
          "base_uri": "https://localhost:8080/",
          "height": 410
        },
        "id": "TJm9s91JTF2J",
        "outputId": "2de5a6d7-7a61-4683-f7f4-7d10b266857c"
      },
      "source": [
        "all_fpr = np.unique(np.concatenate([fpr[i] for i in range(n_classes)]))\r\n",
        "\r\n",
        "# Then interpolate all ROC curves at this points\r\n",
        "mean_tpr = np.zeros_like(all_fpr)\r\n",
        "for i in range(n_classes):\r\n",
        "    mean_tpr += interp(all_fpr, fpr[i], tpr[i])\r\n",
        "\r\n",
        "# Finally average it and compute AUC\r\n",
        "mean_tpr /= n_classes\r\n",
        "\r\n",
        "fpr[\"macro\"] = all_fpr\r\n",
        "tpr[\"macro\"] = mean_tpr\r\n",
        "roc_auc[\"macro\"] = auc(fpr[\"macro\"], tpr[\"macro\"])\r\n",
        "\r\n",
        "# Plot all ROC curves\r\n",
        "\r\n",
        "plt.figure(figsize=(6,6))\r\n",
        "plt.plot(fpr[\"micro\"], tpr[\"micro\"],\r\n",
        "         label='micro-average ROC curve (area = {0:0.2f})'\r\n",
        "               ''.format(roc_auc[\"micro\"]),\r\n",
        "         color='pink', linestyle=':', linewidth=4)\r\n",
        "\r\n",
        "plt.plot(fpr[\"macro\"], tpr[\"macro\"],\r\n",
        "         label='macro-average ROC curve (area = {0:0.2f})'\r\n",
        "               ''.format(roc_auc[\"macro\"]),\r\n",
        "         color='green', linestyle=':', linewidth=4)\r\n",
        "\r\n",
        "colors = cycle(['red', 'green', 'aqua','violet'])\r\n",
        "for i, color in zip(range(n_classes), colors):\r\n",
        "    plt.plot(fpr[i], tpr[i], color=color, lw=2,\r\n",
        "             label='ROC curve of class {0} (area = {1:0.2f})'\r\n",
        "             ''.format(i, roc_auc[i]))\r\n",
        "\r\n",
        "plt.plot([0, 1], [0, 1], 'k--', lw=2)\r\n",
        "plt.xlim([0.0, 1.0])\r\n",
        "plt.ylim([0.0, 1.05])\r\n",
        "plt.xlabel('False Positive Rate')\r\n",
        "plt.ylabel('True Positive Rate')\r\n",
        "plt.title('Receiver operating characteristic for multi-class')\r\n",
        "plt.legend(bbox_to_anchor=(1,1), loc=\"upper left\")\r\n",
        "\r\n",
        "plt.show()"
      ],
      "execution_count": null,
      "outputs": [
        {
          "output_type": "display_data",
          "data": {
            "image/png": "[encoded data removed]",
            "text/plain": [
              "<Figure size 432x432 with 1 Axes>"
            ]
          },
          "metadata": {
            "tags": []
          }
        }
      ]
    },
    {
      "cell_type": "code",
      "metadata": {
        "id": "F02QW2ScTF2K"
      },
      "source": [
        "from sklearn.metrics import precision_recall_curve"
      ],
      "execution_count": null,
      "outputs": []
    },
    {
      "cell_type": "code",
      "metadata": {
        "colab": {
          "base_uri": "https://localhost:8080/",
          "height": 301
        },
        "id": "eo65inzrTF2K",
        "outputId": "79f77991-9ffe-4ffc-b14b-bc3d8e00c2af"
      },
      "source": [
        "precision = dict()\r\n",
        "recall = dict()\r\n",
        "for i in range(n_classes):\r\n",
        "    precision[i], recall[i], _ = precision_recall_curve(Y_test[:, i],\r\n",
        "                                                        Y_predsXGB[:, i])\r\n",
        "    plt.plot(recall[i], precision[i], lw=2, label='class {}'.format(i))\r\n",
        "    \r\n",
        "plt.xlabel(\"recall\")\r\n",
        "plt.ylabel(\"precision\")\r\n",
        "plt.legend(loc=\"best\")\r\n",
        "plt.title(\"precision vs. recall curve\")\r\n",
        "plt.show()"
      ],
      "execution_count": null,
      "outputs": [
        {
          "output_type": "display_data",
          "data": {
            "image/png": "[encoded data removed]",
            "text/plain": [
              "<Figure size 432x288 with 1 Axes>"
            ]
          },
          "metadata": {
            "tags": []
          }
        }
      ]
    },
    {
      "cell_type": "markdown",
      "metadata": {
        "id": "8gTZ0mP5mw4R"
      },
      "source": [
        "Multi-Class Classification Using ANN"
      ]
    },
    {
      "cell_type": "code",
      "metadata": {
        "id": "JWx0xE-6en5z"
      },
      "source": [
        "import keras\r\n",
        "from keras.models import Sequential\r\n",
        "from keras.layers import Dense\r\n",
        "from keras.optimizers import Adam\r\n",
        "import pydot\r\n",
        "import graphviz\r\n",
        "from IPython.display import SVG\r\n",
        "from keras.utils.vis_utils import model_to_dot\r\n",
        "from keras.utils import plot_model\r\n",
        "import seaborn as sns\r\n",
        "import pandas as pd\r\n",
        "import numpy as np"
      ],
      "execution_count": null,
      "outputs": []
    },
    {
      "cell_type": "code",
      "metadata": {
        "id": "qYMqD0yve5pl"
      },
      "source": [
        "X = data3.drop('Label',axis=1)"
      ],
      "execution_count": null,
      "outputs": []
    },
    {
      "cell_type": "code",
      "metadata": {
        "id": "YzI6azkIe8WL"
      },
      "source": [
        "y=data3['Label']"
      ],
      "execution_count": null,
      "outputs": []
    },
    {
      "cell_type": "code",
      "metadata": {
        "id": "4Nun8FU0fFKK"
      },
      "source": [
        "from sklearn.preprocessing import LabelEncoder\r\n",
        "encoder =  LabelEncoder()\r\n",
        "y1 = encoder.fit_transform(y)\r\n",
        "Y = pd.get_dummies(y1).values"
      ],
      "execution_count": null,
      "outputs": []
    },
    {
      "cell_type": "code",
      "metadata": {
        "id": "ISE-PLl2g-vE"
      },
      "source": [
        "from sklearn.model_selection import train_test_split\r\n",
        "X_train,X_test, y_train,y_test = train_test_split(X,Y,test_size=0.3,random_state=42)"
      ],
      "execution_count": null,
      "outputs": []
    },
    {
      "cell_type": "code",
      "metadata": {
        "colab": {
          "base_uri": "https://localhost:8080/"
        },
        "id": "p24zLFw5fHxq",
        "outputId": "bf795092-dd8d-45f4-c61c-a858bafc82d4"
      },
      "source": [
        "Y"
      ],
      "execution_count": null,
      "outputs": [
        {
          "output_type": "execute_result",
          "data": {
            "text/plain": [
              "array([[0, 0, 1, ..., 0, 0, 0],\n",
              "       [0, 0, 0, ..., 0, 0, 1],\n",
              "       [0, 1, 0, ..., 0, 0, 0],\n",
              "       ...,\n",
              "       [0, 0, 1, ..., 0, 0, 0],\n",
              "       [0, 0, 0, ..., 0, 0, 0],\n",
              "       [0, 1, 0, ..., 0, 0, 0]], dtype=uint8)"
            ]
          },
          "metadata": {
            "tags": []
          },
          "execution_count": 161
        }
      ]
    },
    {
      "cell_type": "code",
      "metadata": {
        "colab": {
          "base_uri": "https://localhost:8080/"
        },
        "id": "iRKMrLw8gjc0",
        "outputId": "bd576954-d8c3-4b6d-bf52-3d7d866be610"
      },
      "source": [
        "X.shape"
      ],
      "execution_count": null,
      "outputs": [
        {
          "output_type": "execute_result",
          "data": {
            "text/plain": [
              "(90877, 17)"
            ]
          },
          "metadata": {
            "tags": []
          },
          "execution_count": 162
        }
      ]
    },
    {
      "cell_type": "code",
      "metadata": {
        "id": "bcRZfMGEfuW5"
      },
      "source": [
        "model = Sequential()\r\n",
        "\r\n",
        "model.add(Dense(17,input_shape=(17,), activation='relu'))\r\n",
        "\r\n",
        "model.add(Dense(10, activation='softmax'))\r\n"
      ],
      "execution_count": null,
      "outputs": []
    },
    {
      "cell_type": "code",
      "metadata": {
        "id": "GhEaN5KUetTY"
      },
      "source": [
        "model.compile(optimizer=\"Adam\", loss='categorical_crossentropy', metrics=['accuracy'])"
      ],
      "execution_count": null,
      "outputs": []
    },
    {
      "cell_type": "code",
      "metadata": {
        "id": "9Y6Y-MsbiNnV"
      },
      "source": [
        "st=StandardScaler()"
      ],
      "execution_count": null,
      "outputs": []
    },
    {
      "cell_type": "code",
      "metadata": {
        "colab": {
          "base_uri": "https://localhost:8080/"
        },
        "id": "7H9ts2c5ieIX",
        "outputId": "90867fbb-7507-479e-b2a5-40ad36122e0c"
      },
      "source": [
        "st.fit(X_train)"
      ],
      "execution_count": null,
      "outputs": [
        {
          "output_type": "execute_result",
          "data": {
            "text/plain": [
              "StandardScaler(copy=True, with_mean=True, with_std=True)"
            ]
          },
          "metadata": {
            "tags": []
          },
          "execution_count": 167
        }
      ]
    },
    {
      "cell_type": "code",
      "metadata": {
        "id": "CAmCx9RTinR3"
      },
      "source": [
        "X_train=pd.DataFrame(st.transform(X_train))\r\n",
        "X_test=pd.DataFrame(st.transform(X_test))"
      ],
      "execution_count": null,
      "outputs": []
    },
    {
      "cell_type": "code",
      "metadata": {
        "colab": {
          "base_uri": "https://localhost:8080/"
        },
        "id": "jnVdMUn9enqI",
        "outputId": "04004989-57ca-432e-deb5-523a40e20f52"
      },
      "source": [
        "model.fit(X_train, y_train, batch_size=52, epochs=20)"
      ],
      "execution_count": null,
      "outputs": [
        {
          "output_type": "stream",
          "text": [
            "Epoch 1/20\n",
            "1224/1224 [==============================] - 11s 9ms/step - loss: 1.1630 - accuracy: 0.6353\n",
            "Epoch 2/20\n",
            "1224/1224 [==============================] - 10s 9ms/step - loss: 0.1842 - accuracy: 0.9572\n",
            "Epoch 3/20\n",
            "1224/1224 [==============================] - 11s 9ms/step - loss: 0.0906 - accuracy: 0.9781\n",
            "Epoch 4/20\n",
            "1224/1224 [==============================] - 10s 9ms/step - loss: 0.0504 - accuracy: 0.9900\n",
            "Epoch 5/20\n",
            "1224/1224 [==============================] - 10s 8ms/step - loss: 0.0308 - accuracy: 0.9973\n",
            "Epoch 6/20\n",
            "1224/1224 [==============================] - 10s 8ms/step - loss: 0.0239 - accuracy: 0.9985\n",
            "Epoch 7/20\n",
            "1224/1224 [==============================] - 10s 8ms/step - loss: 0.0104 - accuracy: 0.9987\n",
            "Epoch 8/20\n",
            "1224/1224 [==============================] - 10s 8ms/step - loss: 0.0100 - accuracy: 0.9985\n",
            "Epoch 9/20\n",
            "1224/1224 [==============================] - 10s 8ms/step - loss: 0.0057 - accuracy: 0.9991\n",
            "Epoch 10/20\n",
            "1224/1224 [==============================] - 10s 8ms/step - loss: 0.0061 - accuracy: 0.9988\n",
            "Epoch 11/20\n",
            "1224/1224 [==============================] - 10s 8ms/step - loss: 0.0041 - accuracy: 0.9991\n",
            "Epoch 12/20\n",
            "1224/1224 [==============================] - 11s 9ms/step - loss: 0.0044 - accuracy: 0.9991\n",
            "Epoch 13/20\n",
            "1224/1224 [==============================] - 10s 9ms/step - loss: 0.0038 - accuracy: 0.9993\n",
            "Epoch 14/20\n",
            "1224/1224 [==============================] - 11s 9ms/step - loss: 0.0026 - accuracy: 0.9994\n",
            "Epoch 15/20\n",
            "1224/1224 [==============================] - 11s 9ms/step - loss: 0.0022 - accuracy: 0.9995\n",
            "Epoch 16/20\n",
            "1224/1224 [==============================] - 11s 9ms/step - loss: 0.0025 - accuracy: 0.9993\n",
            "Epoch 17/20\n",
            "1224/1224 [==============================] - 10s 8ms/step - loss: 0.0023 - accuracy: 0.9994\n",
            "Epoch 18/20\n",
            "1224/1224 [==============================] - 10s 8ms/step - loss: 0.0025 - accuracy: 0.9992\n",
            "Epoch 19/20\n",
            "1224/1224 [==============================] - 10s 8ms/step - loss: 0.0025 - accuracy: 0.9993\n",
            "Epoch 20/20\n",
            "1224/1224 [==============================] - 10s 8ms/step - loss: 0.0020 - accuracy: 0.9995\n"
          ],
          "name": "stdout"
        },
        {
          "output_type": "execute_result",
          "data": {
            "text/plain": [
              "<tensorflow.python.keras.callbacks.History at 0x7f789b0e81d0>"
            ]
          },
          "metadata": {
            "tags": []
          },
          "execution_count": 169
        }
      ]
    },
    {
      "cell_type": "code",
      "metadata": {
        "id": "tKQbwCcdWVCI"
      },
      "source": [
        "y_pred = model.predict(X_test)\r\n"
      ],
      "execution_count": null,
      "outputs": []
    },
    {
      "cell_type": "code",
      "metadata": {
        "id": "LWr7h-zqmZ8U"
      },
      "source": [
        "y_test_class = np.argmax(y_test,axis=1)\r\n",
        "y_pred_class = np.argmax(y_pred,axis=1)"
      ],
      "execution_count": null,
      "outputs": []
    },
    {
      "cell_type": "code",
      "metadata": {
        "colab": {
          "base_uri": "https://localhost:8080/"
        },
        "id": "qPJRLz65W5-5",
        "outputId": "3330c7f6-f4ed-45e9-9540-d553e989005d"
      },
      "source": [
        "accuracy_score(y_test_class,y_pred_class)"
      ],
      "execution_count": null,
      "outputs": [
        {
          "output_type": "execute_result",
          "data": {
            "text/plain": [
              "0.9989363262910798"
            ]
          },
          "metadata": {
            "tags": []
          },
          "execution_count": 173
        }
      ]
    },
    {
      "cell_type": "code",
      "metadata": {
        "colab": {
          "base_uri": "https://localhost:8080/"
        },
        "id": "fIm2-dbSXEq3",
        "outputId": "bf85c116-6db1-4218-9c16-7c87838ca13f"
      },
      "source": [
        "print('Precision: {:.5f}'.format(precision_score(y_test_class,y_pred_class,average=\"macro\")))\r\n",
        "print('Recall: {:.5f}'.format(recall_score(y_test_class,y_pred_class,average=\"macro\")))\r\n",
        "print('F1-score: {:.5f}\\n'.format(f1_score(y_test_class,y_pred_class,average=\"macro\")))"
      ],
      "execution_count": null,
      "outputs": [
        {
          "output_type": "stream",
          "text": [
            "Precision: 0.99897\n",
            "Recall: 0.99885\n",
            "F1-score: 0.99891\n",
            "\n"
          ],
          "name": "stdout"
        }
      ]
    },
    {
      "cell_type": "code",
      "metadata": {
        "id": "-euuNyfvXOOz"
      },
      "source": [
        "import sklearn.metrics\r\n",
        "from sklearn.metrics import roc_auc_score\r\n",
        "from sklearn import metrics\r\n",
        "import matplotlib.pyplot as plt\r\n",
        "import seaborn as sns\r\n",
        "sns.set(style='whitegrid')"
      ],
      "execution_count": null,
      "outputs": []
    },
    {
      "cell_type": "code",
      "metadata": {
        "colab": {
          "base_uri": "https://localhost:8080/",
          "height": 337
        },
        "id": "h0onH5shXe8m",
        "outputId": "16c0dbcc-265e-4109-acd7-7b6fb2493902"
      },
      "source": [
        "cnf_matrix = metrics.confusion_matrix(y_test_class, y_pred_class)\r\n",
        "class_names=[0,1,2,4,5,7,8,10,11,12]\r\n",
        "fig, ax = plt.subplots()\r\n",
        "tick_marks = np.arange(len(class_names))\r\n",
        "plt.xticks(tick_marks, class_names)\r\n",
        "plt.yticks(tick_marks, class_names)\r\n",
        "sns.heatmap(pd.DataFrame(cnf_matrix), annot=True, cmap=\"coolwarm\" ,fmt='g')\r\n",
        "ax.xaxis.set_label_position(\"top\")\r\n",
        "plt.tight_layout()\r\n",
        "plt.title('Confusion matrix', y=1.1)\r\n",
        "plt.ylabel('Actual label')\r\n",
        "plt.xlabel('Predicted label')"
      ],
      "execution_count": null,
      "outputs": [
        {
          "output_type": "execute_result",
          "data": {
            "text/plain": [
              "Text(0.5, 257.44, 'Predicted label')"
            ]
          },
          "metadata": {
            "tags": []
          },
          "execution_count": 176
        },
        {
          "output_type": "display_data",
          "data": {
            "image/png": "[encoded data removed]",
            "text/plain": [
              "<Figure size 432x288 with 2 Axes>"
            ]
          },
          "metadata": {
            "tags": []
          }
        }
      ]
    },
    {
      "cell_type": "code",
      "metadata": {
        "id": "AXSQF1fiXwWF"
      },
      "source": [
        "from sklearn.metrics import roc_curve\r\n",
        "from sklearn.metrics import auc"
      ],
      "execution_count": null,
      "outputs": []
    },
    {
      "cell_type": "code",
      "metadata": {
        "id": "gBAx8aKOXzVp"
      },
      "source": [
        "n_classes=10"
      ],
      "execution_count": null,
      "outputs": []
    },
    {
      "cell_type": "code",
      "metadata": {
        "id": "61mBl-ZO7939"
      },
      "source": [
        "fpr = dict()\r\n",
        "tpr = dict()\r\n",
        "roc_auc = dict()\r\n",
        "for i in range(n_classes):\r\n",
        "    fpr[i], tpr[i], _ = roc_curve(y_test[:, i], y_pred[:, i])\r\n",
        "    roc_auc[i] = auc(fpr[i], tpr[i])\r\n",
        "\r\n",
        "# Compute micro-average ROC curve and ROC area\r\n",
        "fpr[\"micro\"], tpr[\"micro\"], _ = roc_curve(y_test.ravel(), y_pred.ravel())\r\n",
        "roc_auc[\"micro\"] = auc(fpr[\"micro\"], tpr[\"micro\"])"
      ],
      "execution_count": null,
      "outputs": []
    },
    {
      "cell_type": "code",
      "metadata": {
        "colab": {
          "base_uri": "https://localhost:8080/",
          "height": 410
        },
        "id": "0RFlds_F88e4",
        "outputId": "17cd3e85-749c-49d9-c2f0-6c0c7e83dbb2"
      },
      "source": [
        "all_fpr = np.unique(np.concatenate([fpr[i] for i in range(n_classes)]))\r\n",
        "\r\n",
        "# Then interpolate all ROC curves at this points\r\n",
        "mean_tpr = np.zeros_like(all_fpr)\r\n",
        "for i in range(n_classes):\r\n",
        "    mean_tpr += interp(all_fpr, fpr[i], tpr[i])\r\n",
        "\r\n",
        "# Finally average it and compute AUC\r\n",
        "mean_tpr /= n_classes\r\n",
        "\r\n",
        "fpr[\"macro\"] = all_fpr\r\n",
        "tpr[\"macro\"] = mean_tpr\r\n",
        "roc_auc[\"macro\"] = auc(fpr[\"macro\"], tpr[\"macro\"])\r\n",
        "\r\n",
        "# Plot all ROC curves\r\n",
        "\r\n",
        "plt.figure(figsize=(6,6))\r\n",
        "plt.plot(fpr[\"micro\"], tpr[\"micro\"],\r\n",
        "         label='micro-average ROC curve (area = {0:0.2f})'\r\n",
        "               ''.format(roc_auc[\"micro\"]),\r\n",
        "         color='pink', linestyle=':', linewidth=4)\r\n",
        "\r\n",
        "plt.plot(fpr[\"macro\"], tpr[\"macro\"],\r\n",
        "         label='macro-average ROC curve (area = {0:0.2f})'\r\n",
        "               ''.format(roc_auc[\"macro\"]),\r\n",
        "         color='green', linestyle=':', linewidth=4)\r\n",
        "\r\n",
        "colors = cycle(['orange','green','blue','aqua','red'])\r\n",
        "for i, color in zip(range(n_classes), colors):\r\n",
        "    plt.plot(fpr[i], tpr[i], color=color, lw=2,\r\n",
        "             label='ROC curve of class {0} (area = {1:0.2f})'\r\n",
        "             ''.format(i, roc_auc[i]))\r\n",
        "\r\n",
        "plt.plot([0, 1], [0, 1], 'k--', lw=2)\r\n",
        "plt.xlim([0.0, 1.0])\r\n",
        "plt.ylim([0.0, 1.05])\r\n",
        "plt.xlabel('False Positive Rate')\r\n",
        "plt.ylabel('True Positive Rate')\r\n",
        "plt.title('Receiver operating characteristic curve')\r\n",
        "plt.legend(bbox_to_anchor=(1,1), loc=\"upper left\")\r\n",
        "\r\n",
        "plt.show()"
      ],
      "execution_count": null,
      "outputs": [
        {
          "output_type": "display_data",
          "data": {
            "image/png": "[encoded data removed]",
            "text/plain": [
              "<Figure size 432x432 with 1 Axes>"
            ]
          },
          "metadata": {
            "tags": []
          }
        }
      ]
    },
    {
      "cell_type": "code",
      "metadata": {
        "colab": {
          "base_uri": "https://localhost:8080/",
          "height": 301
        },
        "id": "YxQhWvtjZMZb",
        "outputId": "dff7e921-38db-48d9-f275-b78e4afa6901"
      },
      "source": [
        "precision = dict()\r\n",
        "recall = dict()\r\n",
        "for i in range(n_classes):\r\n",
        "    precision[i], recall[i], _ = precision_recall_curve(y_test[:, i],\r\n",
        "                                                        y_pred[:, i])\r\n",
        "    plt.plot(recall[i], precision[i], lw=2, label='class {}'.format(i))\r\n",
        "    \r\n",
        "plt.xlabel(\"recall\")\r\n",
        "plt.ylabel(\"precision\")\r\n",
        "plt.legend(loc=\"best\")\r\n",
        "plt.title(\"precision vs. recall curve\")\r\n",
        "plt.show()"
      ],
      "execution_count": null,
      "outputs": [
        {
          "output_type": "display_data",
          "data": {
            "image/png": "[encoded data removed]",
            "text/plain": [
              "<Figure size 432x288 with 1 Axes>"
            ]
          },
          "metadata": {
            "tags": []
          }
        }
      ]
    },
    {
      "cell_type": "code",
      "metadata": {
        "colab": {
          "base_uri": "https://localhost:8080/"
        },
        "id": "CB51KRgamkJN",
        "outputId": "493bf8ce-892a-4100-d2a5-3080b33495de"
      },
      "source": [
        "from sklearn.metrics import classification_report,confusion_matrix\r\n",
        "print(classification_report(y_test_class,y_pred_class))\r\n",
        "print(confusion_matrix(y_test_class,y_pred_class))\r\n"
      ],
      "execution_count": null,
      "outputs": [
        {
          "output_type": "stream",
          "text": [
            "              precision    recall  f1-score   support\n",
            "\n",
            "           0       1.00      1.00      1.00      2708\n",
            "           1       1.00      1.00      1.00      2639\n",
            "           2       1.00      1.00      1.00      2467\n",
            "           3       1.00      1.00      1.00      2717\n",
            "           4       1.00      1.00      1.00      2650\n",
            "           5       1.00      1.00      1.00      2820\n",
            "           6       1.00      1.00      1.00      2766\n",
            "           7       1.00      1.00      1.00      2759\n",
            "           8       1.00      1.00      1.00      3012\n",
            "           9       1.00      1.00      1.00      2726\n",
            "\n",
            "    accuracy                           1.00     27264\n",
            "   macro avg       1.00      1.00      1.00     27264\n",
            "weighted avg       1.00      1.00      1.00     27264\n",
            "\n",
            "[[2705    0    1    1    0    1    0    0    0    0]\n",
            " [   0 2639    0    0    0    0    0    0    0    0]\n",
            " [   0    0 2461    0    1    3    0    0    2    0]\n",
            " [   0    0    0 2717    0    0    0    0    0    0]\n",
            " [   0    0    0    0 2650    0    0    0    0    0]\n",
            " [   0    0    8    1    0 2811    0    0    0    0]\n",
            " [   0    0    0    0    0    0 2766    0    0    0]\n",
            " [   0    0    0    0    0    0    0 2759    0    0]\n",
            " [   0    0    0    0    0    0    0    0 3012    0]\n",
            " [   0    0    0    0    0    0    0    0    0 2726]]\n"
          ],
          "name": "stdout"
        }
      ]
    }
  ]
}