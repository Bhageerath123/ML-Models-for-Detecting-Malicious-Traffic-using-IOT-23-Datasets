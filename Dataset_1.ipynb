{
  "nbformat": 4,
  "nbformat_minor": 0,
  "metadata": {
    "accelerator": "TPU",
    "colab": {
      "name": "Dataset_1.ipynb",
      "provenance": [],
      "collapsed_sections": [],
      "machine_shape": "hm",
      "include_colab_link": true
    },
    "kernelspec": {
      "display_name": "Python 3",
      "name": "python3"
    }
  },
  "cells": [
    {
      "cell_type": "markdown",
      "metadata": {
        "id": "view-in-github",
        "colab_type": "text"
      },
      "source": [
        "<a href=\"https://colab.research.google.com/github/Bhageerath123/Machine-Learning-Models-for-Detecting-Malicious-Traffic-in-IoT-Devices-using-IoT-23-Dataset/blob/main/Dataset_1.ipynb\" target=\"_parent\"><img src=\"https://colab.research.google.com/assets/colab-badge.svg\" alt=\"Open In Colab\"/></a>"
      ]
    },
    {
      "cell_type": "code",
      "metadata": {
        "id": "hkfwcsc-Zkd-"
      },
      "source": [
        "!pip install -U -q PyDrive\n",
        "from pydrive.auth import GoogleAuth\n",
        "from pydrive.drive import GoogleDrive\n",
        "from google.colab import auth\n",
        "from oauth2client.client import GoogleCredentials\n"
      ],
      "execution_count": null,
      "outputs": []
    },
    {
      "cell_type": "code",
      "metadata": {
        "id": "7KfhqZAyZuDL"
      },
      "source": [
        "auth.authenticate_user()\n",
        "gauth = GoogleAuth()\n",
        "gauth.credentials = GoogleCredentials.get_application_default()\n",
        "drive = GoogleDrive(gauth)"
      ],
      "execution_count": null,
      "outputs": []
    },
    {
      "cell_type": "code",
      "metadata": {
        "colab": {
          "base_uri": "https://localhost:8080/"
        },
        "id": "WcJiPq32ZvHs",
        "outputId": "4a45cd7e-2988-4419-bbb5-c623e93ddc22"
      },
      "source": [
        "file_list = drive.ListFile({'q': \"'root' in parents and trashed=false\"}).GetList()\n",
        "for file1 in file_list:\n",
        "  print('title: %s, id: %s' % (file1['title'], file1['id']))"
      ],
      "execution_count": null,
      "outputs": [
        {
          "output_type": "stream",
          "text": [
            "title: preprocessed final_2.csv, id: 1LE5qqd3Jv9aArH83gIIQOzQqrRtkiEsH\n",
            "title: preprocessed final_1.csv, id: 1LdY_SCqKLJI3O9qY36tNzktBiLY7ZiQd\n",
            "title: Dtaset 4Labels, id: 1UsYulnKaEz96fbTA9pAhErwybAHpsm7q\n",
            "title: FINAL DATASET 4.csv, id: 1fRs2RE2LKJ7nW0-4Z95T626wibAlebL3\n",
            "title: Sample2.csv, id: 15nJR4HagHSkOvLS86Z-I6G2FVwSBsN-x\n",
            "title: Sample2, id: 1sgUoRPSs1NZT2BwufU2zwca8kXKE8oz6F_0d8zj7fHw\n",
            "title: preprocessed final.csv, id: 1xOROenk2PKd50HpEaxNcoHIVgT1YzXiv\n",
            "title: Final Dataset 0 1_1, id: 1-AZmpDkwNCzEXgYBMAhmoaDFEkynhtbf\n",
            "title: Final Dataset_1_1.csv, id: 1NskVqX2h4KcdhjSRJNeCG5fbpMHOrTCV\n",
            "title: Final Dataset 0 1_2, id: 1w_V8insIM0L_Y1sfUlgz5tBRsLHC_vz3\n",
            "title: Final Dataset 0 1, id: 1qOXERY14g_QYB8k-g6bQgqrBI8_bqqsZ\n",
            "title: Final Dataset, id: 133-6o2oO_nQyjv8z1f0KGNvDU55r_-G1\n",
            "title: dataset4.csv, id: 18ZHKl1-5V9Abz923O5Zk1KptEL0tRxgb\n",
            "title: dataset1.csv, id: 18s59CqeQw0r5fjKbpAHCOcqWeKYhRzXB\n",
            "title: kdd_train.csv, id: 1EpMHv7uUKmYYJRMUwwBaWs_2bXegDxla\n",
            "title: Final, id: 1B9jeMN_Tyr_og62Jq-GtSn8Jbl7jPAB2\n",
            "title: Book4.xlsx, id: 1z5-yxu8qxZRxZjVmysCZHCv_Y_2O40hY\n",
            "title: sample, id: 1YtIlh4O4MxiIr6yB7XcWM4ldE2ZCpoX_\n",
            "title: iot 60.csv, id: 1oWEXscuQo2ZAldLXW6YkoRqhhwtd-kX0\n",
            "title: IOT52.csv, id: 1RmWCEx5dtFABFWuh6M2xKWUk-_bML6XW\n",
            "title: IOT 36.csv, id: 1EABfJF89UfEsCRF7GLcfLGt-BfOWQ_1D\n",
            "title: Iot35.csv, id: 10RZpEngerZXCCu4ZbkMJ_Vb4Iuy7BwZK\n",
            "title: iot49-2.csv, id: 1O13vZ1RPH13eKRNmx3_DAiEpyx-q1_WK\n",
            "title: iot 49.csv, id: 1lByceGG97nhRqDpksiKN-63EPyy6Yhce\n",
            "title: iot 48-12.csv, id: 1MYD2RZ9hmMc08-UnjtaMXUaAtyQ3rvka\n",
            "title: IOT42.csv, id: 1AFQuUVq7-EbH_GtE1imzXk7XvQll3Jkg\n",
            "title: iot 44.csv, id: 10xgSwQZonsEXaFMd95P8BK0j39Wz8hsO\n",
            "title: kdd_test.csv, id: 1pb4rBEmHCkCzau2KD7WjkTruKaJ_K11h\n",
            "title: Machine Learning with TensorFlow by Nishant Shukla with Kenneth Fricklas (z-lib.org) (1).pdf, id: 1KXiH4CLfMU1FEpZkG-5tTw4QlL9uVBys\n",
            "title: RM2- GroupY, id: 12tpEpE797GhHOVqVMAwzsIpYL7gEOWV0\n",
            "title: Data_science_interview_questions__1606930498.pdf, id: 1cmg5Umak2g6sb-bNRSELPuzP_cb5kxOT\n",
            "title: train.csv, id: 1uK2r5icqKzy_MIOK5eRBdhQkyRLt8nvl\n",
            "title: test.csv, id: 1fyviCL6OjDIHRPxUny2lOJ-B1vkbbcJZ\n",
            "title: Portmap.csv, id: 1sLMGfCv34STo2LBJxmKOKP_EwnKFyr6x\n",
            "title: Portmap.csv, id: 1fw4pMZyCCfNFCZDjFDlpLySIH2hUZDV1\n",
            "title: APA-DDoS-Dataset.csv, id: 17NsrYBRvzvZvLtBBWgZh3VK3qDurOk8e\n",
            "title: Colab Notebooks, id: 1IsPQ9ivZIaFfGY_P9x8J2vXCCL-YNMLY\n",
            "title: Meet - kzz-rzom-ocy - Google Chrome 2020-05-25 15-36-35.mp4, id: 1trA2nzduJvk5kXI9LHoEi0Dj7ri54uDD\n",
            "title: Firewall Lab Session (2020-03-20 at 10:18 GMT-7), id: 1zgnlvRk5-NF4SmOrtva6uX3Ssk1FfQC4\n",
            "title: Reviews.csv, id: 1w58K7Af_I5oDNIyoYjWvlbQihJ2iXnY4\n",
            "title: Getting started, id: 0B_pCcMKM2SwTc3RhcnRlcl9maWxlX2Rhc2hlclYw\n"
          ],
          "name": "stdout"
        }
      ]
    },
    {
      "cell_type": "code",
      "metadata": {
        "id": "LmTGALTIabas"
      },
      "source": [
        "import pandas as pd\n",
        "from sklearn.model_selection import train_test_split\n",
        "import numpy as np\n",
        "import tensorflow as tf\n",
        "\n"
      ],
      "execution_count": null,
      "outputs": []
    },
    {
      "cell_type": "code",
      "metadata": {
        "id": "YWKVmsQ_m9Ud"
      },
      "source": [
        "downloadedTrain = drive.CreateFile({'id': '1LdY_SCqKLJI3O9qY36tNzktBiLY7ZiQd'})\n",
        "downloadedTrain.GetContentFile('Preprocessed1.csv')"
      ],
      "execution_count": null,
      "outputs": []
    },
    {
      "cell_type": "code",
      "metadata": {
        "id": "8OG6uIMi-63E"
      },
      "source": [
        "downloadedTrain = drive.CreateFile({'id': '1LE5qqd3Jv9aArH83gIIQOzQqrRtkiEsH'})\n",
        "downloadedTrain.GetContentFile('Preprocessed2.csv')"
      ],
      "execution_count": null,
      "outputs": []
    },
    {
      "cell_type": "code",
      "metadata": {
        "id": "NbVB8RjnVNJY"
      },
      "source": [
        "import keras\n",
        "from keras.models import Sequential\n",
        "from keras.layers import Dense\n",
        "from keras.optimizers import Adam\n",
        "import pydot\n",
        "import graphviz\n",
        "from IPython.display import SVG\n",
        "from keras.utils.vis_utils import model_to_dot\n",
        "from keras.utils import plot_model\n",
        "import seaborn as sns\n",
        "import pandas as pd\n",
        "import numpy as np"
      ],
      "execution_count": null,
      "outputs": []
    },
    {
      "cell_type": "code",
      "metadata": {
        "id": "3Z5cD-culI61"
      },
      "source": [
        "TextFileReader = pd.read_csv('Preprocessed1.csv', chunksize=1000000)  # the number of rows per chunk\n",
        "\n",
        "dfList = []\n",
        "for df in TextFileReader:\n",
        "    dfList.append(df)\n",
        "\n",
        "data3= pd.concat(dfList,sort=False)"
      ],
      "execution_count": null,
      "outputs": []
    },
    {
      "cell_type": "code",
      "metadata": {
        "id": "OT_3YJ-6_Xpg"
      },
      "source": [
        "TextFileReader = pd.read_csv('Preprocessed2.csv', chunksize=100000)  # the number of rows per chunk\n",
        "\n",
        "dfList = []\n",
        "for df in TextFileReader:\n",
        "    dfList.append(df)\n",
        "\n",
        "data2= pd.concat(dfList,sort=False)"
      ],
      "execution_count": null,
      "outputs": []
    },
    {
      "cell_type": "code",
      "metadata": {
        "colab": {
          "base_uri": "https://localhost:8080/",
          "height": 241
        },
        "id": "bOh45HXvlj1j",
        "outputId": "fb23d218-9570-447d-8e27-25db963b7654"
      },
      "source": [
        "data3.head()"
      ],
      "execution_count": null,
      "outputs": [
        {
          "output_type": "execute_result",
          "data": {
            "text/html": [
              "<div>\n",
              "<style scoped>\n",
              "    .dataframe tbody tr th:only-of-type {\n",
              "        vertical-align: middle;\n",
              "    }\n",
              "\n",
              "    .dataframe tbody tr th {\n",
              "        vertical-align: top;\n",
              "    }\n",
              "\n",
              "    .dataframe thead th {\n",
              "        text-align: right;\n",
              "    }\n",
              "</style>\n",
              "<table border=\"1\" class=\"dataframe\">\n",
              "  <thead>\n",
              "    <tr style=\"text-align: right;\">\n",
              "      <th></th>\n",
              "      <th>Unnamed: 0</th>\n",
              "      <th>ts</th>\n",
              "      <th>idorighost</th>\n",
              "      <th>idorigport</th>\n",
              "      <th>idresphost</th>\n",
              "      <th>idrespport</th>\n",
              "      <th>proto</th>\n",
              "      <th>service</th>\n",
              "      <th>duration</th>\n",
              "      <th>origbytes</th>\n",
              "      <th>respbytes</th>\n",
              "      <th>connstate</th>\n",
              "      <th>missedbytes</th>\n",
              "      <th>history</th>\n",
              "      <th>origpkts</th>\n",
              "      <th>origipbytes</th>\n",
              "      <th>resppkts</th>\n",
              "      <th>respipbytes</th>\n",
              "      <th>Label</th>\n",
              "    </tr>\n",
              "  </thead>\n",
              "  <tbody>\n",
              "    <tr>\n",
              "      <th>0</th>\n",
              "      <td>0</td>\n",
              "      <td>1545473150</td>\n",
              "      <td>19371</td>\n",
              "      <td>44229</td>\n",
              "      <td>20124892</td>\n",
              "      <td>992</td>\n",
              "      <td>1</td>\n",
              "      <td>0</td>\n",
              "      <td>4.940443</td>\n",
              "      <td>0.000000e+00</td>\n",
              "      <td>0.000000</td>\n",
              "      <td>3</td>\n",
              "      <td>0</td>\n",
              "      <td>50</td>\n",
              "      <td>5</td>\n",
              "      <td>200</td>\n",
              "      <td>0</td>\n",
              "      <td>0</td>\n",
              "      <td>0</td>\n",
              "    </tr>\n",
              "    <tr>\n",
              "      <th>1</th>\n",
              "      <td>1</td>\n",
              "      <td>1545480817</td>\n",
              "      <td>19371</td>\n",
              "      <td>48566</td>\n",
              "      <td>22126265</td>\n",
              "      <td>23</td>\n",
              "      <td>1</td>\n",
              "      <td>0</td>\n",
              "      <td>4.368889</td>\n",
              "      <td>2.469552e+08</td>\n",
              "      <td>3083.732234</td>\n",
              "      <td>6</td>\n",
              "      <td>0</td>\n",
              "      <td>52</td>\n",
              "      <td>1</td>\n",
              "      <td>60</td>\n",
              "      <td>0</td>\n",
              "      <td>0</td>\n",
              "      <td>1</td>\n",
              "    </tr>\n",
              "    <tr>\n",
              "      <th>2</th>\n",
              "      <td>2</td>\n",
              "      <td>1545485127</td>\n",
              "      <td>19371</td>\n",
              "      <td>53600</td>\n",
              "      <td>16622132</td>\n",
              "      <td>23</td>\n",
              "      <td>1</td>\n",
              "      <td>0</td>\n",
              "      <td>3.156711</td>\n",
              "      <td>0.000000e+00</td>\n",
              "      <td>0.000000</td>\n",
              "      <td>6</td>\n",
              "      <td>0</td>\n",
              "      <td>52</td>\n",
              "      <td>3</td>\n",
              "      <td>180</td>\n",
              "      <td>0</td>\n",
              "      <td>0</td>\n",
              "      <td>1</td>\n",
              "    </tr>\n",
              "    <tr>\n",
              "      <th>3</th>\n",
              "      <td>3</td>\n",
              "      <td>1545420288</td>\n",
              "      <td>19371</td>\n",
              "      <td>38636</td>\n",
              "      <td>8393436</td>\n",
              "      <td>23</td>\n",
              "      <td>1</td>\n",
              "      <td>0</td>\n",
              "      <td>3.142477</td>\n",
              "      <td>0.000000e+00</td>\n",
              "      <td>0.000000</td>\n",
              "      <td>6</td>\n",
              "      <td>0</td>\n",
              "      <td>52</td>\n",
              "      <td>3</td>\n",
              "      <td>180</td>\n",
              "      <td>0</td>\n",
              "      <td>0</td>\n",
              "      <td>1</td>\n",
              "    </tr>\n",
              "    <tr>\n",
              "      <th>4</th>\n",
              "      <td>4</td>\n",
              "      <td>1545420905</td>\n",
              "      <td>19373</td>\n",
              "      <td>36097</td>\n",
              "      <td>4006968</td>\n",
              "      <td>37215</td>\n",
              "      <td>1</td>\n",
              "      <td>0</td>\n",
              "      <td>4.368889</td>\n",
              "      <td>2.469552e+08</td>\n",
              "      <td>3083.732234</td>\n",
              "      <td>6</td>\n",
              "      <td>0</td>\n",
              "      <td>52</td>\n",
              "      <td>1</td>\n",
              "      <td>40</td>\n",
              "      <td>0</td>\n",
              "      <td>0</td>\n",
              "      <td>0</td>\n",
              "    </tr>\n",
              "  </tbody>\n",
              "</table>\n",
              "</div>"
            ],
            "text/plain": [
              "   Unnamed: 0          ts  idorighost  ...  resppkts  respipbytes  Label\n",
              "0           0  1545473150       19371  ...         0            0      0\n",
              "1           1  1545480817       19371  ...         0            0      1\n",
              "2           2  1545485127       19371  ...         0            0      1\n",
              "3           3  1545420288       19371  ...         0            0      1\n",
              "4           4  1545420905       19373  ...         0            0      0\n",
              "\n",
              "[5 rows x 19 columns]"
            ]
          },
          "metadata": {
            "tags": []
          },
          "execution_count": 10
        }
      ]
    },
    {
      "cell_type": "code",
      "metadata": {
        "id": "D3G1AENSlou2"
      },
      "source": [
        ""
      ],
      "execution_count": null,
      "outputs": []
    },
    {
      "cell_type": "code",
      "metadata": {
        "colab": {
          "base_uri": "https://localhost:8080/"
        },
        "id": "A5wcRJV61iAl",
        "outputId": "e68d4887-c3e0-496b-87f6-c970401e6d8c"
      },
      "source": [
        "data3.dtypes"
      ],
      "execution_count": null,
      "outputs": [
        {
          "output_type": "execute_result",
          "data": {
            "text/plain": [
              "ts               int64\n",
              "idorighost       int64\n",
              "idorigport       int64\n",
              "idresphost       int64\n",
              "idrespport       int64\n",
              "proto            int64\n",
              "service          int64\n",
              "duration       float64\n",
              "origbytes      float64\n",
              "respbytes      float64\n",
              "connstate        int64\n",
              "missedbytes      int64\n",
              "history          int64\n",
              "origpkts         int64\n",
              "origipbytes      int64\n",
              "resppkts         int64\n",
              "respipbytes      int64\n",
              "Label            int64\n",
              "dtype: object"
            ]
          },
          "metadata": {
            "tags": []
          },
          "execution_count": 10
        }
      ]
    },
    {
      "cell_type": "code",
      "metadata": {
        "id": "h1HByfi82tDm"
      },
      "source": [
        "#data3.to_csv('data3')"
      ],
      "execution_count": null,
      "outputs": []
    },
    {
      "cell_type": "code",
      "metadata": {
        "id": "hyUttq--A8bJ"
      },
      "source": [
        "#data3=pd.read_csv('Final.csv', sep='\\t')\n",
        "#names=[\"ts\",\t\"uid\",\t\"id.orig_h\",\t\"id.orig_p\",\t\"id.resp_h\",\t\"id.resp_p\",\t\"proto\",\t\t\"service\", \t\"duration\",\t\"orig_bytes\",\t\"resp_bytes\",\t\"conn_state\",\t\"local_orig\",\t\"local_resp\",\t\"missed_bytes\",\t\"history\", \"orig_pkts\",\t\"orig_ip_bytes\",\t\"resp_pkts\",\t\"resp_ip_bytes\", \"label\",\"detailed-label\"])\n"
      ],
      "execution_count": null,
      "outputs": []
    },
    {
      "cell_type": "code",
      "metadata": {
        "id": "nECuo_FoipQz"
      },
      "source": [
        "data3=data3.drop('Unnamed: 0', axis=1)"
      ],
      "execution_count": null,
      "outputs": []
    },
    {
      "cell_type": "code",
      "metadata": {
        "id": "nAcVZPSvEE93"
      },
      "source": [
        "data2=data2.drop('Unnamed: 0', axis=1)"
      ],
      "execution_count": null,
      "outputs": []
    },
    {
      "cell_type": "code",
      "metadata": {
        "colab": {
          "base_uri": "https://localhost:8080/"
        },
        "id": "_zvWWfnPmOhu",
        "outputId": "f30b38e3-1348-4bc8-c109-d97b15036574"
      },
      "source": [
        "data3.nunique()"
      ],
      "execution_count": null,
      "outputs": [
        {
          "output_type": "execute_result",
          "data": {
            "text/plain": [
              "ts               974088\n",
              "idorighost        45171\n",
              "idorigport        65536\n",
              "idresphost     24182693\n",
              "idrespport        65435\n",
              "proto                 3\n",
              "service               7\n",
              "duration         876911\n",
              "origbytes         44513\n",
              "respbytes          1165\n",
              "connstate            14\n",
              "missedbytes          44\n",
              "history             386\n",
              "origpkts            225\n",
              "origipbytes        2227\n",
              "resppkts            161\n",
              "respipbytes        2258\n",
              "Label                 2\n",
              "dtype: int64"
            ]
          },
          "metadata": {
            "tags": []
          },
          "execution_count": 22
        }
      ]
    },
    {
      "cell_type": "code",
      "metadata": {
        "colab": {
          "base_uri": "https://localhost:8080/"
        },
        "id": "PRCUfyPr1np5",
        "outputId": "ed8662ea-4763-4b81-e441-b8a9cb011e22"
      },
      "source": [
        "np.any(np.isnan(data3))"
      ],
      "execution_count": null,
      "outputs": [
        {
          "output_type": "execute_result",
          "data": {
            "text/plain": [
              "False"
            ]
          },
          "metadata": {
            "tags": []
          },
          "execution_count": 13
        }
      ]
    },
    {
      "cell_type": "code",
      "metadata": {
        "colab": {
          "base_uri": "https://localhost:8080/"
        },
        "id": "4Smq9YZ_l3sa",
        "outputId": "908d26fc-13b3-4c70-f5c6-0cee6ad44527"
      },
      "source": [
        "data3.isna().sum()"
      ],
      "execution_count": null,
      "outputs": [
        {
          "output_type": "execute_result",
          "data": {
            "text/plain": [
              "ts             0\n",
              "idorighost     0\n",
              "idorigport     0\n",
              "idresphost     0\n",
              "idrespport     0\n",
              "proto          0\n",
              "service        0\n",
              "duration       0\n",
              "origbytes      0\n",
              "respbytes      0\n",
              "connstate      0\n",
              "missedbytes    0\n",
              "history        0\n",
              "origpkts       0\n",
              "origipbytes    0\n",
              "resppkts       0\n",
              "respipbytes    0\n",
              "Label          0\n",
              "dtype: int64"
            ]
          },
          "metadata": {
            "tags": []
          },
          "execution_count": 12
        }
      ]
    },
    {
      "cell_type": "code",
      "metadata": {
        "colab": {
          "base_uri": "https://localhost:8080/"
        },
        "id": "hpMSYIgicm5z",
        "outputId": "0593d0d7-156a-4def-e97c-043c62d9615a"
      },
      "source": [
        "data3.isna().sum()"
      ],
      "execution_count": null,
      "outputs": [
        {
          "output_type": "execute_result",
          "data": {
            "text/plain": [
              "ts             0\n",
              "idorighost     0\n",
              "idorigport     0\n",
              "idresphost     0\n",
              "idrespport     0\n",
              "proto          0\n",
              "service        0\n",
              "duration       0\n",
              "origbytes      0\n",
              "respbytes      0\n",
              "connstate      0\n",
              "missedbytes    0\n",
              "history        0\n",
              "origpkts       0\n",
              "origipbytes    0\n",
              "resppkts       0\n",
              "respipbytes    0\n",
              "Label          0\n",
              "dtype: int64"
            ]
          },
          "metadata": {
            "tags": []
          },
          "execution_count": 13
        }
      ]
    },
    {
      "cell_type": "markdown",
      "metadata": {
        "id": "NtPlFaBI_Mbf"
      },
      "source": [
        "The below commeneted code is for datapreprocessing of large dataset. To save time during data preprocessing when wokring on this large dataset, this dataset is preprocessed and split into train and test dataset. These train and test datasets are downloaded and used for building different models which saved so much time as this is large dataset."
      ]
    },
    {
      "cell_type": "code",
      "metadata": {
        "id": "tiRVoPjzsETC"
      },
      "source": [
        "#data3=data3.drop(['localorig','localresp'], axis=1)"
      ],
      "execution_count": null,
      "outputs": []
    },
    {
      "cell_type": "code",
      "metadata": {
        "id": "3HKIyRup9COo"
      },
      "source": [
        "#data3=data3.drop('uid', axis=1)"
      ],
      "execution_count": null,
      "outputs": []
    },
    {
      "cell_type": "code",
      "metadata": {
        "id": "abnpBj3PNavF"
      },
      "source": [
        "#from sklearn.preprocessing import LabelEncoder"
      ],
      "execution_count": null,
      "outputs": []
    },
    {
      "cell_type": "code",
      "metadata": {
        "id": "IpndtBd-NmUE"
      },
      "source": [
        "#encoder = LabelEncoder()\n",
        "#data3['proto'] = data3['proto'].str.replace('-', ' ')\n",
        "#data3['proto'] = data3['proto'].astype(str)\n",
        "#data3['proto'] = encoder.fit_transform(data3['proto'])\n",
        "#data3['service'] = data3['service'].str.replace('-', ' ')\n",
        "#data3['service'] = data3['service'].astype(str)\n",
        "#data3['service'] = encoder.fit_transform(data3['service'])"
      ],
      "execution_count": null,
      "outputs": []
    },
    {
      "cell_type": "code",
      "metadata": {
        "id": "3-8bCfFLOZ08"
      },
      "source": [
        "#encoder = LabelEncoder()\n",
        "#data3['connstate'] = data3['connstate'].str.replace('-', ' ')\n",
        "#data3['connstate'] = data3['connstate'].astype(str)\n",
        "#data3['connstate'] = encoder.fit_transform(data3['connstate'])"
      ],
      "execution_count": null,
      "outputs": []
    },
    {
      "cell_type": "code",
      "metadata": {
        "id": "UJuyLuAeOtvI"
      },
      "source": [
        "#encoder = LabelEncoder()\n",
        "#data3['history'] = data3['history'].str.replace('-', ' ')\n",
        "#data3['history'] = data3['history'].astype(str)\n",
        "#data3['history'] = encoder.fit_transform(data3['history'])"
      ],
      "execution_count": null,
      "outputs": []
    },
    {
      "cell_type": "code",
      "metadata": {
        "id": "RMDQOa3YNumC"
      },
      "source": [
        "#data3['duration'] = data3['duration'].str.replace('S0', ' ')"
      ],
      "execution_count": null,
      "outputs": []
    },
    {
      "cell_type": "code",
      "metadata": {
        "id": "BC6Ggx9GfbeJ"
      },
      "source": [
        "#data3['duration'] = data3['duration'].str.replace('-', ' ')"
      ],
      "execution_count": null,
      "outputs": []
    },
    {
      "cell_type": "code",
      "metadata": {
        "id": "mGDMFfRgP2FM"
      },
      "source": [
        "#data3['duration'] = pd.to_numeric(data3['duration'], errors='coerce')"
      ],
      "execution_count": null,
      "outputs": []
    },
    {
      "cell_type": "code",
      "metadata": {
        "id": "HyRUitpMNh8F"
      },
      "source": [
        "#data3['duration'] = data3['duration'].astype(str).astype(float)"
      ],
      "execution_count": null,
      "outputs": []
    },
    {
      "cell_type": "code",
      "metadata": {
        "id": "ZDAUo2DhJFK_"
      },
      "source": [
        "#data3['origbytes'] = data3['origbytes'].str.replace('-', ' ')"
      ],
      "execution_count": null,
      "outputs": []
    },
    {
      "cell_type": "code",
      "metadata": {
        "id": "bbx5mbFCQMVT"
      },
      "source": [
        "#data3['origbytes'] = pd.to_numeric(data3['origbytes'], errors='coerce')"
      ],
      "execution_count": null,
      "outputs": []
    },
    {
      "cell_type": "code",
      "metadata": {
        "id": "qapfWJtjL5ws"
      },
      "source": [
        "#data3['respbytes'] = data3['respbytes'].str.replace('-', ' ')"
      ],
      "execution_count": null,
      "outputs": []
    },
    {
      "cell_type": "code",
      "metadata": {
        "id": "_J8x9-4KQahW"
      },
      "source": [
        "#data3['respbytes'] = pd.to_numeric(data3['respbytes'], errors='coerce')"
      ],
      "execution_count": null,
      "outputs": []
    },
    {
      "cell_type": "code",
      "metadata": {
        "id": "omo5jFE5SPgj"
      },
      "source": [
        "#data3['idorighost'] = data3['idorighost'].str.replace('-', ' ')"
      ],
      "execution_count": null,
      "outputs": []
    },
    {
      "cell_type": "code",
      "metadata": {
        "id": "ZJmenl0FSYI5"
      },
      "source": [
        "#data3['idresphost'] = data3['idresphost'].str.replace('-', ' ')"
      ],
      "execution_count": null,
      "outputs": []
    },
    {
      "cell_type": "code",
      "metadata": {
        "id": "D7AGeK1FT9Me"
      },
      "source": [
        "#encoder = LabelEncoder()\n",
        "#data3['idorighost'] = data3['idorighost'].astype(str)\n",
        "#data3['idorighost'] = encoder.fit_transform(data3['idorighost'])"
      ],
      "execution_count": null,
      "outputs": []
    },
    {
      "cell_type": "code",
      "metadata": {
        "id": "wB0g2a-4Urm0"
      },
      "source": [
        "#encoder = LabelEncoder()\n",
        "#data3['idresphost'] = data3['idresphost'].astype(str)\n",
        "#data3['idresphost'] = encoder.fit_transform(data3['idresphost'])"
      ],
      "execution_count": null,
      "outputs": []
    },
    {
      "cell_type": "code",
      "metadata": {
        "id": "mPIEKZBjCGY1"
      },
      "source": [
        "#data3[['duration','origbytes','respbytes']] = data3[['duration','origbytes','respbytes']].fillna(value=data3[['duration','origbytes','respbytes']].mean())"
      ],
      "execution_count": null,
      "outputs": []
    },
    {
      "cell_type": "code",
      "metadata": {
        "id": "ypi8a3Ca9Vhb"
      },
      "source": [
        "#y=data3['Label']"
      ],
      "execution_count": null,
      "outputs": []
    },
    {
      "cell_type": "code",
      "metadata": {
        "id": "uznjSU774Hre"
      },
      "source": [
        "#x=data3.drop(['Label'],axis=1)"
      ],
      "execution_count": null,
      "outputs": []
    },
    {
      "cell_type": "code",
      "metadata": {
        "id": "2LenVIJs4Siw"
      },
      "source": [
        "#x_train,x_test,y_train,y_test=train_test_split(x,y,test_size=0.4,\n",
        " #                                              random_state=2)"
      ],
      "execution_count": null,
      "outputs": []
    },
    {
      "cell_type": "code",
      "metadata": {
        "id": "PmMLnEAxn6eX"
      },
      "source": [
        "#train_dataset=[x_train,y_train]"
      ],
      "execution_count": null,
      "outputs": []
    },
    {
      "cell_type": "code",
      "metadata": {
        "id": "tdNnOFIdZ5W6"
      },
      "source": [
        "#train_dataset=pd.concat(adddata)"
      ],
      "execution_count": null,
      "outputs": []
    },
    {
      "cell_type": "code",
      "metadata": {
        "id": "WPbtwoyv-fyf"
      },
      "source": [
        "#test_data=[x_test,y_test]"
      ],
      "execution_count": null,
      "outputs": []
    },
    {
      "cell_type": "code",
      "metadata": {
        "id": "-PmKCJsx-fyg"
      },
      "source": [
        "#test_dataset=pd.concat(adddata)"
      ],
      "execution_count": null,
      "outputs": []
    },
    {
      "cell_type": "code",
      "metadata": {
        "colab": {
          "base_uri": "https://localhost:8080/",
          "height": 17
        },
        "id": "dTufcibtyKKX",
        "outputId": "ebd24f5e-c0a5-4ff9-8772-96b2a6565bd7"
      },
      "source": [
        "#from google.colab import files\n",
        "#train_dataset.to_csv('preprocessed final_1.csv') \n",
        "#files.download('preprocessed final_1.csv')\n",
        "#from google.colab import files\n",
        "#test_dataset.to_csv('preprocessed final_2.csv') \n",
        "#files.download('preprocessed final_2.csv')"
      ],
      "execution_count": null,
      "outputs": [
        {
          "output_type": "display_data",
          "data": {
            "application/javascript": [
              "\n",
              "    async function download(id, filename, size) {\n",
              "      if (!google.colab.kernel.accessAllowed) {\n",
              "        return;\n",
              "      }\n",
              "      const div = document.createElement('div');\n",
              "      const label = document.createElement('label');\n",
              "      label.textContent = `Downloading \"${filename}\": `;\n",
              "      div.appendChild(label);\n",
              "      const progress = document.createElement('progress');\n",
              "      progress.max = size;\n",
              "      div.appendChild(progress);\n",
              "      document.body.appendChild(div);\n",
              "\n",
              "      const buffers = [];\n",
              "      let downloaded = 0;\n",
              "\n",
              "      const channel = await google.colab.kernel.comms.open(id);\n",
              "      // Send a message to notify the kernel that we're ready.\n",
              "      channel.send({})\n",
              "\n",
              "      for await (const message of channel.messages) {\n",
              "        // Send a message to notify the kernel that we're ready.\n",
              "        channel.send({})\n",
              "        if (message.buffers) {\n",
              "          for (const buffer of message.buffers) {\n",
              "            buffers.push(buffer);\n",
              "            downloaded += buffer.byteLength;\n",
              "            progress.value = downloaded;\n",
              "          }\n",
              "        }\n",
              "      }\n",
              "      const blob = new Blob(buffers, {type: 'application/binary'});\n",
              "      const a = document.createElement('a');\n",
              "      a.href = window.URL.createObjectURL(blob);\n",
              "      a.download = filename;\n",
              "      div.appendChild(a);\n",
              "      a.click();\n",
              "      div.remove();\n",
              "    }\n",
              "  "
            ],
            "text/plain": [
              "<IPython.core.display.Javascript object>"
            ]
          },
          "metadata": {
            "tags": []
          }
        },
        {
          "output_type": "display_data",
          "data": {
            "application/javascript": [
              "download(\"download_e8df4df6-5094-4db6-8125-e354e9cb4d79\", \"preprocessed final.csv\", 3903249979)"
            ],
            "text/plain": [
              "<IPython.core.display.Javascript object>"
            ]
          },
          "metadata": {
            "tags": []
          }
        }
      ]
    },
    {
      "cell_type": "code",
      "metadata": {
        "id": "h6wVmfv7woeE"
      },
      "source": [
        "x_train=data3.drop('Label',axis=1)"
      ],
      "execution_count": null,
      "outputs": []
    },
    {
      "cell_type": "code",
      "metadata": {
        "id": "VgZCEpvaw0vD"
      },
      "source": [
        "y_train=data3['Label']"
      ],
      "execution_count": null,
      "outputs": []
    },
    {
      "cell_type": "code",
      "metadata": {
        "id": "IV6JSg_hxJXx"
      },
      "source": [
        "y_train = pd.get_dummies(y_train)"
      ],
      "execution_count": null,
      "outputs": []
    },
    {
      "cell_type": "code",
      "metadata": {
        "id": "Oz0w8jUyw5tp"
      },
      "source": [
        "x_test=data2.drop('Label',axis=1)"
      ],
      "execution_count": null,
      "outputs": []
    },
    {
      "cell_type": "code",
      "metadata": {
        "id": "jwV4XC2ZxAdE"
      },
      "source": [
        "y_test=data2['Label']"
      ],
      "execution_count": null,
      "outputs": []
    },
    {
      "cell_type": "code",
      "metadata": {
        "id": "QFml6YHfxoh1"
      },
      "source": [
        "y_test = pd.get_dummies(y_test)"
      ],
      "execution_count": null,
      "outputs": []
    },
    {
      "cell_type": "code",
      "metadata": {
        "colab": {
          "base_uri": "https://localhost:8080/",
          "height": 406
        },
        "id": "gO3eGhMQ4YRC",
        "outputId": "8834f43e-f856-40f0-c6c8-519f9d354bb4"
      },
      "source": [
        "y_train"
      ],
      "execution_count": null,
      "outputs": [
        {
          "output_type": "execute_result",
          "data": {
            "text/html": [
              "<div>\n",
              "<style scoped>\n",
              "    .dataframe tbody tr th:only-of-type {\n",
              "        vertical-align: middle;\n",
              "    }\n",
              "\n",
              "    .dataframe tbody tr th {\n",
              "        vertical-align: top;\n",
              "    }\n",
              "\n",
              "    .dataframe thead th {\n",
              "        text-align: right;\n",
              "    }\n",
              "</style>\n",
              "<table border=\"1\" class=\"dataframe\">\n",
              "  <thead>\n",
              "    <tr style=\"text-align: right;\">\n",
              "      <th></th>\n",
              "      <th>0</th>\n",
              "      <th>1</th>\n",
              "    </tr>\n",
              "  </thead>\n",
              "  <tbody>\n",
              "    <tr>\n",
              "      <th>0</th>\n",
              "      <td>1</td>\n",
              "      <td>0</td>\n",
              "    </tr>\n",
              "    <tr>\n",
              "      <th>1</th>\n",
              "      <td>0</td>\n",
              "      <td>1</td>\n",
              "    </tr>\n",
              "    <tr>\n",
              "      <th>2</th>\n",
              "      <td>0</td>\n",
              "      <td>1</td>\n",
              "    </tr>\n",
              "    <tr>\n",
              "      <th>3</th>\n",
              "      <td>0</td>\n",
              "      <td>1</td>\n",
              "    </tr>\n",
              "    <tr>\n",
              "      <th>4</th>\n",
              "      <td>1</td>\n",
              "      <td>0</td>\n",
              "    </tr>\n",
              "    <tr>\n",
              "      <th>...</th>\n",
              "      <td>...</td>\n",
              "      <td>...</td>\n",
              "    </tr>\n",
              "    <tr>\n",
              "      <th>19999994</th>\n",
              "      <td>0</td>\n",
              "      <td>1</td>\n",
              "    </tr>\n",
              "    <tr>\n",
              "      <th>19999995</th>\n",
              "      <td>1</td>\n",
              "      <td>0</td>\n",
              "    </tr>\n",
              "    <tr>\n",
              "      <th>19999996</th>\n",
              "      <td>1</td>\n",
              "      <td>0</td>\n",
              "    </tr>\n",
              "    <tr>\n",
              "      <th>19999997</th>\n",
              "      <td>0</td>\n",
              "      <td>1</td>\n",
              "    </tr>\n",
              "    <tr>\n",
              "      <th>19999998</th>\n",
              "      <td>1</td>\n",
              "      <td>0</td>\n",
              "    </tr>\n",
              "  </tbody>\n",
              "</table>\n",
              "<p>19999999 rows × 2 columns</p>\n",
              "</div>"
            ],
            "text/plain": [
              "          0  1\n",
              "0         1  0\n",
              "1         0  1\n",
              "2         0  1\n",
              "3         0  1\n",
              "4         1  0\n",
              "...      .. ..\n",
              "19999994  0  1\n",
              "19999995  1  0\n",
              "19999996  1  0\n",
              "19999997  0  1\n",
              "19999998  1  0\n",
              "\n",
              "[19999999 rows x 2 columns]"
            ]
          },
          "metadata": {
            "tags": []
          },
          "execution_count": 34
        }
      ]
    },
    {
      "cell_type": "code",
      "metadata": {
        "id": "VGT-apfb9piP"
      },
      "source": [
        "import tensorflow as tf"
      ],
      "execution_count": null,
      "outputs": []
    },
    {
      "cell_type": "code",
      "metadata": {
        "id": "lphDeWKf4or1"
      },
      "source": [
        "import pandas as pd\n",
        "from sklearn.model_selection import train_test_split\n",
        "import tensorflow as tf\n",
        "import numpy as np\n",
        "from sklearn.metrics import roc_auc_score\n",
        "from sklearn.preprocessing import StandardScaler\n",
        "import warnings\n",
        "warnings.filterwarnings('ignore')\n",
        "from sklearn.metrics import roc_auc_score\n",
        "import sys\n",
        "from sklearn.preprocessing import StandardScaler, LabelEncoder"
      ],
      "execution_count": null,
      "outputs": []
    },
    {
      "cell_type": "code",
      "metadata": {
        "id": "o-mr0CiiIkBF"
      },
      "source": [
        "st=StandardScaler()\n",
        "st.fit(x_train)\n",
        "x_train=pd.DataFrame(st.transform(x_train))\n",
        "x_test=pd.DataFrame(st.transform(x_test))"
      ],
      "execution_count": null,
      "outputs": []
    },
    {
      "cell_type": "code",
      "metadata": {
        "colab": {
          "base_uri": "https://localhost:8080/"
        },
        "id": "76uL1L1G4xny",
        "outputId": "3abfba76-3393-4543-9446-a511c4f2615b"
      },
      "source": [
        "  x_train.shape\n",
        "x_test.shape"
      ],
      "execution_count": null,
      "outputs": [
        {
          "output_type": "execute_result",
          "data": {
            "text/plain": [
              "(15362337, 17)"
            ]
          },
          "metadata": {
            "tags": []
          },
          "execution_count": 23
        }
      ]
    },
    {
      "cell_type": "markdown",
      "metadata": {
        "id": "sqcyxxPd48_W"
      },
      "source": [
        "Logistc Regression Model"
      ]
    },
    {
      "cell_type": "code",
      "metadata": {
        "id": "f68mh2kd40St"
      },
      "source": [
        "weights = tf.Variable(tf.random.normal(shape=(17, 2), dtype=tf.float64))\n",
        "biases  = tf.Variable(tf.random.normal(shape=(2,), dtype=tf.float64))"
      ],
      "execution_count": null,
      "outputs": []
    },
    {
      "cell_type": "code",
      "metadata": {
        "id": "Se-MRIRg5D8V"
      },
      "source": [
        "def logistic_regression(x):\n",
        "    lr = tf.add(tf.matmul(x, weights), biases)\n",
        "    return lr\n",
        "\n",
        "\n",
        "def cross_entropy(y_true, y_pred):\n",
        "    loss = tf.nn.softmax_cross_entropy_with_logits(labels=y_true, logits=y_pred)\n",
        "    return tf.reduce_mean(loss)\n",
        "\n",
        "def accuracy(y_true, y_pred):\n",
        "    y_true = tf.cast(tf.argmax(y_true, axis=1), dtype=tf.int32)\n",
        "    preds = tf.cast(tf.argmax(y_pred, axis=1), dtype=tf.int32)\n",
        "    preds = tf.equal(y_true, preds)\n",
        "    return tf.reduce_mean(tf.cast(preds, dtype=tf.float32))\n",
        "\n",
        "def roc_auc(y_true,x):\n",
        "    y_true = tf.cast(tf.argmax(y_true, axis=1), dtype=tf.int32).numpy()\n",
        "    y_pred=tf.nn.softmax(logistic_regression(x))[:,1]\n",
        "    return(roc_auc_score(y_true,y_pred))\n",
        "\n",
        "def grad(x, y):\n",
        "    with tf.GradientTape() as tape:\n",
        "        y_pred = logistic_regression(x)\n",
        "        loss_val = cross_entropy(y, y_pred)\n",
        "    return tape.gradient(loss_val, [weights, biases])"
      ],
      "execution_count": null,
      "outputs": []
    },
    {
      "cell_type": "code",
      "metadata": {
        "id": "N68MZdOt5aVd"
      },
      "source": [
        "epochs=2000"
      ],
      "execution_count": null,
      "outputs": []
    },
    {
      "cell_type": "code",
      "metadata": {
        "id": "F8RDafcO5Jvn"
      },
      "source": [
        "learning_rate=0.1\n",
        "for epoch in range(epochs):\n",
        "    rand_ind=np.random.choice(range(x_train.shape[0]),100)\n",
        "    outputs=y_train.iloc[rand_ind,:].values\n",
        "    inputs=x_train.iloc[rand_ind,:].values\n",
        "    \n",
        "    dw,db=grad(inputs,tf.cast(outputs,'float32'))\n",
        "    \n",
        "    weights.assign_sub(learning_rate*dw)\n",
        "    biases.assign_sub(learning_rate*db)\n",
        "    \n",
        "    if epoch%200==0:\n",
        "        print(accuracy(y_test.values,logistic_regression(x_test.values)).numpy(),roc_auc(y_test.values,x_test.values))\n",
        "    "
      ],
      "execution_count": null,
      "outputs": []
    },
    {
      "cell_type": "markdown",
      "metadata": {
        "id": "zfQR8Rwe16mY"
      },
      "source": [
        "# **Logistic Regression using Tensor flow with hidden Layer**"
      ]
    },
    {
      "cell_type": "code",
      "metadata": {
        "id": "v6w8IjNDv6q3"
      },
      "source": [
        "weights_h = tf.Variable(tf.random.truncated_normal(shape=(17, 4), dtype=tf.float64))\n",
        "biases_h  = tf.Variable(tf.random.truncated_normal(shape=(4,), dtype=tf.float64))\n",
        "\n",
        "weights_o = tf.Variable(tf.random.truncated_normal(shape=(4, 2), dtype=tf.float64))\n",
        "biases_o  = tf.Variable(tf.random.truncated_normal(shape=(2,), dtype=tf.float64))"
      ],
      "execution_count": null,
      "outputs": []
    },
    {
      "cell_type": "code",
      "metadata": {
        "id": "CIV1QzaXv_KN"
      },
      "source": [
        "def logistic_regression(x):\n",
        "    h_o = tf.add(tf.matmul(x, weights_h), biases_h)\n",
        "    h_o=tf.nn.relu(h_o)\n",
        "    lr=tf.add(tf.matmul(h_o, weights_o), biases_o)\n",
        "    return lr\n",
        "\n",
        "\n",
        "def cross_entropy(y_true, y_pred):\n",
        "\n",
        "    loss = tf.nn.softmax_cross_entropy_with_logits(labels=y_true, logits=y_pred)\n",
        "    return tf.reduce_mean(loss)\n",
        "\n",
        "\n",
        "def accuracy(y_true, y_pred):\n",
        "    y_true = tf.cast(tf.argmax(y_true, axis=1), dtype=tf.int32)\n",
        "    preds = tf.cast(tf.argmax(y_pred, axis=1), dtype=tf.int32)\n",
        "    preds = tf.equal(y_true, preds)\n",
        "    return tf.reduce_mean(tf.cast(preds, dtype=tf.float32))\n",
        "\n",
        "def roc_auc(y_true,x):\n",
        "    y_true = tf.cast(tf.argmax(y_true, axis=1), dtype=tf.int32).numpy()\n",
        "    y_pred=tf.nn.softmax(logistic_regression(x))[:,1]\n",
        "    return(roc_auc_score(y_true,y_pred))\n",
        "\n",
        "def grad(x, y):\n",
        "    with tf.GradientTape() as tape:\n",
        "        y_pred = logistic_regression(x)\n",
        "        loss_val = cross_entropy(y, y_pred)\n",
        "    return tape.gradient(loss_val, [weights_h, biases_h,weights_o, biases_o])"
      ],
      "execution_count": null,
      "outputs": []
    },
    {
      "cell_type": "code",
      "metadata": {
        "id": "EwzsgmxAwCyp"
      },
      "source": [
        "epochs=2000"
      ],
      "execution_count": null,
      "outputs": []
    },
    {
      "cell_type": "code",
      "metadata": {
        "colab": {
          "base_uri": "https://localhost:8080/",
          "height": 452
        },
        "id": "nzmycH-jwGaj",
        "outputId": "d57a9f21-cec6-4fdb-f092-102b3e82fa3b"
      },
      "source": [
        "learning_rate=0.1\n",
        "for epoch in range(epochs):\n",
        "    rand_ind=np.random.choice(range(x_train.shape[0]),100)\n",
        "    outputs=y_train.iloc[rand_ind,:].values\n",
        "    inputs=x_train.iloc[rand_ind,:].values\n",
        "    dw_h,db_h,dw_o,db_o=grad(inputs,tf.cast(outputs,'float32'))\n",
        "    \n",
        "    weights_h.assign_sub(learning_rate*dw_h)\n",
        "    biases_h.assign_sub(learning_rate*db_h)\n",
        "    weights_o.assign_sub(learning_rate*dw_o)\n",
        "    biases_o.assign_sub(learning_rate*db_o)\n",
        "    \n",
        "    if epoch%200==0:\n",
        "        print(accuracy(y_test.values,logistic_regression(x_test.values)).numpy(),roc_auc(y_test.values,x_test.values))\n",
        "    \n",
        "    "
      ],
      "execution_count": null,
      "outputs": [
        {
          "output_type": "stream",
          "text": [
            "0.44925106 0.5931105139858074\n",
            "0.89462155 0.9039352590809463\n",
            "0.9324647 0.9587995008369532\n",
            "0.93691254 0.9610998566449692\n",
            "0.9590709 0.9676036937315777\n",
            "0.96123254 0.9702963011904527\n",
            "0.9612948 0.9721509357132968\n",
            "0.9616118 0.9736015889834198\n"
          ],
          "name": "stdout"
        },
        {
          "output_type": "error",
          "ename": "KeyboardInterrupt",
          "evalue": "ignored",
          "traceback": [
            "\u001b[0;31m---------------------------------------------------------------------------\u001b[0m",
            "\u001b[0;31mKeyboardInterrupt\u001b[0m                         Traceback (most recent call last)",
            "\u001b[0;32m<ipython-input-35-c6713a53801f>\u001b[0m in \u001b[0;36m<module>\u001b[0;34m()\u001b[0m\n\u001b[1;32m      1\u001b[0m \u001b[0mlearning_rate\u001b[0m\u001b[0;34m=\u001b[0m\u001b[0;36m0.1\u001b[0m\u001b[0;34m\u001b[0m\u001b[0;34m\u001b[0m\u001b[0m\n\u001b[1;32m      2\u001b[0m \u001b[0;32mfor\u001b[0m \u001b[0mepoch\u001b[0m \u001b[0;32min\u001b[0m \u001b[0mrange\u001b[0m\u001b[0;34m(\u001b[0m\u001b[0mepochs\u001b[0m\u001b[0;34m)\u001b[0m\u001b[0;34m:\u001b[0m\u001b[0;34m\u001b[0m\u001b[0;34m\u001b[0m\u001b[0m\n\u001b[0;32m----> 3\u001b[0;31m     \u001b[0mrand_ind\u001b[0m\u001b[0;34m=\u001b[0m\u001b[0mnp\u001b[0m\u001b[0;34m.\u001b[0m\u001b[0mrandom\u001b[0m\u001b[0;34m.\u001b[0m\u001b[0mchoice\u001b[0m\u001b[0;34m(\u001b[0m\u001b[0mrange\u001b[0m\u001b[0;34m(\u001b[0m\u001b[0mx_train\u001b[0m\u001b[0;34m.\u001b[0m\u001b[0mshape\u001b[0m\u001b[0;34m[\u001b[0m\u001b[0;36m0\u001b[0m\u001b[0;34m]\u001b[0m\u001b[0;34m)\u001b[0m\u001b[0;34m,\u001b[0m\u001b[0;36m100\u001b[0m\u001b[0;34m)\u001b[0m\u001b[0;34m\u001b[0m\u001b[0;34m\u001b[0m\u001b[0m\n\u001b[0m\u001b[1;32m      4\u001b[0m     \u001b[0moutputs\u001b[0m\u001b[0;34m=\u001b[0m\u001b[0my_train\u001b[0m\u001b[0;34m.\u001b[0m\u001b[0miloc\u001b[0m\u001b[0;34m[\u001b[0m\u001b[0mrand_ind\u001b[0m\u001b[0;34m,\u001b[0m\u001b[0;34m:\u001b[0m\u001b[0;34m]\u001b[0m\u001b[0;34m.\u001b[0m\u001b[0mvalues\u001b[0m\u001b[0;34m\u001b[0m\u001b[0;34m\u001b[0m\u001b[0m\n\u001b[1;32m      5\u001b[0m     \u001b[0minputs\u001b[0m\u001b[0;34m=\u001b[0m\u001b[0mx_train\u001b[0m\u001b[0;34m.\u001b[0m\u001b[0miloc\u001b[0m\u001b[0;34m[\u001b[0m\u001b[0mrand_ind\u001b[0m\u001b[0;34m,\u001b[0m\u001b[0;34m:\u001b[0m\u001b[0;34m]\u001b[0m\u001b[0;34m.\u001b[0m\u001b[0mvalues\u001b[0m\u001b[0;34m\u001b[0m\u001b[0;34m\u001b[0m\u001b[0m\n",
            "\u001b[0;32mmtrand.pyx\u001b[0m in \u001b[0;36mnumpy.random.mtrand.RandomState.choice\u001b[0;34m()\u001b[0m\n",
            "\u001b[0;32m<__array_function__ internals>\u001b[0m in \u001b[0;36mprod\u001b[0;34m(*args, **kwargs)\u001b[0m\n",
            "\u001b[0;31mKeyboardInterrupt\u001b[0m: "
          ]
        }
      ]
    },
    {
      "cell_type": "code",
      "metadata": {
        "colab": {
          "base_uri": "https://localhost:8080/"
        },
        "id": "-MOIP5P-JkpO",
        "outputId": "f780fcf2-10b1-430d-db8b-e8ed509cf704"
      },
      "source": [
        " print(accuracy(y_test.values,logistic_regression(x_test.values)).numpy())"
      ],
      "execution_count": null,
      "outputs": [
        {
          "output_type": "stream",
          "text": [
            "0.9613758\n"
          ],
          "name": "stdout"
        }
      ]
    },
    {
      "cell_type": "code",
      "metadata": {
        "id": "M7ppEtElKI2j"
      },
      "source": [
        "from sklearn.metrics import confusion_matrix\n",
        "from sklearn.metrics import precision_score, recall_score\n",
        "from sklearn.metrics import f1_score"
      ],
      "execution_count": null,
      "outputs": []
    },
    {
      "cell_type": "code",
      "metadata": {
        "id": "ileN11ImKTWl"
      },
      "source": [
        "y_pred=logistic_regression(x_test)"
      ],
      "execution_count": null,
      "outputs": []
    },
    {
      "cell_type": "code",
      "metadata": {
        "id": "_40Dzsz8LPqo"
      },
      "source": [
        "y_test2=y_test.values"
      ],
      "execution_count": null,
      "outputs": []
    },
    {
      "cell_type": "code",
      "metadata": {
        "id": "tb56NeJCTAMN"
      },
      "source": [
        "x_test2=x_test.values"
      ],
      "execution_count": null,
      "outputs": []
    },
    {
      "cell_type": "code",
      "metadata": {
        "id": "Wv_azh_tK2LC"
      },
      "source": [
        "y_test_class = np.argmax(y_test2,axis=1)\n",
        "y_pred_class = np.argmax(y_pred,axis=1)"
      ],
      "execution_count": null,
      "outputs": []
    },
    {
      "cell_type": "code",
      "metadata": {
        "colab": {
          "base_uri": "https://localhost:8080/"
        },
        "id": "-iez5p2KKrcQ",
        "outputId": "6ebb2b97-d901-454d-bead-2ebec9ab9d78"
      },
      "source": [
        "print('Precision: {:.5f}'.format(precision_score(y_test_class,y_pred_class,average=\"macro\")))\n",
        "print('Recall: {:.5f}'.format(recall_score(y_test_class,y_pred_class,average=\"macro\")))\n",
        "print('F1-score: {:.5f}\\n'.format(f1_score(y_test_class,y_pred_class,average=\"macro\")))"
      ],
      "execution_count": null,
      "outputs": [
        {
          "output_type": "stream",
          "text": [
            "Precision: 0.96390\n",
            "Recall: 0.96073\n",
            "F1-score: 0.96127\n",
            "\n"
          ],
          "name": "stdout"
        }
      ]
    },
    {
      "cell_type": "code",
      "metadata": {
        "id": "mJviC20GMLUz"
      },
      "source": [
        "from sklearn import metrics"
      ],
      "execution_count": null,
      "outputs": []
    },
    {
      "cell_type": "code",
      "metadata": {
        "id": "jH3OuWtFMZ1C"
      },
      "source": [
        "import numpy as np\n",
        "import matplotlib.pyplot as plt\n",
        "from itertools import cycle\n",
        "\n",
        "from sklearn import svm, datasets\n",
        "from sklearn.metrics import roc_curve, auc\n",
        "from sklearn.model_selection import train_test_split\n",
        "from sklearn.preprocessing import label_binarize\n",
        "from sklearn.multiclass import OneVsRestClassifier\n",
        "from scipy import interp\n",
        "from sklearn.metrics import roc_auc_score"
      ],
      "execution_count": null,
      "outputs": []
    },
    {
      "cell_type": "code",
      "metadata": {
        "colab": {
          "base_uri": "https://localhost:8080/",
          "height": 332
        },
        "id": "w3lcbEKJMEdk",
        "outputId": "d76ec574-72e8-40f5-f389-5de436d121b3"
      },
      "source": [
        "cnf_matrix = metrics.confusion_matrix(y_test_class,y_pred_class)\n",
        "class_names=[0,1]\n",
        "fig, ax = plt.subplots()\n",
        "tick_marks = np.arange(len(class_names))\n",
        "plt.xticks(tick_marks, class_names)\n",
        "plt.yticks(tick_marks, class_names)\n",
        "sns.heatmap(pd.DataFrame(cnf_matrix), annot=True, cmap=\"coolwarm\" ,fmt='g')\n",
        "ax.xaxis.set_label_position(\"top\")\n",
        "plt.tight_layout()\n",
        "plt.title('Confusion matrix', y=1.1)\n",
        "plt.ylabel('Actual label')\n",
        "plt.xlabel('Predicted label')"
      ],
      "execution_count": null,
      "outputs": [
        {
          "output_type": "execute_result",
          "data": {
            "text/plain": [
              "Text(0.5, 257.44, 'Predicted label')"
            ]
          },
          "metadata": {
            "tags": []
          },
          "execution_count": 53
        },
        {
          "output_type": "display_data",
          "data": {
            "image/png": "[encoded data removed]",
            "text/plain": [
              "<Figure size 432x288 with 2 Axes>"
            ]
          },
          "metadata": {
            "tags": [],
            "needs_background": "light"
          }
        }
      ]
    },
    {
      "cell_type": "code",
      "metadata": {
        "id": "96B5JZbvM3qn"
      },
      "source": [
        "n_classes=y_test.shape[1]"
      ],
      "execution_count": null,
      "outputs": []
    },
    {
      "cell_type": "code",
      "metadata": {
        "colab": {
          "base_uri": "https://localhost:8080/"
        },
        "id": "eNcwOCaBNq0P",
        "outputId": "4c6e5a92-f2d3-4845-d556-167634d3f861"
      },
      "source": [
        "n_classes"
      ],
      "execution_count": null,
      "outputs": [
        {
          "output_type": "execute_result",
          "data": {
            "text/plain": [
              "2"
            ]
          },
          "metadata": {
            "tags": []
          },
          "execution_count": 60
        }
      ]
    },
    {
      "cell_type": "code",
      "metadata": {
        "colab": {
          "base_uri": "https://localhost:8080/",
          "height": 406
        },
        "id": "QXOhcMRyNHJ4",
        "outputId": "a25cdd12-fafc-4f28-915e-25f6eabb7e2e"
      },
      "source": [
        "y_test"
      ],
      "execution_count": null,
      "outputs": [
        {
          "output_type": "execute_result",
          "data": {
            "text/html": [
              "<div>\n",
              "<style scoped>\n",
              "    .dataframe tbody tr th:only-of-type {\n",
              "        vertical-align: middle;\n",
              "    }\n",
              "\n",
              "    .dataframe tbody tr th {\n",
              "        vertical-align: top;\n",
              "    }\n",
              "\n",
              "    .dataframe thead th {\n",
              "        text-align: right;\n",
              "    }\n",
              "</style>\n",
              "<table border=\"1\" class=\"dataframe\">\n",
              "  <thead>\n",
              "    <tr style=\"text-align: right;\">\n",
              "      <th></th>\n",
              "      <th>0</th>\n",
              "      <th>1</th>\n",
              "    </tr>\n",
              "  </thead>\n",
              "  <tbody>\n",
              "    <tr>\n",
              "      <th>0</th>\n",
              "      <td>0</td>\n",
              "      <td>1</td>\n",
              "    </tr>\n",
              "    <tr>\n",
              "      <th>1</th>\n",
              "      <td>0</td>\n",
              "      <td>1</td>\n",
              "    </tr>\n",
              "    <tr>\n",
              "      <th>2</th>\n",
              "      <td>0</td>\n",
              "      <td>1</td>\n",
              "    </tr>\n",
              "    <tr>\n",
              "      <th>3</th>\n",
              "      <td>0</td>\n",
              "      <td>1</td>\n",
              "    </tr>\n",
              "    <tr>\n",
              "      <th>4</th>\n",
              "      <td>0</td>\n",
              "      <td>1</td>\n",
              "    </tr>\n",
              "    <tr>\n",
              "      <th>...</th>\n",
              "      <td>...</td>\n",
              "      <td>...</td>\n",
              "    </tr>\n",
              "    <tr>\n",
              "      <th>15362332</th>\n",
              "      <td>1</td>\n",
              "      <td>0</td>\n",
              "    </tr>\n",
              "    <tr>\n",
              "      <th>15362333</th>\n",
              "      <td>0</td>\n",
              "      <td>1</td>\n",
              "    </tr>\n",
              "    <tr>\n",
              "      <th>15362334</th>\n",
              "      <td>1</td>\n",
              "      <td>0</td>\n",
              "    </tr>\n",
              "    <tr>\n",
              "      <th>15362335</th>\n",
              "      <td>0</td>\n",
              "      <td>1</td>\n",
              "    </tr>\n",
              "    <tr>\n",
              "      <th>15362336</th>\n",
              "      <td>1</td>\n",
              "      <td>0</td>\n",
              "    </tr>\n",
              "  </tbody>\n",
              "</table>\n",
              "<p>15362337 rows × 2 columns</p>\n",
              "</div>"
            ],
            "text/plain": [
              "          0  1\n",
              "0         0  1\n",
              "1         0  1\n",
              "2         0  1\n",
              "3         0  1\n",
              "4         0  1\n",
              "...      .. ..\n",
              "15362332  1  0\n",
              "15362333  0  1\n",
              "15362334  1  0\n",
              "15362335  0  1\n",
              "15362336  1  0\n",
              "\n",
              "[15362337 rows x 2 columns]"
            ]
          },
          "metadata": {
            "tags": []
          },
          "execution_count": 57
        }
      ]
    },
    {
      "cell_type": "code",
      "metadata": {
        "colab": {
          "base_uri": "https://localhost:8080/",
          "height": 367
        },
        "id": "qoO30dwDORjL",
        "outputId": "1e488795-0df2-401f-97af-6f1162e68d5e"
      },
      "source": [
        "cnf_matrix = metrics.confusion_matrix(y_test_class, y_pred_class)\n",
        "class_names=[0,1]\n",
        "fig, ax = plt.subplots()\n",
        "tick_marks = np.arange(len(class_names))\n",
        "plt.xticks(tick_marks, class_names)\n",
        "plt.yticks(tick_marks, class_names)\n",
        "sns.heatmap(pd.DataFrame(cnf_matrix), annot=True, cmap=\"coolwarm\" ,fmt='g')\n",
        "ax.xaxis.set_label_position(\"top\")\n",
        "plt.tight_layout()\n",
        "plt.title('Confusion matrix', y=1.1)\n",
        "plt.ylabel('Actual label')\n",
        "plt.xlabel('Predicted label')\n",
        "\n",
        "TP = cnf_matrix[1, 1]\n",
        "TN = cnf_matrix[0, 0]\n",
        "FP = cnf_matrix[0, 1]\n",
        "FN = cnf_matrix[1, 0]\n",
        "Recall = TP / float(FN + TP)\n",
        "precision=TP/(TP+FP)\n",
        "specificity = TN / (TN + FP)\n",
        "f1= 2*TP/float(2*TP + FP + FN)\n",
        "print('Precision: %f' % precision)\n",
        "print('F1 score: %f' % f1)\n",
        "print('Recall: %f' % Recall)"
      ],
      "execution_count": null,
      "outputs": [
        {
          "output_type": "stream",
          "text": [
            "Precision: 0.934154\n",
            "F1 score: 0.963289\n",
            "Recall: 0.994301\n"
          ],
          "name": "stdout"
        },
        {
          "output_type": "display_data",
          "data": {
            "image/png": "[encoded data removed]",
            "text/plain": [
              "<Figure size 432x288 with 2 Axes>"
            ]
          },
          "metadata": {
            "tags": [],
            "needs_background": "light"
          }
        }
      ]
    },
    {
      "cell_type": "code",
      "metadata": {
        "colab": {
          "base_uri": "https://localhost:8080/"
        },
        "id": "rV1ZCjbFPmhh",
        "outputId": "0d608033-78d8-466b-fdbd-865d103d1fb5"
      },
      "source": [
        "from sklearn.metrics import roc_curve, auc\n",
        "false_positive_rate, true_positive_rate, thresholds = roc_curve(y_test_class, y_pred_class)\n",
        "roc_auc = auc(false_positive_rate, true_positive_rate)\n",
        "roc_auc"
      ],
      "execution_count": null,
      "outputs": [
        {
          "output_type": "execute_result",
          "data": {
            "text/plain": [
              "0.9607276299989387"
            ]
          },
          "metadata": {
            "tags": []
          },
          "execution_count": 66
        }
      ]
    },
    {
      "cell_type": "code",
      "metadata": {
        "colab": {
          "base_uri": "https://localhost:8080/",
          "height": 638
        },
        "id": "s0H-fN9KP3is",
        "outputId": "b8c8ac17-3c76-4cde-f2eb-b29a1f93fefd"
      },
      "source": [
        "import matplotlib.pyplot as plt\n",
        "plt.figure(figsize=(10,10))\n",
        "plt.title('Receiver Operating Characteristic')\n",
        "plt.plot(false_positive_rate,true_positive_rate, color='red',label = 'AUC = %0.2f' % roc_auc)\n",
        "plt.legend(loc = 'lower right')\n",
        "plt.plot([0, 1], [0, 1],linestyle='--')\n",
        "plt.axis('tight')\n",
        "plt.ylabel('True Positive Rate')\n",
        "plt.xlabel('False Positive Rate')"
      ],
      "execution_count": null,
      "outputs": [
        {
          "output_type": "execute_result",
          "data": {
            "text/plain": [
              "Text(0.5, 0, 'False Positive Rate')"
            ]
          },
          "metadata": {
            "tags": []
          },
          "execution_count": 67
        },
        {
          "output_type": "display_data",
          "data": {
            "image/png": "[encoded data removed]",
            "text/plain": [
              "<Figure size 720x720 with 1 Axes>"
            ]
          },
          "metadata": {
            "tags": [],
            "needs_background": "light"
          }
        }
      ]
    },
    {
      "cell_type": "code",
      "metadata": {
        "id": "gaKZaR4aWyhy"
      },
      "source": [
        "fpr = dict()\n",
        "tpr = dict()\n",
        "roc_auc = dict()\n",
        "for i in range(n_classes):\n",
        "    fpr[i], tpr[i], _ = roc_curve(y_test_class,\n",
        "                                  y_pred_class)\n",
        "    roc_auc[i] = auc(fpr[i], tpr[i])\n",
        "\n",
        "# Compute micro-average ROC curve and ROC area\n",
        "fpr[\"micro\"], tpr[\"micro\"], _ = roc_curve(y_test_class.ravel(), y_pred_class.ravel())\n",
        "roc_auc[\"micro\"] = auc(fpr[\"micro\"], tpr[\"micro\"])"
      ],
      "execution_count": null,
      "outputs": []
    },
    {
      "cell_type": "code",
      "metadata": {
        "colab": {
          "base_uri": "https://localhost:8080/",
          "height": 404
        },
        "id": "QGbbLFizZN85",
        "outputId": "6a89b3d3-d0ea-4b48-9e4c-e711ecadf7e8"
      },
      "source": [
        "all_fpr = np.unique(np.concatenate([fpr[i] for i in range(n_classes)]))\n",
        "\n",
        "# Then interpolate all ROC curves at this points\n",
        "mean_tpr = np.zeros_like(all_fpr)\n",
        "for i in range(n_classes):\n",
        "    mean_tpr += interp(all_fpr, fpr[i], tpr[i])\n",
        "\n",
        "# Finally average it and compute AUC\n",
        "mean_tpr /= n_classes\n",
        "\n",
        "fpr[\"macro\"] = all_fpr\n",
        "tpr[\"macro\"] = mean_tpr\n",
        "roc_auc[\"macro\"] = auc(fpr[\"macro\"], tpr[\"macro\"])\n",
        "\n",
        "# Plot all ROC curves\n",
        "\n",
        "plt.figure(figsize=(6,6))\n",
        "plt.plot(fpr[\"micro\"], tpr[\"micro\"],\n",
        "         label='micro-average ROC curve (area = {0:0.2f})'\n",
        "               ''.format(roc_auc[\"micro\"]),\n",
        "         color='pink', linestyle=':', linewidth=4)\n",
        "\n",
        "plt.plot(fpr[\"macro\"], tpr[\"macro\"],\n",
        "         label='macro-average ROC curve (area = {0:0.2f})'\n",
        "               ''.format(roc_auc[\"macro\"]),\n",
        "         color='green', linestyle=':', linewidth=4)\n",
        "\n",
        "colors = cycle(['green', 'red'])\n",
        "for i, color in zip(range(n_classes), colors):\n",
        "    plt.plot(fpr[i], tpr[i], color=color, lw=2,\n",
        "             label='ROC curve of class {0} (area = {1:0.2f})'\n",
        "             ''.format(i, roc_auc[i]))\n",
        "\n",
        "plt.plot([0, 1], [0, 1], 'k--', lw=2)\n",
        "plt.xlim([0.0, 1.0])\n",
        "plt.ylim([0.0, 1.05])\n",
        "plt.xlabel('False Positive Rate')\n",
        "plt.ylabel('True Positive Rate')\n",
        "plt.title('Receiver operating characteristic for multi-class Using Random Forest')\n",
        "plt.legend(bbox_to_anchor=(1,1), loc=\"upper left\")\n",
        "\n",
        "plt.show()"
      ],
      "execution_count": null,
      "outputs": [
        {
          "output_type": "display_data",
          "data": {
            "image/png": "[encoded data removed]",
            "text/plain": [
              "<Figure size 432x432 with 1 Axes>"
            ]
          },
          "metadata": {
            "tags": [],
            "needs_background": "light"
          }
        }
      ]
    },
    {
      "cell_type": "code",
      "metadata": {
        "colab": {
          "base_uri": "https://localhost:8080/"
        },
        "id": "sA5O33O9QTiY",
        "outputId": "f78e0a60-ad72-468b-94da-c020593ea75a"
      },
      "source": [
        "from sklearn.metrics import average_precision_score\n",
        "average_precision = average_precision_score(y_test_class, y_pred_class)\n",
        "\n",
        "print('Average precision-recall score: {0:0.2f}'.format(\n",
        "      average_precision))\n"
      ],
      "execution_count": null,
      "outputs": [
        {
          "output_type": "stream",
          "text": [
            "Average precision-recall score: 0.93\n"
          ],
          "name": "stdout"
        }
      ]
    },
    {
      "cell_type": "code",
      "metadata": {
        "id": "wLzQ63T1R1oD"
      },
      "source": [
        "from sklearn.metrics import (precision_recall_curve,\n",
        "    PrecisionRecallDisplay)"
      ],
      "execution_count": null,
      "outputs": []
    },
    {
      "cell_type": "code",
      "metadata": {
        "id": "finBII08Xnua"
      },
      "source": [
        "n_classes=2"
      ],
      "execution_count": null,
      "outputs": []
    },
    {
      "cell_type": "code",
      "metadata": {
        "colab": {
          "base_uri": "https://localhost:8080/"
        },
        "id": "ThFizmWoYHr5",
        "outputId": "eeaeff98-a3a4-4ad9-998b-f3772c9856ea"
      },
      "source": [
        "y_test_class"
      ],
      "execution_count": null,
      "outputs": [
        {
          "output_type": "execute_result",
          "data": {
            "text/plain": [
              "array([1, 1, 1, ..., 0, 1, 0])"
            ]
          },
          "metadata": {
            "tags": []
          },
          "execution_count": 91
        }
      ]
    },
    {
      "cell_type": "code",
      "metadata": {
        "colab": {
          "base_uri": "https://localhost:8080/"
        },
        "id": "iE4H_FUrYL6y",
        "outputId": "8be3ad86-e514-4674-84ae-32c9ae08db74"
      },
      "source": [
        "y_pred_class"
      ],
      "execution_count": null,
      "outputs": [
        {
          "output_type": "execute_result",
          "data": {
            "text/plain": [
              "array([1, 1, 1, ..., 0, 1, 0])"
            ]
          },
          "metadata": {
            "tags": []
          },
          "execution_count": 92
        }
      ]
    },
    {
      "cell_type": "code",
      "metadata": {
        "colab": {
          "base_uri": "https://localhost:8080/",
          "height": 294
        },
        "id": "IZ3M2EM6W-Xj",
        "outputId": "ff480e97-7301-42cf-d7b1-ae87c5dd26f1"
      },
      "source": [
        "\n",
        "precision = dict()\n",
        "recall = dict()\n",
        "colors = cycle(['pink', 'red'])\n",
        "for i,color in zip(range(n_classes),colors):\n",
        "    precision[i], recall[i], _ = precision_recall_curve(y_test_class,\n",
        "                                                        y_pred_class)\n",
        "    plt.plot(recall[i], precision[i], color=color, lw=2, label='class {}'.format(i))\n",
        "\n",
        "   \n",
        "    \n",
        "\n",
        "   \n",
        "plt.xlabel(\"recall\")\n",
        "plt.ylabel(\"precision\")\n",
        "plt.legend(loc=\"best\")\n",
        "plt.title(\"precision vs. recall curve\")\n",
        "plt.show()"
      ],
      "execution_count": null,
      "outputs": [
        {
          "output_type": "display_data",
          "data": {
            "image/png": "[encoded data removed]",
            "text/plain": [
              "<Figure size 432x288 with 1 Axes>"
            ]
          },
          "metadata": {
            "tags": [],
            "needs_background": "light"
          }
        }
      ]
    },
    {
      "cell_type": "markdown",
      "metadata": {
        "id": "BnoNv4Uk2IyJ"
      },
      "source": [
        "# **ANN Classifier**"
      ]
    },
    {
      "cell_type": "code",
      "metadata": {
        "id": "m2xP3UgmAV83"
      },
      "source": [
        "import keras\n",
        "from keras.models import Sequential\n",
        "from keras.layers import Dense\n",
        "from keras.optimizers import Adam\n",
        "import pydot\n",
        "import graphviz\n",
        "from IPython.display import SVG\n",
        "from keras.utils.vis_utils import model_to_dot\n",
        "from keras.utils import plot_model\n",
        "import seaborn as sns\n",
        "import pandas as pd\n",
        "import numpy as np"
      ],
      "execution_count": null,
      "outputs": []
    },
    {
      "cell_type": "code",
      "metadata": {
        "id": "tMjB2zXvAjzv"
      },
      "source": [
        "X_train=data3.drop('Label',axis=1)"
      ],
      "execution_count": null,
      "outputs": []
    },
    {
      "cell_type": "code",
      "metadata": {
        "id": "A-UVBJTPAy5f"
      },
      "source": [
        "y_train=data3['Label']"
      ],
      "execution_count": null,
      "outputs": []
    },
    {
      "cell_type": "code",
      "metadata": {
        "id": "SMEyevdxA9YN"
      },
      "source": [
        "X_test=data2.drop('Label',axis=1)"
      ],
      "execution_count": null,
      "outputs": []
    },
    {
      "cell_type": "code",
      "metadata": {
        "id": "n6RgYp99BHz8"
      },
      "source": [
        "y_test=data2['Label']"
      ],
      "execution_count": null,
      "outputs": []
    },
    {
      "cell_type": "markdown",
      "metadata": {
        "id": "_wYT0P6047Sl"
      },
      "source": [
        "Run below 2 cells of code for ANN only. For below other models above 4 lines of code works"
      ]
    },
    {
      "cell_type": "code",
      "metadata": {
        "id": "69nUWKp0BYBs"
      },
      "source": [
        "from sklearn.preprocessing import LabelEncoder\n",
        "encoder =  LabelEncoder()\n",
        "y1= encoder.fit_transform(y_train)\n",
        "y_train = pd.get_dummies(y1).values"
      ],
      "execution_count": null,
      "outputs": []
    },
    {
      "cell_type": "code",
      "metadata": {
        "id": "hDSda-0KBo5t"
      },
      "source": [
        "from sklearn.preprocessing import LabelEncoder\n",
        "encoder =  LabelEncoder()\n",
        "y1= encoder.fit_transform(y_test)\n",
        "y_test = pd.get_dummies(y1).values"
      ],
      "execution_count": null,
      "outputs": []
    },
    {
      "cell_type": "code",
      "metadata": {
        "colab": {
          "base_uri": "https://localhost:8080/"
        },
        "id": "unr9WTL6CSRx",
        "outputId": "270a8193-22f2-42ff-aab2-1e8cdcbaa00a"
      },
      "source": [
        "y_train"
      ],
      "execution_count": null,
      "outputs": [
        {
          "output_type": "execute_result",
          "data": {
            "text/plain": [
              "array([[1, 0],\n",
              "       [0, 1],\n",
              "       [0, 1],\n",
              "       ...,\n",
              "       [1, 0],\n",
              "       [0, 1],\n",
              "       [1, 0]], dtype=uint8)"
            ]
          },
          "metadata": {
            "tags": []
          },
          "execution_count": 23
        }
      ]
    },
    {
      "cell_type": "code",
      "metadata": {
        "id": "NeqV48cnCabM"
      },
      "source": [
        "model = Sequential()\n",
        "\n",
        "model.add(Dense(17,input_shape=(17,), activation='relu'))\n",
        "\n",
        "#Hidden Layer\n",
        "model.add(Dense(8,input_shape=(8,), activation='relu'))\n",
        "\n",
        "\n",
        "model.add(Dense(2, activation='softmax'))\n"
      ],
      "execution_count": null,
      "outputs": []
    },
    {
      "cell_type": "code",
      "metadata": {
        "id": "3yaQHkmgChE7"
      },
      "source": [
        "model.compile(optimizer=\"Adam\", loss='categorical_crossentropy', metrics=['accuracy'])"
      ],
      "execution_count": null,
      "outputs": []
    },
    {
      "cell_type": "code",
      "metadata": {
        "id": "fy9ELG2hCp-Y"
      },
      "source": [
        "from sklearn.preprocessing import StandardScaler"
      ],
      "execution_count": null,
      "outputs": []
    },
    {
      "cell_type": "code",
      "metadata": {
        "id": "Wly1V2coCyV2"
      },
      "source": [
        "st=StandardScaler()"
      ],
      "execution_count": null,
      "outputs": []
    },
    {
      "cell_type": "code",
      "metadata": {
        "colab": {
          "base_uri": "https://localhost:8080/"
        },
        "id": "-59L-ZvAC1Bb",
        "outputId": "dbf9ec9d-c150-40ad-89a0-d5004c6aa06d"
      },
      "source": [
        "st.fit(X_train)"
      ],
      "execution_count": null,
      "outputs": [
        {
          "output_type": "execute_result",
          "data": {
            "text/plain": [
              "StandardScaler(copy=True, with_mean=True, with_std=True)"
            ]
          },
          "metadata": {
            "tags": []
          },
          "execution_count": 28
        }
      ]
    },
    {
      "cell_type": "code",
      "metadata": {
        "id": "whTbXIW0C6Fo"
      },
      "source": [
        "X_train=pd.DataFrame(st.transform(X_train))\n",
        "X_test=pd.DataFrame(st.transform(X_test))"
      ],
      "execution_count": null,
      "outputs": []
    },
    {
      "cell_type": "code",
      "metadata": {
        "colab": {
          "base_uri": "https://localhost:8080/"
        },
        "id": "KW7Bj0NyDFSa",
        "outputId": "ea553697-1d7e-43c7-9971-525aff983019"
      },
      "source": [
        "model.fit(X_train, y_train, batch_size=1000, epochs=5)\n"
      ],
      "execution_count": null,
      "outputs": [
        {
          "output_type": "stream",
          "text": [
            "Epoch 1/5\n",
            "20000/20000 [==============================] - 30s 1ms/step - loss: 0.1408 - accuracy: 0.9524\n",
            "Epoch 2/5\n",
            "20000/20000 [==============================] - 29s 1ms/step - loss: 0.0481 - accuracy: 0.9843\n",
            "Epoch 3/5\n",
            "20000/20000 [==============================] - 28s 1ms/step - loss: 0.0177 - accuracy: 0.9958\n",
            "Epoch 4/5\n",
            "20000/20000 [==============================] - 26s 1ms/step - loss: 0.0104 - accuracy: 0.9967\n",
            "Epoch 5/5\n",
            "20000/20000 [==============================] - 26s 1ms/step - loss: 0.0088 - accuracy: 0.9974\n"
          ],
          "name": "stdout"
        },
        {
          "output_type": "execute_result",
          "data": {
            "text/plain": [
              "<tensorflow.python.keras.callbacks.History at 0x7fcb78ff3e90>"
            ]
          },
          "metadata": {
            "tags": []
          },
          "execution_count": 30
        }
      ]
    },
    {
      "cell_type": "code",
      "metadata": {
        "id": "RYUpxtsTFZYs"
      },
      "source": [
        "y_pred = model.predict(X_test)\n",
        "y_test_class = np.argmax(y_test,axis=1)\n",
        "y_pred_class = np.argmax(y_pred,axis=1)"
      ],
      "execution_count": null,
      "outputs": []
    },
    {
      "cell_type": "code",
      "metadata": {
        "id": "rOiSSm3o6CHS"
      },
      "source": [
        "from sklearn.metrics import accuracy_score"
      ],
      "execution_count": null,
      "outputs": []
    },
    {
      "cell_type": "code",
      "metadata": {
        "colab": {
          "base_uri": "https://localhost:8080/"
        },
        "id": "kJ5wv4lJ6VB0",
        "outputId": "0bfc8225-98ec-4863-ccbf-61b8af5643a8"
      },
      "source": [
        "accuracy_score(y_test_class,y_pred_class)"
      ],
      "execution_count": null,
      "outputs": [
        {
          "output_type": "execute_result",
          "data": {
            "text/plain": [
              "0.9980646824763706"
            ]
          },
          "metadata": {
            "tags": []
          },
          "execution_count": 34
        }
      ]
    },
    {
      "cell_type": "code",
      "metadata": {
        "colab": {
          "base_uri": "https://localhost:8080/"
        },
        "id": "bSWk1du0GZc1",
        "outputId": "183f6e72-4fda-4d5e-92d3-5814296c5d60"
      },
      "source": [
        "from sklearn.metrics import classification_report,confusion_matrix\n",
        "print(classification_report(y_test_class,y_pred_class))\n",
        "print(confusion_matrix(y_test_class,y_pred_class))\n"
      ],
      "execution_count": null,
      "outputs": [
        {
          "output_type": "stream",
          "text": [
            "              precision    recall  f1-score   support\n",
            "\n",
            "           0       1.00      1.00      1.00   7532874\n",
            "           1       1.00      1.00      1.00   7829463\n",
            "\n",
            "    accuracy                           1.00  15362337\n",
            "   macro avg       1.00      1.00      1.00  15362337\n",
            "weighted avg       1.00      1.00      1.00  15362337\n",
            "\n",
            "[[7517575   15299]\n",
            " [  14432 7815031]]\n"
          ],
          "name": "stdout"
        }
      ]
    },
    {
      "cell_type": "code",
      "metadata": {
        "colab": {
          "base_uri": "https://localhost:8080/"
        },
        "id": "FnnTc7UK-uoM",
        "outputId": "ce520b40-68d3-4c24-b883-f1090bee6be3"
      },
      "source": [
        "print('Precision: {:.5f}'.format(precision_score(y_test_class,y_pred_class,average=\"macro\")))\n",
        "print('Recall: {:.5f}'.format(recall_score(y_test_class,y_pred_class,average=\"macro\")))\n",
        "print('F1-score: {:.5f}\\n'.format(f1_score(y_test_class,y_pred_class,average=\"macro\")))"
      ],
      "execution_count": null,
      "outputs": [
        {
          "output_type": "stream",
          "text": [
            "Precision: 0.99807\n",
            "Recall: 0.99806\n",
            "F1-score: 0.99806\n",
            "\n"
          ],
          "name": "stdout"
        }
      ]
    },
    {
      "cell_type": "code",
      "metadata": {
        "id": "WkPkMyB37nbk"
      },
      "source": [
        "import sklearn.metrics\n",
        "from sklearn.metrics import roc_auc_score\n",
        "from sklearn import metrics\n",
        "import matplotlib.pyplot as plt\n",
        "import seaborn as sns\n",
        "sns.set(style='whitegrid')"
      ],
      "execution_count": null,
      "outputs": []
    },
    {
      "cell_type": "code",
      "metadata": {
        "colab": {
          "base_uri": "https://localhost:8080/",
          "height": 330
        },
        "id": "dQxAyrND7wjz",
        "outputId": "ba1ac42d-c50d-4a48-8972-0b220007766b"
      },
      "source": [
        "cnf_matrix = metrics.confusion_matrix(y_test_class, y_pred_class)\n",
        "class_names=[0,1]\n",
        "fig, ax = plt.subplots()\n",
        "tick_marks = np.arange(len(class_names))\n",
        "plt.xticks(tick_marks, class_names)\n",
        "plt.yticks(tick_marks, class_names)\n",
        "sns.heatmap(pd.DataFrame(cnf_matrix), annot=True, cmap=\"coolwarm\" ,fmt='g')\n",
        "ax.xaxis.set_label_position(\"top\")\n",
        "plt.tight_layout()\n",
        "plt.title('Confusion matrix', y=1.1)\n",
        "plt.ylabel('Actual label')\n",
        "plt.xlabel('Predicted label')"
      ],
      "execution_count": null,
      "outputs": [
        {
          "output_type": "execute_result",
          "data": {
            "text/plain": [
              "Text(0.5, 257.44, 'Predicted label')"
            ]
          },
          "metadata": {
            "tags": []
          },
          "execution_count": 38
        },
        {
          "output_type": "display_data",
          "data": {
            "image/png": "[encoded data removed]",
            "text/plain": [
              "<Figure size 432x288 with 2 Axes>"
            ]
          },
          "metadata": {
            "tags": []
          }
        }
      ]
    },
    {
      "cell_type": "code",
      "metadata": {
        "id": "WSF6kLde8MyR"
      },
      "source": [
        "n_classes=2"
      ],
      "execution_count": null,
      "outputs": []
    },
    {
      "cell_type": "code",
      "metadata": {
        "id": "XuVdjP5Z8hJj"
      },
      "source": [
        "import sklearn.metrics\n",
        "from sklearn.metrics import roc_auc_score\n",
        "from sklearn import metrics\n",
        "import matplotlib.pyplot as plt\n",
        "import seaborn as sns\n",
        "sns.set(style='whitegrid')"
      ],
      "execution_count": null,
      "outputs": []
    },
    {
      "cell_type": "code",
      "metadata": {
        "id": "sv_SwxwZ8lBR"
      },
      "source": [
        "from sklearn.metrics import roc_curve\n",
        "from sklearn.metrics import auc"
      ],
      "execution_count": null,
      "outputs": []
    },
    {
      "cell_type": "code",
      "metadata": {
        "id": "61mBl-ZO7939"
      },
      "source": [
        "fpr = dict()\n",
        "tpr = dict()\n",
        "roc_auc = dict()\n",
        "for i in range(n_classes):\n",
        "    fpr[i], tpr[i], _ = roc_curve(y_test_class, y_pred_class)\n",
        "    roc_auc[i] = auc(fpr[i], tpr[i])\n",
        "\n",
        "# Compute micro-average ROC curve and ROC area\n",
        "fpr[\"micro\"], tpr[\"micro\"], _ = roc_curve(y_test_class.ravel(), y_pred_class.ravel())\n",
        "roc_auc[\"micro\"] = auc(fpr[\"micro\"], tpr[\"micro\"])"
      ],
      "execution_count": null,
      "outputs": []
    },
    {
      "cell_type": "code",
      "metadata": {
        "colab": {
          "base_uri": "https://localhost:8080/",
          "height": 445
        },
        "id": "0RFlds_F88e4",
        "outputId": "f2f513dd-75f5-48d4-dd01-9e962a6b1c7d"
      },
      "source": [
        "all_fpr = np.unique(np.concatenate([fpr[i] for i in range(n_classes)]))\n",
        "\n",
        "# Then interpolate all ROC curves at this points\n",
        "mean_tpr = np.zeros_like(all_fpr)\n",
        "for i in range(n_classes):\n",
        "    mean_tpr += interp(all_fpr, fpr[i], tpr[i])\n",
        "\n",
        "# Finally average it and compute AUC\n",
        "mean_tpr /= n_classes\n",
        "\n",
        "fpr[\"macro\"] = all_fpr\n",
        "tpr[\"macro\"] = mean_tpr\n",
        "roc_auc[\"macro\"] = auc(fpr[\"macro\"], tpr[\"macro\"])\n",
        "\n",
        "# Plot all ROC curves\n",
        "\n",
        "plt.figure(figsize=(6,6))\n",
        "plt.plot(fpr[\"micro\"], tpr[\"micro\"],\n",
        "         label='micro-average ROC curve (area = {0:0.2f})'\n",
        "               ''.format(roc_auc[\"micro\"]),\n",
        "         color='pink', linestyle=':', linewidth=4)\n",
        "\n",
        "plt.plot(fpr[\"macro\"], tpr[\"macro\"],\n",
        "         label='macro-average ROC curve (area = {0:0.2f})'\n",
        "               ''.format(roc_auc[\"macro\"]),\n",
        "         color='green', linestyle=':', linewidth=4)\n",
        "\n",
        "colors = cycle(['orange','green'])\n",
        "for i, color in zip(range(n_classes), colors):\n",
        "    plt.plot(fpr[i], tpr[i], color=color, lw=2,\n",
        "             label='ROC curve of class {0} (area = {1:0.2f})'\n",
        "             ''.format(i, roc_auc[i]))\n",
        "\n",
        "plt.plot([0, 1], [0, 1], 'k--', lw=2)\n",
        "plt.xlim([0.0, 1.0])\n",
        "plt.ylim([0.0, 1.05])\n",
        "plt.xlabel('False Positive Rate')\n",
        "plt.ylabel('True Positive Rate')\n",
        "plt.title('Receiver operating characteristic curve')\n",
        "plt.legend(bbox_to_anchor=(1,1), loc=\"upper left\")\n",
        "\n",
        "plt.show()"
      ],
      "execution_count": null,
      "outputs": [
        {
          "output_type": "stream",
          "text": [
            "/usr/local/lib/python3.7/dist-packages/ipykernel_launcher.py:6: DeprecationWarning: scipy.interp is deprecated and will be removed in SciPy 2.0.0, use numpy.interp instead\n",
            "  \n"
          ],
          "name": "stderr"
        },
        {
          "output_type": "display_data",
          "data": {
            "image/png": "[encoded data removed]",
            "text/plain": [
              "<Figure size 432x432 with 1 Axes>"
            ]
          },
          "metadata": {
            "tags": []
          }
        }
      ]
    },
    {
      "cell_type": "code",
      "metadata": {
        "id": "g6FUgM_K-YVw"
      },
      "source": [
        "from sklearn.metrics import precision_recall_curve"
      ],
      "execution_count": null,
      "outputs": []
    },
    {
      "cell_type": "code",
      "metadata": {
        "colab": {
          "base_uri": "https://localhost:8080/",
          "height": 301
        },
        "id": "LV8UvI-2-AB4",
        "outputId": "2e425b98-616c-4435-bf73-0e95bc4e090b"
      },
      "source": [
        "\n",
        "precision = dict()\n",
        "recall = dict()\n",
        "colors = cycle(['blue','green'])\n",
        "for i,color in zip(range(n_classes),colors):\n",
        "    precision[i], recall[i], _ = precision_recall_curve(y_test_class,\n",
        "                                                        y_pred_class)\n",
        "    plt.plot(recall[i], precision[i], color=color, lw=2, label='class {}'.format(i))\n",
        "\n",
        "   \n",
        "\n",
        "   \n",
        "plt.xlabel(\"recall\")\n",
        "plt.ylabel(\"precision\")\n",
        "plt.legend(loc=\"best\")\n",
        "plt.title(\"precision vs. recall curve\")\n",
        "plt.show()"
      ],
      "execution_count": null,
      "outputs": [
        {
          "output_type": "display_data",
          "data": {
            "image/png": "[encoded data removed]",
            "text/plain": [
              "<Figure size 432x288 with 1 Axes>"
            ]
          },
          "metadata": {
            "tags": []
          }
        }
      ]
    },
    {
      "cell_type": "markdown",
      "metadata": {
        "id": "Jjff48Yx1QQ9"
      },
      "source": [
        "# **Decision Tree Classifier**"
      ]
    },
    {
      "cell_type": "code",
      "metadata": {
        "id": "3gPv2wAaG2bK"
      },
      "source": [
        "from sklearn.tree import DecisionTreeClassifier"
      ],
      "execution_count": null,
      "outputs": []
    },
    {
      "cell_type": "code",
      "metadata": {
        "id": "xyPLjtFTG5tZ"
      },
      "source": [
        "dtree = DecisionTreeClassifier()"
      ],
      "execution_count": null,
      "outputs": []
    },
    {
      "cell_type": "code",
      "metadata": {
        "colab": {
          "base_uri": "https://localhost:8080/"
        },
        "id": "SbpSjIo2IJ7P",
        "outputId": "c81869c2-9386-4aaf-da92-86d304c4c2a9"
      },
      "source": [
        "%%time\n",
        "from sklearn.metrics import accuracy_score\n"
      ],
      "execution_count": null,
      "outputs": [
        {
          "output_type": "stream",
          "text": [
            "CPU times: user 23 µs, sys: 0 ns, total: 23 µs\n",
            "Wall time: 40.8 µs\n"
          ],
          "name": "stdout"
        }
      ]
    },
    {
      "cell_type": "code",
      "metadata": {
        "colab": {
          "base_uri": "https://localhost:8080/"
        },
        "id": "4uxB5RO4G_V6",
        "outputId": "1afde8b0-17b4-40a4-aa10-5f105d08058a"
      },
      "source": [
        "%%time\n",
        "dtree.fit(X_train,y_train)\n"
      ],
      "execution_count": null,
      "outputs": [
        {
          "output_type": "stream",
          "text": [
            "CPU times: user 2min 43s, sys: 10.5 ms, total: 2min 43s\n",
            "Wall time: 2min 43s\n"
          ],
          "name": "stdout"
        },
        {
          "output_type": "execute_result",
          "data": {
            "text/plain": [
              "DecisionTreeClassifier(ccp_alpha=0.0, class_weight=None, criterion='gini',\n",
              "                       max_depth=None, max_features=None, max_leaf_nodes=None,\n",
              "                       min_impurity_decrease=0.0, min_impurity_split=None,\n",
              "                       min_samples_leaf=1, min_samples_split=2,\n",
              "                       min_weight_fraction_leaf=0.0, presort='deprecated',\n",
              "                       random_state=None, splitter='best')"
            ]
          },
          "metadata": {
            "tags": []
          },
          "execution_count": 48
        }
      ]
    },
    {
      "cell_type": "code",
      "metadata": {
        "colab": {
          "base_uri": "https://localhost:8080/"
        },
        "id": "_NKuUb5tIlqU",
        "outputId": "d6045356-ebf6-41d9-a619-34447b80c3b0"
      },
      "source": [
        "y_predsDT = dtree.predict(X_test)\n",
        "\n",
        "accuracy_score(y_test, y_predsDT)\n"
      ],
      "execution_count": null,
      "outputs": [
        {
          "output_type": "execute_result",
          "data": {
            "text/plain": [
              "0.9999957688729261"
            ]
          },
          "metadata": {
            "tags": []
          },
          "execution_count": 49
        }
      ]
    },
    {
      "cell_type": "code",
      "metadata": {
        "id": "-ONShnX_J-EI"
      },
      "source": [
        "from sklearn.metrics import confusion_matrix\n",
        "from sklearn.metrics import precision_score, recall_score\n",
        "from sklearn.metrics import f1_score"
      ],
      "execution_count": null,
      "outputs": []
    },
    {
      "cell_type": "code",
      "metadata": {
        "colab": {
          "base_uri": "https://localhost:8080/"
        },
        "id": "KZKMTIHyKJNt",
        "outputId": "cea8041d-deff-49c0-8385-05d04c0d89cb"
      },
      "source": [
        "from sklearn.metrics import classification_report,confusion_matrix\n",
        "print(classification_report(y_test,y_predsDT))\n"
      ],
      "execution_count": null,
      "outputs": [
        {
          "output_type": "stream",
          "text": [
            "              precision    recall  f1-score   support\n",
            "\n",
            "           0       1.00      1.00      1.00   7532874\n",
            "           1       1.00      1.00      1.00   7829463\n",
            "\n",
            "    accuracy                           1.00  15362337\n",
            "   macro avg       1.00      1.00      1.00  15362337\n",
            "weighted avg       1.00      1.00      1.00  15362337\n",
            "\n"
          ],
          "name": "stdout"
        }
      ]
    },
    {
      "cell_type": "code",
      "metadata": {
        "colab": {
          "base_uri": "https://localhost:8080/"
        },
        "id": "C1FtSEaFfHV3",
        "outputId": "cb33e67e-8dc4-4e2b-9a8d-6bed38de4bc9"
      },
      "source": [
        "confusion_matrix(y_test, y_predsDT)"
      ],
      "execution_count": null,
      "outputs": [
        {
          "output_type": "execute_result",
          "data": {
            "text/plain": [
              "array([[7532844,      30],\n",
              "       [     35, 7829428]])"
            ]
          },
          "metadata": {
            "tags": []
          },
          "execution_count": 52
        }
      ]
    },
    {
      "cell_type": "code",
      "metadata": {
        "colab": {
          "base_uri": "https://localhost:8080/"
        },
        "id": "6IdPBsEIKlpL",
        "outputId": "15e464c1-816e-4412-d10c-fd10b2e5d33e"
      },
      "source": [
        "print('Precision: {:.5f}'.format(precision_score(y_test, y_predsDT,average='macro')))\n",
        "print('Recall: {:.5f}'.format(recall_score(y_test, y_predsDT,average='macro')))\n",
        "print('F1-score: {:.5f}\\n'.format(f1_score(y_test, y_predsDT,average='macro')))"
      ],
      "execution_count": null,
      "outputs": [
        {
          "output_type": "stream",
          "text": [
            "Precision: 1.00000\n",
            "Recall: 1.00000\n",
            "F1-score: 1.00000\n",
            "\n"
          ],
          "name": "stdout"
        }
      ]
    },
    {
      "cell_type": "code",
      "metadata": {
        "id": "wD7zukb9fv_f"
      },
      "source": [
        "from sklearn import metrics"
      ],
      "execution_count": null,
      "outputs": []
    },
    {
      "cell_type": "code",
      "metadata": {
        "id": "vzld6eMagA-f"
      },
      "source": [
        "import sklearn.metrics\n",
        "from sklearn.metrics import roc_auc_score\n",
        "from sklearn import metrics\n",
        "import matplotlib.pyplot as plt\n",
        "import seaborn as sns\n",
        "sns.set(style='whitegrid')"
      ],
      "execution_count": null,
      "outputs": []
    },
    {
      "cell_type": "code",
      "metadata": {
        "colab": {
          "base_uri": "https://localhost:8080/",
          "height": 330
        },
        "id": "VmTsJNRlfoet",
        "outputId": "9e3b0c82-380a-4809-f236-6e1c244308df"
      },
      "source": [
        "cnf_matrix = metrics.confusion_matrix(y_test, y_predsDT)\n",
        "class_names=[0,1]\n",
        "fig, ax = plt.subplots()\n",
        "tick_marks = np.arange(len(class_names))\n",
        "plt.xticks(tick_marks, class_names)\n",
        "plt.yticks(tick_marks, class_names)\n",
        "sns.heatmap(pd.DataFrame(cnf_matrix), annot=True, cmap=\"coolwarm\" ,fmt='g')\n",
        "ax.xaxis.set_label_position(\"top\")\n",
        "plt.tight_layout()\n",
        "plt.title('Confusion matrix', y=1.1)\n",
        "plt.ylabel('Actual label')\n",
        "plt.xlabel('Predicted label')"
      ],
      "execution_count": null,
      "outputs": [
        {
          "output_type": "execute_result",
          "data": {
            "text/plain": [
              "Text(0.5, 257.44, 'Predicted label')"
            ]
          },
          "metadata": {
            "tags": []
          },
          "execution_count": 56
        },
        {
          "output_type": "display_data",
          "data": {
            "image/png": "[encoded data removed]",
            "text/plain": [
              "<Figure size 432x288 with 2 Axes>"
            ]
          },
          "metadata": {
            "tags": []
          }
        }
      ]
    },
    {
      "cell_type": "code",
      "metadata": {
        "id": "0saDk-830O1J"
      },
      "source": [
        "import sklearn.metrics\n",
        "from sklearn.metrics import roc_auc_score\n",
        "from sklearn import metrics\n",
        "import matplotlib.pyplot as plt\n",
        "import seaborn as sns\n",
        "sns.set(style='whitegrid')\n"
      ],
      "execution_count": null,
      "outputs": []
    },
    {
      "cell_type": "code",
      "metadata": {
        "id": "ooehCVor0a0H"
      },
      "source": [
        "fpr = dict()\n",
        "tpr = dict()\n",
        "roc_auc = dict()\n",
        "for i in range(n_classes):\n",
        "    fpr[i], tpr[i], _ = roc_curve(y_test, y_predsDT)\n",
        "    roc_auc[i] = auc(fpr[i], tpr[i])\n",
        "\n",
        "# Compute micro-average ROC curve and ROC area\n",
        "fpr[\"micro\"], tpr[\"micro\"], _ = roc_curve(y_test.ravel(), y_predsDT.ravel())\n",
        "roc_auc[\"micro\"] = auc(fpr[\"micro\"], tpr[\"micro\"])"
      ],
      "execution_count": null,
      "outputs": []
    },
    {
      "cell_type": "code",
      "metadata": {
        "colab": {
          "base_uri": "https://localhost:8080/",
          "height": 445
        },
        "id": "PUrXZCob0h3S",
        "outputId": "fdb4b691-0fc1-42d4-8423-853a4ce1ffb7"
      },
      "source": [
        "all_fpr = np.unique(np.concatenate([fpr[i] for i in range(n_classes)]))\n",
        "\n",
        "# Then interpolate all ROC curves at this points\n",
        "mean_tpr = np.zeros_like(all_fpr)\n",
        "for i in range(n_classes):\n",
        "    mean_tpr += interp(all_fpr, fpr[i], tpr[i])\n",
        "\n",
        "# Finally average it and compute AUC\n",
        "mean_tpr /= n_classes\n",
        "\n",
        "fpr[\"macro\"] = all_fpr\n",
        "tpr[\"macro\"] = mean_tpr\n",
        "roc_auc[\"macro\"] = auc(fpr[\"macro\"], tpr[\"macro\"])\n",
        "\n",
        "# Plot all ROC curves\n",
        "\n",
        "plt.figure(figsize=(6,6))\n",
        "plt.plot(fpr[\"micro\"], tpr[\"micro\"],\n",
        "         label='micro-average ROC curve (area = {0:0.2f})'\n",
        "               ''.format(roc_auc[\"micro\"]),\n",
        "         color='pink', linestyle=':', linewidth=4)\n",
        "\n",
        "plt.plot(fpr[\"macro\"], tpr[\"macro\"],\n",
        "         label='macro-average ROC curve (area = {0:0.2f})'\n",
        "               ''.format(roc_auc[\"macro\"]),\n",
        "         color='green', linestyle=':', linewidth=4)\n",
        "\n",
        "colors = cycle(['black','red'])\n",
        "for i, color in zip(range(n_classes), colors):\n",
        "    plt.plot(fpr[i], tpr[i], color=color, lw=2,\n",
        "             label='ROC curve of class {0} (area = {1:0.2f})'\n",
        "             ''.format(i, roc_auc[i]))\n",
        "\n",
        "plt.plot([0, 1], [0, 1], 'k--', lw=2)\n",
        "plt.xlim([0.0, 1.0])\n",
        "plt.ylim([0.0, 1.05])\n",
        "plt.xlabel('False Positive Rate')\n",
        "plt.ylabel('True Positive Rate')\n",
        "plt.title('Receiver operating characteristic for multi-class Using Decision Tree')\n",
        "plt.legend(bbox_to_anchor=(1,1), loc=\"upper left\")\n",
        "\n",
        "plt.show()"
      ],
      "execution_count": null,
      "outputs": [
        {
          "output_type": "stream",
          "text": [
            "/usr/local/lib/python3.7/dist-packages/ipykernel_launcher.py:6: DeprecationWarning: scipy.interp is deprecated and will be removed in SciPy 2.0.0, use numpy.interp instead\n",
            "  \n"
          ],
          "name": "stderr"
        },
        {
          "output_type": "display_data",
          "data": {
            "image/png": "[encoded data removed]",
            "text/plain": [
              "<Figure size 432x432 with 1 Axes>"
            ]
          },
          "metadata": {
            "tags": []
          }
        }
      ]
    },
    {
      "cell_type": "code",
      "metadata": {
        "colab": {
          "base_uri": "https://localhost:8080/",
          "height": 301
        },
        "id": "G9WfyZ5Z0oTu",
        "outputId": "2c0f547c-897d-4435-f3df-03482014587e"
      },
      "source": [
        "\n",
        "precision = dict()\n",
        "recall = dict()\n",
        "colors = cycle(['blue','pink'])\n",
        "for i,color in zip(range(n_classes),colors):\n",
        "    precision[i], recall[i], _ = precision_recall_curve(y_test,\n",
        "                                                        y_predsDT)\n",
        "    plt.plot(recall[i], precision[i], color=color, lw=2, label='class {}'.format(i))\n",
        "\n",
        "   \n",
        "\n",
        "   \n",
        "plt.xlabel(\"recall\")\n",
        "plt.ylabel(\"precision\")\n",
        "plt.legend(loc=\"best\")\n",
        "plt.title(\"precision vs. recall curve\")\n",
        "plt.show()"
      ],
      "execution_count": null,
      "outputs": [
        {
          "output_type": "display_data",
          "data": {
            "image/png": "[encoded data removed]",
            "text/plain": [
              "<Figure size 432x288 with 1 Axes>"
            ]
          },
          "metadata": {
            "tags": []
          }
        }
      ]
    },
    {
      "cell_type": "markdown",
      "metadata": {
        "id": "HscNeS6r1YcE"
      },
      "source": [
        "# **Random Forest Classifier**"
      ]
    },
    {
      "cell_type": "code",
      "metadata": {
        "id": "Ug0vZMtfggKZ"
      },
      "source": [
        "from sklearn.ensemble import RandomForestClassifier"
      ],
      "execution_count": null,
      "outputs": []
    },
    {
      "cell_type": "code",
      "metadata": {
        "colab": {
          "base_uri": "https://localhost:8080/"
        },
        "id": "Ce-FQam8gibn",
        "outputId": "3186fb62-c0e1-4f99-9408-b0cc3f1bff18"
      },
      "source": [
        "%%time\n",
        "rf = RandomForestClassifier()"
      ],
      "execution_count": null,
      "outputs": [
        {
          "output_type": "stream",
          "text": [
            "CPU times: user 50 µs, sys: 0 ns, total: 50 µs\n",
            "Wall time: 64.4 µs\n"
          ],
          "name": "stdout"
        }
      ]
    },
    {
      "cell_type": "code",
      "metadata": {
        "id": "wHhg7Xdfg5J7"
      },
      "source": [
        "from sklearn.metrics import accuracy_score\n"
      ],
      "execution_count": null,
      "outputs": []
    },
    {
      "cell_type": "code",
      "metadata": {
        "colab": {
          "base_uri": "https://localhost:8080/"
        },
        "id": "mFDVbvcjgkiO",
        "outputId": "65284c0b-ce1d-433d-8e4f-2ca5d1a9229f"
      },
      "source": [
        "%%time\n",
        "rf.fit(X_train,y_train)\n",
        "y_predsRF = rf.predict(X_test)\n"
      ],
      "execution_count": null,
      "outputs": [
        {
          "output_type": "stream",
          "text": [
            "CPU times: user 1h 2min 37s, sys: 1.13 s, total: 1h 2min 38s\n",
            "Wall time: 1h 2min 37s\n"
          ],
          "name": "stdout"
        }
      ]
    },
    {
      "cell_type": "code",
      "metadata": {
        "id": "9v1FNc_PjKp-",
        "colab": {
          "base_uri": "https://localhost:8080/"
        },
        "outputId": "db455735-7470-428f-d175-25e3dfa2623f"
      },
      "source": [
        "accuracy_score(y_test, y_predsRF)"
      ],
      "execution_count": null,
      "outputs": [
        {
          "output_type": "execute_result",
          "data": {
            "text/plain": [
              "0.9999953132130873"
            ]
          },
          "metadata": {
            "tags": []
          },
          "execution_count": 26
        }
      ]
    },
    {
      "cell_type": "code",
      "metadata": {
        "id": "JRXPivt0auS-"
      },
      "source": [
        "from sklearn.metrics import confusion_matrix\n",
        "from sklearn.metrics import precision_score, recall_score\n",
        "from sklearn.metrics import f1_score "
      ],
      "execution_count": null,
      "outputs": []
    },
    {
      "cell_type": "code",
      "metadata": {
        "colab": {
          "base_uri": "https://localhost:8080/"
        },
        "id": "QafxeoBma6kO",
        "outputId": "ba07249f-432d-4852-e907-b55166c262e5"
      },
      "source": [
        "from sklearn.metrics import classification_report,confusion_matrix\n",
        "print(classification_report(y_test,y_predsRF))\n"
      ],
      "execution_count": null,
      "outputs": [
        {
          "output_type": "stream",
          "text": [
            "              precision    recall  f1-score   support\n",
            "\n",
            "           0       1.00      1.00      1.00   7532874\n",
            "           1       1.00      1.00      1.00   7829463\n",
            "\n",
            "    accuracy                           1.00  15362337\n",
            "   macro avg       1.00      1.00      1.00  15362337\n",
            "weighted avg       1.00      1.00      1.00  15362337\n",
            "\n"
          ],
          "name": "stdout"
        }
      ]
    },
    {
      "cell_type": "code",
      "metadata": {
        "colab": {
          "base_uri": "https://localhost:8080/"
        },
        "id": "hrHrbq2Xbb6m",
        "outputId": "0962079f-8ea8-46ca-cc4c-8a1820903c9c"
      },
      "source": [
        "confusion_matrix(y_test, y_predsRF)"
      ],
      "execution_count": null,
      "outputs": [
        {
          "output_type": "execute_result",
          "data": {
            "text/plain": [
              "array([[7532869,       5],\n",
              "       [     67, 7829396]])"
            ]
          },
          "metadata": {
            "tags": []
          },
          "execution_count": 29
        }
      ]
    },
    {
      "cell_type": "code",
      "metadata": {
        "id": "2E2J5STAbIJA"
      },
      "source": [
        "import sklearn.metrics\n",
        "from sklearn.metrics import roc_auc_score\n",
        "from sklearn import metrics\n",
        "import matplotlib.pyplot as plt\n",
        "import seaborn as sns\n",
        "sns.set(style='whitegrid')"
      ],
      "execution_count": null,
      "outputs": []
    },
    {
      "cell_type": "code",
      "metadata": {
        "colab": {
          "base_uri": "https://localhost:8080/",
          "height": 330
        },
        "id": "OsmBxfE0bg0B",
        "outputId": "31ff9fc1-1181-4890-d9af-c9d2110a00e9"
      },
      "source": [
        "cnf_matrix = metrics.confusion_matrix(y_test, y_predsRF)\n",
        "class_names=[0,1]\n",
        "fig, ax = plt.subplots()\n",
        "tick_marks = np.arange(len(class_names))\n",
        "plt.xticks(tick_marks, class_names)\n",
        "plt.yticks(tick_marks, class_names)\n",
        "sns.heatmap(pd.DataFrame(cnf_matrix), annot=True, cmap=\"coolwarm\" ,fmt='g')\n",
        "ax.xaxis.set_label_position(\"top\")\n",
        "plt.tight_layout()\n",
        "plt.title('Confusion matrix', y=1.1)\n",
        "plt.ylabel('Actual label')\n",
        "plt.xlabel('Predicted label')"
      ],
      "execution_count": null,
      "outputs": [
        {
          "output_type": "execute_result",
          "data": {
            "text/plain": [
              "Text(0.5, 257.44, 'Predicted label')"
            ]
          },
          "metadata": {
            "tags": []
          },
          "execution_count": 31
        },
        {
          "output_type": "display_data",
          "data": {
            "image/png": "[encoded data removed]",
            "text/plain": [
              "<Figure size 432x288 with 2 Axes>"
            ]
          },
          "metadata": {
            "tags": []
          }
        }
      ]
    },
    {
      "cell_type": "code",
      "metadata": {
        "colab": {
          "base_uri": "https://localhost:8080/"
        },
        "id": "xRSakV4owjSY",
        "outputId": "567c145c-16e9-4971-b4d2-b840de2811a5"
      },
      "source": [
        "print('Precision: {:.5f}'.format(precision_score(y_test, y_predsRF, average='macro')))\n",
        "print('Recall: {:.5f}'.format(recall_score(y_test, y_predsRF, average='macro')))\n",
        "print('F1-score: {:.5f}\\n'.format(f1_score(y_test, y_predsRF, average='macro')))"
      ],
      "execution_count": null,
      "outputs": [
        {
          "output_type": "stream",
          "text": [
            "Precision: 1.00000\n",
            "Recall: 1.00000\n",
            "F1-score: 1.00000\n",
            "\n"
          ],
          "name": "stdout"
        }
      ]
    },
    {
      "cell_type": "code",
      "metadata": {
        "id": "isNWYwqixGES"
      },
      "source": [
        "n_classes=2"
      ],
      "execution_count": null,
      "outputs": []
    },
    {
      "cell_type": "code",
      "metadata": {
        "id": "VMTFYFFfxQmA"
      },
      "source": [
        "import sklearn.metrics\n",
        "from sklearn.metrics import roc_auc_score\n",
        "from sklearn import metrics\n",
        "import matplotlib.pyplot as plt\n",
        "import seaborn as sns\n",
        "sns.set(style='whitegrid')\n"
      ],
      "execution_count": null,
      "outputs": []
    },
    {
      "cell_type": "code",
      "metadata": {
        "id": "VMkXMiFPwxAS"
      },
      "source": [
        "fpr = dict()\n",
        "tpr = dict()\n",
        "roc_auc = dict()\n",
        "for i in range(n_classes):\n",
        "    fpr[i], tpr[i], _ = roc_curve(y_test, y_predsRF)\n",
        "    roc_auc[i] = auc(fpr[i], tpr[i])\n",
        "\n",
        "# Compute micro-average ROC curve and ROC area\n",
        "fpr[\"micro\"], tpr[\"micro\"], _ = roc_curve(y_test.ravel(), y_predsRF.ravel())\n",
        "roc_auc[\"micro\"] = auc(fpr[\"micro\"], tpr[\"micro\"])"
      ],
      "execution_count": null,
      "outputs": []
    },
    {
      "cell_type": "code",
      "metadata": {
        "colab": {
          "base_uri": "https://localhost:8080/",
          "height": 445
        },
        "id": "YZJHrQQZw8mJ",
        "outputId": "419c650d-2f3f-40b9-bc7c-87770b067959"
      },
      "source": [
        "all_fpr = np.unique(np.concatenate([fpr[i] for i in range(n_classes)]))\n",
        "\n",
        "# Then interpolate all ROC curves at this points\n",
        "mean_tpr = np.zeros_like(all_fpr)\n",
        "for i in range(n_classes):\n",
        "    mean_tpr += interp(all_fpr, fpr[i], tpr[i])\n",
        "\n",
        "# Finally average it and compute AUC\n",
        "mean_tpr /= n_classes\n",
        "\n",
        "fpr[\"macro\"] = all_fpr\n",
        "tpr[\"macro\"] = mean_tpr\n",
        "roc_auc[\"macro\"] = auc(fpr[\"macro\"], tpr[\"macro\"])\n",
        "\n",
        "# Plot all ROC curves\n",
        "\n",
        "plt.figure(figsize=(6,6))\n",
        "plt.plot(fpr[\"micro\"], tpr[\"micro\"],\n",
        "         label='micro-average ROC curve (area = {0:0.2f})'\n",
        "               ''.format(roc_auc[\"micro\"]),\n",
        "         color='pink', linestyle=':', linewidth=4)\n",
        "\n",
        "plt.plot(fpr[\"macro\"], tpr[\"macro\"],\n",
        "         label='macro-average ROC curve (area = {0:0.2f})'\n",
        "               ''.format(roc_auc[\"macro\"]),\n",
        "         color='green', linestyle=':', linewidth=4)\n",
        "\n",
        "colors = cycle(['black','orange'])\n",
        "for i, color in zip(range(n_classes), colors):\n",
        "    plt.plot(fpr[i], tpr[i], color=color, lw=2,\n",
        "             label='ROC curve of class {0} (area = {1:0.2f})'\n",
        "             ''.format(i, roc_auc[i]))\n",
        "\n",
        "plt.plot([0, 1], [0, 1], 'k--', lw=2)\n",
        "plt.xlim([0.0, 1.0])\n",
        "plt.ylim([0.0, 1.05])\n",
        "plt.xlabel('False Positive Rate')\n",
        "plt.ylabel('True Positive Rate')\n",
        "plt.title('Receiver operating characteristic for multi-class Using Random Forest')\n",
        "plt.legend(bbox_to_anchor=(1,1), loc=\"upper left\")\n",
        "\n",
        "plt.show()"
      ],
      "execution_count": null,
      "outputs": [
        {
          "output_type": "stream",
          "text": [
            "/usr/local/lib/python3.7/dist-packages/ipykernel_launcher.py:6: DeprecationWarning: scipy.interp is deprecated and will be removed in SciPy 2.0.0, use numpy.interp instead\n",
            "  \n"
          ],
          "name": "stderr"
        },
        {
          "output_type": "display_data",
          "data": {
            "image/png": "[encoded data removed]",
            "text/plain": [
              "<Figure size 432x432 with 1 Axes>"
            ]
          },
          "metadata": {
            "tags": []
          }
        }
      ]
    },
    {
      "cell_type": "code",
      "metadata": {
        "id": "Vmgxs7UtyFQ0"
      },
      "source": [
        "from sklearn.metrics import precision_recall_curve"
      ],
      "execution_count": null,
      "outputs": []
    },
    {
      "cell_type": "code",
      "metadata": {
        "colab": {
          "base_uri": "https://localhost:8080/",
          "height": 301
        },
        "id": "KvXKC_Hzx-J2",
        "outputId": "872a6e28-48eb-4051-8e08-2f251831913c"
      },
      "source": [
        "\n",
        "precision = dict()\n",
        "recall = dict()\n",
        "colors = cycle(['black','grey'])\n",
        "for i,color in zip(range(n_classes),colors):\n",
        "    precision[i], recall[i], _ = precision_recall_curve(y_test,\n",
        "                                                        y_predsRF)\n",
        "    plt.plot(recall[i], precision[i], color=color, lw=2, label='class {}'.format(i))\n",
        "\n",
        "   \n",
        "\n",
        "   \n",
        "plt.xlabel(\"recall\")\n",
        "plt.ylabel(\"precision\")\n",
        "plt.legend(loc=\"best\")\n",
        "plt.title(\"precision vs. recall curve\")\n",
        "plt.show()"
      ],
      "execution_count": null,
      "outputs": [
        {
          "output_type": "display_data",
          "data": {
            "image/png": "[encoded data removed]",
            "text/plain": [
              "<Figure size 432x288 with 1 Axes>"
            ]
          },
          "metadata": {
            "tags": []
          }
        }
      ]
    },
    {
      "cell_type": "markdown",
      "metadata": {
        "id": "hEntZupl1fL2"
      },
      "source": [
        "# **XGB Classifier**"
      ]
    },
    {
      "cell_type": "code",
      "metadata": {
        "id": "bEaTFsthcov5"
      },
      "source": [
        "from xgboost import XGBClassifier\n",
        "xgb=XGBClassifier(random_state=42,learning_rate=0.1)\n"
      ],
      "execution_count": null,
      "outputs": []
    },
    {
      "cell_type": "code",
      "metadata": {
        "colab": {
          "base_uri": "https://localhost:8080/"
        },
        "id": "s97pY7x1csBr",
        "outputId": "81c58ea7-8704-46bc-e750-d2ed576a5f3d"
      },
      "source": [
        "%%time\n",
        "xgb.fit(X_train, y_train)\n"
      ],
      "execution_count": null,
      "outputs": [
        {
          "output_type": "stream",
          "text": [
            "[01:56:16] WARNING: /workspace/src/learner.cc:686: Tree method is automatically selected to be 'approx' for faster speed. To use old behavior (exact greedy algorithm on single machine), set tree_method to 'exact'.\n",
            "CPU times: user 1h 41min 10s, sys: 12.2 s, total: 1h 41min 22s\n",
            "Wall time: 1h 41min 21s\n"
          ],
          "name": "stdout"
        },
        {
          "output_type": "execute_result",
          "data": {
            "text/plain": [
              "XGBClassifier(base_score=0.5, booster='gbtree', colsample_bylevel=1,\n",
              "              colsample_bynode=1, colsample_bytree=1, gamma=0,\n",
              "              learning_rate=0.1, max_delta_step=0, max_depth=3,\n",
              "              min_child_weight=1, missing=None, n_estimators=100, n_jobs=1,\n",
              "              nthread=None, objective='binary:logistic', random_state=42,\n",
              "              reg_alpha=0, reg_lambda=1, scale_pos_weight=1, seed=None,\n",
              "              silent=None, subsample=1, verbosity=1)"
            ]
          },
          "metadata": {
            "tags": []
          },
          "execution_count": 114
        }
      ]
    },
    {
      "cell_type": "code",
      "metadata": {
        "id": "FGuCEkzhc_6A"
      },
      "source": [
        "y_predsXGB = xgb.predict(X_test)"
      ],
      "execution_count": null,
      "outputs": []
    },
    {
      "cell_type": "code",
      "metadata": {
        "id": "-Er7Rz5x4EBv"
      },
      "source": [
        "from sklearn.metrics import accuracy_score"
      ],
      "execution_count": null,
      "outputs": []
    },
    {
      "cell_type": "code",
      "metadata": {
        "colab": {
          "base_uri": "https://localhost:8080/"
        },
        "id": "Nyd5B6Pncw_i",
        "outputId": "1c930cbf-efc1-423f-81c9-950840900f75"
      },
      "source": [
        "accuracy_score(y_test, y_predsXGB)"
      ],
      "execution_count": null,
      "outputs": [
        {
          "output_type": "execute_result",
          "data": {
            "text/plain": [
              "0.9990539850805252"
            ]
          },
          "metadata": {
            "tags": []
          },
          "execution_count": 119
        }
      ]
    },
    {
      "cell_type": "code",
      "metadata": {
        "id": "G_3_qb0Yc-yl"
      },
      "source": [
        "from sklearn.metrics import confusion_matrix\n",
        "from sklearn.metrics import precision_score, recall_score\n",
        "from sklearn.metrics import f1_score "
      ],
      "execution_count": null,
      "outputs": []
    },
    {
      "cell_type": "code",
      "metadata": {
        "colab": {
          "base_uri": "https://localhost:8080/"
        },
        "id": "HYgFRlfe4atT",
        "outputId": "5e04126a-d4b0-4127-d09a-c27d7514331b"
      },
      "source": [
        "print('Precision: {:.5f}'.format(precision_score(y_test, y_predsXGB, average='macro')))\n",
        "print('Recall: {:.5f}'.format(recall_score(y_test, y_predsXGB, average='macro')))\n",
        "print('F1-score: {:.5f}\\n'.format(f1_score(y_test, y_predsXGB, average='macro')))"
      ],
      "execution_count": null,
      "outputs": [
        {
          "output_type": "stream",
          "text": [
            "Precision: 0.99904\n",
            "Recall: 0.99907\n",
            "F1-score: 0.99905\n",
            "\n"
          ],
          "name": "stdout"
        }
      ]
    },
    {
      "cell_type": "code",
      "metadata": {
        "colab": {
          "base_uri": "https://localhost:8080/",
          "height": 332
        },
        "id": "GWNQEwHs43wT",
        "outputId": "e8cde72a-a244-4894-a575-76984792f6b7"
      },
      "source": [
        "cnf_matrix = metrics.confusion_matrix(y_test, y_predsXGB)\n",
        "class_names=[0,1]\n",
        "fig, ax = plt.subplots()\n",
        "tick_marks = np.arange(len(class_names))\n",
        "plt.xticks(tick_marks, class_names)\n",
        "plt.yticks(tick_marks, class_names)\n",
        "sns.heatmap(pd.DataFrame(cnf_matrix), annot=True, cmap=\"coolwarm\" ,fmt='g')\n",
        "ax.xaxis.set_label_position(\"top\")\n",
        "plt.tight_layout()\n",
        "plt.title('Confusion matrix', y=1.1)\n",
        "plt.ylabel('Actual label')\n",
        "plt.xlabel('Predicted label')"
      ],
      "execution_count": null,
      "outputs": [
        {
          "output_type": "execute_result",
          "data": {
            "text/plain": [
              "Text(0.5, 257.44, 'Predicted label')"
            ]
          },
          "metadata": {
            "tags": []
          },
          "execution_count": 123
        },
        {
          "output_type": "display_data",
          "data": {
            "image/png": "[encoded data removed]",
            "text/plain": [
              "<Figure size 432x288 with 2 Axes>"
            ]
          },
          "metadata": {
            "tags": [],
            "needs_background": "light"
          }
        }
      ]
    },
    {
      "cell_type": "code",
      "metadata": {
        "colab": {
          "base_uri": "https://localhost:8080/"
        },
        "id": "dwPe_LbPdPk9",
        "outputId": "989a0c81-b550-4441-8246-1dc68553a2d7"
      },
      "source": [
        "from sklearn.metrics import classification_report,confusion_matrix\n",
        "print(classification_report(y_test,y_predsXGB))\n"
      ],
      "execution_count": null,
      "outputs": [
        {
          "output_type": "stream",
          "text": [
            "              precision    recall  f1-score   support\n",
            "\n",
            "           0       1.00      1.00      1.00   7532874\n",
            "           1       1.00      1.00      1.00   7829463\n",
            "\n",
            "    accuracy                           1.00  15362337\n",
            "   macro avg       1.00      1.00      1.00  15362337\n",
            "weighted avg       1.00      1.00      1.00  15362337\n",
            "\n"
          ],
          "name": "stdout"
        }
      ]
    },
    {
      "cell_type": "code",
      "metadata": {
        "colab": {
          "base_uri": "https://localhost:8080/"
        },
        "id": "LWJbLvKedV5G",
        "outputId": "77c65514-a3cc-45ee-d34b-93899bc22c67"
      },
      "source": [
        "confusion_matrix(y_test, y_predsXGB)"
      ],
      "execution_count": null,
      "outputs": [
        {
          "output_type": "execute_result",
          "data": {
            "text/plain": [
              "array([[7532865,       9],\n",
              "       [     70, 7829393]])"
            ]
          },
          "metadata": {
            "tags": []
          },
          "execution_count": 44
        }
      ]
    },
    {
      "cell_type": "code",
      "metadata": {
        "id": "9tOv8eKkdZcl"
      },
      "source": [
        "import sklearn.metrics\n",
        "from sklearn.metrics import roc_auc_score\n",
        "from sklearn import metrics\n",
        "import matplotlib.pyplot as plt\n",
        "import seaborn as sns\n",
        "sns.set(style='whitegrid')"
      ],
      "execution_count": null,
      "outputs": []
    },
    {
      "cell_type": "code",
      "metadata": {
        "id": "7Pk422SV5ZCa"
      },
      "source": [
        "fpr = dict()\n",
        "tpr = dict()\n",
        "roc_auc = dict()\n",
        "for i in range(n_classes):\n",
        "    fpr[i], tpr[i], _ = roc_curve(y_test, y_predsXGB)\n",
        "    roc_auc[i] = auc(fpr[i], tpr[i])\n",
        "\n",
        "# Compute micro-average ROC curve and ROC area\n",
        "fpr[\"micro\"], tpr[\"micro\"], _ = roc_curve(y_test.ravel(), y_predsXGB.ravel())\n",
        "roc_auc[\"micro\"] = auc(fpr[\"micro\"], tpr[\"micro\"])"
      ],
      "execution_count": null,
      "outputs": []
    },
    {
      "cell_type": "code",
      "metadata": {
        "colab": {
          "base_uri": "https://localhost:8080/",
          "height": 404
        },
        "id": "KtzVaEza5cVK",
        "outputId": "150ab923-2355-4bcb-9e34-4709eeb14ce2"
      },
      "source": [
        "all_fpr = np.unique(np.concatenate([fpr[i] for i in range(n_classes)]))\n",
        "\n",
        "# Then interpolate all ROC curves at this points\n",
        "mean_tpr = np.zeros_like(all_fpr)\n",
        "for i in range(n_classes):\n",
        "    mean_tpr += interp(all_fpr, fpr[i], tpr[i])\n",
        "\n",
        "# Finally average it and compute AUC\n",
        "mean_tpr /= n_classes\n",
        "\n",
        "fpr[\"macro\"] = all_fpr\n",
        "tpr[\"macro\"] = mean_tpr\n",
        "roc_auc[\"macro\"] = auc(fpr[\"macro\"], tpr[\"macro\"])\n",
        "\n",
        "# Plot all ROC curves\n",
        "\n",
        "plt.figure(figsize=(6,6))\n",
        "plt.plot(fpr[\"micro\"], tpr[\"micro\"],\n",
        "         label='micro-average ROC curve (area = {0:0.2f})'\n",
        "               ''.format(roc_auc[\"micro\"]),\n",
        "         color='pink', linestyle=':', linewidth=4)\n",
        "\n",
        "plt.plot(fpr[\"macro\"], tpr[\"macro\"],\n",
        "         label='macro-average ROC curve (area = {0:0.2f})'\n",
        "               ''.format(roc_auc[\"macro\"]),\n",
        "         color='green', linestyle=':', linewidth=4)\n",
        "\n",
        "colors = cycle(['red','blue'])\n",
        "for i, color in zip(range(n_classes), colors):\n",
        "    plt.plot(fpr[i], tpr[i], color=color, lw=2,\n",
        "             label='ROC curve of class {0} (area = {1:0.2f})'\n",
        "             ''.format(i, roc_auc[i]))\n",
        "\n",
        "plt.plot([0, 1], [0, 1], 'k--', lw=2)\n",
        "plt.xlim([0.0, 1.0])\n",
        "plt.ylim([0.0, 1.05])\n",
        "plt.xlabel('False Positive Rate')\n",
        "plt.ylabel('True Positive Rate')\n",
        "plt.title('Receiver operating characteristic for multi-class Using Random Forest')\n",
        "plt.legend(bbox_to_anchor=(1,1), loc=\"upper left\")\n",
        "\n",
        "plt.show()"
      ],
      "execution_count": null,
      "outputs": [
        {
          "output_type": "display_data",
          "data": {
            "image/png": "[encoded data removed]",
            "text/plain": [
              "<Figure size 432x432 with 1 Axes>"
            ]
          },
          "metadata": {
            "tags": [],
            "needs_background": "light"
          }
        }
      ]
    },
    {
      "cell_type": "code",
      "metadata": {
        "colab": {
          "base_uri": "https://localhost:8080/",
          "height": 294
        },
        "id": "Ga_sykNB6nVL",
        "outputId": "2d7753b8-dd2b-4958-ad09-e91cd037e6b8"
      },
      "source": [
        "\n",
        "precision = dict()\n",
        "recall = dict()\n",
        "colors = cycle(['orange','pink'])\n",
        "for i,color in zip(range(n_classes),colors):\n",
        "    precision[i], recall[i], _ = precision_recall_curve(y_test,\n",
        "                                                        y_predsXGB)\n",
        "    plt.plot(recall[i], precision[i], color=color, lw=2, label='class {}'.format(i))\n",
        "\n",
        "   \n",
        "\n",
        "   \n",
        "plt.xlabel(\"recall\")\n",
        "plt.ylabel(\"precision\")\n",
        "plt.legend(loc=\"best\")\n",
        "plt.title(\"precision vs. recall curve\")\n",
        "plt.show()"
      ],
      "execution_count": null,
      "outputs": [
        {
          "output_type": "display_data",
          "data": {
            "image/png": "[encoded data removed]",
            "text/plain": [
              "<Figure size 432x288 with 1 Axes>"
            ]
          },
          "metadata": {
            "tags": [],
            "needs_background": "light"
          }
        }
      ]
    }
  ]
}